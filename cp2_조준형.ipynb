{
  "cells": [
    {
      "cell_type": "markdown",
      "source": [
        "# CP2 - 스포츠"
      ],
      "metadata": {
        "id": "C0IJl0eATYCA"
      }
    },
    {
      "cell_type": "markdown",
      "metadata": {
        "id": "5Ypx-JlyrFhO"
      },
      "source": [
        "### import 정리"
      ]
    },
    {
      "cell_type": "code",
      "source": [
        "!pip install category_encoders"
      ],
      "metadata": {
        "colab": {
          "base_uri": "https://localhost:8080/"
        },
        "id": "4B_6tMhjh9sl",
        "outputId": "48de02dd-143a-47f4-f34a-2677435647a0"
      },
      "execution_count": null,
      "outputs": [
        {
          "output_type": "stream",
          "name": "stdout",
          "text": [
            "Looking in indexes: https://pypi.org/simple, https://us-python.pkg.dev/colab-wheels/public/simple/\n",
            "Collecting category_encoders\n",
            "  Downloading category_encoders-2.6.0-py2.py3-none-any.whl (81 kB)\n",
            "\u001b[2K     \u001b[90m━━━━━━━━━━━━━━━━━━━━━━━━━━━━━━━━━━━━━━━━\u001b[0m \u001b[32m81.2/81.2 KB\u001b[0m \u001b[31m4.0 MB/s\u001b[0m eta \u001b[36m0:00:00\u001b[0m\n",
            "\u001b[?25hRequirement already satisfied: pandas>=1.0.5 in /usr/local/lib/python3.8/dist-packages (from category_encoders) (1.3.5)\n",
            "Requirement already satisfied: patsy>=0.5.1 in /usr/local/lib/python3.8/dist-packages (from category_encoders) (0.5.3)\n",
            "Requirement already satisfied: numpy>=1.14.0 in /usr/local/lib/python3.8/dist-packages (from category_encoders) (1.21.6)\n",
            "Requirement already satisfied: statsmodels>=0.9.0 in /usr/local/lib/python3.8/dist-packages (from category_encoders) (0.12.2)\n",
            "Requirement already satisfied: scipy>=1.0.0 in /usr/local/lib/python3.8/dist-packages (from category_encoders) (1.7.3)\n",
            "Requirement already satisfied: scikit-learn>=0.20.0 in /usr/local/lib/python3.8/dist-packages (from category_encoders) (1.0.2)\n",
            "Requirement already satisfied: python-dateutil>=2.7.3 in /usr/local/lib/python3.8/dist-packages (from pandas>=1.0.5->category_encoders) (2.8.2)\n",
            "Requirement already satisfied: pytz>=2017.3 in /usr/local/lib/python3.8/dist-packages (from pandas>=1.0.5->category_encoders) (2022.7.1)\n",
            "Requirement already satisfied: six in /usr/local/lib/python3.8/dist-packages (from patsy>=0.5.1->category_encoders) (1.15.0)\n",
            "Requirement already satisfied: joblib>=0.11 in /usr/local/lib/python3.8/dist-packages (from scikit-learn>=0.20.0->category_encoders) (1.2.0)\n",
            "Requirement already satisfied: threadpoolctl>=2.0.0 in /usr/local/lib/python3.8/dist-packages (from scikit-learn>=0.20.0->category_encoders) (3.1.0)\n",
            "Installing collected packages: category_encoders\n",
            "Successfully installed category_encoders-2.6.0\n"
          ]
        }
      ]
    },
    {
      "cell_type": "code",
      "execution_count": null,
      "metadata": {
        "id": "-0rbinJgrFhQ"
      },
      "outputs": [],
      "source": [
        "import pandas as pd\n",
        "import numpy as np\n",
        "import matplotlib.pyplot as plt\n",
        "import seaborn as sns\n",
        "from datetime import datetime\n",
        "import time\n",
        "from sklearn.model_selection import train_test_split\n",
        "from category_encoders import OrdinalEncoder\n",
        "from sklearn.preprocessing import OneHotEncoder\n",
        "from sklearn.preprocessing import StandardScaler \n",
        "from sklearn.impute import SimpleImputer\n",
        "from sklearn.pipeline import make_pipeline\n",
        "from sklearn.tree import DecisionTreeClassifier\n",
        "from sklearn.ensemble import RandomForestClassifier\n",
        "from xgboost import XGBClassifier\n",
        "from sklearn.metrics import f1_score\n",
        "from sklearn.metrics import roc_auc_score\n",
        "from sklearn.model_selection import GridSearchCV\n",
        "from sklearn.metrics import classification_report,confusion_matrix\n",
        "from tqdm import tqdm\n",
        "import keras \n",
        "from keras.layers import Dense\n",
        "from keras.models import Sequential\n",
        "from sklearn.ensemble import GradientBoostingClassifier as GBM\n",
        "from sklearn.neighbors import KNeighborsClassifier as KNN"
      ]
    },
    {
      "cell_type": "code",
      "source": [
        "from google.colab import drive\n",
        "drive.mount('/content/drive')"
      ],
      "metadata": {
        "colab": {
          "base_uri": "https://localhost:8080/"
        },
        "id": "rzAXKlhgXyYh",
        "outputId": "efd65da5-47a6-492b-ff13-90864b0c462e"
      },
      "execution_count": null,
      "outputs": [
        {
          "output_type": "stream",
          "name": "stdout",
          "text": [
            "Mounted at /content/drive\n"
          ]
        }
      ]
    },
    {
      "cell_type": "markdown",
      "metadata": {
        "id": "IXrFH6MprFhR"
      },
      "source": [
        "## Data Load"
      ]
    },
    {
      "cell_type": "code",
      "execution_count": null,
      "metadata": {
        "id": "PQuSxGXJrFhR"
      },
      "outputs": [],
      "source": [
        "df_reserv = pd.read_csv('/content/drive/MyDrive/CP2/reserve_ticket_.csv')\n",
        "df_member = pd.read_csv('/content/drive/MyDrive/CP2/membership.csv')\n",
        "df_sv_comp = pd.read_csv('/content/drive/MyDrive/CP2/survey_complete_.csv')\n",
        "df_sv_item = pd.read_csv('/content/drive/MyDrive/CP2/survey_item.csv')\n",
        "df_sv_main = pd.read_csv('/content/drive/MyDrive/CP2/survey_main.csv')\n",
        "df_sv_result = pd.read_csv('/content/drive/MyDrive/CP2/survey_result.csv')\n",
        "df_2022 = pd.read_csv('/content/drive/MyDrive/CP2/2022_-_2022.csv')\n",
        "df_ticket = pd.read_csv('/content/drive/MyDrive/CP2/reserve_ticket_2022.csv')\n",
        "df_rank = pd.read_csv('/content/drive/MyDrive/CP2/rank.csv')"
      ]
    },
    {
      "cell_type": "code",
      "source": [
        "df_rank.info()"
      ],
      "metadata": {
        "colab": {
          "base_uri": "https://localhost:8080/"
        },
        "id": "ySEF6IS_ogdJ",
        "outputId": "ba9a0640-fcdc-44ee-8987-acc9af4cfef7"
      },
      "execution_count": null,
      "outputs": [
        {
          "output_type": "stream",
          "name": "stdout",
          "text": [
            "<class 'pandas.core.frame.DataFrame'>\n",
            "RangeIndex: 328 entries, 0 to 327\n",
            "Data columns (total 2 columns):\n",
            " #   Column     Non-Null Count  Dtype \n",
            "---  ------     --------------  ----- \n",
            " 0   game_date  328 non-null    object\n",
            " 1   rank       328 non-null    int64 \n",
            "dtypes: int64(1), object(1)\n",
            "memory usage: 5.2+ KB\n"
          ]
        }
      ]
    },
    {
      "cell_type": "markdown",
      "source": [
        " 홈 인천"
      ],
      "metadata": {
        "id": "wC3hsjgscFRw"
      }
    },
    {
      "cell_type": "code",
      "source": [
        "df_inc = df_2022[df_2022.home_team_name == '인천']\n",
        "df_inc = df_inc.reset_index(drop=True)\n",
        "df_inc = df_inc[['game_date','yoil','game_type_name','audience']]\n",
        "df_inc.game_date.values\n",
        "# df_inc"
      ],
      "metadata": {
        "id": "OiTKnyd0ZNTd",
        "colab": {
          "base_uri": "https://localhost:8080/"
        },
        "outputId": "5c2f9c03-53da-457d-8e04-7d6eb2a0422b"
      },
      "execution_count": null,
      "outputs": [
        {
          "output_type": "execute_result",
          "data": {
            "text/plain": [
              "array(['2022/02/19', '2022/02/26', '2022/03/05', '2022/03/13',\n",
              "       '2022/04/02', '2022/04/10', '2022/05/08', '2022/05/17',\n",
              "       '2022/05/29', '2022/06/22', '2022/07/06', '2022/08/03',\n",
              "       '2022/08/13', '2022/08/27', '2022/09/02', '2022/09/14',\n",
              "       '2022/10/01', '2022/10/11', '2022/10/16'], dtype=object)"
            ]
          },
          "metadata": {},
          "execution_count": 6
        }
      ]
    },
    {
      "cell_type": "code",
      "source": [
        "Weather = pd.DataFrame({'game_date':['2022/02/19', '2022/02/26', '2022/03/05', '2022/03/13',\n",
        "       '2022/04/02', '2022/04/10', '2022/05/08', '2022/05/17',\n",
        "       '2022/05/29', '2022/06/22', '2022/07/06', '2022/08/03',\n",
        "       '2022/08/13', '2022/08/27', '2022/09/02', '2022/09/14',\n",
        "       '2022/10/01', '2022/10/11', '2022/10/16'],\n",
        "       'weather' : ['snow', 'rain', 'yellow dust', 'rain', 'fog', 'clean', 'rain', 'fog', 'fog', 'fog', 'rain', 'rain', \n",
        "                    'rain', 'rain', 'clean', 'rain', 'fog', 'rain', 'fog']})\n",
        "df_inc = pd.merge(df_inc,Weather, on ='game_date', how = 'left')\n",
        "df_inc.game_date = df_inc.game_date.str.replace('/','-') # 병합해야할 티켓 데이터는 /가 아닌 -로 구분\n",
        "# df_inc.info()"
      ],
      "metadata": {
        "id": "GW8rqYnZcHpi"
      },
      "execution_count": null,
      "outputs": []
    },
    {
      "cell_type": "code",
      "execution_count": null,
      "metadata": {
        "colab": {
          "base_uri": "https://localhost:8080/"
        },
        "id": "dKQY9FNDrFhU",
        "outputId": "484f8454-5c49-44a2-c45f-8344d7af5a5d"
      },
      "outputs": [
        {
          "output_type": "execute_result",
          "data": {
            "text/plain": [
              "MB_IDX             0\n",
              "MB_AGE             0\n",
              "zipcode          232\n",
              "job             2629\n",
              "favorite_idx       0\n",
              "dtype: int64"
            ]
          },
          "metadata": {},
          "execution_count": 8
        }
      ],
      "source": [
        "df_member.head(2)\n",
        "df_member.isna().sum()"
      ]
    },
    {
      "cell_type": "code",
      "execution_count": null,
      "metadata": {
        "id": "tkjiHL8arFhU"
      },
      "outputs": [],
      "source": [
        "df_sv_comp['start_date'] = pd.to_datetime(df_sv_comp['start_date'])\n",
        "df_sv_comp['end_date'] = pd.to_datetime(df_sv_comp['end_date'])\n",
        "# df_sv_comp.info()"
      ]
    },
    {
      "cell_type": "code",
      "execution_count": null,
      "metadata": {
        "id": "kgR0d5phrFhV"
      },
      "outputs": [],
      "source": [
        "df_merge = pd.merge(df_member, df_sv_comp, on = 'MB_IDX', how = 'outer')"
      ]
    },
    {
      "cell_type": "code",
      "execution_count": null,
      "metadata": {
        "id": "xbfWn1i0rFhV"
      },
      "outputs": [],
      "source": [
        "# df_merge.head(2)"
      ]
    },
    {
      "cell_type": "code",
      "execution_count": null,
      "metadata": {
        "id": "wft9xyyfrFhV"
      },
      "outputs": [],
      "source": [
        "df_merge = df_merge[df_merge.columns[:10]]"
      ]
    },
    {
      "cell_type": "code",
      "execution_count": null,
      "metadata": {
        "id": "VdwZC3ozrFhV"
      },
      "outputs": [],
      "source": [
        "df_merge.state = df_merge.state.fillna('N')\n",
        "# df_merge = df_merge.fillna(0)"
      ]
    },
    {
      "cell_type": "code",
      "execution_count": null,
      "metadata": {
        "id": "D7KZNUbSrFhV"
      },
      "outputs": [],
      "source": [
        "df_merge.columns =['MB_IDX', 'MB_AGE', 'zipcode', 'job', 'favorite_idx', 'idx',\n",
        "       'survey_idx', 'state', 'start_date', 'end_date']"
      ]
    },
    {
      "cell_type": "code",
      "execution_count": null,
      "metadata": {
        "colab": {
          "base_uri": "https://localhost:8080/"
        },
        "id": "05HqYfnUrFhV",
        "outputId": "9775af92-5bec-460e-9893-5fbd8c54f813"
      },
      "outputs": [
        {
          "output_type": "stream",
          "name": "stdout",
          "text": [
            "<class 'pandas.core.frame.DataFrame'>\n",
            "Int64Index: 19431 entries, 0 to 19430\n",
            "Data columns (total 10 columns):\n",
            " #   Column        Non-Null Count  Dtype         \n",
            "---  ------        --------------  -----         \n",
            " 0   MB_IDX        19431 non-null  int64         \n",
            " 1   MB_AGE        19431 non-null  int64         \n",
            " 2   zipcode       19198 non-null  float64       \n",
            " 3   job           16630 non-null  object        \n",
            " 4   favorite_idx  19431 non-null  object        \n",
            " 5   idx           5802 non-null   float64       \n",
            " 6   survey_idx    5802 non-null   float64       \n",
            " 7   state         19431 non-null  object        \n",
            " 8   start_date    5802 non-null   datetime64[ns]\n",
            " 9   end_date      5802 non-null   datetime64[ns]\n",
            "dtypes: datetime64[ns](2), float64(3), int64(2), object(3)\n",
            "memory usage: 1.6+ MB\n"
          ]
        }
      ],
      "source": [
        "df_merge.info()"
      ]
    },
    {
      "cell_type": "code",
      "execution_count": null,
      "metadata": {
        "id": "pg0dEmOOrFhW"
      },
      "outputs": [],
      "source": [
        "df_merge.to_csv(\"df_merge.csv\", index = False)"
      ]
    },
    {
      "cell_type": "code",
      "execution_count": null,
      "metadata": {
        "id": "ge7Z2cK4rFhW"
      },
      "outputs": [],
      "source": [
        "# df_sv_result"
      ]
    },
    {
      "cell_type": "code",
      "source": [
        "df_ticket.info()"
      ],
      "metadata": {
        "id": "mgdyjEf95v6p",
        "colab": {
          "base_uri": "https://localhost:8080/"
        },
        "outputId": "281fe9b2-764f-488c-99ce-541e47236585"
      },
      "execution_count": null,
      "outputs": [
        {
          "output_type": "stream",
          "name": "stdout",
          "text": [
            "<class 'pandas.core.frame.DataFrame'>\n",
            "RangeIndex: 53921 entries, 0 to 53920\n",
            "Data columns (total 17 columns):\n",
            " #   Column                     Non-Null Count  Dtype \n",
            "---  ------                     --------------  ----- \n",
            " 0   reserve_no                 53921 non-null  int64 \n",
            " 1   membership_no              53921 non-null  int64 \n",
            " 2   reserve_datetime           48482 non-null  object\n",
            " 3   cancel_datetime            5439 non-null   object\n",
            " 4   game_date                  53921 non-null  object\n",
            " 5   game_time                  53921 non-null  object\n",
            " 6   match_info                 53921 non-null  object\n",
            " 7   reserve_state_code         53921 non-null  object\n",
            " 8   reserve_detail_no          53921 non-null  int64 \n",
            " 9   ticket_no                  53921 non-null  int64 \n",
            " 10  product_grade_name         53921 non-null  object\n",
            " 11  product_denomination_name  53921 non-null  object\n",
            " 12  seat_Attribute_4           53921 non-null  object\n",
            " 13  seat_Attribute_5           53762 non-null  object\n",
            " 14  seat_Attribute_6           53921 non-null  object\n",
            " 15  cancel_yn                  53921 non-null  object\n",
            " 16  detail_cancel_date_time    5439 non-null   object\n",
            "dtypes: int64(4), object(13)\n",
            "memory usage: 7.0+ MB\n"
          ]
        }
      ]
    },
    {
      "cell_type": "code",
      "source": [
        "# reserve, cancel의 nan값 조사\n",
        "# df_ticket[df_ticket.reserve_datetime.isna()]\n",
        "# df_ticket[df_ticket.cancel_datetime.isna()].head(2)"
      ],
      "metadata": {
        "id": "qhiKFqZ76nis"
      },
      "execution_count": null,
      "outputs": []
    },
    {
      "cell_type": "code",
      "source": [
        "# reserve_state_code 값\n",
        "df_ticket.reserve_state_code.value_counts()"
      ],
      "metadata": {
        "colab": {
          "base_uri": "https://localhost:8080/"
        },
        "id": "a8S1sS15AXKT",
        "outputId": "5e0a6c8e-1a81-44d8-c438-9edb0cbd9c17"
      },
      "execution_count": null,
      "outputs": [
        {
          "output_type": "execute_result",
          "data": {
            "text/plain": [
              "COMPLETE       44128\n",
              "ALL_CANCEL      8821\n",
              "PART_CANCEL      972\n",
              "Name: reserve_state_code, dtype: int64"
            ]
          },
          "metadata": {},
          "execution_count": 20
        }
      ]
    },
    {
      "cell_type": "markdown",
      "source": [
        "Part cancel을 없애고 2개로만 all cancel과 complete으로 나눠야 할까"
      ],
      "metadata": {
        "id": "Abb2Y6wG-j0B"
      }
    },
    {
      "cell_type": "code",
      "source": [
        "df_ticket[df_ticket.reserve_state_code == 'PART_CANCEL'][['reserve_datetime','cancel_datetime','reserve_state_code','cancel_yn','detail_cancel_date_time']].head(2)"
      ],
      "metadata": {
        "colab": {
          "base_uri": "https://localhost:8080/",
          "height": 112
        },
        "id": "DTZ3HlLMAvfk",
        "outputId": "de167adb-4552-428f-d4e5-393cfdd6d60b"
      },
      "execution_count": null,
      "outputs": [
        {
          "output_type": "execute_result",
          "data": {
            "text/plain": [
              "  reserve_datetime      cancel_datetime reserve_state_code cancel_yn  \\\n",
              "5              NaN  2022-02-19 13:16:32        PART_CANCEL         Y   \n",
              "6              NaN  2022-02-19 13:16:32        PART_CANCEL         Y   \n",
              "\n",
              "  detail_cancel_date_time  \n",
              "5     2022-02-19 13:16:32  \n",
              "6     2022-02-19 13:16:32  "
            ],
            "text/html": [
              "\n",
              "  <div id=\"df-d7a47bb1-2b12-4c15-9fd7-2c95ef520a7f\">\n",
              "    <div class=\"colab-df-container\">\n",
              "      <div>\n",
              "<style scoped>\n",
              "    .dataframe tbody tr th:only-of-type {\n",
              "        vertical-align: middle;\n",
              "    }\n",
              "\n",
              "    .dataframe tbody tr th {\n",
              "        vertical-align: top;\n",
              "    }\n",
              "\n",
              "    .dataframe thead th {\n",
              "        text-align: right;\n",
              "    }\n",
              "</style>\n",
              "<table border=\"1\" class=\"dataframe\">\n",
              "  <thead>\n",
              "    <tr style=\"text-align: right;\">\n",
              "      <th></th>\n",
              "      <th>reserve_datetime</th>\n",
              "      <th>cancel_datetime</th>\n",
              "      <th>reserve_state_code</th>\n",
              "      <th>cancel_yn</th>\n",
              "      <th>detail_cancel_date_time</th>\n",
              "    </tr>\n",
              "  </thead>\n",
              "  <tbody>\n",
              "    <tr>\n",
              "      <th>5</th>\n",
              "      <td>NaN</td>\n",
              "      <td>2022-02-19 13:16:32</td>\n",
              "      <td>PART_CANCEL</td>\n",
              "      <td>Y</td>\n",
              "      <td>2022-02-19 13:16:32</td>\n",
              "    </tr>\n",
              "    <tr>\n",
              "      <th>6</th>\n",
              "      <td>NaN</td>\n",
              "      <td>2022-02-19 13:16:32</td>\n",
              "      <td>PART_CANCEL</td>\n",
              "      <td>Y</td>\n",
              "      <td>2022-02-19 13:16:32</td>\n",
              "    </tr>\n",
              "  </tbody>\n",
              "</table>\n",
              "</div>\n",
              "      <button class=\"colab-df-convert\" onclick=\"convertToInteractive('df-d7a47bb1-2b12-4c15-9fd7-2c95ef520a7f')\"\n",
              "              title=\"Convert this dataframe to an interactive table.\"\n",
              "              style=\"display:none;\">\n",
              "        \n",
              "  <svg xmlns=\"http://www.w3.org/2000/svg\" height=\"24px\"viewBox=\"0 0 24 24\"\n",
              "       width=\"24px\">\n",
              "    <path d=\"M0 0h24v24H0V0z\" fill=\"none\"/>\n",
              "    <path d=\"M18.56 5.44l.94 2.06.94-2.06 2.06-.94-2.06-.94-.94-2.06-.94 2.06-2.06.94zm-11 1L8.5 8.5l.94-2.06 2.06-.94-2.06-.94L8.5 2.5l-.94 2.06-2.06.94zm10 10l.94 2.06.94-2.06 2.06-.94-2.06-.94-.94-2.06-.94 2.06-2.06.94z\"/><path d=\"M17.41 7.96l-1.37-1.37c-.4-.4-.92-.59-1.43-.59-.52 0-1.04.2-1.43.59L10.3 9.45l-7.72 7.72c-.78.78-.78 2.05 0 2.83L4 21.41c.39.39.9.59 1.41.59.51 0 1.02-.2 1.41-.59l7.78-7.78 2.81-2.81c.8-.78.8-2.07 0-2.86zM5.41 20L4 18.59l7.72-7.72 1.47 1.35L5.41 20z\"/>\n",
              "  </svg>\n",
              "      </button>\n",
              "      \n",
              "  <style>\n",
              "    .colab-df-container {\n",
              "      display:flex;\n",
              "      flex-wrap:wrap;\n",
              "      gap: 12px;\n",
              "    }\n",
              "\n",
              "    .colab-df-convert {\n",
              "      background-color: #E8F0FE;\n",
              "      border: none;\n",
              "      border-radius: 50%;\n",
              "      cursor: pointer;\n",
              "      display: none;\n",
              "      fill: #1967D2;\n",
              "      height: 32px;\n",
              "      padding: 0 0 0 0;\n",
              "      width: 32px;\n",
              "    }\n",
              "\n",
              "    .colab-df-convert:hover {\n",
              "      background-color: #E2EBFA;\n",
              "      box-shadow: 0px 1px 2px rgba(60, 64, 67, 0.3), 0px 1px 3px 1px rgba(60, 64, 67, 0.15);\n",
              "      fill: #174EA6;\n",
              "    }\n",
              "\n",
              "    [theme=dark] .colab-df-convert {\n",
              "      background-color: #3B4455;\n",
              "      fill: #D2E3FC;\n",
              "    }\n",
              "\n",
              "    [theme=dark] .colab-df-convert:hover {\n",
              "      background-color: #434B5C;\n",
              "      box-shadow: 0px 1px 3px 1px rgba(0, 0, 0, 0.15);\n",
              "      filter: drop-shadow(0px 1px 2px rgba(0, 0, 0, 0.3));\n",
              "      fill: #FFFFFF;\n",
              "    }\n",
              "  </style>\n",
              "\n",
              "      <script>\n",
              "        const buttonEl =\n",
              "          document.querySelector('#df-d7a47bb1-2b12-4c15-9fd7-2c95ef520a7f button.colab-df-convert');\n",
              "        buttonEl.style.display =\n",
              "          google.colab.kernel.accessAllowed ? 'block' : 'none';\n",
              "\n",
              "        async function convertToInteractive(key) {\n",
              "          const element = document.querySelector('#df-d7a47bb1-2b12-4c15-9fd7-2c95ef520a7f');\n",
              "          const dataTable =\n",
              "            await google.colab.kernel.invokeFunction('convertToInteractive',\n",
              "                                                     [key], {});\n",
              "          if (!dataTable) return;\n",
              "\n",
              "          const docLinkHtml = 'Like what you see? Visit the ' +\n",
              "            '<a target=\"_blank\" href=https://colab.research.google.com/notebooks/data_table.ipynb>data table notebook</a>'\n",
              "            + ' to learn more about interactive tables.';\n",
              "          element.innerHTML = '';\n",
              "          dataTable['output_type'] = 'display_data';\n",
              "          await google.colab.output.renderOutput(dataTable, element);\n",
              "          const docLink = document.createElement('div');\n",
              "          docLink.innerHTML = docLinkHtml;\n",
              "          element.appendChild(docLink);\n",
              "        }\n",
              "      </script>\n",
              "    </div>\n",
              "  </div>\n",
              "  "
            ]
          },
          "metadata": {},
          "execution_count": 21
        }
      ]
    },
    {
      "cell_type": "code",
      "source": [
        "# df_ticket[df_ticket.reserve_state_code == 'PART_CANCEL'][['reserve_datetime','cancel_datetime','reserve_state_code','cancel_yn','detail_cancel_date_time']].tail(2)"
      ],
      "metadata": {
        "id": "Mh0dgC6a9jnW"
      },
      "execution_count": null,
      "outputs": []
    },
    {
      "cell_type": "markdown",
      "source": [
        "product_denomination_name 이게 왜 44가지나"
      ],
      "metadata": {
        "id": "bxKVSdpfIf6t"
      }
    },
    {
      "cell_type": "code",
      "source": [
        "# df_ticket.product_denomination_name.value_counts()"
      ],
      "metadata": {
        "id": "FaOJLEX9IQyo"
      },
      "execution_count": null,
      "outputs": []
    },
    {
      "cell_type": "code",
      "source": [
        "df_n = df_2022[['game_date','yoil','game_time','home_team_name','away_team_name','audience']]"
      ],
      "metadata": {
        "id": "8upSqhCpGI5e"
      },
      "execution_count": null,
      "outputs": []
    },
    {
      "cell_type": "markdown",
      "source": [
        "## 전처리\n"
      ],
      "metadata": {
        "id": "HsLefrw87pRR"
      }
    },
    {
      "cell_type": "markdown",
      "source": [
        "### ticket 데이터 전처리"
      ],
      "metadata": {
        "id": "ROUTIlwJUCAW"
      }
    },
    {
      "cell_type": "code",
      "source": [
        "# df_ticket.match_info.value_counts()"
      ],
      "metadata": {
        "id": "aj0Ih3zk7tqw"
      },
      "execution_count": null,
      "outputs": []
    },
    {
      "cell_type": "code",
      "source": [
        "df_ticket.drop(df_ticket[df_ticket.match_info == '[2022 하나원큐 FA CUP] 인천 유나이티드 vs 광주FC'].index, inplace=True)\n",
        "# 리그 데이터에만 집중"
      ],
      "metadata": {
        "id": "nUpWu5c4Uz0F"
      },
      "execution_count": null,
      "outputs": []
    },
    {
      "cell_type": "code",
      "source": [
        "# df_member.drop(df_member[df_member.zipcode.isnull()].index, inplace=True)"
      ],
      "metadata": {
        "id": "VmLU0p7rbmwP"
      },
      "execution_count": null,
      "outputs": []
    },
    {
      "cell_type": "code",
      "source": [
        "print(df_member.MB_IDX.nunique())\n",
        "print(df_ticket.membership_no.nunique())\n",
        "df_member[df_member.MB_IDX == 118329]"
      ],
      "metadata": {
        "colab": {
          "base_uri": "https://localhost:8080/",
          "height": 117
        },
        "id": "nbLsVj9k77Yx",
        "outputId": "7f7f00a9-11b6-4333-eada-f72b1d6651cd"
      },
      "execution_count": null,
      "outputs": [
        {
          "output_type": "stream",
          "name": "stdout",
          "text": [
            "15878\n",
            "7694\n"
          ]
        },
        {
          "output_type": "execute_result",
          "data": {
            "text/plain": [
              "      MB_IDX  MB_AGE  zipcode job favorite_idx\n",
              "2137  118329    1993  22837.0  무직         아길라르"
            ],
            "text/html": [
              "\n",
              "  <div id=\"df-0407b035-9311-487c-a6ed-b8e61c7209ec\">\n",
              "    <div class=\"colab-df-container\">\n",
              "      <div>\n",
              "<style scoped>\n",
              "    .dataframe tbody tr th:only-of-type {\n",
              "        vertical-align: middle;\n",
              "    }\n",
              "\n",
              "    .dataframe tbody tr th {\n",
              "        vertical-align: top;\n",
              "    }\n",
              "\n",
              "    .dataframe thead th {\n",
              "        text-align: right;\n",
              "    }\n",
              "</style>\n",
              "<table border=\"1\" class=\"dataframe\">\n",
              "  <thead>\n",
              "    <tr style=\"text-align: right;\">\n",
              "      <th></th>\n",
              "      <th>MB_IDX</th>\n",
              "      <th>MB_AGE</th>\n",
              "      <th>zipcode</th>\n",
              "      <th>job</th>\n",
              "      <th>favorite_idx</th>\n",
              "    </tr>\n",
              "  </thead>\n",
              "  <tbody>\n",
              "    <tr>\n",
              "      <th>2137</th>\n",
              "      <td>118329</td>\n",
              "      <td>1993</td>\n",
              "      <td>22837.0</td>\n",
              "      <td>무직</td>\n",
              "      <td>아길라르</td>\n",
              "    </tr>\n",
              "  </tbody>\n",
              "</table>\n",
              "</div>\n",
              "      <button class=\"colab-df-convert\" onclick=\"convertToInteractive('df-0407b035-9311-487c-a6ed-b8e61c7209ec')\"\n",
              "              title=\"Convert this dataframe to an interactive table.\"\n",
              "              style=\"display:none;\">\n",
              "        \n",
              "  <svg xmlns=\"http://www.w3.org/2000/svg\" height=\"24px\"viewBox=\"0 0 24 24\"\n",
              "       width=\"24px\">\n",
              "    <path d=\"M0 0h24v24H0V0z\" fill=\"none\"/>\n",
              "    <path d=\"M18.56 5.44l.94 2.06.94-2.06 2.06-.94-2.06-.94-.94-2.06-.94 2.06-2.06.94zm-11 1L8.5 8.5l.94-2.06 2.06-.94-2.06-.94L8.5 2.5l-.94 2.06-2.06.94zm10 10l.94 2.06.94-2.06 2.06-.94-2.06-.94-.94-2.06-.94 2.06-2.06.94z\"/><path d=\"M17.41 7.96l-1.37-1.37c-.4-.4-.92-.59-1.43-.59-.52 0-1.04.2-1.43.59L10.3 9.45l-7.72 7.72c-.78.78-.78 2.05 0 2.83L4 21.41c.39.39.9.59 1.41.59.51 0 1.02-.2 1.41-.59l7.78-7.78 2.81-2.81c.8-.78.8-2.07 0-2.86zM5.41 20L4 18.59l7.72-7.72 1.47 1.35L5.41 20z\"/>\n",
              "  </svg>\n",
              "      </button>\n",
              "      \n",
              "  <style>\n",
              "    .colab-df-container {\n",
              "      display:flex;\n",
              "      flex-wrap:wrap;\n",
              "      gap: 12px;\n",
              "    }\n",
              "\n",
              "    .colab-df-convert {\n",
              "      background-color: #E8F0FE;\n",
              "      border: none;\n",
              "      border-radius: 50%;\n",
              "      cursor: pointer;\n",
              "      display: none;\n",
              "      fill: #1967D2;\n",
              "      height: 32px;\n",
              "      padding: 0 0 0 0;\n",
              "      width: 32px;\n",
              "    }\n",
              "\n",
              "    .colab-df-convert:hover {\n",
              "      background-color: #E2EBFA;\n",
              "      box-shadow: 0px 1px 2px rgba(60, 64, 67, 0.3), 0px 1px 3px 1px rgba(60, 64, 67, 0.15);\n",
              "      fill: #174EA6;\n",
              "    }\n",
              "\n",
              "    [theme=dark] .colab-df-convert {\n",
              "      background-color: #3B4455;\n",
              "      fill: #D2E3FC;\n",
              "    }\n",
              "\n",
              "    [theme=dark] .colab-df-convert:hover {\n",
              "      background-color: #434B5C;\n",
              "      box-shadow: 0px 1px 3px 1px rgba(0, 0, 0, 0.15);\n",
              "      filter: drop-shadow(0px 1px 2px rgba(0, 0, 0, 0.3));\n",
              "      fill: #FFFFFF;\n",
              "    }\n",
              "  </style>\n",
              "\n",
              "      <script>\n",
              "        const buttonEl =\n",
              "          document.querySelector('#df-0407b035-9311-487c-a6ed-b8e61c7209ec button.colab-df-convert');\n",
              "        buttonEl.style.display =\n",
              "          google.colab.kernel.accessAllowed ? 'block' : 'none';\n",
              "\n",
              "        async function convertToInteractive(key) {\n",
              "          const element = document.querySelector('#df-0407b035-9311-487c-a6ed-b8e61c7209ec');\n",
              "          const dataTable =\n",
              "            await google.colab.kernel.invokeFunction('convertToInteractive',\n",
              "                                                     [key], {});\n",
              "          if (!dataTable) return;\n",
              "\n",
              "          const docLinkHtml = 'Like what you see? Visit the ' +\n",
              "            '<a target=\"_blank\" href=https://colab.research.google.com/notebooks/data_table.ipynb>data table notebook</a>'\n",
              "            + ' to learn more about interactive tables.';\n",
              "          element.innerHTML = '';\n",
              "          dataTable['output_type'] = 'display_data';\n",
              "          await google.colab.output.renderOutput(dataTable, element);\n",
              "          const docLink = document.createElement('div');\n",
              "          docLink.innerHTML = docLinkHtml;\n",
              "          element.appendChild(docLink);\n",
              "        }\n",
              "      </script>\n",
              "    </div>\n",
              "  </div>\n",
              "  "
            ]
          },
          "metadata": {},
          "execution_count": 28
        }
      ]
    },
    {
      "cell_type": "markdown",
      "source": [
        "멤버쉽 데이터와 티켓데이터 합칠 수 있음"
      ],
      "metadata": {
        "id": "S2Y2shQK9Nlg"
      }
    },
    {
      "cell_type": "code",
      "source": [
        "df_ticket[['split1', 'split2']] = df_ticket.match_info.str.split('vs ',n=1,expand=True)\n",
        "# df_ticket.head(2)\n",
        "df_clean = df_ticket[['membership_no', 'reserve_datetime', 'cancel_datetime', 'cancel_yn', 'detail_cancel_date_time', 'game_date', 'game_time', 'split2', 'reserve_state_code', 'reserve_detail_no', 'product_grade_name', 'product_denomination_name', 'seat_Attribute_4', 'seat_Attribute_5',  'seat_Attribute_6']]"
      ],
      "metadata": {
        "id": "i7Sdw96c9TC4"
      },
      "execution_count": null,
      "outputs": []
    },
    {
      "cell_type": "code",
      "source": [
        "df_clean.rename(columns = {'split2':'Opp'},inplace=True)\n",
        "df_clean.head(2)"
      ],
      "metadata": {
        "colab": {
          "base_uri": "https://localhost:8080/",
          "height": 511
        },
        "id": "9n7gmlcJBRiZ",
        "outputId": "1ea1a258-0f4c-473b-df58-30b6e977734d"
      },
      "execution_count": null,
      "outputs": [
        {
          "output_type": "stream",
          "name": "stderr",
          "text": [
            "/usr/local/lib/python3.8/dist-packages/pandas/core/frame.py:5039: SettingWithCopyWarning: \n",
            "A value is trying to be set on a copy of a slice from a DataFrame\n",
            "\n",
            "See the caveats in the documentation: https://pandas.pydata.org/pandas-docs/stable/user_guide/indexing.html#returning-a-view-versus-a-copy\n",
            "  return super().rename(\n"
          ]
        },
        {
          "output_type": "execute_result",
          "data": {
            "text/plain": [
              "   membership_no reserve_datetime      cancel_datetime cancel_yn  \\\n",
              "0            291              NaN  2022-02-15 00:43:44         Y   \n",
              "1           1073              NaN  2022-02-14 19:44:11         Y   \n",
              "\n",
              "  detail_cancel_date_time   game_date game_time        Opp reserve_state_code  \\\n",
              "0     2022-02-15 00:43:44  2022-02-19  16:30:00  수원 삼성블루윙즈         ALL_CANCEL   \n",
              "1     2022-02-14 19:44:11  2022-02-19  16:30:00  수원 삼성블루윙즈         ALL_CANCEL   \n",
              "\n",
              "   reserve_detail_no product_grade_name product_denomination_name  \\\n",
              "0                  1       1인 테이블석(SG2)          5천원 멤버십 할인권 (일반)   \n",
              "1                  1              With석                        성인   \n",
              "\n",
              "  seat_Attribute_4 seat_Attribute_5 seat_Attribute_6  \n",
              "0             S1구역               C열              24번  \n",
              "1             W8구역               G열              11번  "
            ],
            "text/html": [
              "\n",
              "  <div id=\"df-74225fb2-2a94-4f1b-97c7-e09362254216\">\n",
              "    <div class=\"colab-df-container\">\n",
              "      <div>\n",
              "<style scoped>\n",
              "    .dataframe tbody tr th:only-of-type {\n",
              "        vertical-align: middle;\n",
              "    }\n",
              "\n",
              "    .dataframe tbody tr th {\n",
              "        vertical-align: top;\n",
              "    }\n",
              "\n",
              "    .dataframe thead th {\n",
              "        text-align: right;\n",
              "    }\n",
              "</style>\n",
              "<table border=\"1\" class=\"dataframe\">\n",
              "  <thead>\n",
              "    <tr style=\"text-align: right;\">\n",
              "      <th></th>\n",
              "      <th>membership_no</th>\n",
              "      <th>reserve_datetime</th>\n",
              "      <th>cancel_datetime</th>\n",
              "      <th>cancel_yn</th>\n",
              "      <th>detail_cancel_date_time</th>\n",
              "      <th>game_date</th>\n",
              "      <th>game_time</th>\n",
              "      <th>Opp</th>\n",
              "      <th>reserve_state_code</th>\n",
              "      <th>reserve_detail_no</th>\n",
              "      <th>product_grade_name</th>\n",
              "      <th>product_denomination_name</th>\n",
              "      <th>seat_Attribute_4</th>\n",
              "      <th>seat_Attribute_5</th>\n",
              "      <th>seat_Attribute_6</th>\n",
              "    </tr>\n",
              "  </thead>\n",
              "  <tbody>\n",
              "    <tr>\n",
              "      <th>0</th>\n",
              "      <td>291</td>\n",
              "      <td>NaN</td>\n",
              "      <td>2022-02-15 00:43:44</td>\n",
              "      <td>Y</td>\n",
              "      <td>2022-02-15 00:43:44</td>\n",
              "      <td>2022-02-19</td>\n",
              "      <td>16:30:00</td>\n",
              "      <td>수원 삼성블루윙즈</td>\n",
              "      <td>ALL_CANCEL</td>\n",
              "      <td>1</td>\n",
              "      <td>1인 테이블석(SG2)</td>\n",
              "      <td>5천원 멤버십 할인권 (일반)</td>\n",
              "      <td>S1구역</td>\n",
              "      <td>C열</td>\n",
              "      <td>24번</td>\n",
              "    </tr>\n",
              "    <tr>\n",
              "      <th>1</th>\n",
              "      <td>1073</td>\n",
              "      <td>NaN</td>\n",
              "      <td>2022-02-14 19:44:11</td>\n",
              "      <td>Y</td>\n",
              "      <td>2022-02-14 19:44:11</td>\n",
              "      <td>2022-02-19</td>\n",
              "      <td>16:30:00</td>\n",
              "      <td>수원 삼성블루윙즈</td>\n",
              "      <td>ALL_CANCEL</td>\n",
              "      <td>1</td>\n",
              "      <td>With석</td>\n",
              "      <td>성인</td>\n",
              "      <td>W8구역</td>\n",
              "      <td>G열</td>\n",
              "      <td>11번</td>\n",
              "    </tr>\n",
              "  </tbody>\n",
              "</table>\n",
              "</div>\n",
              "      <button class=\"colab-df-convert\" onclick=\"convertToInteractive('df-74225fb2-2a94-4f1b-97c7-e09362254216')\"\n",
              "              title=\"Convert this dataframe to an interactive table.\"\n",
              "              style=\"display:none;\">\n",
              "        \n",
              "  <svg xmlns=\"http://www.w3.org/2000/svg\" height=\"24px\"viewBox=\"0 0 24 24\"\n",
              "       width=\"24px\">\n",
              "    <path d=\"M0 0h24v24H0V0z\" fill=\"none\"/>\n",
              "    <path d=\"M18.56 5.44l.94 2.06.94-2.06 2.06-.94-2.06-.94-.94-2.06-.94 2.06-2.06.94zm-11 1L8.5 8.5l.94-2.06 2.06-.94-2.06-.94L8.5 2.5l-.94 2.06-2.06.94zm10 10l.94 2.06.94-2.06 2.06-.94-2.06-.94-.94-2.06-.94 2.06-2.06.94z\"/><path d=\"M17.41 7.96l-1.37-1.37c-.4-.4-.92-.59-1.43-.59-.52 0-1.04.2-1.43.59L10.3 9.45l-7.72 7.72c-.78.78-.78 2.05 0 2.83L4 21.41c.39.39.9.59 1.41.59.51 0 1.02-.2 1.41-.59l7.78-7.78 2.81-2.81c.8-.78.8-2.07 0-2.86zM5.41 20L4 18.59l7.72-7.72 1.47 1.35L5.41 20z\"/>\n",
              "  </svg>\n",
              "      </button>\n",
              "      \n",
              "  <style>\n",
              "    .colab-df-container {\n",
              "      display:flex;\n",
              "      flex-wrap:wrap;\n",
              "      gap: 12px;\n",
              "    }\n",
              "\n",
              "    .colab-df-convert {\n",
              "      background-color: #E8F0FE;\n",
              "      border: none;\n",
              "      border-radius: 50%;\n",
              "      cursor: pointer;\n",
              "      display: none;\n",
              "      fill: #1967D2;\n",
              "      height: 32px;\n",
              "      padding: 0 0 0 0;\n",
              "      width: 32px;\n",
              "    }\n",
              "\n",
              "    .colab-df-convert:hover {\n",
              "      background-color: #E2EBFA;\n",
              "      box-shadow: 0px 1px 2px rgba(60, 64, 67, 0.3), 0px 1px 3px 1px rgba(60, 64, 67, 0.15);\n",
              "      fill: #174EA6;\n",
              "    }\n",
              "\n",
              "    [theme=dark] .colab-df-convert {\n",
              "      background-color: #3B4455;\n",
              "      fill: #D2E3FC;\n",
              "    }\n",
              "\n",
              "    [theme=dark] .colab-df-convert:hover {\n",
              "      background-color: #434B5C;\n",
              "      box-shadow: 0px 1px 3px 1px rgba(0, 0, 0, 0.15);\n",
              "      filter: drop-shadow(0px 1px 2px rgba(0, 0, 0, 0.3));\n",
              "      fill: #FFFFFF;\n",
              "    }\n",
              "  </style>\n",
              "\n",
              "      <script>\n",
              "        const buttonEl =\n",
              "          document.querySelector('#df-74225fb2-2a94-4f1b-97c7-e09362254216 button.colab-df-convert');\n",
              "        buttonEl.style.display =\n",
              "          google.colab.kernel.accessAllowed ? 'block' : 'none';\n",
              "\n",
              "        async function convertToInteractive(key) {\n",
              "          const element = document.querySelector('#df-74225fb2-2a94-4f1b-97c7-e09362254216');\n",
              "          const dataTable =\n",
              "            await google.colab.kernel.invokeFunction('convertToInteractive',\n",
              "                                                     [key], {});\n",
              "          if (!dataTable) return;\n",
              "\n",
              "          const docLinkHtml = 'Like what you see? Visit the ' +\n",
              "            '<a target=\"_blank\" href=https://colab.research.google.com/notebooks/data_table.ipynb>data table notebook</a>'\n",
              "            + ' to learn more about interactive tables.';\n",
              "          element.innerHTML = '';\n",
              "          dataTable['output_type'] = 'display_data';\n",
              "          await google.colab.output.renderOutput(dataTable, element);\n",
              "          const docLink = document.createElement('div');\n",
              "          docLink.innerHTML = docLinkHtml;\n",
              "          element.appendChild(docLink);\n",
              "        }\n",
              "      </script>\n",
              "    </div>\n",
              "  </div>\n",
              "  "
            ]
          },
          "metadata": {},
          "execution_count": 30
        }
      ]
    },
    {
      "cell_type": "code",
      "source": [
        "df_clean.info()"
      ],
      "metadata": {
        "id": "09UvN-nfDjdh",
        "colab": {
          "base_uri": "https://localhost:8080/"
        },
        "outputId": "5fa6e498-3e58-424b-88fa-4f1569ed8af2"
      },
      "execution_count": null,
      "outputs": [
        {
          "output_type": "stream",
          "name": "stdout",
          "text": [
            "<class 'pandas.core.frame.DataFrame'>\n",
            "Int64Index: 53209 entries, 0 to 53920\n",
            "Data columns (total 15 columns):\n",
            " #   Column                     Non-Null Count  Dtype \n",
            "---  ------                     --------------  ----- \n",
            " 0   membership_no              53209 non-null  int64 \n",
            " 1   reserve_datetime           47886 non-null  object\n",
            " 2   cancel_datetime            5323 non-null   object\n",
            " 3   cancel_yn                  53209 non-null  object\n",
            " 4   detail_cancel_date_time    5323 non-null   object\n",
            " 5   game_date                  53209 non-null  object\n",
            " 6   game_time                  53209 non-null  object\n",
            " 7   Opp                        53209 non-null  object\n",
            " 8   reserve_state_code         53209 non-null  object\n",
            " 9   reserve_detail_no          53209 non-null  int64 \n",
            " 10  product_grade_name         53209 non-null  object\n",
            " 11  product_denomination_name  53209 non-null  object\n",
            " 12  seat_Attribute_4           53209 non-null  object\n",
            " 13  seat_Attribute_5           53050 non-null  object\n",
            " 14  seat_Attribute_6           53209 non-null  object\n",
            "dtypes: int64(2), object(13)\n",
            "memory usage: 6.5+ MB\n"
          ]
        }
      ]
    },
    {
      "cell_type": "code",
      "source": [
        "df_rank.head()"
      ],
      "metadata": {
        "colab": {
          "base_uri": "https://localhost:8080/",
          "height": 206
        },
        "id": "Adr55_1No1o6",
        "outputId": "9864558b-053d-4b1d-ccc8-102aac397628"
      },
      "execution_count": null,
      "outputs": [
        {
          "output_type": "execute_result",
          "data": {
            "text/plain": [
              "    game_date  rank\n",
              "0  2019-03-02     4\n",
              "1  2019-03-03     5\n",
              "2  2019-03-09     3\n",
              "3  2019-03-10     5\n",
              "4  2019-03-16     5"
            ],
            "text/html": [
              "\n",
              "  <div id=\"df-e8464390-6401-49db-bed2-2a8dc209445a\">\n",
              "    <div class=\"colab-df-container\">\n",
              "      <div>\n",
              "<style scoped>\n",
              "    .dataframe tbody tr th:only-of-type {\n",
              "        vertical-align: middle;\n",
              "    }\n",
              "\n",
              "    .dataframe tbody tr th {\n",
              "        vertical-align: top;\n",
              "    }\n",
              "\n",
              "    .dataframe thead th {\n",
              "        text-align: right;\n",
              "    }\n",
              "</style>\n",
              "<table border=\"1\" class=\"dataframe\">\n",
              "  <thead>\n",
              "    <tr style=\"text-align: right;\">\n",
              "      <th></th>\n",
              "      <th>game_date</th>\n",
              "      <th>rank</th>\n",
              "    </tr>\n",
              "  </thead>\n",
              "  <tbody>\n",
              "    <tr>\n",
              "      <th>0</th>\n",
              "      <td>2019-03-02</td>\n",
              "      <td>4</td>\n",
              "    </tr>\n",
              "    <tr>\n",
              "      <th>1</th>\n",
              "      <td>2019-03-03</td>\n",
              "      <td>5</td>\n",
              "    </tr>\n",
              "    <tr>\n",
              "      <th>2</th>\n",
              "      <td>2019-03-09</td>\n",
              "      <td>3</td>\n",
              "    </tr>\n",
              "    <tr>\n",
              "      <th>3</th>\n",
              "      <td>2019-03-10</td>\n",
              "      <td>5</td>\n",
              "    </tr>\n",
              "    <tr>\n",
              "      <th>4</th>\n",
              "      <td>2019-03-16</td>\n",
              "      <td>5</td>\n",
              "    </tr>\n",
              "  </tbody>\n",
              "</table>\n",
              "</div>\n",
              "      <button class=\"colab-df-convert\" onclick=\"convertToInteractive('df-e8464390-6401-49db-bed2-2a8dc209445a')\"\n",
              "              title=\"Convert this dataframe to an interactive table.\"\n",
              "              style=\"display:none;\">\n",
              "        \n",
              "  <svg xmlns=\"http://www.w3.org/2000/svg\" height=\"24px\"viewBox=\"0 0 24 24\"\n",
              "       width=\"24px\">\n",
              "    <path d=\"M0 0h24v24H0V0z\" fill=\"none\"/>\n",
              "    <path d=\"M18.56 5.44l.94 2.06.94-2.06 2.06-.94-2.06-.94-.94-2.06-.94 2.06-2.06.94zm-11 1L8.5 8.5l.94-2.06 2.06-.94-2.06-.94L8.5 2.5l-.94 2.06-2.06.94zm10 10l.94 2.06.94-2.06 2.06-.94-2.06-.94-.94-2.06-.94 2.06-2.06.94z\"/><path d=\"M17.41 7.96l-1.37-1.37c-.4-.4-.92-.59-1.43-.59-.52 0-1.04.2-1.43.59L10.3 9.45l-7.72 7.72c-.78.78-.78 2.05 0 2.83L4 21.41c.39.39.9.59 1.41.59.51 0 1.02-.2 1.41-.59l7.78-7.78 2.81-2.81c.8-.78.8-2.07 0-2.86zM5.41 20L4 18.59l7.72-7.72 1.47 1.35L5.41 20z\"/>\n",
              "  </svg>\n",
              "      </button>\n",
              "      \n",
              "  <style>\n",
              "    .colab-df-container {\n",
              "      display:flex;\n",
              "      flex-wrap:wrap;\n",
              "      gap: 12px;\n",
              "    }\n",
              "\n",
              "    .colab-df-convert {\n",
              "      background-color: #E8F0FE;\n",
              "      border: none;\n",
              "      border-radius: 50%;\n",
              "      cursor: pointer;\n",
              "      display: none;\n",
              "      fill: #1967D2;\n",
              "      height: 32px;\n",
              "      padding: 0 0 0 0;\n",
              "      width: 32px;\n",
              "    }\n",
              "\n",
              "    .colab-df-convert:hover {\n",
              "      background-color: #E2EBFA;\n",
              "      box-shadow: 0px 1px 2px rgba(60, 64, 67, 0.3), 0px 1px 3px 1px rgba(60, 64, 67, 0.15);\n",
              "      fill: #174EA6;\n",
              "    }\n",
              "\n",
              "    [theme=dark] .colab-df-convert {\n",
              "      background-color: #3B4455;\n",
              "      fill: #D2E3FC;\n",
              "    }\n",
              "\n",
              "    [theme=dark] .colab-df-convert:hover {\n",
              "      background-color: #434B5C;\n",
              "      box-shadow: 0px 1px 3px 1px rgba(0, 0, 0, 0.15);\n",
              "      filter: drop-shadow(0px 1px 2px rgba(0, 0, 0, 0.3));\n",
              "      fill: #FFFFFF;\n",
              "    }\n",
              "  </style>\n",
              "\n",
              "      <script>\n",
              "        const buttonEl =\n",
              "          document.querySelector('#df-e8464390-6401-49db-bed2-2a8dc209445a button.colab-df-convert');\n",
              "        buttonEl.style.display =\n",
              "          google.colab.kernel.accessAllowed ? 'block' : 'none';\n",
              "\n",
              "        async function convertToInteractive(key) {\n",
              "          const element = document.querySelector('#df-e8464390-6401-49db-bed2-2a8dc209445a');\n",
              "          const dataTable =\n",
              "            await google.colab.kernel.invokeFunction('convertToInteractive',\n",
              "                                                     [key], {});\n",
              "          if (!dataTable) return;\n",
              "\n",
              "          const docLinkHtml = 'Like what you see? Visit the ' +\n",
              "            '<a target=\"_blank\" href=https://colab.research.google.com/notebooks/data_table.ipynb>data table notebook</a>'\n",
              "            + ' to learn more about interactive tables.';\n",
              "          element.innerHTML = '';\n",
              "          dataTable['output_type'] = 'display_data';\n",
              "          await google.colab.output.renderOutput(dataTable, element);\n",
              "          const docLink = document.createElement('div');\n",
              "          docLink.innerHTML = docLinkHtml;\n",
              "          element.appendChild(docLink);\n",
              "        }\n",
              "      </script>\n",
              "    </div>\n",
              "  </div>\n",
              "  "
            ]
          },
          "metadata": {},
          "execution_count": 32
        }
      ]
    },
    {
      "cell_type": "code",
      "source": [
        "df_clean = pd.merge(df_clean,df_rank, on ='game_date', how = 'left')"
      ],
      "metadata": {
        "id": "UPtKoLE4pu-h"
      },
      "execution_count": null,
      "outputs": []
    },
    {
      "cell_type": "code",
      "source": [
        "# df_clean.head(2)"
      ],
      "metadata": {
        "id": "9VqfpKwdrPAo"
      },
      "execution_count": null,
      "outputs": []
    },
    {
      "cell_type": "code",
      "source": [
        "df_clean[['split1', 'split2']] = df_clean.reserve_datetime.str.split(' ',n=1,expand=True)\n",
        "df_clean.rename(columns = {'split1':'reserve_date','split2':'reserve_hour'},inplace=True)"
      ],
      "metadata": {
        "id": "Jrtwrg83RyQu"
      },
      "execution_count": null,
      "outputs": []
    },
    {
      "cell_type": "code",
      "source": [
        "# df_clean.tail(2)"
      ],
      "metadata": {
        "id": "9BV-oBq-TTkR"
      },
      "execution_count": null,
      "outputs": []
    },
    {
      "cell_type": "code",
      "source": [
        "df_clean['reserve_date']= pd.to_datetime(df_clean['reserve_date'])\n",
        "df_clean['reserve_hour']= pd.to_datetime(df_clean['reserve_hour'])\n",
        "df_clean['reserve_hour'] = df_clean['reserve_hour'].dt.hour"
      ],
      "metadata": {
        "id": "WxETQDy9X-z_"
      },
      "execution_count": null,
      "outputs": []
    },
    {
      "cell_type": "code",
      "source": [
        "# df_clean.head(2)"
      ],
      "metadata": {
        "id": "JD-KFvkGaX6m"
      },
      "execution_count": null,
      "outputs": []
    },
    {
      "cell_type": "code",
      "source": [
        "# df_clean[df_clean.product_grade_name == '원정석'].seat_Attribute_4.value_counts()"
      ],
      "metadata": {
        "id": "ms0vSNSHCQF7"
      },
      "execution_count": null,
      "outputs": []
    },
    {
      "cell_type": "code",
      "source": [
        "# df_clean.info()"
      ],
      "metadata": {
        "id": "3MNoswDyZmf5"
      },
      "execution_count": null,
      "outputs": []
    },
    {
      "cell_type": "code",
      "source": [
        "df_clean[['split1', 'split2']] = df_clean.cancel_datetime.str.split(' ',n=1,expand=True)\n",
        "df_clean.rename(columns = {'split1':'cancel_date','split2':'cancel_hour'},inplace=True)\n",
        "df_clean['cancel_date']= pd.to_datetime(df_clean['cancel_date'])\n",
        "df_clean['cancel_hour']= pd.to_datetime(df_clean['cancel_hour'])\n",
        "df_clean['cancel_hour'] = df_clean['cancel_hour'].dt.hour"
      ],
      "metadata": {
        "id": "SMFDnMlTawGk"
      },
      "execution_count": null,
      "outputs": []
    },
    {
      "cell_type": "code",
      "source": [
        "# df_clean.info()"
      ],
      "metadata": {
        "id": "xCNd8crrbF28"
      },
      "execution_count": null,
      "outputs": []
    },
    {
      "cell_type": "code",
      "source": [
        "# df_clean.info()"
      ],
      "metadata": {
        "id": "Hws3Ag4Ubrda"
      },
      "execution_count": null,
      "outputs": []
    },
    {
      "cell_type": "code",
      "source": [
        "# df_sv_comp['end_date'] = pd.to_datetime(df_sv_comp['end_date'])"
      ],
      "metadata": {
        "id": "1o0_oWaPIt4x"
      },
      "execution_count": null,
      "outputs": []
    },
    {
      "cell_type": "code",
      "source": [
        "df_Y = df_clean[df_clean.cancel_yn == 'Y']\n",
        "df_N = df_clean[df_clean.cancel_yn == 'N']\n",
        "df_Y = df_Y[['membership_no', 'reserve_state_code', 'reserve_datetime', 'cancel_datetime', 'cancel_yn', 'Opp','game_date', 'game_time', 'reserve_detail_no', 'product_grade_name', 'product_denomination_name', 'seat_Attribute_4', 'seat_Attribute_5',  'seat_Attribute_6', 'reserve_date', 'reserve_hour', 'cancel_date', 'cancel_hour', 'rank']]\n",
        "df_N = df_N[['membership_no', 'reserve_state_code', 'reserve_datetime', 'cancel_datetime', 'cancel_yn', 'Opp','game_date', 'game_time', 'reserve_detail_no', 'product_grade_name', 'product_denomination_name', 'seat_Attribute_4', 'seat_Attribute_5',  'seat_Attribute_6', 'reserve_date', 'reserve_hour', 'cancel_date', 'cancel_hour', 'rank']]"
      ],
      "metadata": {
        "id": "-MVsMb0ScEz9"
      },
      "execution_count": null,
      "outputs": []
    },
    {
      "cell_type": "markdown",
      "source": [
        "cancel했다는데 예약날짜가 있는게 있고 안했는데 캔슬날짜가 있는게 있다 -> 이상치??"
      ],
      "metadata": {
        "id": "wpd3MG74e5uq"
      }
    },
    {
      "cell_type": "code",
      "source": [
        "# df_N[df_N.reserve_datetime.isna()]\n",
        "# 캔슬안했는데 캔슬 시간정보가 있는경우"
      ],
      "metadata": {
        "id": "EdHFNCN5eYea"
      },
      "execution_count": null,
      "outputs": []
    },
    {
      "cell_type": "code",
      "source": [
        "# df_clean[(df_clean.cancel_yn == 'N') & (df_clean.reserve_datetime.isna())].cancel_yn.replace('N', 'Y')\n",
        "ind = df_clean[(df_clean.cancel_yn == 'N') & (df_clean.reserve_datetime.isna())].cancel_yn.index\n",
        "df_clean.cancel_yn[ind] = df_clean.cancel_yn[ind].replace('N', 'Y')"
      ],
      "metadata": {
        "id": "EQfegWNnkuyD",
        "colab": {
          "base_uri": "https://localhost:8080/"
        },
        "outputId": "00ded746-7b95-4113-dbf8-a42359c96478"
      },
      "execution_count": null,
      "outputs": [
        {
          "output_type": "stream",
          "name": "stderr",
          "text": [
            "<ipython-input-47-4c7ea468718f>:3: SettingWithCopyWarning: \n",
            "A value is trying to be set on a copy of a slice from a DataFrame\n",
            "\n",
            "See the caveats in the documentation: https://pandas.pydata.org/pandas-docs/stable/user_guide/indexing.html#returning-a-view-versus-a-copy\n",
            "  df_clean.cancel_yn[ind] = df_clean.cancel_yn[ind].replace('N', 'Y')\n"
          ]
        }
      ]
    },
    {
      "cell_type": "code",
      "source": [
        "# df_Y[df_Y.cancel_datetime.isna()] \n",
        "# 캔슬했는데 캔슬 시간정보가 없는경우"
      ],
      "metadata": {
        "id": "sUS9rwK8e5Ab"
      },
      "execution_count": null,
      "outputs": []
    },
    {
      "cell_type": "code",
      "source": [
        "ind = df_clean[(df_clean.cancel_yn == 'Y') & (df_clean.cancel_datetime.isna())].cancel_yn.index\n",
        "df_clean.cancel_yn[ind] = df_clean.cancel_yn[ind].replace('Y', 'N')"
      ],
      "metadata": {
        "colab": {
          "base_uri": "https://localhost:8080/"
        },
        "id": "e6AEDUGDHvyW",
        "outputId": "67cf3ab1-1ca3-4705-9af6-ae5b0bfcd429"
      },
      "execution_count": null,
      "outputs": [
        {
          "output_type": "stream",
          "name": "stderr",
          "text": [
            "<ipython-input-49-6a4870c416f0>:2: SettingWithCopyWarning: \n",
            "A value is trying to be set on a copy of a slice from a DataFrame\n",
            "\n",
            "See the caveats in the documentation: https://pandas.pydata.org/pandas-docs/stable/user_guide/indexing.html#returning-a-view-versus-a-copy\n",
            "  df_clean.cancel_yn[ind] = df_clean.cancel_yn[ind].replace('Y', 'N')\n"
          ]
        }
      ]
    },
    {
      "cell_type": "code",
      "source": [
        "df_Y = df_clean[df_clean.cancel_yn == 'Y']\n",
        "df_N = df_clean[df_clean.cancel_yn == 'N']\n",
        "df_Y = df_Y[['membership_no', 'cancel_yn', 'Opp', 'game_date', 'game_time', 'reserve_detail_no', 'product_grade_name', 'product_denomination_name', 'cancel_date', 'cancel_hour', 'rank']]\n",
        "df_N = df_N[['membership_no', 'cancel_yn', 'Opp', 'game_date', 'game_time', 'reserve_detail_no', 'product_grade_name', 'product_denomination_name', 'reserve_date', 'reserve_hour', 'rank']]"
      ],
      "metadata": {
        "id": "qFxG7DNyIGjI"
      },
      "execution_count": null,
      "outputs": []
    },
    {
      "cell_type": "code",
      "source": [
        "# df_Y.info()\n",
        "# df_Y.nunique()"
      ],
      "metadata": {
        "id": "9jt0Bg3PZMC4"
      },
      "execution_count": null,
      "outputs": []
    },
    {
      "cell_type": "code",
      "source": [
        "df_N.product_grade_name.unique()"
      ],
      "metadata": {
        "colab": {
          "base_uri": "https://localhost:8080/"
        },
        "id": "agd_3x_zZXA6",
        "outputId": "a9f7906b-1d7e-4e39-cdae-aaeb4b69caf1"
      },
      "execution_count": null,
      "outputs": [
        {
          "output_type": "execute_result",
          "data": {
            "text/plain": [
              "array(['World class석', 'S석', 'Exciting석', 'With석', '프리미엄 클래식', '스카이라운지',\n",
              "       '하이네켄 테이블석(2인)', '1인 테이블석(SG2)', 'Expert석', '1인 테이블석(EG4)', 'N석',\n",
              "       '1인 테이블석(EG1)', '프리미엄 골드', '원정석', '피크닉 테이블석(2인)', 'Wide view석',\n",
              "       '서비푸드 테이블석(EG4)', '서비푸드 테이블석(SG2)', '서비푸드 테이블석(EG1)',\n",
              "       '1인 테이블석EG4)'], dtype=object)"
            ]
          },
          "metadata": {},
          "execution_count": 52
        }
      ]
    },
    {
      "cell_type": "markdown",
      "source": [
        "티켓 데이터로 EDA 뭘 할 수 있을까? \n",
        "\n",
        "멤버쉽 넘버로 비율을 확인\n",
        "\n",
        " 캔슬 유무로 모델 하나 feat = 좌석,  상대 팀, 좋아하는 선수, 직업, 나이(멤버쉽 데이터 병합 필요)\n",
        "\n",
        " 상대팀에 따라 캔슬 비율 체크, 좌석 비율 체크\n",
        "\n",
        " 게임 시간에 따라 비율 체크\n",
        "\n",
        " 좌석에 따라 직업, 좋아하는 선수, 나이 체크\n",
        "\n",
        " 생각해보니 원정석은 원정팀을 위한 곳인데 왜 멤버쉽 예매데이터에 존재하는가? -> 어느팀에도 속하지 않고 축구만 보러온 사람들? or 되팔려고?"
      ],
      "metadata": {
        "id": "jfh_JugFXiVM"
      }
    },
    {
      "cell_type": "code",
      "source": [
        "df_YN = pd.concat([df_Y,df_N])"
      ],
      "metadata": {
        "id": "UHdnp9bLbYjJ"
      },
      "execution_count": null,
      "outputs": []
    },
    {
      "cell_type": "code",
      "source": [
        "df_YN = pd.merge(df_YN,df_inc, on ='game_date', how = 'left')"
      ],
      "metadata": {
        "id": "BWIx-ehhyS-j"
      },
      "execution_count": null,
      "outputs": []
    },
    {
      "cell_type": "code",
      "source": [
        "df_YN = df_YN[['membership_no', 'cancel_yn', 'Opp', 'product_grade_name', 'product_denomination_name','reserve_detail_no', 'yoil', 'game_type_name',\t'audience',\t'weather', 'rank']]"
      ],
      "metadata": {
        "id": "u5nymA_ub6v7"
      },
      "execution_count": null,
      "outputs": []
    },
    {
      "cell_type": "code",
      "source": [
        "df_YN = pd.merge(df_YN, df_member, left_on = 'membership_no', right_on = 'MB_IDX')\n",
        "df_YN.info()"
      ],
      "metadata": {
        "colab": {
          "base_uri": "https://localhost:8080/"
        },
        "id": "ukMgS3dEbA7Q",
        "outputId": "f8296c0f-d96e-4d86-8943-35181248de4f"
      },
      "execution_count": null,
      "outputs": [
        {
          "output_type": "stream",
          "name": "stdout",
          "text": [
            "<class 'pandas.core.frame.DataFrame'>\n",
            "Int64Index: 53209 entries, 0 to 53208\n",
            "Data columns (total 16 columns):\n",
            " #   Column                     Non-Null Count  Dtype  \n",
            "---  ------                     --------------  -----  \n",
            " 0   membership_no              53209 non-null  int64  \n",
            " 1   cancel_yn                  53209 non-null  object \n",
            " 2   Opp                        53209 non-null  object \n",
            " 3   product_grade_name         53209 non-null  object \n",
            " 4   product_denomination_name  53209 non-null  object \n",
            " 5   reserve_detail_no          53209 non-null  int64  \n",
            " 6   yoil                       53209 non-null  object \n",
            " 7   game_type_name             53209 non-null  object \n",
            " 8   audience                   53209 non-null  int64  \n",
            " 9   weather                    53209 non-null  object \n",
            " 10  rank                       53209 non-null  int64  \n",
            " 11  MB_IDX                     53209 non-null  int64  \n",
            " 12  MB_AGE                     53209 non-null  int64  \n",
            " 13  zipcode                    53133 non-null  float64\n",
            " 14  job                        47317 non-null  object \n",
            " 15  favorite_idx               53209 non-null  object \n",
            "dtypes: float64(1), int64(6), object(9)\n",
            "memory usage: 6.9+ MB\n"
          ]
        }
      ]
    },
    {
      "cell_type": "code",
      "source": [
        "df_YN.drop(df_YN[df_YN.zipcode.isnull()].index, inplace=True)"
      ],
      "metadata": {
        "id": "0jhcJ3ngcErw"
      },
      "execution_count": null,
      "outputs": []
    },
    {
      "cell_type": "code",
      "source": [
        "# df_YN[['Opp','product_grade_name','product_denomination_name','MB_AGE','job','favorite_idx','cancel_yn']].head(2)"
      ],
      "metadata": {
        "id": "JIZTNu4qcyV-"
      },
      "execution_count": null,
      "outputs": []
    },
    {
      "cell_type": "code",
      "source": [
        "df_YN.product_denomination_name.value_counts()"
      ],
      "metadata": {
        "colab": {
          "base_uri": "https://localhost:8080/"
        },
        "id": "t7TxFuWj9_hP",
        "outputId": "a3425c6b-0ca1-400f-ef43-798ad6305934"
      },
      "execution_count": null,
      "outputs": [
        {
          "output_type": "execute_result",
          "data": {
            "text/plain": [
              "성인                         21775\n",
              "청소년/어린이                    12223\n",
              "예매권북                        5847\n",
              "일반                          3027\n",
              "5천원 멤버십 할인권 (성인)            1773\n",
              "포스코 건설 예매권                  1516\n",
              "셀트리온 예매권                    1168\n",
              "K리그 축덕카드(신용)                1040\n",
              "K리그 축덕카드(체크)                 904\n",
              "게임권                          602\n",
              "문화누리카드(성인)                   438\n",
              "5천원 멤버십 할인권 (일반)             379\n",
              "3,000포인트 할인 쿠폰(성인)           370\n",
              "ㅅㅇ전 게임권                      366\n",
              "5,000포인트 할인 쿠폰(성인)           341\n",
              "성인/청소년/어린이                   339\n",
              "5천원 멤버십 할인권(청소년/어린이)         263\n",
              "N회 방문자 할인쿠폰                  183\n",
              "3,000포인트 할인 쿠폰(청소년/어린이)      146\n",
              "K리그 PASS                      95\n",
              "5,000포인트 할인 쿠폰(청소년/어린이)       93\n",
              "3,000포인트 할인 쿠폰(일반)            60\n",
              "1인 테이블석 할인권                   49\n",
              "5,000포인트 할인 쿠폰(일반)            43\n",
              "1,000포인트 할인 쿠폰(성인)            28\n",
              "청소년                           23\n",
              "1,000포인트 할인 쿠폰(청소년/어린이)       12\n",
              "어린이                            8\n",
              "1인 테이블석 50% 할인쿠폰               5\n",
              "롯데백화점 30% 할인쿠폰(성인)             5\n",
              "1,000포인트 할인 쿠폰(일반)             3\n",
              "1만원 멤버십 할인권 (청소년/어린이)          2\n",
              "프리미엄 골드석 50% 할인쿠폰              2\n",
              "생일쿠폰(청소년/어린이)                  1\n",
              "생일쿠폰(성인)                       1\n",
              "10% 할인 쿠폰(청소년/어린이)             1\n",
              "10% 할인 쿠폰(성인)                  1\n",
              "1만원 멤버십 할인권 (성인)               1\n",
              "Name: product_denomination_name, dtype: int64"
            ]
          },
          "metadata": {},
          "execution_count": 59
        }
      ]
    },
    {
      "cell_type": "markdown",
      "source": [
        "할인을 받는지 안받는지로 범주 변경"
      ],
      "metadata": {
        "id": "HmKaOYwcJMSF"
      }
    },
    {
      "cell_type": "code",
      "source": [
        "df_YN.loc[(df_YN['product_denomination_name'] == '성인') | (df_YN['product_denomination_name'] == '청소년/어린이')\n",
        "| (df_YN['product_denomination_name'] == '일반') | (df_YN['product_denomination_name'] == '성인/청소년/어린이')\n",
        "| (df_YN['product_denomination_name'] == '청소년') | (df_YN['product_denomination_name'] == '어린이'), 'Sale'] = 'N'\n",
        "\n",
        "df_YN.loc[df_YN['Sale'].isna(), 'Sale'] = 'Y'"
      ],
      "metadata": {
        "id": "BJglfEBaJ7p-"
      },
      "execution_count": null,
      "outputs": []
    },
    {
      "cell_type": "code",
      "source": [
        "df_YN.Sale.value_counts()"
      ],
      "metadata": {
        "colab": {
          "base_uri": "https://localhost:8080/"
        },
        "id": "Opisd-wBLuuI",
        "outputId": "a2e41454-320d-4e00-8b42-0af41a7244b6"
      },
      "execution_count": null,
      "outputs": [
        {
          "output_type": "execute_result",
          "data": {
            "text/plain": [
              "N    37395\n",
              "Y    15738\n",
              "Name: Sale, dtype: int64"
            ]
          },
          "metadata": {},
          "execution_count": 61
        }
      ]
    },
    {
      "cell_type": "code",
      "source": [
        "df_YN.cancel_yn.value_counts()"
      ],
      "metadata": {
        "colab": {
          "base_uri": "https://localhost:8080/"
        },
        "id": "SzfhsArdRSEy",
        "outputId": "430be253-973a-4a16-eb11-21023b5b1815"
      },
      "execution_count": null,
      "outputs": [
        {
          "output_type": "execute_result",
          "data": {
            "text/plain": [
              "N    47812\n",
              "Y     5321\n",
              "Name: cancel_yn, dtype: int64"
            ]
          },
          "metadata": {},
          "execution_count": 62
        }
      ]
    },
    {
      "cell_type": "code",
      "source": [
        "df_YN = df_YN[['membership_no', 'Opp','product_grade_name','reserve_detail_no','Sale','MB_AGE','job','favorite_idx','cancel_yn', 'yoil', 'game_type_name',\t'audience',\t'weather', 'rank']]"
      ],
      "metadata": {
        "id": "_lYTFyVeL07q"
      },
      "execution_count": null,
      "outputs": []
    },
    {
      "cell_type": "code",
      "source": [
        "df_Tab_YN = df_YN\n",
        "df_Tab_Y = df_Y\n",
        "df_Tab_N = df_N"
      ],
      "metadata": {
        "id": "KguluPyMKnTO"
      },
      "execution_count": null,
      "outputs": []
    },
    {
      "cell_type": "code",
      "source": [
        "# 인천 경기 관중수 날씨 등등 추가"
      ],
      "metadata": {
        "id": "PZzjwNCBxEui"
      },
      "execution_count": null,
      "outputs": []
    },
    {
      "cell_type": "markdown",
      "source": [
        "## 캔슬 유무 이진 분류 모델"
      ],
      "metadata": {
        "id": "RVp6Qom7KhjU"
      }
    },
    {
      "cell_type": "code",
      "source": [
        "df_YN[(df_YN['membership_no'] == 291) & (df_YN['Opp'] == '전북 현대모터스')]"
      ],
      "metadata": {
        "colab": {
          "base_uri": "https://localhost:8080/",
          "height": 555
        },
        "id": "wBaTBdD2PkhS",
        "outputId": "50914bd0-b98c-475b-cda2-784b157f0dca"
      },
      "execution_count": null,
      "outputs": [
        {
          "output_type": "execute_result",
          "data": {
            "text/plain": [
              "    membership_no       Opp product_grade_name  reserve_detail_no Sale  \\\n",
              "3             291  전북 현대모터스                 S석                  1    N   \n",
              "4             291  전북 현대모터스                 S석                  2    N   \n",
              "5             291  전북 현대모터스                 S석                  3    Y   \n",
              "6             291  전북 현대모터스                 S석                  1    Y   \n",
              "26            291  전북 현대모터스                 S석                  1    Y   \n",
              "27            291  전북 현대모터스                 S석                  2    N   \n",
              "28            291  전북 현대모터스                 S석                  1    Y   \n",
              "\n",
              "    MB_AGE           job favorite_idx cancel_yn yoil game_type_name  audience  \\\n",
              "3     1992  회사원(사무직/연구직)          김보섭         N    일          스플릿일반      7597   \n",
              "4     1992  회사원(사무직/연구직)          김보섭         N    일          스플릿일반      7597   \n",
              "5     1992  회사원(사무직/연구직)          김보섭         N    일          스플릿일반      7597   \n",
              "6     1992  회사원(사무직/연구직)          김보섭         N    일          스플릿일반      7597   \n",
              "26    1992  회사원(사무직/연구직)          김보섭         N    토          스플릿일반      6339   \n",
              "27    1992  회사원(사무직/연구직)          김보섭         N    토          스플릿일반      6339   \n",
              "28    1992  회사원(사무직/연구직)          김보섭         N    토          스플릿일반      6339   \n",
              "\n",
              "   weather  rank  \n",
              "3     rain     4  \n",
              "4     rain     4  \n",
              "5     rain     4  \n",
              "6     rain     4  \n",
              "26    rain     4  \n",
              "27    rain     4  \n",
              "28    rain     4  "
            ],
            "text/html": [
              "\n",
              "  <div id=\"df-9225568c-ced2-4546-b8ae-3d8f33a54992\">\n",
              "    <div class=\"colab-df-container\">\n",
              "      <div>\n",
              "<style scoped>\n",
              "    .dataframe tbody tr th:only-of-type {\n",
              "        vertical-align: middle;\n",
              "    }\n",
              "\n",
              "    .dataframe tbody tr th {\n",
              "        vertical-align: top;\n",
              "    }\n",
              "\n",
              "    .dataframe thead th {\n",
              "        text-align: right;\n",
              "    }\n",
              "</style>\n",
              "<table border=\"1\" class=\"dataframe\">\n",
              "  <thead>\n",
              "    <tr style=\"text-align: right;\">\n",
              "      <th></th>\n",
              "      <th>membership_no</th>\n",
              "      <th>Opp</th>\n",
              "      <th>product_grade_name</th>\n",
              "      <th>reserve_detail_no</th>\n",
              "      <th>Sale</th>\n",
              "      <th>MB_AGE</th>\n",
              "      <th>job</th>\n",
              "      <th>favorite_idx</th>\n",
              "      <th>cancel_yn</th>\n",
              "      <th>yoil</th>\n",
              "      <th>game_type_name</th>\n",
              "      <th>audience</th>\n",
              "      <th>weather</th>\n",
              "      <th>rank</th>\n",
              "    </tr>\n",
              "  </thead>\n",
              "  <tbody>\n",
              "    <tr>\n",
              "      <th>3</th>\n",
              "      <td>291</td>\n",
              "      <td>전북 현대모터스</td>\n",
              "      <td>S석</td>\n",
              "      <td>1</td>\n",
              "      <td>N</td>\n",
              "      <td>1992</td>\n",
              "      <td>회사원(사무직/연구직)</td>\n",
              "      <td>김보섭</td>\n",
              "      <td>N</td>\n",
              "      <td>일</td>\n",
              "      <td>스플릿일반</td>\n",
              "      <td>7597</td>\n",
              "      <td>rain</td>\n",
              "      <td>4</td>\n",
              "    </tr>\n",
              "    <tr>\n",
              "      <th>4</th>\n",
              "      <td>291</td>\n",
              "      <td>전북 현대모터스</td>\n",
              "      <td>S석</td>\n",
              "      <td>2</td>\n",
              "      <td>N</td>\n",
              "      <td>1992</td>\n",
              "      <td>회사원(사무직/연구직)</td>\n",
              "      <td>김보섭</td>\n",
              "      <td>N</td>\n",
              "      <td>일</td>\n",
              "      <td>스플릿일반</td>\n",
              "      <td>7597</td>\n",
              "      <td>rain</td>\n",
              "      <td>4</td>\n",
              "    </tr>\n",
              "    <tr>\n",
              "      <th>5</th>\n",
              "      <td>291</td>\n",
              "      <td>전북 현대모터스</td>\n",
              "      <td>S석</td>\n",
              "      <td>3</td>\n",
              "      <td>Y</td>\n",
              "      <td>1992</td>\n",
              "      <td>회사원(사무직/연구직)</td>\n",
              "      <td>김보섭</td>\n",
              "      <td>N</td>\n",
              "      <td>일</td>\n",
              "      <td>스플릿일반</td>\n",
              "      <td>7597</td>\n",
              "      <td>rain</td>\n",
              "      <td>4</td>\n",
              "    </tr>\n",
              "    <tr>\n",
              "      <th>6</th>\n",
              "      <td>291</td>\n",
              "      <td>전북 현대모터스</td>\n",
              "      <td>S석</td>\n",
              "      <td>1</td>\n",
              "      <td>Y</td>\n",
              "      <td>1992</td>\n",
              "      <td>회사원(사무직/연구직)</td>\n",
              "      <td>김보섭</td>\n",
              "      <td>N</td>\n",
              "      <td>일</td>\n",
              "      <td>스플릿일반</td>\n",
              "      <td>7597</td>\n",
              "      <td>rain</td>\n",
              "      <td>4</td>\n",
              "    </tr>\n",
              "    <tr>\n",
              "      <th>26</th>\n",
              "      <td>291</td>\n",
              "      <td>전북 현대모터스</td>\n",
              "      <td>S석</td>\n",
              "      <td>1</td>\n",
              "      <td>Y</td>\n",
              "      <td>1992</td>\n",
              "      <td>회사원(사무직/연구직)</td>\n",
              "      <td>김보섭</td>\n",
              "      <td>N</td>\n",
              "      <td>토</td>\n",
              "      <td>스플릿일반</td>\n",
              "      <td>6339</td>\n",
              "      <td>rain</td>\n",
              "      <td>4</td>\n",
              "    </tr>\n",
              "    <tr>\n",
              "      <th>27</th>\n",
              "      <td>291</td>\n",
              "      <td>전북 현대모터스</td>\n",
              "      <td>S석</td>\n",
              "      <td>2</td>\n",
              "      <td>N</td>\n",
              "      <td>1992</td>\n",
              "      <td>회사원(사무직/연구직)</td>\n",
              "      <td>김보섭</td>\n",
              "      <td>N</td>\n",
              "      <td>토</td>\n",
              "      <td>스플릿일반</td>\n",
              "      <td>6339</td>\n",
              "      <td>rain</td>\n",
              "      <td>4</td>\n",
              "    </tr>\n",
              "    <tr>\n",
              "      <th>28</th>\n",
              "      <td>291</td>\n",
              "      <td>전북 현대모터스</td>\n",
              "      <td>S석</td>\n",
              "      <td>1</td>\n",
              "      <td>Y</td>\n",
              "      <td>1992</td>\n",
              "      <td>회사원(사무직/연구직)</td>\n",
              "      <td>김보섭</td>\n",
              "      <td>N</td>\n",
              "      <td>토</td>\n",
              "      <td>스플릿일반</td>\n",
              "      <td>6339</td>\n",
              "      <td>rain</td>\n",
              "      <td>4</td>\n",
              "    </tr>\n",
              "  </tbody>\n",
              "</table>\n",
              "</div>\n",
              "      <button class=\"colab-df-convert\" onclick=\"convertToInteractive('df-9225568c-ced2-4546-b8ae-3d8f33a54992')\"\n",
              "              title=\"Convert this dataframe to an interactive table.\"\n",
              "              style=\"display:none;\">\n",
              "        \n",
              "  <svg xmlns=\"http://www.w3.org/2000/svg\" height=\"24px\"viewBox=\"0 0 24 24\"\n",
              "       width=\"24px\">\n",
              "    <path d=\"M0 0h24v24H0V0z\" fill=\"none\"/>\n",
              "    <path d=\"M18.56 5.44l.94 2.06.94-2.06 2.06-.94-2.06-.94-.94-2.06-.94 2.06-2.06.94zm-11 1L8.5 8.5l.94-2.06 2.06-.94-2.06-.94L8.5 2.5l-.94 2.06-2.06.94zm10 10l.94 2.06.94-2.06 2.06-.94-2.06-.94-.94-2.06-.94 2.06-2.06.94z\"/><path d=\"M17.41 7.96l-1.37-1.37c-.4-.4-.92-.59-1.43-.59-.52 0-1.04.2-1.43.59L10.3 9.45l-7.72 7.72c-.78.78-.78 2.05 0 2.83L4 21.41c.39.39.9.59 1.41.59.51 0 1.02-.2 1.41-.59l7.78-7.78 2.81-2.81c.8-.78.8-2.07 0-2.86zM5.41 20L4 18.59l7.72-7.72 1.47 1.35L5.41 20z\"/>\n",
              "  </svg>\n",
              "      </button>\n",
              "      \n",
              "  <style>\n",
              "    .colab-df-container {\n",
              "      display:flex;\n",
              "      flex-wrap:wrap;\n",
              "      gap: 12px;\n",
              "    }\n",
              "\n",
              "    .colab-df-convert {\n",
              "      background-color: #E8F0FE;\n",
              "      border: none;\n",
              "      border-radius: 50%;\n",
              "      cursor: pointer;\n",
              "      display: none;\n",
              "      fill: #1967D2;\n",
              "      height: 32px;\n",
              "      padding: 0 0 0 0;\n",
              "      width: 32px;\n",
              "    }\n",
              "\n",
              "    .colab-df-convert:hover {\n",
              "      background-color: #E2EBFA;\n",
              "      box-shadow: 0px 1px 2px rgba(60, 64, 67, 0.3), 0px 1px 3px 1px rgba(60, 64, 67, 0.15);\n",
              "      fill: #174EA6;\n",
              "    }\n",
              "\n",
              "    [theme=dark] .colab-df-convert {\n",
              "      background-color: #3B4455;\n",
              "      fill: #D2E3FC;\n",
              "    }\n",
              "\n",
              "    [theme=dark] .colab-df-convert:hover {\n",
              "      background-color: #434B5C;\n",
              "      box-shadow: 0px 1px 3px 1px rgba(0, 0, 0, 0.15);\n",
              "      filter: drop-shadow(0px 1px 2px rgba(0, 0, 0, 0.3));\n",
              "      fill: #FFFFFF;\n",
              "    }\n",
              "  </style>\n",
              "\n",
              "      <script>\n",
              "        const buttonEl =\n",
              "          document.querySelector('#df-9225568c-ced2-4546-b8ae-3d8f33a54992 button.colab-df-convert');\n",
              "        buttonEl.style.display =\n",
              "          google.colab.kernel.accessAllowed ? 'block' : 'none';\n",
              "\n",
              "        async function convertToInteractive(key) {\n",
              "          const element = document.querySelector('#df-9225568c-ced2-4546-b8ae-3d8f33a54992');\n",
              "          const dataTable =\n",
              "            await google.colab.kernel.invokeFunction('convertToInteractive',\n",
              "                                                     [key], {});\n",
              "          if (!dataTable) return;\n",
              "\n",
              "          const docLinkHtml = 'Like what you see? Visit the ' +\n",
              "            '<a target=\"_blank\" href=https://colab.research.google.com/notebooks/data_table.ipynb>data table notebook</a>'\n",
              "            + ' to learn more about interactive tables.';\n",
              "          element.innerHTML = '';\n",
              "          dataTable['output_type'] = 'display_data';\n",
              "          await google.colab.output.renderOutput(dataTable, element);\n",
              "          const docLink = document.createElement('div');\n",
              "          docLink.innerHTML = docLinkHtml;\n",
              "          element.appendChild(docLink);\n",
              "        }\n",
              "      </script>\n",
              "    </div>\n",
              "  </div>\n",
              "  "
            ]
          },
          "metadata": {},
          "execution_count": 66
        }
      ]
    },
    {
      "cell_type": "code",
      "source": [
        "# print(\"중복된 데이터의 비율\", df_YN.duplicated(subset=['membership_no', 'Opp']).sum()/len(df_YN))\n",
        "# df_YN.drop_duplicates(subset=['membership_no', 'Opp'], keep='last', inplace=True)\n",
        "df_YN.shape"
      ],
      "metadata": {
        "colab": {
          "base_uri": "https://localhost:8080/"
        },
        "id": "XVqehFJIMPo_",
        "outputId": "8700337a-bf45-4513-95fa-83ed39e526ec"
      },
      "execution_count": null,
      "outputs": [
        {
          "output_type": "execute_result",
          "data": {
            "text/plain": [
              "(53133, 14)"
            ]
          },
          "metadata": {},
          "execution_count": 67
        }
      ]
    },
    {
      "cell_type": "code",
      "source": [],
      "metadata": {
        "id": "5cb1L0PiN6Wx"
      },
      "execution_count": null,
      "outputs": []
    },
    {
      "cell_type": "code",
      "source": [
        "y =  df_YN['cancel_yn']\n",
        "print(\"타겟데이터의 비율\\n\",y.value_counts(normalize=True))"
      ],
      "metadata": {
        "colab": {
          "base_uri": "https://localhost:8080/"
        },
        "id": "TiVQT0dyPJ0H",
        "outputId": "e9f14d9d-5da2-4a21-dcac-e21829d09262"
      },
      "execution_count": null,
      "outputs": [
        {
          "output_type": "stream",
          "name": "stdout",
          "text": [
            "타겟데이터의 비율\n",
            " N    0.899855\n",
            "Y    0.100145\n",
            "Name: cancel_yn, dtype: float64\n"
          ]
        }
      ]
    },
    {
      "cell_type": "code",
      "source": [
        "df_j = df_YN"
      ],
      "metadata": {
        "id": "mu5-PlWH8oWh"
      },
      "execution_count": null,
      "outputs": []
    },
    {
      "cell_type": "code",
      "source": [
        "df_YN = df_YN[['Opp','product_grade_name','reserve_detail_no','Sale','MB_AGE','job','favorite_idx', 'yoil', 'game_type_name',\t'audience',\t'weather', 'rank', 'cancel_yn']]\n",
        "df_YN.cancel_yn = df_YN.cancel_yn.replace('Y',1)\n",
        "df_YN.cancel_yn = df_YN.cancel_yn.replace('N',0)\n",
        "df_YN.head(2)"
      ],
      "metadata": {
        "colab": {
          "base_uri": "https://localhost:8080/",
          "height": 301
        },
        "id": "6LNkwqzlSK3W",
        "outputId": "d69cb0f6-acf2-4200-c9c7-0915059e6309"
      },
      "execution_count": null,
      "outputs": [
        {
          "output_type": "stream",
          "name": "stderr",
          "text": [
            "/usr/local/lib/python3.8/dist-packages/pandas/core/generic.py:5516: SettingWithCopyWarning: \n",
            "A value is trying to be set on a copy of a slice from a DataFrame.\n",
            "Try using .loc[row_indexer,col_indexer] = value instead\n",
            "\n",
            "See the caveats in the documentation: https://pandas.pydata.org/pandas-docs/stable/user_guide/indexing.html#returning-a-view-versus-a-copy\n",
            "  self[name] = value\n"
          ]
        },
        {
          "output_type": "execute_result",
          "data": {
            "text/plain": [
              "         Opp product_grade_name  reserve_detail_no Sale  MB_AGE           job  \\\n",
              "0  수원 삼성블루윙즈       1인 테이블석(SG2)                  1    Y    1992  회사원(사무직/연구직)   \n",
              "1  김천상무프로축구단                 S석                  1    Y    1992  회사원(사무직/연구직)   \n",
              "\n",
              "  favorite_idx yoil game_type_name  audience weather  rank  cancel_yn  \n",
              "0          김보섭    토          스플릿일반      5382    snow     2          1  \n",
              "1          김보섭    일          스플릿일반      2607    rain     3          0  "
            ],
            "text/html": [
              "\n",
              "  <div id=\"df-1f1e1ac7-9f98-4bff-b245-e0a73e5a4cfa\">\n",
              "    <div class=\"colab-df-container\">\n",
              "      <div>\n",
              "<style scoped>\n",
              "    .dataframe tbody tr th:only-of-type {\n",
              "        vertical-align: middle;\n",
              "    }\n",
              "\n",
              "    .dataframe tbody tr th {\n",
              "        vertical-align: top;\n",
              "    }\n",
              "\n",
              "    .dataframe thead th {\n",
              "        text-align: right;\n",
              "    }\n",
              "</style>\n",
              "<table border=\"1\" class=\"dataframe\">\n",
              "  <thead>\n",
              "    <tr style=\"text-align: right;\">\n",
              "      <th></th>\n",
              "      <th>Opp</th>\n",
              "      <th>product_grade_name</th>\n",
              "      <th>reserve_detail_no</th>\n",
              "      <th>Sale</th>\n",
              "      <th>MB_AGE</th>\n",
              "      <th>job</th>\n",
              "      <th>favorite_idx</th>\n",
              "      <th>yoil</th>\n",
              "      <th>game_type_name</th>\n",
              "      <th>audience</th>\n",
              "      <th>weather</th>\n",
              "      <th>rank</th>\n",
              "      <th>cancel_yn</th>\n",
              "    </tr>\n",
              "  </thead>\n",
              "  <tbody>\n",
              "    <tr>\n",
              "      <th>0</th>\n",
              "      <td>수원 삼성블루윙즈</td>\n",
              "      <td>1인 테이블석(SG2)</td>\n",
              "      <td>1</td>\n",
              "      <td>Y</td>\n",
              "      <td>1992</td>\n",
              "      <td>회사원(사무직/연구직)</td>\n",
              "      <td>김보섭</td>\n",
              "      <td>토</td>\n",
              "      <td>스플릿일반</td>\n",
              "      <td>5382</td>\n",
              "      <td>snow</td>\n",
              "      <td>2</td>\n",
              "      <td>1</td>\n",
              "    </tr>\n",
              "    <tr>\n",
              "      <th>1</th>\n",
              "      <td>김천상무프로축구단</td>\n",
              "      <td>S석</td>\n",
              "      <td>1</td>\n",
              "      <td>Y</td>\n",
              "      <td>1992</td>\n",
              "      <td>회사원(사무직/연구직)</td>\n",
              "      <td>김보섭</td>\n",
              "      <td>일</td>\n",
              "      <td>스플릿일반</td>\n",
              "      <td>2607</td>\n",
              "      <td>rain</td>\n",
              "      <td>3</td>\n",
              "      <td>0</td>\n",
              "    </tr>\n",
              "  </tbody>\n",
              "</table>\n",
              "</div>\n",
              "      <button class=\"colab-df-convert\" onclick=\"convertToInteractive('df-1f1e1ac7-9f98-4bff-b245-e0a73e5a4cfa')\"\n",
              "              title=\"Convert this dataframe to an interactive table.\"\n",
              "              style=\"display:none;\">\n",
              "        \n",
              "  <svg xmlns=\"http://www.w3.org/2000/svg\" height=\"24px\"viewBox=\"0 0 24 24\"\n",
              "       width=\"24px\">\n",
              "    <path d=\"M0 0h24v24H0V0z\" fill=\"none\"/>\n",
              "    <path d=\"M18.56 5.44l.94 2.06.94-2.06 2.06-.94-2.06-.94-.94-2.06-.94 2.06-2.06.94zm-11 1L8.5 8.5l.94-2.06 2.06-.94-2.06-.94L8.5 2.5l-.94 2.06-2.06.94zm10 10l.94 2.06.94-2.06 2.06-.94-2.06-.94-.94-2.06-.94 2.06-2.06.94z\"/><path d=\"M17.41 7.96l-1.37-1.37c-.4-.4-.92-.59-1.43-.59-.52 0-1.04.2-1.43.59L10.3 9.45l-7.72 7.72c-.78.78-.78 2.05 0 2.83L4 21.41c.39.39.9.59 1.41.59.51 0 1.02-.2 1.41-.59l7.78-7.78 2.81-2.81c.8-.78.8-2.07 0-2.86zM5.41 20L4 18.59l7.72-7.72 1.47 1.35L5.41 20z\"/>\n",
              "  </svg>\n",
              "      </button>\n",
              "      \n",
              "  <style>\n",
              "    .colab-df-container {\n",
              "      display:flex;\n",
              "      flex-wrap:wrap;\n",
              "      gap: 12px;\n",
              "    }\n",
              "\n",
              "    .colab-df-convert {\n",
              "      background-color: #E8F0FE;\n",
              "      border: none;\n",
              "      border-radius: 50%;\n",
              "      cursor: pointer;\n",
              "      display: none;\n",
              "      fill: #1967D2;\n",
              "      height: 32px;\n",
              "      padding: 0 0 0 0;\n",
              "      width: 32px;\n",
              "    }\n",
              "\n",
              "    .colab-df-convert:hover {\n",
              "      background-color: #E2EBFA;\n",
              "      box-shadow: 0px 1px 2px rgba(60, 64, 67, 0.3), 0px 1px 3px 1px rgba(60, 64, 67, 0.15);\n",
              "      fill: #174EA6;\n",
              "    }\n",
              "\n",
              "    [theme=dark] .colab-df-convert {\n",
              "      background-color: #3B4455;\n",
              "      fill: #D2E3FC;\n",
              "    }\n",
              "\n",
              "    [theme=dark] .colab-df-convert:hover {\n",
              "      background-color: #434B5C;\n",
              "      box-shadow: 0px 1px 3px 1px rgba(0, 0, 0, 0.15);\n",
              "      filter: drop-shadow(0px 1px 2px rgba(0, 0, 0, 0.3));\n",
              "      fill: #FFFFFF;\n",
              "    }\n",
              "  </style>\n",
              "\n",
              "      <script>\n",
              "        const buttonEl =\n",
              "          document.querySelector('#df-1f1e1ac7-9f98-4bff-b245-e0a73e5a4cfa button.colab-df-convert');\n",
              "        buttonEl.style.display =\n",
              "          google.colab.kernel.accessAllowed ? 'block' : 'none';\n",
              "\n",
              "        async function convertToInteractive(key) {\n",
              "          const element = document.querySelector('#df-1f1e1ac7-9f98-4bff-b245-e0a73e5a4cfa');\n",
              "          const dataTable =\n",
              "            await google.colab.kernel.invokeFunction('convertToInteractive',\n",
              "                                                     [key], {});\n",
              "          if (!dataTable) return;\n",
              "\n",
              "          const docLinkHtml = 'Like what you see? Visit the ' +\n",
              "            '<a target=\"_blank\" href=https://colab.research.google.com/notebooks/data_table.ipynb>data table notebook</a>'\n",
              "            + ' to learn more about interactive tables.';\n",
              "          element.innerHTML = '';\n",
              "          dataTable['output_type'] = 'display_data';\n",
              "          await google.colab.output.renderOutput(dataTable, element);\n",
              "          const docLink = document.createElement('div');\n",
              "          docLink.innerHTML = docLinkHtml;\n",
              "          element.appendChild(docLink);\n",
              "        }\n",
              "      </script>\n",
              "    </div>\n",
              "  </div>\n",
              "  "
            ]
          },
          "metadata": {},
          "execution_count": 70
        }
      ]
    },
    {
      "cell_type": "code",
      "source": [
        "data_x = df_YN.iloc[:, :-1]\n",
        "print(\"Shape of X:\", data_x.shape)\n",
        "data_y = df_YN[\"cancel_yn\"]\n",
        "print(\"Shape of Y:\", data_y.shape)"
      ],
      "metadata": {
        "colab": {
          "base_uri": "https://localhost:8080/"
        },
        "id": "gNHPvcv01GEi",
        "outputId": "1d9bee5a-81d9-40c8-a9ba-74c714fb340b"
      },
      "execution_count": null,
      "outputs": [
        {
          "output_type": "stream",
          "name": "stdout",
          "text": [
            "Shape of X: (53133, 12)\n",
            "Shape of Y: (53133,)\n"
          ]
        }
      ]
    },
    {
      "cell_type": "code",
      "source": [
        "X_train, X_test, y_train, y_test = train_test_split(data_x, data_y, test_size=0.2)"
      ],
      "metadata": {
        "id": "LmMKCMfi1Otg"
      },
      "execution_count": null,
      "outputs": []
    },
    {
      "cell_type": "markdown",
      "source": [
        "평가 지표 - 실제로 캔슬을 할 사람과 안할 사람을 구분하는 것이 중요하기에 Recall\n",
        "\n",
        "이진 분류이기에 ROC-AUC"
      ],
      "metadata": {
        "id": "voaODwsKQ8zk"
      }
    },
    {
      "cell_type": "markdown",
      "source": [
        "### DecisionTreeClassifier"
      ],
      "metadata": {
        "id": "KetBpw48u1rk"
      }
    },
    {
      "cell_type": "code",
      "source": [
        "pipe_DC = make_pipeline(OrdinalEncoder(),\n",
        "                        StandardScaler(),\n",
        "                        SimpleImputer(strategy='most_frequent'),  \n",
        "                        DecisionTreeClassifier(criterion='entropy', max_depth=10, random_state=42,\n",
        "                                               class_weight = 'balanced'))\n",
        "pipe_DC.fit(X_train, y_train)\n",
        "test_pred = pipe_DC.predict(X_test)\n",
        "\n",
        "print(classification_report(y_test,test_pred))\n",
        "print(\"AUC: \", roc_auc_score(y_test,test_pred))"
      ],
      "metadata": {
        "colab": {
          "base_uri": "https://localhost:8080/"
        },
        "id": "Obdvmg9uu7Rp",
        "outputId": "5f786e6c-04b7-4826-e810-fab0944b8689"
      },
      "execution_count": null,
      "outputs": [
        {
          "output_type": "stream",
          "name": "stdout",
          "text": [
            "              precision    recall  f1-score   support\n",
            "\n",
            "           0       0.98      0.63      0.77      9563\n",
            "           1       0.21      0.89      0.34      1064\n",
            "\n",
            "    accuracy                           0.65     10627\n",
            "   macro avg       0.60      0.76      0.55     10627\n",
            "weighted avg       0.90      0.65      0.72     10627\n",
            "\n",
            "AUC:  0.7602422282308301\n"
          ]
        }
      ]
    },
    {
      "cell_type": "code",
      "source": [
        "feature_importances = list(\n",
        "    zip(X_train.columns, pipe_DC.named_steps[\"decisiontreeclassifier\"].feature_importances_)\n",
        ")\n",
        "feature_importances = sorted(feature_importances, key=lambda x: x[1], reverse=True)\n",
        "\n",
        "plt.figure(figsize=(10, 10), dpi=120)\n",
        "plt.barh(*list(zip(*feature_importances[::-1])))"
      ],
      "metadata": {
        "colab": {
          "base_uri": "https://localhost:8080/",
          "height": 994
        },
        "id": "Gt3r9j0112Vn",
        "outputId": "6d89e867-e646-4030-fadb-1fe2c985f79e"
      },
      "execution_count": null,
      "outputs": [
        {
          "output_type": "execute_result",
          "data": {
            "text/plain": [
              "<BarContainer object of 12 artists>"
            ]
          },
          "metadata": {},
          "execution_count": 197
        },
        {
          "output_type": "display_data",
          "data": {
            "text/plain": [
              "<Figure size 1200x1200 with 1 Axes>"
            ],
            "image/png": "[encoded data removed]"
          },
          "metadata": {
            "needs_background": "light"
          }
        }
      ]
    },
    {
      "cell_type": "markdown",
      "source": [
        "precision(0.9) 실제 캔슬x, 캔슬x로 예측한 확률\n",
        "\n",
        "recall(0.05) 실제 캔슬o, 캔슬o 예측한 확률 "
      ],
      "metadata": {
        "id": "CrSajipY8S2I"
      }
    },
    {
      "cell_type": "code",
      "source": [
        "# params = {\n",
        "#     'decisiontreeclassifier__max_depth': [2,4,6], \n",
        "#     'decisiontreeclassifier__max_features': [6, 10],\n",
        "#     'decisiontreeclassifier__min_samples_leaf': [6, 8, 12],\n",
        "# }\n",
        "\n",
        "# grid_dc = GridSearchCV(pipe_DC, param_grid=params, scoring=\"roc_auc\", cv=2, verbose=3)\n",
        "# grid_dc.fit(X_train, y_train)\n",
        "# # grid_dc.get_params().keys()"
      ],
      "metadata": {
        "id": "MlgRtFiyweDS"
      },
      "execution_count": null,
      "outputs": []
    },
    {
      "cell_type": "code",
      "source": [
        "# test_pred = grid_dc.predict(X_test)\n",
        "\n",
        "# print(classification_report(y_test,test_pred))\n",
        "# print(\"AUC: \", roc_auc_score(y_test,test_pred))"
      ],
      "metadata": {
        "id": "Mb3aFpUZyryu"
      },
      "execution_count": null,
      "outputs": []
    },
    {
      "cell_type": "markdown",
      "source": [
        "### RandomForest"
      ],
      "metadata": {
        "id": "c-3gCqk4iVBl"
      }
    },
    {
      "cell_type": "code",
      "source": [
        "pipe_RF = make_pipeline(\n",
        "    OrdinalEncoder(),\n",
        "    StandardScaler(),\n",
        "    SimpleImputer(strategy=\"most_frequent\"),\n",
        "    RandomForestClassifier(\n",
        "        n_estimators=500,\n",
        "        random_state=42,\n",
        "        class_weight = 'balanced'\n",
        "    ),\n",
        ")"
      ],
      "metadata": {
        "id": "RhJGnS-7iYhI"
      },
      "execution_count": null,
      "outputs": []
    },
    {
      "cell_type": "code",
      "source": [
        "pipe_RF.fit(X_train, y_train)\n",
        "test_pred = pipe_RF.predict(X_test)\n",
        "\n",
        "print(classification_report(y_test,test_pred))\n",
        "print(\"AUC: \", roc_auc_score(y_test,test_pred))"
      ],
      "metadata": {
        "colab": {
          "base_uri": "https://localhost:8080/"
        },
        "id": "XNIAp613iabN",
        "outputId": "480f28b5-2770-4d8e-d7b5-9ee03d7e1ab9"
      },
      "execution_count": null,
      "outputs": [
        {
          "output_type": "stream",
          "name": "stdout",
          "text": [
            "              precision    recall  f1-score   support\n",
            "\n",
            "           0       0.93      0.96      0.94      9563\n",
            "           1       0.48      0.35      0.41      1064\n",
            "\n",
            "    accuracy                           0.90     10627\n",
            "   macro avg       0.71      0.66      0.68     10627\n",
            "weighted avg       0.89      0.90      0.89     10627\n",
            "\n",
            "AUC:  0.6554117962479135\n"
          ]
        }
      ]
    },
    {
      "cell_type": "markdown",
      "source": [
        "### XGBClassifier 모델"
      ],
      "metadata": {
        "id": "WuFsWWhxurKZ"
      }
    },
    {
      "cell_type": "code",
      "source": [
        "pipe = make_pipeline(\n",
        "    OrdinalEncoder(),\n",
        "    StandardScaler(),\n",
        "    SimpleImputer(strategy=\"most_frequent\"),\n",
        "    XGBClassifier(\n",
        "        objective=\"binary:logistic\",\n",
        "        eval_metric=\"error\",\n",
        "        n_estimators=200,\n",
        "        random_state=42,\n",
        "        n_jobs=-1,\n",
        "        learning_rate=0.1,\n",
        "        use_label_encoder=False,\n",
        "    ),\n",
        ")\n",
        "print(pipe)"
      ],
      "metadata": {
        "colab": {
          "base_uri": "https://localhost:8080/"
        },
        "id": "OjVkmWHiz2f1",
        "outputId": "2b5a9840-5b6e-4ab6-f546-b59892ae36f0"
      },
      "execution_count": null,
      "outputs": [
        {
          "output_type": "stream",
          "name": "stdout",
          "text": [
            "Pipeline(steps=[('ordinalencoder', OrdinalEncoder()),\n",
            "                ('standardscaler', StandardScaler()),\n",
            "                ('simpleimputer', SimpleImputer(strategy='most_frequent')),\n",
            "                ('xgbclassifier',\n",
            "                 XGBClassifier(eval_metric='error', n_estimators=200, n_jobs=-1,\n",
            "                               random_state=42, use_label_encoder=False))])\n"
          ]
        }
      ]
    },
    {
      "cell_type": "code",
      "source": [
        "params = {\n",
        "    \"xgbclassifier__max_depth\": [2, 4, 6],\n",
        "    \"xgbclassifier__min_child_weight\": [2, 4, 8],\n",
        "    \"xgbclassifier__colsample_bytree\": [0.6, 0.8, 1.0],\n",
        "}"
      ],
      "metadata": {
        "id": "OZM5Ga1u1vi4"
      },
      "execution_count": null,
      "outputs": []
    },
    {
      "cell_type": "code",
      "source": [
        "\n",
        "grid_search = GridSearchCV(pipe, param_grid=params, scoring=\"roc_auc\", cv=3, verbose=3)\n",
        "grid_search.fit(X_train, y_train)"
      ],
      "metadata": {
        "colab": {
          "base_uri": "https://localhost:8080/"
        },
        "id": "oocxo9l51zL4",
        "outputId": "5e9890a4-0bf0-41fc-a8f0-1a041427d8fa"
      },
      "execution_count": null,
      "outputs": [
        {
          "output_type": "stream",
          "name": "stdout",
          "text": [
            "Fitting 3 folds for each of 27 candidates, totalling 81 fits\n",
            "[CV 1/3] END xgbclassifier__colsample_bytree=0.6, xgbclassifier__max_depth=2, xgbclassifier__min_child_weight=2;, score=0.802 total time=   2.2s\n",
            "[CV 2/3] END xgbclassifier__colsample_bytree=0.6, xgbclassifier__max_depth=2, xgbclassifier__min_child_weight=2;, score=0.795 total time=   1.4s\n",
            "[CV 3/3] END xgbclassifier__colsample_bytree=0.6, xgbclassifier__max_depth=2, xgbclassifier__min_child_weight=2;, score=0.786 total time=   1.4s\n",
            "[CV 1/3] END xgbclassifier__colsample_bytree=0.6, xgbclassifier__max_depth=2, xgbclassifier__min_child_weight=4;, score=0.802 total time=   1.4s\n",
            "[CV 2/3] END xgbclassifier__colsample_bytree=0.6, xgbclassifier__max_depth=2, xgbclassifier__min_child_weight=4;, score=0.794 total time=   1.4s\n",
            "[CV 3/3] END xgbclassifier__colsample_bytree=0.6, xgbclassifier__max_depth=2, xgbclassifier__min_child_weight=4;, score=0.786 total time=   1.4s\n",
            "[CV 1/3] END xgbclassifier__colsample_bytree=0.6, xgbclassifier__max_depth=2, xgbclassifier__min_child_weight=8;, score=0.801 total time=   1.5s\n",
            "[CV 2/3] END xgbclassifier__colsample_bytree=0.6, xgbclassifier__max_depth=2, xgbclassifier__min_child_weight=8;, score=0.794 total time=   3.2s\n",
            "[CV 3/3] END xgbclassifier__colsample_bytree=0.6, xgbclassifier__max_depth=2, xgbclassifier__min_child_weight=8;, score=0.786 total time=   1.4s\n",
            "[CV 1/3] END xgbclassifier__colsample_bytree=0.6, xgbclassifier__max_depth=4, xgbclassifier__min_child_weight=2;, score=0.826 total time=   2.0s\n",
            "[CV 2/3] END xgbclassifier__colsample_bytree=0.6, xgbclassifier__max_depth=4, xgbclassifier__min_child_weight=2;, score=0.823 total time=   2.0s\n",
            "[CV 3/3] END xgbclassifier__colsample_bytree=0.6, xgbclassifier__max_depth=4, xgbclassifier__min_child_weight=2;, score=0.813 total time=   2.1s\n",
            "[CV 1/3] END xgbclassifier__colsample_bytree=0.6, xgbclassifier__max_depth=4, xgbclassifier__min_child_weight=4;, score=0.825 total time=   2.2s\n",
            "[CV 2/3] END xgbclassifier__colsample_bytree=0.6, xgbclassifier__max_depth=4, xgbclassifier__min_child_weight=4;, score=0.822 total time=   3.5s\n",
            "[CV 3/3] END xgbclassifier__colsample_bytree=0.6, xgbclassifier__max_depth=4, xgbclassifier__min_child_weight=4;, score=0.811 total time=   2.0s\n",
            "[CV 1/3] END xgbclassifier__colsample_bytree=0.6, xgbclassifier__max_depth=4, xgbclassifier__min_child_weight=8;, score=0.824 total time=   2.0s\n",
            "[CV 2/3] END xgbclassifier__colsample_bytree=0.6, xgbclassifier__max_depth=4, xgbclassifier__min_child_weight=8;, score=0.822 total time=   2.0s\n",
            "[CV 3/3] END xgbclassifier__colsample_bytree=0.6, xgbclassifier__max_depth=4, xgbclassifier__min_child_weight=8;, score=0.812 total time=   2.0s\n",
            "[CV 1/3] END xgbclassifier__colsample_bytree=0.6, xgbclassifier__max_depth=6, xgbclassifier__min_child_weight=2;, score=0.846 total time=   4.5s\n",
            "[CV 2/3] END xgbclassifier__colsample_bytree=0.6, xgbclassifier__max_depth=6, xgbclassifier__min_child_weight=2;, score=0.852 total time=   2.8s\n",
            "[CV 3/3] END xgbclassifier__colsample_bytree=0.6, xgbclassifier__max_depth=6, xgbclassifier__min_child_weight=2;, score=0.836 total time=   7.2s\n",
            "[CV 1/3] END xgbclassifier__colsample_bytree=0.6, xgbclassifier__max_depth=6, xgbclassifier__min_child_weight=4;, score=0.846 total time=   2.9s\n",
            "[CV 2/3] END xgbclassifier__colsample_bytree=0.6, xgbclassifier__max_depth=6, xgbclassifier__min_child_weight=4;, score=0.848 total time=   3.0s\n",
            "[CV 3/3] END xgbclassifier__colsample_bytree=0.6, xgbclassifier__max_depth=6, xgbclassifier__min_child_weight=4;, score=0.833 total time=   2.8s\n",
            "[CV 1/3] END xgbclassifier__colsample_bytree=0.6, xgbclassifier__max_depth=6, xgbclassifier__min_child_weight=8;, score=0.842 total time=   4.5s\n",
            "[CV 2/3] END xgbclassifier__colsample_bytree=0.6, xgbclassifier__max_depth=6, xgbclassifier__min_child_weight=8;, score=0.838 total time=   2.7s\n",
            "[CV 3/3] END xgbclassifier__colsample_bytree=0.6, xgbclassifier__max_depth=6, xgbclassifier__min_child_weight=8;, score=0.831 total time=   2.7s\n",
            "[CV 1/3] END xgbclassifier__colsample_bytree=0.8, xgbclassifier__max_depth=2, xgbclassifier__min_child_weight=2;, score=0.800 total time=   1.5s\n",
            "[CV 2/3] END xgbclassifier__colsample_bytree=0.8, xgbclassifier__max_depth=2, xgbclassifier__min_child_weight=2;, score=0.795 total time=   1.4s\n",
            "[CV 3/3] END xgbclassifier__colsample_bytree=0.8, xgbclassifier__max_depth=2, xgbclassifier__min_child_weight=2;, score=0.787 total time=   3.2s\n",
            "[CV 1/3] END xgbclassifier__colsample_bytree=0.8, xgbclassifier__max_depth=2, xgbclassifier__min_child_weight=4;, score=0.801 total time=   1.4s\n",
            "[CV 2/3] END xgbclassifier__colsample_bytree=0.8, xgbclassifier__max_depth=2, xgbclassifier__min_child_weight=4;, score=0.795 total time=   1.5s\n",
            "[CV 3/3] END xgbclassifier__colsample_bytree=0.8, xgbclassifier__max_depth=2, xgbclassifier__min_child_weight=4;, score=0.786 total time=   1.4s\n",
            "[CV 1/3] END xgbclassifier__colsample_bytree=0.8, xgbclassifier__max_depth=2, xgbclassifier__min_child_weight=8;, score=0.802 total time=   1.4s\n",
            "[CV 2/3] END xgbclassifier__colsample_bytree=0.8, xgbclassifier__max_depth=2, xgbclassifier__min_child_weight=8;, score=0.795 total time=   1.5s\n",
            "[CV 3/3] END xgbclassifier__colsample_bytree=0.8, xgbclassifier__max_depth=2, xgbclassifier__min_child_weight=8;, score=0.787 total time=   1.5s\n",
            "[CV 1/3] END xgbclassifier__colsample_bytree=0.8, xgbclassifier__max_depth=4, xgbclassifier__min_child_weight=2;, score=0.828 total time=   4.0s\n",
            "[CV 2/3] END xgbclassifier__colsample_bytree=0.8, xgbclassifier__max_depth=4, xgbclassifier__min_child_weight=2;, score=0.825 total time=   2.2s\n",
            "[CV 3/3] END xgbclassifier__colsample_bytree=0.8, xgbclassifier__max_depth=4, xgbclassifier__min_child_weight=2;, score=0.814 total time=   2.1s\n",
            "[CV 1/3] END xgbclassifier__colsample_bytree=0.8, xgbclassifier__max_depth=4, xgbclassifier__min_child_weight=4;, score=0.828 total time=   2.1s\n",
            "[CV 2/3] END xgbclassifier__colsample_bytree=0.8, xgbclassifier__max_depth=4, xgbclassifier__min_child_weight=4;, score=0.824 total time=   3.7s\n",
            "[CV 3/3] END xgbclassifier__colsample_bytree=0.8, xgbclassifier__max_depth=4, xgbclassifier__min_child_weight=4;, score=0.814 total time=   2.3s\n",
            "[CV 1/3] END xgbclassifier__colsample_bytree=0.8, xgbclassifier__max_depth=4, xgbclassifier__min_child_weight=8;, score=0.825 total time=   2.1s\n",
            "[CV 2/3] END xgbclassifier__colsample_bytree=0.8, xgbclassifier__max_depth=4, xgbclassifier__min_child_weight=8;, score=0.825 total time=   2.1s\n",
            "[CV 3/3] END xgbclassifier__colsample_bytree=0.8, xgbclassifier__max_depth=4, xgbclassifier__min_child_weight=8;, score=0.813 total time=   2.1s\n",
            "[CV 1/3] END xgbclassifier__colsample_bytree=0.8, xgbclassifier__max_depth=6, xgbclassifier__min_child_weight=2;, score=0.851 total time=   4.9s\n",
            "[CV 2/3] END xgbclassifier__colsample_bytree=0.8, xgbclassifier__max_depth=6, xgbclassifier__min_child_weight=2;, score=0.851 total time=   3.0s\n",
            "[CV 3/3] END xgbclassifier__colsample_bytree=0.8, xgbclassifier__max_depth=6, xgbclassifier__min_child_weight=2;, score=0.842 total time=   3.0s\n",
            "[CV 1/3] END xgbclassifier__colsample_bytree=0.8, xgbclassifier__max_depth=6, xgbclassifier__min_child_weight=4;, score=0.847 total time=   3.2s\n",
            "[CV 2/3] END xgbclassifier__colsample_bytree=0.8, xgbclassifier__max_depth=6, xgbclassifier__min_child_weight=4;, score=0.850 total time=   4.4s\n",
            "[CV 3/3] END xgbclassifier__colsample_bytree=0.8, xgbclassifier__max_depth=6, xgbclassifier__min_child_weight=4;, score=0.837 total time=   3.0s\n",
            "[CV 1/3] END xgbclassifier__colsample_bytree=0.8, xgbclassifier__max_depth=6, xgbclassifier__min_child_weight=8;, score=0.841 total time=   3.0s\n",
            "[CV 2/3] END xgbclassifier__colsample_bytree=0.8, xgbclassifier__max_depth=6, xgbclassifier__min_child_weight=8;, score=0.846 total time=   4.8s\n",
            "[CV 3/3] END xgbclassifier__colsample_bytree=0.8, xgbclassifier__max_depth=6, xgbclassifier__min_child_weight=8;, score=0.834 total time=   2.9s\n",
            "[CV 1/3] END xgbclassifier__colsample_bytree=1.0, xgbclassifier__max_depth=2, xgbclassifier__min_child_weight=2;, score=0.801 total time=   1.5s\n",
            "[CV 2/3] END xgbclassifier__colsample_bytree=1.0, xgbclassifier__max_depth=2, xgbclassifier__min_child_weight=2;, score=0.796 total time=   1.5s\n",
            "[CV 3/3] END xgbclassifier__colsample_bytree=1.0, xgbclassifier__max_depth=2, xgbclassifier__min_child_weight=2;, score=0.787 total time=   1.5s\n",
            "[CV 1/3] END xgbclassifier__colsample_bytree=1.0, xgbclassifier__max_depth=2, xgbclassifier__min_child_weight=4;, score=0.801 total time=   3.4s\n",
            "[CV 2/3] END xgbclassifier__colsample_bytree=1.0, xgbclassifier__max_depth=2, xgbclassifier__min_child_weight=4;, score=0.795 total time=   1.5s\n",
            "[CV 3/3] END xgbclassifier__colsample_bytree=1.0, xgbclassifier__max_depth=2, xgbclassifier__min_child_weight=4;, score=0.787 total time=   1.5s\n",
            "[CV 1/3] END xgbclassifier__colsample_bytree=1.0, xgbclassifier__max_depth=2, xgbclassifier__min_child_weight=8;, score=0.801 total time=   1.5s\n",
            "[CV 2/3] END xgbclassifier__colsample_bytree=1.0, xgbclassifier__max_depth=2, xgbclassifier__min_child_weight=8;, score=0.795 total time=   1.5s\n",
            "[CV 3/3] END xgbclassifier__colsample_bytree=1.0, xgbclassifier__max_depth=2, xgbclassifier__min_child_weight=8;, score=0.786 total time=   1.5s\n",
            "[CV 1/3] END xgbclassifier__colsample_bytree=1.0, xgbclassifier__max_depth=4, xgbclassifier__min_child_weight=2;, score=0.829 total time=   2.4s\n",
            "[CV 2/3] END xgbclassifier__colsample_bytree=1.0, xgbclassifier__max_depth=4, xgbclassifier__min_child_weight=2;, score=0.826 total time=   3.8s\n",
            "[CV 3/3] END xgbclassifier__colsample_bytree=1.0, xgbclassifier__max_depth=4, xgbclassifier__min_child_weight=2;, score=0.816 total time=   2.3s\n",
            "[CV 1/3] END xgbclassifier__colsample_bytree=1.0, xgbclassifier__max_depth=4, xgbclassifier__min_child_weight=4;, score=0.828 total time=   2.3s\n",
            "[CV 2/3] END xgbclassifier__colsample_bytree=1.0, xgbclassifier__max_depth=4, xgbclassifier__min_child_weight=4;, score=0.826 total time=   2.3s\n",
            "[CV 3/3] END xgbclassifier__colsample_bytree=1.0, xgbclassifier__max_depth=4, xgbclassifier__min_child_weight=4;, score=0.815 total time=   4.1s\n",
            "[CV 1/3] END xgbclassifier__colsample_bytree=1.0, xgbclassifier__max_depth=4, xgbclassifier__min_child_weight=8;, score=0.829 total time=   2.3s\n",
            "[CV 2/3] END xgbclassifier__colsample_bytree=1.0, xgbclassifier__max_depth=4, xgbclassifier__min_child_weight=8;, score=0.825 total time=   2.3s\n",
            "[CV 3/3] END xgbclassifier__colsample_bytree=1.0, xgbclassifier__max_depth=4, xgbclassifier__min_child_weight=8;, score=0.815 total time=   2.4s\n",
            "[CV 1/3] END xgbclassifier__colsample_bytree=1.0, xgbclassifier__max_depth=6, xgbclassifier__min_child_weight=2;, score=0.853 total time=   5.2s\n",
            "[CV 2/3] END xgbclassifier__colsample_bytree=1.0, xgbclassifier__max_depth=6, xgbclassifier__min_child_weight=2;, score=0.856 total time=   3.4s\n",
            "[CV 3/3] END xgbclassifier__colsample_bytree=1.0, xgbclassifier__max_depth=6, xgbclassifier__min_child_weight=2;, score=0.843 total time=   3.3s\n",
            "[CV 1/3] END xgbclassifier__colsample_bytree=1.0, xgbclassifier__max_depth=6, xgbclassifier__min_child_weight=4;, score=0.850 total time=   5.1s\n",
            "[CV 2/3] END xgbclassifier__colsample_bytree=1.0, xgbclassifier__max_depth=6, xgbclassifier__min_child_weight=4;, score=0.853 total time=   3.3s\n",
            "[CV 3/3] END xgbclassifier__colsample_bytree=1.0, xgbclassifier__max_depth=6, xgbclassifier__min_child_weight=4;, score=0.838 total time=   3.3s\n",
            "[CV 1/3] END xgbclassifier__colsample_bytree=1.0, xgbclassifier__max_depth=6, xgbclassifier__min_child_weight=8;, score=0.845 total time=   5.1s\n",
            "[CV 2/3] END xgbclassifier__colsample_bytree=1.0, xgbclassifier__max_depth=6, xgbclassifier__min_child_weight=8;, score=0.848 total time=   3.3s\n",
            "[CV 3/3] END xgbclassifier__colsample_bytree=1.0, xgbclassifier__max_depth=6, xgbclassifier__min_child_weight=8;, score=0.834 total time=   3.2s\n"
          ]
        },
        {
          "output_type": "execute_result",
          "data": {
            "text/plain": [
              "GridSearchCV(cv=3,\n",
              "             estimator=Pipeline(steps=[('ordinalencoder', OrdinalEncoder()),\n",
              "                                       ('standardscaler', StandardScaler()),\n",
              "                                       ('simpleimputer',\n",
              "                                        SimpleImputer(strategy='most_frequent')),\n",
              "                                       ('xgbclassifier',\n",
              "                                        XGBClassifier(eval_metric='error',\n",
              "                                                      n_estimators=200,\n",
              "                                                      n_jobs=-1,\n",
              "                                                      random_state=42,\n",
              "                                                      use_label_encoder=False))]),\n",
              "             param_grid={'xgbclassifier__colsample_bytree': [0.6, 0.8, 1.0],\n",
              "                         'xgbclassifier__max_depth': [2, 4, 6],\n",
              "                         'xgbclassifier__min_child_weight': [2, 4, 8]},\n",
              "             scoring='roc_auc', verbose=3)"
            ]
          },
          "metadata": {},
          "execution_count": 78
        }
      ]
    },
    {
      "cell_type": "code",
      "source": [
        "print(\"최적 하이퍼파라미터: \", grid_search.best_params_)\n",
        "print(\"최적 AUC: \", grid_search.best_score_)\n",
        "estimator = grid_search.best_estimator_"
      ],
      "metadata": {
        "colab": {
          "base_uri": "https://localhost:8080/"
        },
        "id": "1zmc2b6e15S9",
        "outputId": "02d9ea06-ddd2-4314-cb0e-1d721e7c411b"
      },
      "execution_count": null,
      "outputs": [
        {
          "output_type": "stream",
          "name": "stdout",
          "text": [
            "최적 하이퍼파라미터:  {'xgbclassifier__colsample_bytree': 1.0, 'xgbclassifier__max_depth': 6, 'xgbclassifier__min_child_weight': 2}\n",
            "최적 AUC:  0.8508138588392624\n"
          ]
        }
      ]
    },
    {
      "cell_type": "code",
      "source": [
        "pipe.fit(X_train,y_train)"
      ],
      "metadata": {
        "colab": {
          "base_uri": "https://localhost:8080/"
        },
        "id": "IfEkDJSj_kQu",
        "outputId": "40b31de8-d5d5-4448-8df5-ec05c5a6b37c"
      },
      "execution_count": null,
      "outputs": [
        {
          "output_type": "execute_result",
          "data": {
            "text/plain": [
              "Pipeline(steps=[('ordinalencoder',\n",
              "                 OrdinalEncoder(cols=['Opp', 'product_grade_name', 'Sale',\n",
              "                                      'job', 'favorite_idx', 'yoil',\n",
              "                                      'game_type_name', 'weather'],\n",
              "                                mapping=[{'col': 'Opp', 'data_type': dtype('O'),\n",
              "                                          'mapping': 제주 유나이티드      1\n",
              "울산 현대축구단      2\n",
              "수원 삼성블루윙즈     3\n",
              "강원FC          4\n",
              "전북 현대모터스      5\n",
              "FC서울          6\n",
              "수원FC          7\n",
              "포항 스틸러스       8\n",
              "대구FC          9\n",
              "성남FC         10\n",
              "김천상무프로축구단    11\n",
              "NaN          -2\n",
              "dtype: int64},\n",
              "                                         {'col': 'product_grade_name',\n",
              "                                          'data_type': dtype('O'),\n",
              "                                          'map...\n",
              "                                          'mapping': 스플릿일반    1\n",
              "파이널A     2\n",
              "NaN     -2\n",
              "dtype: int64},\n",
              "                                         {'col': 'weather',\n",
              "                                          'data_type': dtype('O'),\n",
              "                                          'mapping': clean          1\n",
              "fog            2\n",
              "snow           3\n",
              "rain           4\n",
              "yellow dust    5\n",
              "NaN           -2\n",
              "dtype: int64}])),\n",
              "                ('standardscaler', StandardScaler()),\n",
              "                ('simpleimputer', SimpleImputer(strategy='most_frequent')),\n",
              "                ('xgbclassifier',\n",
              "                 XGBClassifier(eval_metric='error', n_estimators=200, n_jobs=-1,\n",
              "                               random_state=42, use_label_encoder=False))])"
            ]
          },
          "metadata": {},
          "execution_count": 80
        }
      ]
    },
    {
      "cell_type": "code",
      "source": [
        "feature_importances = list(\n",
        "    zip(X_train.columns, pipe.named_steps[\"xgbclassifier\"].feature_importances_)\n",
        ")\n",
        "feature_importances = sorted(feature_importances, key=lambda x: x[1], reverse=True)\n",
        "\n",
        "plt.figure(figsize=(10, 10), dpi=120)\n",
        "plt.barh(*list(zip(*feature_importances[::-1])))"
      ],
      "metadata": {
        "colab": {
          "base_uri": "https://localhost:8080/",
          "height": 994
        },
        "id": "eyYU_rTX2-9i",
        "outputId": "4ad95f56-3a1e-4575-a416-429cdcacc7d4"
      },
      "execution_count": null,
      "outputs": [
        {
          "output_type": "execute_result",
          "data": {
            "text/plain": [
              "<BarContainer object of 12 artists>"
            ]
          },
          "metadata": {},
          "execution_count": 81
        },
        {
          "output_type": "display_data",
          "data": {
            "text/plain": [
              "<Figure size 1200x1200 with 1 Axes>"
            ],
            "image/png": "[encoded data removed]"
          },
          "metadata": {
            "needs_background": "light"
          }
        }
      ]
    },
    {
      "cell_type": "code",
      "source": [
        "def calculate_score(pipe, X_test, y_test):\n",
        "    test_accuracy = pipe.score(X_test, y_test)\n",
        "    test_f1 = f1_score(y_test, pipe.predict(X_test))\n",
        "    return test_accuracy, test_f1"
      ],
      "metadata": {
        "id": "9sBiOCnU4hGG"
      },
      "execution_count": null,
      "outputs": []
    },
    {
      "cell_type": "code",
      "source": [
        "\n",
        "test_pred = grid_search.predict(X_test)\n",
        "\n",
        "print(classification_report(y_test,test_pred))\n",
        "print(\"AUC: \", roc_auc_score(y_test,test_pred))"
      ],
      "metadata": {
        "colab": {
          "base_uri": "https://localhost:8080/"
        },
        "id": "_tac8lm_aOUj",
        "outputId": "215bcb20-8fc9-4436-ac25-1e7f43f8b6d4"
      },
      "execution_count": null,
      "outputs": [
        {
          "output_type": "stream",
          "name": "stdout",
          "text": [
            "              precision    recall  f1-score   support\n",
            "\n",
            "           0       0.91      1.00      0.95      9563\n",
            "           1       0.79      0.10      0.18      1064\n",
            "\n",
            "    accuracy                           0.91     10627\n",
            "   macro avg       0.85      0.55      0.57     10627\n",
            "weighted avg       0.90      0.91      0.87     10627\n",
            "\n",
            "AUC:  0.5506453935476567\n"
          ]
        }
      ]
    },
    {
      "cell_type": "code",
      "source": [
        "# test_accuracy, test_f1 = calculate_score(pipe.best_estimator_, X_test, y_test)"
      ],
      "metadata": {
        "id": "BU7pGK8243ru"
      },
      "execution_count": null,
      "outputs": []
    },
    {
      "cell_type": "code",
      "source": [
        "# categorical_columns = ['Opp', 'product_grade_name', 'Sale', 'job', 'favorite_idx', 'yoil', 'game_type_name', 'weather']\n",
        "\n",
        "# X_train_oh = pd.get_dummies(X_train, columns = categorical_columns) \n",
        "# X_test_oh = pd.get_dummies(X_test, columns = categorical_columns) "
      ],
      "metadata": {
        "id": "3iXqSkl8f1fP"
      },
      "execution_count": null,
      "outputs": []
    },
    {
      "cell_type": "markdown",
      "source": [
        "### + 2 모델 (GBM, KNN)"
      ],
      "metadata": {
        "id": "E42uIFAnlwaM"
      }
    },
    {
      "cell_type": "code",
      "source": [],
      "metadata": {
        "id": "XQ932Xu_l4a-"
      },
      "execution_count": null,
      "outputs": []
    },
    {
      "cell_type": "code",
      "source": [
        "# pipe_svm = make_pipeline(\n",
        "#     OrdinalEncoder(),\n",
        "#     StandardScaler(),\n",
        "#     SimpleImputer(strategy=\"most_frequent\"),\n",
        "#     SVC(random_state=42 , probability = True)\n",
        "# )"
      ],
      "metadata": {
        "id": "ZQ_w5-BzpAzz"
      },
      "execution_count": null,
      "outputs": []
    },
    {
      "cell_type": "code",
      "source": [
        "# pipe_svm.fit(X_train, y_train)\n",
        "# test_pred = pipe_svm.predict(X_test)\n",
        "\n",
        "# print(classification_report(y_test,test_pred))\n",
        "# print(\"AUC: \", roc_auc_score(y_test,test_pred))"
      ],
      "metadata": {
        "id": "FGmvW6NopwfQ"
      },
      "execution_count": null,
      "outputs": []
    },
    {
      "cell_type": "code",
      "source": [
        "pipe_gbm = make_pipeline(\n",
        "    OrdinalEncoder(),\n",
        "    StandardScaler(),\n",
        "    SimpleImputer(strategy=\"most_frequent\"),\n",
        "    GBM(n_estimators  = 1000 , random_state = 42)\n",
        ")"
      ],
      "metadata": {
        "id": "IyVX88lQpMmL"
      },
      "execution_count": null,
      "outputs": []
    },
    {
      "cell_type": "code",
      "source": [
        "pipe_gbm.fit(X_train, y_train)\n",
        "test_pred = pipe_gbm.predict(X_test)\n",
        "\n",
        "print(classification_report(y_test,test_pred))\n",
        "print(\"AUC: \", roc_auc_score(y_test,test_pred))"
      ],
      "metadata": {
        "colab": {
          "base_uri": "https://localhost:8080/"
        },
        "id": "vLzT89Wvp1WJ",
        "outputId": "81e8e894-ddaa-4007-8eb6-d25a664a0c8a"
      },
      "execution_count": null,
      "outputs": [
        {
          "output_type": "stream",
          "name": "stdout",
          "text": [
            "              precision    recall  f1-score   support\n",
            "\n",
            "           0       0.91      1.00      0.95      9563\n",
            "           1       0.69      0.08      0.14      1064\n",
            "\n",
            "    accuracy                           0.90     10627\n",
            "   macro avg       0.80      0.54      0.55     10627\n",
            "weighted avg       0.89      0.90      0.87     10627\n",
            "\n",
            "AUC:  0.537539144840036\n"
          ]
        }
      ]
    },
    {
      "cell_type": "code",
      "source": [
        "params = {\n",
        "    'gradientboostingclassifier__n_estimators': [100, 300, 500], \n",
        "    'gradientboostingclassifier__max_depth': [6, 10],\n",
        "    'gradientboostingclassifier__min_samples_leaf': [6, 8, 12],\n",
        "    'gradientboostingclassifier__min_samples_split': [8, 16],\n",
        "    'gradientboostingclassifier__learning_rate': [0.05, 0.1]\n",
        "}\n",
        "\n",
        "grid_cv = GridSearchCV(pipe_gbm, param_grid=params, scoring=\"roc_auc\", cv=2, verbose=3)\n",
        "grid_cv.fit(X_train, y_train)\n",
        "# grid_cv.get_params().keys()"
      ],
      "metadata": {
        "colab": {
          "base_uri": "https://localhost:8080/"
        },
        "id": "E6GR4bUgdGod",
        "outputId": "8f9480b6-99df-47cc-b436-dec84aa1444c"
      },
      "execution_count": null,
      "outputs": [
        {
          "output_type": "stream",
          "name": "stdout",
          "text": [
            "Fitting 2 folds for each of 72 candidates, totalling 144 fits\n",
            "[CV 1/2] END gradientboostingclassifier__learning_rate=0.05, gradientboostingclassifier__max_depth=6, gradientboostingclassifier__min_samples_leaf=6, gradientboostingclassifier__min_samples_split=8, gradientboostingclassifier__n_estimators=100;, score=0.832 total time=   4.4s\n",
            "[CV 2/2] END gradientboostingclassifier__learning_rate=0.05, gradientboostingclassifier__max_depth=6, gradientboostingclassifier__min_samples_leaf=6, gradientboostingclassifier__min_samples_split=8, gradientboostingclassifier__n_estimators=100;, score=0.819 total time=   3.8s\n",
            "[CV 1/2] END gradientboostingclassifier__learning_rate=0.05, gradientboostingclassifier__max_depth=6, gradientboostingclassifier__min_samples_leaf=6, gradientboostingclassifier__min_samples_split=8, gradientboostingclassifier__n_estimators=300;, score=0.852 total time=  11.2s\n",
            "[CV 2/2] END gradientboostingclassifier__learning_rate=0.05, gradientboostingclassifier__max_depth=6, gradientboostingclassifier__min_samples_leaf=6, gradientboostingclassifier__min_samples_split=8, gradientboostingclassifier__n_estimators=300;, score=0.842 total time=  11.2s\n",
            "[CV 1/2] END gradientboostingclassifier__learning_rate=0.05, gradientboostingclassifier__max_depth=6, gradientboostingclassifier__min_samples_leaf=6, gradientboostingclassifier__min_samples_split=8, gradientboostingclassifier__n_estimators=500;, score=0.859 total time=  18.3s\n",
            "[CV 2/2] END gradientboostingclassifier__learning_rate=0.05, gradientboostingclassifier__max_depth=6, gradientboostingclassifier__min_samples_leaf=6, gradientboostingclassifier__min_samples_split=8, gradientboostingclassifier__n_estimators=500;, score=0.849 total time=  18.6s\n",
            "[CV 1/2] END gradientboostingclassifier__learning_rate=0.05, gradientboostingclassifier__max_depth=6, gradientboostingclassifier__min_samples_leaf=6, gradientboostingclassifier__min_samples_split=16, gradientboostingclassifier__n_estimators=100;, score=0.832 total time=   3.7s\n",
            "[CV 2/2] END gradientboostingclassifier__learning_rate=0.05, gradientboostingclassifier__max_depth=6, gradientboostingclassifier__min_samples_leaf=6, gradientboostingclassifier__min_samples_split=16, gradientboostingclassifier__n_estimators=100;, score=0.816 total time=   4.3s\n",
            "[CV 1/2] END gradientboostingclassifier__learning_rate=0.05, gradientboostingclassifier__max_depth=6, gradientboostingclassifier__min_samples_leaf=6, gradientboostingclassifier__min_samples_split=16, gradientboostingclassifier__n_estimators=300;, score=0.852 total time=  12.4s\n",
            "[CV 2/2] END gradientboostingclassifier__learning_rate=0.05, gradientboostingclassifier__max_depth=6, gradientboostingclassifier__min_samples_leaf=6, gradientboostingclassifier__min_samples_split=16, gradientboostingclassifier__n_estimators=300;, score=0.839 total time=  11.2s\n",
            "[CV 1/2] END gradientboostingclassifier__learning_rate=0.05, gradientboostingclassifier__max_depth=6, gradientboostingclassifier__min_samples_leaf=6, gradientboostingclassifier__min_samples_split=16, gradientboostingclassifier__n_estimators=500;, score=0.858 total time=  18.7s\n",
            "[CV 2/2] END gradientboostingclassifier__learning_rate=0.05, gradientboostingclassifier__max_depth=6, gradientboostingclassifier__min_samples_leaf=6, gradientboostingclassifier__min_samples_split=16, gradientboostingclassifier__n_estimators=500;, score=0.848 total time=  18.1s\n",
            "[CV 1/2] END gradientboostingclassifier__learning_rate=0.05, gradientboostingclassifier__max_depth=6, gradientboostingclassifier__min_samples_leaf=8, gradientboostingclassifier__min_samples_split=8, gradientboostingclassifier__n_estimators=100;, score=0.832 total time=   3.7s\n",
            "[CV 2/2] END gradientboostingclassifier__learning_rate=0.05, gradientboostingclassifier__max_depth=6, gradientboostingclassifier__min_samples_leaf=8, gradientboostingclassifier__min_samples_split=8, gradientboostingclassifier__n_estimators=100;, score=0.816 total time=   4.1s\n",
            "[CV 1/2] END gradientboostingclassifier__learning_rate=0.05, gradientboostingclassifier__max_depth=6, gradientboostingclassifier__min_samples_leaf=8, gradientboostingclassifier__min_samples_split=8, gradientboostingclassifier__n_estimators=300;, score=0.853 total time=  10.9s\n",
            "[CV 2/2] END gradientboostingclassifier__learning_rate=0.05, gradientboostingclassifier__max_depth=6, gradientboostingclassifier__min_samples_leaf=8, gradientboostingclassifier__min_samples_split=8, gradientboostingclassifier__n_estimators=300;, score=0.839 total time=  10.9s\n",
            "[CV 1/2] END gradientboostingclassifier__learning_rate=0.05, gradientboostingclassifier__max_depth=6, gradientboostingclassifier__min_samples_leaf=8, gradientboostingclassifier__min_samples_split=8, gradientboostingclassifier__n_estimators=500;, score=0.858 total time=  18.5s\n",
            "[CV 2/2] END gradientboostingclassifier__learning_rate=0.05, gradientboostingclassifier__max_depth=6, gradientboostingclassifier__min_samples_leaf=8, gradientboostingclassifier__min_samples_split=8, gradientboostingclassifier__n_estimators=500;, score=0.847 total time=  18.2s\n",
            "[CV 1/2] END gradientboostingclassifier__learning_rate=0.05, gradientboostingclassifier__max_depth=6, gradientboostingclassifier__min_samples_leaf=8, gradientboostingclassifier__min_samples_split=16, gradientboostingclassifier__n_estimators=100;, score=0.832 total time=   4.1s\n",
            "[CV 2/2] END gradientboostingclassifier__learning_rate=0.05, gradientboostingclassifier__max_depth=6, gradientboostingclassifier__min_samples_leaf=8, gradientboostingclassifier__min_samples_split=16, gradientboostingclassifier__n_estimators=100;, score=0.816 total time=   3.7s\n",
            "[CV 1/2] END gradientboostingclassifier__learning_rate=0.05, gradientboostingclassifier__max_depth=6, gradientboostingclassifier__min_samples_leaf=8, gradientboostingclassifier__min_samples_split=16, gradientboostingclassifier__n_estimators=300;, score=0.853 total time=  11.1s\n",
            "[CV 2/2] END gradientboostingclassifier__learning_rate=0.05, gradientboostingclassifier__max_depth=6, gradientboostingclassifier__min_samples_leaf=8, gradientboostingclassifier__min_samples_split=16, gradientboostingclassifier__n_estimators=300;, score=0.839 total time=  11.2s\n",
            "[CV 1/2] END gradientboostingclassifier__learning_rate=0.05, gradientboostingclassifier__max_depth=6, gradientboostingclassifier__min_samples_leaf=8, gradientboostingclassifier__min_samples_split=16, gradientboostingclassifier__n_estimators=500;, score=0.858 total time=  18.0s\n",
            "[CV 2/2] END gradientboostingclassifier__learning_rate=0.05, gradientboostingclassifier__max_depth=6, gradientboostingclassifier__min_samples_leaf=8, gradientboostingclassifier__min_samples_split=16, gradientboostingclassifier__n_estimators=500;, score=0.847 total time=  18.3s\n",
            "[CV 1/2] END gradientboostingclassifier__learning_rate=0.05, gradientboostingclassifier__max_depth=6, gradientboostingclassifier__min_samples_leaf=12, gradientboostingclassifier__min_samples_split=8, gradientboostingclassifier__n_estimators=100;, score=0.830 total time=   3.9s\n",
            "[CV 2/2] END gradientboostingclassifier__learning_rate=0.05, gradientboostingclassifier__max_depth=6, gradientboostingclassifier__min_samples_leaf=12, gradientboostingclassifier__min_samples_split=8, gradientboostingclassifier__n_estimators=100;, score=0.818 total time=   3.6s\n",
            "[CV 1/2] END gradientboostingclassifier__learning_rate=0.05, gradientboostingclassifier__max_depth=6, gradientboostingclassifier__min_samples_leaf=12, gradientboostingclassifier__min_samples_split=8, gradientboostingclassifier__n_estimators=300;, score=0.851 total time=  11.1s\n",
            "[CV 2/2] END gradientboostingclassifier__learning_rate=0.05, gradientboostingclassifier__max_depth=6, gradientboostingclassifier__min_samples_leaf=12, gradientboostingclassifier__min_samples_split=8, gradientboostingclassifier__n_estimators=300;, score=0.839 total time=  11.1s\n",
            "[CV 1/2] END gradientboostingclassifier__learning_rate=0.05, gradientboostingclassifier__max_depth=6, gradientboostingclassifier__min_samples_leaf=12, gradientboostingclassifier__min_samples_split=8, gradientboostingclassifier__n_estimators=500;, score=0.857 total time=  18.0s\n",
            "[CV 2/2] END gradientboostingclassifier__learning_rate=0.05, gradientboostingclassifier__max_depth=6, gradientboostingclassifier__min_samples_leaf=12, gradientboostingclassifier__min_samples_split=8, gradientboostingclassifier__n_estimators=500;, score=0.847 total time=  18.5s\n",
            "[CV 1/2] END gradientboostingclassifier__learning_rate=0.05, gradientboostingclassifier__max_depth=6, gradientboostingclassifier__min_samples_leaf=12, gradientboostingclassifier__min_samples_split=16, gradientboostingclassifier__n_estimators=100;, score=0.830 total time=   3.7s\n",
            "[CV 2/2] END gradientboostingclassifier__learning_rate=0.05, gradientboostingclassifier__max_depth=6, gradientboostingclassifier__min_samples_leaf=12, gradientboostingclassifier__min_samples_split=16, gradientboostingclassifier__n_estimators=100;, score=0.818 total time=   3.6s\n",
            "[CV 1/2] END gradientboostingclassifier__learning_rate=0.05, gradientboostingclassifier__max_depth=6, gradientboostingclassifier__min_samples_leaf=12, gradientboostingclassifier__min_samples_split=16, gradientboostingclassifier__n_estimators=300;, score=0.851 total time=  11.2s\n",
            "[CV 2/2] END gradientboostingclassifier__learning_rate=0.05, gradientboostingclassifier__max_depth=6, gradientboostingclassifier__min_samples_leaf=12, gradientboostingclassifier__min_samples_split=16, gradientboostingclassifier__n_estimators=300;, score=0.839 total time=  11.1s\n",
            "[CV 1/2] END gradientboostingclassifier__learning_rate=0.05, gradientboostingclassifier__max_depth=6, gradientboostingclassifier__min_samples_leaf=12, gradientboostingclassifier__min_samples_split=16, gradientboostingclassifier__n_estimators=500;, score=0.857 total time=  18.3s\n",
            "[CV 2/2] END gradientboostingclassifier__learning_rate=0.05, gradientboostingclassifier__max_depth=6, gradientboostingclassifier__min_samples_leaf=12, gradientboostingclassifier__min_samples_split=16, gradientboostingclassifier__n_estimators=500;, score=0.847 total time=  18.5s\n",
            "[CV 1/2] END gradientboostingclassifier__learning_rate=0.05, gradientboostingclassifier__max_depth=10, gradientboostingclassifier__min_samples_leaf=6, gradientboostingclassifier__min_samples_split=8, gradientboostingclassifier__n_estimators=100;, score=0.866 total time=   6.5s\n",
            "[CV 2/2] END gradientboostingclassifier__learning_rate=0.05, gradientboostingclassifier__max_depth=10, gradientboostingclassifier__min_samples_leaf=6, gradientboostingclassifier__min_samples_split=8, gradientboostingclassifier__n_estimators=100;, score=0.851 total time=   6.7s\n",
            "[CV 1/2] END gradientboostingclassifier__learning_rate=0.05, gradientboostingclassifier__max_depth=10, gradientboostingclassifier__min_samples_leaf=6, gradientboostingclassifier__min_samples_split=8, gradientboostingclassifier__n_estimators=300;, score=0.869 total time=  20.1s\n",
            "[CV 2/2] END gradientboostingclassifier__learning_rate=0.05, gradientboostingclassifier__max_depth=10, gradientboostingclassifier__min_samples_leaf=6, gradientboostingclassifier__min_samples_split=8, gradientboostingclassifier__n_estimators=300;, score=0.859 total time=  19.3s\n",
            "[CV 1/2] END gradientboostingclassifier__learning_rate=0.05, gradientboostingclassifier__max_depth=10, gradientboostingclassifier__min_samples_leaf=6, gradientboostingclassifier__min_samples_split=8, gradientboostingclassifier__n_estimators=500;, score=0.867 total time=  33.1s\n",
            "[CV 2/2] END gradientboostingclassifier__learning_rate=0.05, gradientboostingclassifier__max_depth=10, gradientboostingclassifier__min_samples_leaf=6, gradientboostingclassifier__min_samples_split=8, gradientboostingclassifier__n_estimators=500;, score=0.855 total time=  32.6s\n",
            "[CV 1/2] END gradientboostingclassifier__learning_rate=0.05, gradientboostingclassifier__max_depth=10, gradientboostingclassifier__min_samples_leaf=6, gradientboostingclassifier__min_samples_split=16, gradientboostingclassifier__n_estimators=100;, score=0.865 total time=   6.8s\n",
            "[CV 2/2] END gradientboostingclassifier__learning_rate=0.05, gradientboostingclassifier__max_depth=10, gradientboostingclassifier__min_samples_leaf=6, gradientboostingclassifier__min_samples_split=16, gradientboostingclassifier__n_estimators=100;, score=0.852 total time=   6.2s\n",
            "[CV 1/2] END gradientboostingclassifier__learning_rate=0.05, gradientboostingclassifier__max_depth=10, gradientboostingclassifier__min_samples_leaf=6, gradientboostingclassifier__min_samples_split=16, gradientboostingclassifier__n_estimators=300;, score=0.870 total time=  19.5s\n",
            "[CV 2/2] END gradientboostingclassifier__learning_rate=0.05, gradientboostingclassifier__max_depth=10, gradientboostingclassifier__min_samples_leaf=6, gradientboostingclassifier__min_samples_split=16, gradientboostingclassifier__n_estimators=300;, score=0.860 total time=  18.8s\n",
            "[CV 1/2] END gradientboostingclassifier__learning_rate=0.05, gradientboostingclassifier__max_depth=10, gradientboostingclassifier__min_samples_leaf=6, gradientboostingclassifier__min_samples_split=16, gradientboostingclassifier__n_estimators=500;, score=0.868 total time=  32.5s\n",
            "[CV 2/2] END gradientboostingclassifier__learning_rate=0.05, gradientboostingclassifier__max_depth=10, gradientboostingclassifier__min_samples_leaf=6, gradientboostingclassifier__min_samples_split=16, gradientboostingclassifier__n_estimators=500;, score=0.858 total time=  31.7s\n",
            "[CV 1/2] END gradientboostingclassifier__learning_rate=0.05, gradientboostingclassifier__max_depth=10, gradientboostingclassifier__min_samples_leaf=8, gradientboostingclassifier__min_samples_split=8, gradientboostingclassifier__n_estimators=100;, score=0.865 total time=   6.5s\n",
            "[CV 2/2] END gradientboostingclassifier__learning_rate=0.05, gradientboostingclassifier__max_depth=10, gradientboostingclassifier__min_samples_leaf=8, gradientboostingclassifier__min_samples_split=8, gradientboostingclassifier__n_estimators=100;, score=0.850 total time=   6.3s\n",
            "[CV 1/2] END gradientboostingclassifier__learning_rate=0.05, gradientboostingclassifier__max_depth=10, gradientboostingclassifier__min_samples_leaf=8, gradientboostingclassifier__min_samples_split=8, gradientboostingclassifier__n_estimators=300;, score=0.870 total time=  19.1s\n",
            "[CV 2/2] END gradientboostingclassifier__learning_rate=0.05, gradientboostingclassifier__max_depth=10, gradientboostingclassifier__min_samples_leaf=8, gradientboostingclassifier__min_samples_split=8, gradientboostingclassifier__n_estimators=300;, score=0.860 total time=  18.9s\n",
            "[CV 1/2] END gradientboostingclassifier__learning_rate=0.05, gradientboostingclassifier__max_depth=10, gradientboostingclassifier__min_samples_leaf=8, gradientboostingclassifier__min_samples_split=8, gradientboostingclassifier__n_estimators=500;, score=0.866 total time=  32.2s\n",
            "[CV 2/2] END gradientboostingclassifier__learning_rate=0.05, gradientboostingclassifier__max_depth=10, gradientboostingclassifier__min_samples_leaf=8, gradientboostingclassifier__min_samples_split=8, gradientboostingclassifier__n_estimators=500;, score=0.858 total time=  31.9s\n",
            "[CV 1/2] END gradientboostingclassifier__learning_rate=0.05, gradientboostingclassifier__max_depth=10, gradientboostingclassifier__min_samples_leaf=8, gradientboostingclassifier__min_samples_split=16, gradientboostingclassifier__n_estimators=100;, score=0.865 total time=   6.3s\n",
            "[CV 2/2] END gradientboostingclassifier__learning_rate=0.05, gradientboostingclassifier__max_depth=10, gradientboostingclassifier__min_samples_leaf=8, gradientboostingclassifier__min_samples_split=16, gradientboostingclassifier__n_estimators=100;, score=0.850 total time=   6.3s\n",
            "[CV 1/2] END gradientboostingclassifier__learning_rate=0.05, gradientboostingclassifier__max_depth=10, gradientboostingclassifier__min_samples_leaf=8, gradientboostingclassifier__min_samples_split=16, gradientboostingclassifier__n_estimators=300;, score=0.870 total time=  18.9s\n",
            "[CV 2/2] END gradientboostingclassifier__learning_rate=0.05, gradientboostingclassifier__max_depth=10, gradientboostingclassifier__min_samples_leaf=8, gradientboostingclassifier__min_samples_split=16, gradientboostingclassifier__n_estimators=300;, score=0.860 total time=  18.8s\n",
            "[CV 1/2] END gradientboostingclassifier__learning_rate=0.05, gradientboostingclassifier__max_depth=10, gradientboostingclassifier__min_samples_leaf=8, gradientboostingclassifier__min_samples_split=16, gradientboostingclassifier__n_estimators=500;, score=0.866 total time=  32.0s\n",
            "[CV 2/2] END gradientboostingclassifier__learning_rate=0.05, gradientboostingclassifier__max_depth=10, gradientboostingclassifier__min_samples_leaf=8, gradientboostingclassifier__min_samples_split=16, gradientboostingclassifier__n_estimators=500;, score=0.858 total time=  31.8s\n",
            "[CV 1/2] END gradientboostingclassifier__learning_rate=0.05, gradientboostingclassifier__max_depth=10, gradientboostingclassifier__min_samples_leaf=12, gradientboostingclassifier__min_samples_split=8, gradientboostingclassifier__n_estimators=100;, score=0.861 total time=   6.1s\n",
            "[CV 2/2] END gradientboostingclassifier__learning_rate=0.05, gradientboostingclassifier__max_depth=10, gradientboostingclassifier__min_samples_leaf=12, gradientboostingclassifier__min_samples_split=8, gradientboostingclassifier__n_estimators=100;, score=0.848 total time=   6.1s\n",
            "[CV 1/2] END gradientboostingclassifier__learning_rate=0.05, gradientboostingclassifier__max_depth=10, gradientboostingclassifier__min_samples_leaf=12, gradientboostingclassifier__min_samples_split=8, gradientboostingclassifier__n_estimators=300;, score=0.869 total time=  18.5s\n",
            "[CV 2/2] END gradientboostingclassifier__learning_rate=0.05, gradientboostingclassifier__max_depth=10, gradientboostingclassifier__min_samples_leaf=12, gradientboostingclassifier__min_samples_split=8, gradientboostingclassifier__n_estimators=300;, score=0.857 total time=  18.1s\n",
            "[CV 1/2] END gradientboostingclassifier__learning_rate=0.05, gradientboostingclassifier__max_depth=10, gradientboostingclassifier__min_samples_leaf=12, gradientboostingclassifier__min_samples_split=8, gradientboostingclassifier__n_estimators=500;, score=0.866 total time=  31.0s\n",
            "[CV 2/2] END gradientboostingclassifier__learning_rate=0.05, gradientboostingclassifier__max_depth=10, gradientboostingclassifier__min_samples_leaf=12, gradientboostingclassifier__min_samples_split=8, gradientboostingclassifier__n_estimators=500;, score=0.857 total time=  30.4s\n",
            "[CV 1/2] END gradientboostingclassifier__learning_rate=0.05, gradientboostingclassifier__max_depth=10, gradientboostingclassifier__min_samples_leaf=12, gradientboostingclassifier__min_samples_split=16, gradientboostingclassifier__n_estimators=100;, score=0.861 total time=   6.3s\n",
            "[CV 2/2] END gradientboostingclassifier__learning_rate=0.05, gradientboostingclassifier__max_depth=10, gradientboostingclassifier__min_samples_leaf=12, gradientboostingclassifier__min_samples_split=16, gradientboostingclassifier__n_estimators=100;, score=0.848 total time=   5.9s\n",
            "[CV 1/2] END gradientboostingclassifier__learning_rate=0.05, gradientboostingclassifier__max_depth=10, gradientboostingclassifier__min_samples_leaf=12, gradientboostingclassifier__min_samples_split=16, gradientboostingclassifier__n_estimators=300;, score=0.869 total time=  18.7s\n",
            "[CV 2/2] END gradientboostingclassifier__learning_rate=0.05, gradientboostingclassifier__max_depth=10, gradientboostingclassifier__min_samples_leaf=12, gradientboostingclassifier__min_samples_split=16, gradientboostingclassifier__n_estimators=300;, score=0.857 total time=  18.3s\n",
            "[CV 1/2] END gradientboostingclassifier__learning_rate=0.05, gradientboostingclassifier__max_depth=10, gradientboostingclassifier__min_samples_leaf=12, gradientboostingclassifier__min_samples_split=16, gradientboostingclassifier__n_estimators=500;, score=0.866 total time=  31.1s\n",
            "[CV 2/2] END gradientboostingclassifier__learning_rate=0.05, gradientboostingclassifier__max_depth=10, gradientboostingclassifier__min_samples_leaf=12, gradientboostingclassifier__min_samples_split=16, gradientboostingclassifier__n_estimators=500;, score=0.857 total time=  30.5s\n",
            "[CV 1/2] END gradientboostingclassifier__learning_rate=0.1, gradientboostingclassifier__max_depth=6, gradientboostingclassifier__min_samples_leaf=6, gradientboostingclassifier__min_samples_split=8, gradientboostingclassifier__n_estimators=100;, score=0.846 total time=   3.7s\n",
            "[CV 2/2] END gradientboostingclassifier__learning_rate=0.1, gradientboostingclassifier__max_depth=6, gradientboostingclassifier__min_samples_leaf=6, gradientboostingclassifier__min_samples_split=8, gradientboostingclassifier__n_estimators=100;, score=0.833 total time=   4.2s\n",
            "[CV 1/2] END gradientboostingclassifier__learning_rate=0.1, gradientboostingclassifier__max_depth=6, gradientboostingclassifier__min_samples_leaf=6, gradientboostingclassifier__min_samples_split=8, gradientboostingclassifier__n_estimators=300;, score=0.859 total time=  10.9s\n",
            "[CV 2/2] END gradientboostingclassifier__learning_rate=0.1, gradientboostingclassifier__max_depth=6, gradientboostingclassifier__min_samples_leaf=6, gradientboostingclassifier__min_samples_split=8, gradientboostingclassifier__n_estimators=300;, score=0.849 total time=  11.1s\n",
            "[CV 1/2] END gradientboostingclassifier__learning_rate=0.1, gradientboostingclassifier__max_depth=6, gradientboostingclassifier__min_samples_leaf=6, gradientboostingclassifier__min_samples_split=8, gradientboostingclassifier__n_estimators=500;, score=0.861 total time=  18.7s\n",
            "[CV 2/2] END gradientboostingclassifier__learning_rate=0.1, gradientboostingclassifier__max_depth=6, gradientboostingclassifier__min_samples_leaf=6, gradientboostingclassifier__min_samples_split=8, gradientboostingclassifier__n_estimators=500;, score=0.854 total time=  18.2s\n",
            "[CV 1/2] END gradientboostingclassifier__learning_rate=0.1, gradientboostingclassifier__max_depth=6, gradientboostingclassifier__min_samples_leaf=6, gradientboostingclassifier__min_samples_split=16, gradientboostingclassifier__n_estimators=100;, score=0.845 total time=   4.1s\n",
            "[CV 2/2] END gradientboostingclassifier__learning_rate=0.1, gradientboostingclassifier__max_depth=6, gradientboostingclassifier__min_samples_leaf=6, gradientboostingclassifier__min_samples_split=16, gradientboostingclassifier__n_estimators=100;, score=0.835 total time=   3.8s\n",
            "[CV 1/2] END gradientboostingclassifier__learning_rate=0.1, gradientboostingclassifier__max_depth=6, gradientboostingclassifier__min_samples_leaf=6, gradientboostingclassifier__min_samples_split=16, gradientboostingclassifier__n_estimators=300;, score=0.857 total time=  11.2s\n",
            "[CV 2/2] END gradientboostingclassifier__learning_rate=0.1, gradientboostingclassifier__max_depth=6, gradientboostingclassifier__min_samples_leaf=6, gradientboostingclassifier__min_samples_split=16, gradientboostingclassifier__n_estimators=300;, score=0.850 total time=  11.1s\n",
            "[CV 1/2] END gradientboostingclassifier__learning_rate=0.1, gradientboostingclassifier__max_depth=6, gradientboostingclassifier__min_samples_leaf=6, gradientboostingclassifier__min_samples_split=16, gradientboostingclassifier__n_estimators=500;, score=0.863 total time=  18.1s\n",
            "[CV 2/2] END gradientboostingclassifier__learning_rate=0.1, gradientboostingclassifier__max_depth=6, gradientboostingclassifier__min_samples_leaf=6, gradientboostingclassifier__min_samples_split=16, gradientboostingclassifier__n_estimators=500;, score=0.854 total time=  18.4s\n",
            "[CV 1/2] END gradientboostingclassifier__learning_rate=0.1, gradientboostingclassifier__max_depth=6, gradientboostingclassifier__min_samples_leaf=8, gradientboostingclassifier__min_samples_split=8, gradientboostingclassifier__n_estimators=100;, score=0.846 total time=   3.8s\n",
            "[CV 2/2] END gradientboostingclassifier__learning_rate=0.1, gradientboostingclassifier__max_depth=6, gradientboostingclassifier__min_samples_leaf=8, gradientboostingclassifier__min_samples_split=8, gradientboostingclassifier__n_estimators=100;, score=0.832 total time=   3.7s\n",
            "[CV 1/2] END gradientboostingclassifier__learning_rate=0.1, gradientboostingclassifier__max_depth=6, gradientboostingclassifier__min_samples_leaf=8, gradientboostingclassifier__min_samples_split=8, gradientboostingclassifier__n_estimators=300;, score=0.859 total time=  11.1s\n",
            "[CV 2/2] END gradientboostingclassifier__learning_rate=0.1, gradientboostingclassifier__max_depth=6, gradientboostingclassifier__min_samples_leaf=8, gradientboostingclassifier__min_samples_split=8, gradientboostingclassifier__n_estimators=300;, score=0.848 total time=  11.2s\n",
            "[CV 1/2] END gradientboostingclassifier__learning_rate=0.1, gradientboostingclassifier__max_depth=6, gradientboostingclassifier__min_samples_leaf=8, gradientboostingclassifier__min_samples_split=8, gradientboostingclassifier__n_estimators=500;, score=0.862 total time=  18.1s\n",
            "[CV 2/2] END gradientboostingclassifier__learning_rate=0.1, gradientboostingclassifier__max_depth=6, gradientboostingclassifier__min_samples_leaf=8, gradientboostingclassifier__min_samples_split=8, gradientboostingclassifier__n_estimators=500;, score=0.852 total time=  18.5s\n",
            "[CV 1/2] END gradientboostingclassifier__learning_rate=0.1, gradientboostingclassifier__max_depth=6, gradientboostingclassifier__min_samples_leaf=8, gradientboostingclassifier__min_samples_split=16, gradientboostingclassifier__n_estimators=100;, score=0.846 total time=   3.7s\n",
            "[CV 2/2] END gradientboostingclassifier__learning_rate=0.1, gradientboostingclassifier__max_depth=6, gradientboostingclassifier__min_samples_leaf=8, gradientboostingclassifier__min_samples_split=16, gradientboostingclassifier__n_estimators=100;, score=0.832 total time=   3.7s\n",
            "[CV 1/2] END gradientboostingclassifier__learning_rate=0.1, gradientboostingclassifier__max_depth=6, gradientboostingclassifier__min_samples_leaf=8, gradientboostingclassifier__min_samples_split=16, gradientboostingclassifier__n_estimators=300;, score=0.859 total time=  11.2s\n",
            "[CV 2/2] END gradientboostingclassifier__learning_rate=0.1, gradientboostingclassifier__max_depth=6, gradientboostingclassifier__min_samples_leaf=8, gradientboostingclassifier__min_samples_split=16, gradientboostingclassifier__n_estimators=300;, score=0.848 total time=  11.1s\n",
            "[CV 1/2] END gradientboostingclassifier__learning_rate=0.1, gradientboostingclassifier__max_depth=6, gradientboostingclassifier__min_samples_leaf=8, gradientboostingclassifier__min_samples_split=16, gradientboostingclassifier__n_estimators=500;, score=0.862 total time=  18.7s\n",
            "[CV 2/2] END gradientboostingclassifier__learning_rate=0.1, gradientboostingclassifier__max_depth=6, gradientboostingclassifier__min_samples_leaf=8, gradientboostingclassifier__min_samples_split=16, gradientboostingclassifier__n_estimators=500;, score=0.852 total time=  18.3s\n",
            "[CV 1/2] END gradientboostingclassifier__learning_rate=0.1, gradientboostingclassifier__max_depth=6, gradientboostingclassifier__min_samples_leaf=12, gradientboostingclassifier__min_samples_split=8, gradientboostingclassifier__n_estimators=100;, score=0.846 total time=   3.8s\n",
            "[CV 2/2] END gradientboostingclassifier__learning_rate=0.1, gradientboostingclassifier__max_depth=6, gradientboostingclassifier__min_samples_leaf=12, gradientboostingclassifier__min_samples_split=8, gradientboostingclassifier__n_estimators=100;, score=0.833 total time=   4.2s\n",
            "[CV 1/2] END gradientboostingclassifier__learning_rate=0.1, gradientboostingclassifier__max_depth=6, gradientboostingclassifier__min_samples_leaf=12, gradientboostingclassifier__min_samples_split=8, gradientboostingclassifier__n_estimators=300;, score=0.862 total time=  11.0s\n",
            "[CV 2/2] END gradientboostingclassifier__learning_rate=0.1, gradientboostingclassifier__max_depth=6, gradientboostingclassifier__min_samples_leaf=12, gradientboostingclassifier__min_samples_split=8, gradientboostingclassifier__n_estimators=300;, score=0.850 total time=  10.9s\n",
            "[CV 1/2] END gradientboostingclassifier__learning_rate=0.1, gradientboostingclassifier__max_depth=6, gradientboostingclassifier__min_samples_leaf=12, gradientboostingclassifier__min_samples_split=8, gradientboostingclassifier__n_estimators=500;, score=0.868 total time=  18.6s\n",
            "[CV 2/2] END gradientboostingclassifier__learning_rate=0.1, gradientboostingclassifier__max_depth=6, gradientboostingclassifier__min_samples_leaf=12, gradientboostingclassifier__min_samples_split=8, gradientboostingclassifier__n_estimators=500;, score=0.854 total time=  18.1s\n",
            "[CV 1/2] END gradientboostingclassifier__learning_rate=0.1, gradientboostingclassifier__max_depth=6, gradientboostingclassifier__min_samples_leaf=12, gradientboostingclassifier__min_samples_split=16, gradientboostingclassifier__n_estimators=100;, score=0.846 total time=   4.2s\n",
            "[CV 2/2] END gradientboostingclassifier__learning_rate=0.1, gradientboostingclassifier__max_depth=6, gradientboostingclassifier__min_samples_leaf=12, gradientboostingclassifier__min_samples_split=16, gradientboostingclassifier__n_estimators=100;, score=0.833 total time=   3.7s\n",
            "[CV 1/2] END gradientboostingclassifier__learning_rate=0.1, gradientboostingclassifier__max_depth=6, gradientboostingclassifier__min_samples_leaf=12, gradientboostingclassifier__min_samples_split=16, gradientboostingclassifier__n_estimators=300;, score=0.862 total time=  11.0s\n",
            "[CV 2/2] END gradientboostingclassifier__learning_rate=0.1, gradientboostingclassifier__max_depth=6, gradientboostingclassifier__min_samples_leaf=12, gradientboostingclassifier__min_samples_split=16, gradientboostingclassifier__n_estimators=300;, score=0.850 total time=  11.1s\n",
            "[CV 1/2] END gradientboostingclassifier__learning_rate=0.1, gradientboostingclassifier__max_depth=6, gradientboostingclassifier__min_samples_leaf=12, gradientboostingclassifier__min_samples_split=16, gradientboostingclassifier__n_estimators=500;, score=0.868 total time=  18.0s\n",
            "[CV 2/2] END gradientboostingclassifier__learning_rate=0.1, gradientboostingclassifier__max_depth=6, gradientboostingclassifier__min_samples_leaf=12, gradientboostingclassifier__min_samples_split=16, gradientboostingclassifier__n_estimators=500;, score=0.854 total time=  20.4s\n",
            "[CV 1/2] END gradientboostingclassifier__learning_rate=0.1, gradientboostingclassifier__max_depth=10, gradientboostingclassifier__min_samples_leaf=6, gradientboostingclassifier__min_samples_split=8, gradientboostingclassifier__n_estimators=100;, score=0.871 total time=   6.4s\n",
            "[CV 2/2] END gradientboostingclassifier__learning_rate=0.1, gradientboostingclassifier__max_depth=10, gradientboostingclassifier__min_samples_leaf=6, gradientboostingclassifier__min_samples_split=8, gradientboostingclassifier__n_estimators=100;, score=0.859 total time=   6.8s\n",
            "[CV 1/2] END gradientboostingclassifier__learning_rate=0.1, gradientboostingclassifier__max_depth=10, gradientboostingclassifier__min_samples_leaf=6, gradientboostingclassifier__min_samples_split=8, gradientboostingclassifier__n_estimators=300;, score=0.863 total time=  19.7s\n",
            "[CV 2/2] END gradientboostingclassifier__learning_rate=0.1, gradientboostingclassifier__max_depth=10, gradientboostingclassifier__min_samples_leaf=6, gradientboostingclassifier__min_samples_split=8, gradientboostingclassifier__n_estimators=300;, score=0.854 total time=  19.9s\n",
            "[CV 1/2] END gradientboostingclassifier__learning_rate=0.1, gradientboostingclassifier__max_depth=10, gradientboostingclassifier__min_samples_leaf=6, gradientboostingclassifier__min_samples_split=8, gradientboostingclassifier__n_estimators=500;, score=0.857 total time=  33.1s\n",
            "[CV 2/2] END gradientboostingclassifier__learning_rate=0.1, gradientboostingclassifier__max_depth=10, gradientboostingclassifier__min_samples_leaf=6, gradientboostingclassifier__min_samples_split=8, gradientboostingclassifier__n_estimators=500;, score=0.847 total time=  32.9s\n",
            "[CV 1/2] END gradientboostingclassifier__learning_rate=0.1, gradientboostingclassifier__max_depth=10, gradientboostingclassifier__min_samples_leaf=6, gradientboostingclassifier__min_samples_split=16, gradientboostingclassifier__n_estimators=100;, score=0.870 total time=   6.8s\n",
            "[CV 2/2] END gradientboostingclassifier__learning_rate=0.1, gradientboostingclassifier__max_depth=10, gradientboostingclassifier__min_samples_leaf=6, gradientboostingclassifier__min_samples_split=16, gradientboostingclassifier__n_estimators=100;, score=0.859 total time=   6.2s\n",
            "[CV 1/2] END gradientboostingclassifier__learning_rate=0.1, gradientboostingclassifier__max_depth=10, gradientboostingclassifier__min_samples_leaf=6, gradientboostingclassifier__min_samples_split=16, gradientboostingclassifier__n_estimators=300;, score=0.865 total time=  19.7s\n",
            "[CV 2/2] END gradientboostingclassifier__learning_rate=0.1, gradientboostingclassifier__max_depth=10, gradientboostingclassifier__min_samples_leaf=6, gradientboostingclassifier__min_samples_split=16, gradientboostingclassifier__n_estimators=300;, score=0.855 total time=  19.0s\n",
            "[CV 1/2] END gradientboostingclassifier__learning_rate=0.1, gradientboostingclassifier__max_depth=10, gradientboostingclassifier__min_samples_leaf=6, gradientboostingclassifier__min_samples_split=16, gradientboostingclassifier__n_estimators=500;, score=0.857 total time=  32.7s\n",
            "[CV 2/2] END gradientboostingclassifier__learning_rate=0.1, gradientboostingclassifier__max_depth=10, gradientboostingclassifier__min_samples_leaf=6, gradientboostingclassifier__min_samples_split=16, gradientboostingclassifier__n_estimators=500;, score=0.849 total time=  31.8s\n",
            "[CV 1/2] END gradientboostingclassifier__learning_rate=0.1, gradientboostingclassifier__max_depth=10, gradientboostingclassifier__min_samples_leaf=8, gradientboostingclassifier__min_samples_split=8, gradientboostingclassifier__n_estimators=100;, score=0.870 total time=   6.8s\n",
            "[CV 2/2] END gradientboostingclassifier__learning_rate=0.1, gradientboostingclassifier__max_depth=10, gradientboostingclassifier__min_samples_leaf=8, gradientboostingclassifier__min_samples_split=8, gradientboostingclassifier__n_estimators=100;, score=0.858 total time=   6.2s\n",
            "[CV 1/2] END gradientboostingclassifier__learning_rate=0.1, gradientboostingclassifier__max_depth=10, gradientboostingclassifier__min_samples_leaf=8, gradientboostingclassifier__min_samples_split=8, gradientboostingclassifier__n_estimators=300;, score=0.863 total time=  19.6s\n",
            "[CV 2/2] END gradientboostingclassifier__learning_rate=0.1, gradientboostingclassifier__max_depth=10, gradientboostingclassifier__min_samples_leaf=8, gradientboostingclassifier__min_samples_split=8, gradientboostingclassifier__n_estimators=300;, score=0.856 total time=  18.9s\n",
            "[CV 1/2] END gradientboostingclassifier__learning_rate=0.1, gradientboostingclassifier__max_depth=10, gradientboostingclassifier__min_samples_leaf=8, gradientboostingclassifier__min_samples_split=8, gradientboostingclassifier__n_estimators=500;, score=0.858 total time=  32.4s\n",
            "[CV 2/2] END gradientboostingclassifier__learning_rate=0.1, gradientboostingclassifier__max_depth=10, gradientboostingclassifier__min_samples_leaf=8, gradientboostingclassifier__min_samples_split=8, gradientboostingclassifier__n_estimators=500;, score=0.849 total time=  31.8s\n",
            "[CV 1/2] END gradientboostingclassifier__learning_rate=0.1, gradientboostingclassifier__max_depth=10, gradientboostingclassifier__min_samples_leaf=8, gradientboostingclassifier__min_samples_split=16, gradientboostingclassifier__n_estimators=100;, score=0.870 total time=   6.9s\n",
            "[CV 2/2] END gradientboostingclassifier__learning_rate=0.1, gradientboostingclassifier__max_depth=10, gradientboostingclassifier__min_samples_leaf=8, gradientboostingclassifier__min_samples_split=16, gradientboostingclassifier__n_estimators=100;, score=0.858 total time=   6.3s\n",
            "[CV 1/2] END gradientboostingclassifier__learning_rate=0.1, gradientboostingclassifier__max_depth=10, gradientboostingclassifier__min_samples_leaf=8, gradientboostingclassifier__min_samples_split=16, gradientboostingclassifier__n_estimators=300;, score=0.863 total time=  19.5s\n",
            "[CV 2/2] END gradientboostingclassifier__learning_rate=0.1, gradientboostingclassifier__max_depth=10, gradientboostingclassifier__min_samples_leaf=8, gradientboostingclassifier__min_samples_split=16, gradientboostingclassifier__n_estimators=300;, score=0.856 total time=  19.3s\n",
            "[CV 1/2] END gradientboostingclassifier__learning_rate=0.1, gradientboostingclassifier__max_depth=10, gradientboostingclassifier__min_samples_leaf=8, gradientboostingclassifier__min_samples_split=16, gradientboostingclassifier__n_estimators=500;, score=0.858 total time=  32.5s\n",
            "[CV 2/2] END gradientboostingclassifier__learning_rate=0.1, gradientboostingclassifier__max_depth=10, gradientboostingclassifier__min_samples_leaf=8, gradientboostingclassifier__min_samples_split=16, gradientboostingclassifier__n_estimators=500;, score=0.849 total time=  32.6s\n",
            "[CV 1/2] END gradientboostingclassifier__learning_rate=0.1, gradientboostingclassifier__max_depth=10, gradientboostingclassifier__min_samples_leaf=12, gradientboostingclassifier__min_samples_split=8, gradientboostingclassifier__n_estimators=100;, score=0.869 total time=   6.1s\n",
            "[CV 2/2] END gradientboostingclassifier__learning_rate=0.1, gradientboostingclassifier__max_depth=10, gradientboostingclassifier__min_samples_leaf=12, gradientboostingclassifier__min_samples_split=8, gradientboostingclassifier__n_estimators=100;, score=0.855 total time=   6.6s\n",
            "[CV 1/2] END gradientboostingclassifier__learning_rate=0.1, gradientboostingclassifier__max_depth=10, gradientboostingclassifier__min_samples_leaf=12, gradientboostingclassifier__min_samples_split=8, gradientboostingclassifier__n_estimators=300;, score=0.865 total time=  18.3s\n",
            "[CV 2/2] END gradientboostingclassifier__learning_rate=0.1, gradientboostingclassifier__max_depth=10, gradientboostingclassifier__min_samples_leaf=12, gradientboostingclassifier__min_samples_split=8, gradientboostingclassifier__n_estimators=300;, score=0.856 total time=  18.7s\n",
            "[CV 1/2] END gradientboostingclassifier__learning_rate=0.1, gradientboostingclassifier__max_depth=10, gradientboostingclassifier__min_samples_leaf=12, gradientboostingclassifier__min_samples_split=8, gradientboostingclassifier__n_estimators=500;, score=0.860 total time=  30.9s\n",
            "[CV 2/2] END gradientboostingclassifier__learning_rate=0.1, gradientboostingclassifier__max_depth=10, gradientboostingclassifier__min_samples_leaf=12, gradientboostingclassifier__min_samples_split=8, gradientboostingclassifier__n_estimators=500;, score=0.851 total time=  30.8s\n",
            "[CV 1/2] END gradientboostingclassifier__learning_rate=0.1, gradientboostingclassifier__max_depth=10, gradientboostingclassifier__min_samples_leaf=12, gradientboostingclassifier__min_samples_split=16, gradientboostingclassifier__n_estimators=100;, score=0.869 total time=   6.5s\n",
            "[CV 2/2] END gradientboostingclassifier__learning_rate=0.1, gradientboostingclassifier__max_depth=10, gradientboostingclassifier__min_samples_leaf=12, gradientboostingclassifier__min_samples_split=16, gradientboostingclassifier__n_estimators=100;, score=0.855 total time=   6.0s\n",
            "[CV 1/2] END gradientboostingclassifier__learning_rate=0.1, gradientboostingclassifier__max_depth=10, gradientboostingclassifier__min_samples_leaf=12, gradientboostingclassifier__min_samples_split=16, gradientboostingclassifier__n_estimators=300;, score=0.865 total time=  19.0s\n",
            "[CV 2/2] END gradientboostingclassifier__learning_rate=0.1, gradientboostingclassifier__max_depth=10, gradientboostingclassifier__min_samples_leaf=12, gradientboostingclassifier__min_samples_split=16, gradientboostingclassifier__n_estimators=300;, score=0.856 total time=  18.2s\n",
            "[CV 1/2] END gradientboostingclassifier__learning_rate=0.1, gradientboostingclassifier__max_depth=10, gradientboostingclassifier__min_samples_leaf=12, gradientboostingclassifier__min_samples_split=16, gradientboostingclassifier__n_estimators=500;, score=0.860 total time=  31.5s\n",
            "[CV 2/2] END gradientboostingclassifier__learning_rate=0.1, gradientboostingclassifier__max_depth=10, gradientboostingclassifier__min_samples_leaf=12, gradientboostingclassifier__min_samples_split=16, gradientboostingclassifier__n_estimators=500;, score=0.851 total time=  30.7s\n"
          ]
        },
        {
          "output_type": "execute_result",
          "data": {
            "text/plain": [
              "GridSearchCV(cv=2,\n",
              "             estimator=Pipeline(steps=[('ordinalencoder',\n",
              "                                        OrdinalEncoder(cols=['Opp',\n",
              "                                                             'product_grade_name',\n",
              "                                                             'Sale', 'job',\n",
              "                                                             'favorite_idx',\n",
              "                                                             'yoil',\n",
              "                                                             'game_type_name',\n",
              "                                                             'weather'],\n",
              "                                                       mapping=[{'col': 'Opp',\n",
              "                                                                 'data_type': dtype('O'),\n",
              "                                                                 'mapping': 제주 유나이티드      1\n",
              "울산 현대축구단      2\n",
              "수원 삼성블루윙즈     3\n",
              "강원FC          4\n",
              "전북 현대모터스      5\n",
              "FC서울          6\n",
              "수원FC          7\n",
              "포항 스틸러스       8\n",
              "대구FC          9\n",
              "성남FC         10\n",
              "김천상무프로축구단    11\n",
              "NaN          -2\n",
              "dtype: int64},\n",
              "                                                                {'col': 'product_grade_name'...\n",
              "                                        GradientBoostingClassifier(n_estimators=1000,\n",
              "                                                                   random_state=42))]),\n",
              "             param_grid={'gradientboostingclassifier__learning_rate': [0.05,\n",
              "                                                                       0.1],\n",
              "                         'gradientboostingclassifier__max_depth': [6, 10],\n",
              "                         'gradientboostingclassifier__min_samples_leaf': [6, 8,\n",
              "                                                                          12],\n",
              "                         'gradientboostingclassifier__min_samples_split': [8,\n",
              "                                                                           16],\n",
              "                         'gradientboostingclassifier__n_estimators': [100, 300,\n",
              "                                                                      500]},\n",
              "             scoring='roc_auc', verbose=3)"
            ]
          },
          "metadata": {},
          "execution_count": 187
        }
      ]
    },
    {
      "cell_type": "code",
      "source": [
        "test_pred = grid_cv.predict(X_test)\n",
        "\n",
        "print(classification_report(y_test,test_pred))\n",
        "print(\"AUC: \", roc_auc_score(y_test,test_pred))"
      ],
      "metadata": {
        "colab": {
          "base_uri": "https://localhost:8080/"
        },
        "id": "_l3BN8dXnexu",
        "outputId": "379fb161-086a-4a6a-ed85-4d736fee9c10"
      },
      "execution_count": null,
      "outputs": [
        {
          "output_type": "stream",
          "name": "stdout",
          "text": [
            "              precision    recall  f1-score   support\n",
            "\n",
            "           0       0.93      0.98      0.96      9563\n",
            "           1       0.69      0.37      0.48      1064\n",
            "\n",
            "    accuracy                           0.92     10627\n",
            "   macro avg       0.81      0.68      0.72     10627\n",
            "weighted avg       0.91      0.92      0.91     10627\n",
            "\n",
            "AUC:  0.676209028138683\n"
          ]
        }
      ]
    },
    {
      "cell_type": "code",
      "source": [
        "pipe_knn = make_pipeline(\n",
        "    OrdinalEncoder(),\n",
        "    StandardScaler(),\n",
        "    SimpleImputer(strategy=\"most_frequent\"),\n",
        "    KNN()\n",
        ")"
      ],
      "metadata": {
        "id": "Pv1eIo1LpTIu"
      },
      "execution_count": null,
      "outputs": []
    },
    {
      "cell_type": "code",
      "source": [
        "pipe_knn.fit(X_train, y_train)\n",
        "test_pred = pipe_knn.predict(X_test)\n",
        "\n",
        "print(classification_report(y_test,test_pred))\n",
        "print(\"AUC: \", roc_auc_score(y_test,test_pred))"
      ],
      "metadata": {
        "colab": {
          "base_uri": "https://localhost:8080/"
        },
        "id": "3rxr2AT1p3ve",
        "outputId": "b2825b07-1747-4581-b84d-38a1c4814c08"
      },
      "execution_count": null,
      "outputs": [
        {
          "output_type": "stream",
          "name": "stdout",
          "text": [
            "              precision    recall  f1-score   support\n",
            "\n",
            "           0       0.91      0.97      0.94      9563\n",
            "           1       0.42      0.18      0.25      1064\n",
            "\n",
            "    accuracy                           0.89     10627\n",
            "   macro avg       0.67      0.57      0.60     10627\n",
            "weighted avg       0.86      0.89      0.87     10627\n",
            "\n",
            "AUC:  0.5744387339518933\n"
          ]
        }
      ]
    },
    {
      "cell_type": "markdown",
      "source": [
        "## 2022년 k리그 일정 데이터 -> 구단 다음 경기 예매 예측 (데이터가 적어 불가능 ?)"
      ],
      "metadata": {
        "id": "oGRpJuJPGBUC"
      }
    },
    {
      "cell_type": "code",
      "source": [
        "df_n[df_n.home_team_name == '인천'].yoil.value_counts()"
      ],
      "metadata": {
        "id": "e9vR99H1dZLO",
        "colab": {
          "base_uri": "https://localhost:8080/"
        },
        "outputId": "8ea9bc63-7c46-41ab-eb62-0c99e3e0154b"
      },
      "execution_count": null,
      "outputs": [
        {
          "output_type": "execute_result",
          "data": {
            "text/plain": [
              "토    7\n",
              "일    5\n",
              "수    4\n",
              "화    2\n",
              "금    1\n",
              "Name: yoil, dtype: int64"
            ]
          },
          "metadata": {},
          "execution_count": 92
        }
      ]
    },
    {
      "cell_type": "markdown",
      "source": [
        "월요일과 목요일 경기 X"
      ],
      "metadata": {
        "id": "6Rz0COOKfI6N"
      }
    },
    {
      "cell_type": "code",
      "source": [
        "# df_n[df_n.home_team_name == '인천']"
      ],
      "metadata": {
        "id": "_EB-oaIdfIG0"
      },
      "execution_count": null,
      "outputs": []
    },
    {
      "cell_type": "markdown",
      "source": [
        "## df_N으로 클러스터링"
      ],
      "metadata": {
        "id": "DYpJ5T7-cYcm"
      }
    },
    {
      "cell_type": "code",
      "source": [
        "# df_N.info()\n",
        "# df_N.nunique()"
      ],
      "metadata": {
        "id": "Tls4g5WfaC5d"
      },
      "execution_count": null,
      "outputs": []
    },
    {
      "cell_type": "code",
      "source": [
        "# df_N.head(6)"
      ],
      "metadata": {
        "id": "Rv03BeOQbMQi"
      },
      "execution_count": null,
      "outputs": []
    },
    {
      "cell_type": "code",
      "source": [
        "df_N['game_date'] = pd.to_datetime(df_N['game_date'])\n",
        "df_N['reserve_date'] = pd.to_datetime(df_N['reserve_date'])\n",
        "df_N['game_time'] = pd.to_datetime(df_N['game_time'])\n",
        "df_N['game-reserve']=df_N['game_date'] - df_N['reserve_date']"
      ],
      "metadata": {
        "id": "WMd0fT4TUGTD"
      },
      "execution_count": null,
      "outputs": []
    },
    {
      "cell_type": "code",
      "source": [
        "df_N['game-reserve'] = df_N['game-reserve'].dt.days\n",
        "df_N['game_time'] = df_N['game_time'].dt.hour"
      ],
      "metadata": {
        "id": "dWbxjg6lUYWg"
      },
      "execution_count": null,
      "outputs": []
    },
    {
      "cell_type": "code",
      "source": [
        "# df_N.info()"
      ],
      "metadata": {
        "id": "JwdHsms-VP7t"
      },
      "execution_count": null,
      "outputs": []
    },
    {
      "cell_type": "code",
      "source": [
        "# df_N.nunique() \n",
        "# game_date와 reserve_date는 game-reserve가 있으니 삭제?\n",
        "# product_denomination_name = 할인 종류"
      ],
      "metadata": {
        "id": "4kOi0kfvXwQP"
      },
      "execution_count": null,
      "outputs": []
    },
    {
      "cell_type": "code",
      "source": [
        "# df_N.product_denomination_name.value_counts()"
      ],
      "metadata": {
        "id": "Hm7P9om8qmTY"
      },
      "execution_count": null,
      "outputs": []
    },
    {
      "cell_type": "code",
      "source": [
        "df_N.head(1)"
      ],
      "metadata": {
        "colab": {
          "base_uri": "https://localhost:8080/",
          "height": 283
        },
        "id": "Whlzx_LGnUDT",
        "outputId": "e38ed910-d3ee-4a6a-cd89-ecdfa1953402"
      },
      "execution_count": null,
      "outputs": [
        {
          "output_type": "execute_result",
          "data": {
            "text/plain": [
              "     membership_no cancel_yn        Opp  game_date  game_time  \\\n",
              "819         102806         N  수원 삼성블루윙즈 2022-02-19         16   \n",
              "\n",
              "     reserve_detail_no product_grade_name product_denomination_name  \\\n",
              "819                  1       World class석              K리그 축덕카드(신용)   \n",
              "\n",
              "    reserve_date  reserve_hour  rank  game-reserve  \n",
              "819   2022-02-14          14.0     2             5  "
            ],
            "text/html": [
              "\n",
              "  <div id=\"df-40233241-c23b-4112-ab3d-ac453af7a85f\">\n",
              "    <div class=\"colab-df-container\">\n",
              "      <div>\n",
              "<style scoped>\n",
              "    .dataframe tbody tr th:only-of-type {\n",
              "        vertical-align: middle;\n",
              "    }\n",
              "\n",
              "    .dataframe tbody tr th {\n",
              "        vertical-align: top;\n",
              "    }\n",
              "\n",
              "    .dataframe thead th {\n",
              "        text-align: right;\n",
              "    }\n",
              "</style>\n",
              "<table border=\"1\" class=\"dataframe\">\n",
              "  <thead>\n",
              "    <tr style=\"text-align: right;\">\n",
              "      <th></th>\n",
              "      <th>membership_no</th>\n",
              "      <th>cancel_yn</th>\n",
              "      <th>Opp</th>\n",
              "      <th>game_date</th>\n",
              "      <th>game_time</th>\n",
              "      <th>reserve_detail_no</th>\n",
              "      <th>product_grade_name</th>\n",
              "      <th>product_denomination_name</th>\n",
              "      <th>reserve_date</th>\n",
              "      <th>reserve_hour</th>\n",
              "      <th>rank</th>\n",
              "      <th>game-reserve</th>\n",
              "    </tr>\n",
              "  </thead>\n",
              "  <tbody>\n",
              "    <tr>\n",
              "      <th>819</th>\n",
              "      <td>102806</td>\n",
              "      <td>N</td>\n",
              "      <td>수원 삼성블루윙즈</td>\n",
              "      <td>2022-02-19</td>\n",
              "      <td>16</td>\n",
              "      <td>1</td>\n",
              "      <td>World class석</td>\n",
              "      <td>K리그 축덕카드(신용)</td>\n",
              "      <td>2022-02-14</td>\n",
              "      <td>14.0</td>\n",
              "      <td>2</td>\n",
              "      <td>5</td>\n",
              "    </tr>\n",
              "  </tbody>\n",
              "</table>\n",
              "</div>\n",
              "      <button class=\"colab-df-convert\" onclick=\"convertToInteractive('df-40233241-c23b-4112-ab3d-ac453af7a85f')\"\n",
              "              title=\"Convert this dataframe to an interactive table.\"\n",
              "              style=\"display:none;\">\n",
              "        \n",
              "  <svg xmlns=\"http://www.w3.org/2000/svg\" height=\"24px\"viewBox=\"0 0 24 24\"\n",
              "       width=\"24px\">\n",
              "    <path d=\"M0 0h24v24H0V0z\" fill=\"none\"/>\n",
              "    <path d=\"M18.56 5.44l.94 2.06.94-2.06 2.06-.94-2.06-.94-.94-2.06-.94 2.06-2.06.94zm-11 1L8.5 8.5l.94-2.06 2.06-.94-2.06-.94L8.5 2.5l-.94 2.06-2.06.94zm10 10l.94 2.06.94-2.06 2.06-.94-2.06-.94-.94-2.06-.94 2.06-2.06.94z\"/><path d=\"M17.41 7.96l-1.37-1.37c-.4-.4-.92-.59-1.43-.59-.52 0-1.04.2-1.43.59L10.3 9.45l-7.72 7.72c-.78.78-.78 2.05 0 2.83L4 21.41c.39.39.9.59 1.41.59.51 0 1.02-.2 1.41-.59l7.78-7.78 2.81-2.81c.8-.78.8-2.07 0-2.86zM5.41 20L4 18.59l7.72-7.72 1.47 1.35L5.41 20z\"/>\n",
              "  </svg>\n",
              "      </button>\n",
              "      \n",
              "  <style>\n",
              "    .colab-df-container {\n",
              "      display:flex;\n",
              "      flex-wrap:wrap;\n",
              "      gap: 12px;\n",
              "    }\n",
              "\n",
              "    .colab-df-convert {\n",
              "      background-color: #E8F0FE;\n",
              "      border: none;\n",
              "      border-radius: 50%;\n",
              "      cursor: pointer;\n",
              "      display: none;\n",
              "      fill: #1967D2;\n",
              "      height: 32px;\n",
              "      padding: 0 0 0 0;\n",
              "      width: 32px;\n",
              "    }\n",
              "\n",
              "    .colab-df-convert:hover {\n",
              "      background-color: #E2EBFA;\n",
              "      box-shadow: 0px 1px 2px rgba(60, 64, 67, 0.3), 0px 1px 3px 1px rgba(60, 64, 67, 0.15);\n",
              "      fill: #174EA6;\n",
              "    }\n",
              "\n",
              "    [theme=dark] .colab-df-convert {\n",
              "      background-color: #3B4455;\n",
              "      fill: #D2E3FC;\n",
              "    }\n",
              "\n",
              "    [theme=dark] .colab-df-convert:hover {\n",
              "      background-color: #434B5C;\n",
              "      box-shadow: 0px 1px 3px 1px rgba(0, 0, 0, 0.15);\n",
              "      filter: drop-shadow(0px 1px 2px rgba(0, 0, 0, 0.3));\n",
              "      fill: #FFFFFF;\n",
              "    }\n",
              "  </style>\n",
              "\n",
              "      <script>\n",
              "        const buttonEl =\n",
              "          document.querySelector('#df-40233241-c23b-4112-ab3d-ac453af7a85f button.colab-df-convert');\n",
              "        buttonEl.style.display =\n",
              "          google.colab.kernel.accessAllowed ? 'block' : 'none';\n",
              "\n",
              "        async function convertToInteractive(key) {\n",
              "          const element = document.querySelector('#df-40233241-c23b-4112-ab3d-ac453af7a85f');\n",
              "          const dataTable =\n",
              "            await google.colab.kernel.invokeFunction('convertToInteractive',\n",
              "                                                     [key], {});\n",
              "          if (!dataTable) return;\n",
              "\n",
              "          const docLinkHtml = 'Like what you see? Visit the ' +\n",
              "            '<a target=\"_blank\" href=https://colab.research.google.com/notebooks/data_table.ipynb>data table notebook</a>'\n",
              "            + ' to learn more about interactive tables.';\n",
              "          element.innerHTML = '';\n",
              "          dataTable['output_type'] = 'display_data';\n",
              "          await google.colab.output.renderOutput(dataTable, element);\n",
              "          const docLink = document.createElement('div');\n",
              "          docLink.innerHTML = docLinkHtml;\n",
              "          element.appendChild(docLink);\n",
              "        }\n",
              "      </script>\n",
              "    </div>\n",
              "  </div>\n",
              "  "
            ]
          },
          "metadata": {},
          "execution_count": 101
        }
      ]
    },
    {
      "cell_type": "code",
      "source": [
        "df_N.info()"
      ],
      "metadata": {
        "colab": {
          "base_uri": "https://localhost:8080/"
        },
        "id": "hmO1aNrUnQ1v",
        "outputId": "2489cde8-a235-412d-fbea-2a46cd29e6a4"
      },
      "execution_count": null,
      "outputs": [
        {
          "output_type": "stream",
          "name": "stdout",
          "text": [
            "<class 'pandas.core.frame.DataFrame'>\n",
            "Int64Index: 47886 entries, 819 to 53208\n",
            "Data columns (total 12 columns):\n",
            " #   Column                     Non-Null Count  Dtype         \n",
            "---  ------                     --------------  -----         \n",
            " 0   membership_no              47886 non-null  int64         \n",
            " 1   cancel_yn                  47886 non-null  object        \n",
            " 2   Opp                        47886 non-null  object        \n",
            " 3   game_date                  47886 non-null  datetime64[ns]\n",
            " 4   game_time                  47886 non-null  int64         \n",
            " 5   reserve_detail_no          47886 non-null  int64         \n",
            " 6   product_grade_name         47886 non-null  object        \n",
            " 7   product_denomination_name  47886 non-null  object        \n",
            " 8   reserve_date               47886 non-null  datetime64[ns]\n",
            " 9   reserve_hour               47886 non-null  float64       \n",
            " 10  rank                       47886 non-null  int64         \n",
            " 11  game-reserve               47886 non-null  int64         \n",
            "dtypes: datetime64[ns](2), float64(1), int64(5), object(4)\n",
            "memory usage: 4.7+ MB\n"
          ]
        }
      ]
    },
    {
      "cell_type": "code",
      "source": [
        "# Weather = pd.DataFrame({'game_date':['2022/02/19', '2022/02/26', '2022/03/05', '2022/03/13',\n",
        "#        '2022/04/02', '2022/04/10', '2022/05/08', '2022/05/17',\n",
        "#        '2022/05/29', '2022/06/22', '2022/07/06', '2022/08/03',\n",
        "#        '2022/08/13', '2022/08/27', '2022/09/02', '2022/09/14',\n",
        "#        '2022/10/01', '2022/10/11', '2022/10/16'],\n",
        "#        'weather' : ['snow', 'rain', 'yellow dust', 'rain', 'fog', 'clean', 'rain', 'fog', 'fog', 'fog', 'rain', 'rain', \n",
        "#                     'rain', 'rain', 'clean', 'rain', 'fog', 'rain', 'fog']})"
      ],
      "metadata": {
        "id": "FEW6x6ZjoQ_E"
      },
      "execution_count": null,
      "outputs": []
    },
    {
      "cell_type": "code",
      "source": [
        "#원정석은 어림잡아 12000~15000 사이여서 13000으로"
      ],
      "metadata": {
        "id": "9TtrmwSzwOkL"
      },
      "execution_count": null,
      "outputs": []
    },
    {
      "cell_type": "code",
      "source": [
        "price = pd.DataFrame({'product_grade_name':df_N.product_grade_name.unique(),\n",
        "                      'grade_price' : [19000, 12000, 13000, 18000, 35000, 35000, 50000, 20000, 12000, 20000,\n",
        "                                       12000, 20000, 50000, 13000, 45000, 17000, 20000, 20000, 20000, 20000]})"
      ],
      "metadata": {
        "id": "nwbl_fuNcKAb"
      },
      "execution_count": null,
      "outputs": []
    },
    {
      "cell_type": "code",
      "source": [
        "df_N = pd.merge(df_N, price, on ='product_grade_name', how = 'left')"
      ],
      "metadata": {
        "id": "ovJP41Idovn_"
      },
      "execution_count": null,
      "outputs": []
    },
    {
      "cell_type": "code",
      "source": [
        "df_N.head(2)"
      ],
      "metadata": {
        "colab": {
          "base_uri": "https://localhost:8080/",
          "height": 436
        },
        "id": "iFIa3ZDgx-Ev",
        "outputId": "f5a863a4-75f7-4256-b1e1-03324f5d51a9"
      },
      "execution_count": null,
      "outputs": [
        {
          "output_type": "execute_result",
          "data": {
            "text/plain": [
              "   membership_no cancel_yn        Opp  game_date  game_time  \\\n",
              "0         102806         N  수원 삼성블루윙즈 2022-02-19         16   \n",
              "1         138160         N  수원 삼성블루윙즈 2022-02-19         16   \n",
              "\n",
              "   reserve_detail_no product_grade_name product_denomination_name  \\\n",
              "0                  1       World class석              K리그 축덕카드(신용)   \n",
              "1                  1       World class석                        성인   \n",
              "\n",
              "  reserve_date  reserve_hour  rank  game-reserve  grade_price  \n",
              "0   2022-02-14          14.0     2             5        19000  \n",
              "1   2022-02-14          14.0     2             5        19000  "
            ],
            "text/html": [
              "\n",
              "  <div id=\"df-f9e4071b-cf86-4621-9b1b-17afb0aaa9a8\">\n",
              "    <div class=\"colab-df-container\">\n",
              "      <div>\n",
              "<style scoped>\n",
              "    .dataframe tbody tr th:only-of-type {\n",
              "        vertical-align: middle;\n",
              "    }\n",
              "\n",
              "    .dataframe tbody tr th {\n",
              "        vertical-align: top;\n",
              "    }\n",
              "\n",
              "    .dataframe thead th {\n",
              "        text-align: right;\n",
              "    }\n",
              "</style>\n",
              "<table border=\"1\" class=\"dataframe\">\n",
              "  <thead>\n",
              "    <tr style=\"text-align: right;\">\n",
              "      <th></th>\n",
              "      <th>membership_no</th>\n",
              "      <th>cancel_yn</th>\n",
              "      <th>Opp</th>\n",
              "      <th>game_date</th>\n",
              "      <th>game_time</th>\n",
              "      <th>reserve_detail_no</th>\n",
              "      <th>product_grade_name</th>\n",
              "      <th>product_denomination_name</th>\n",
              "      <th>reserve_date</th>\n",
              "      <th>reserve_hour</th>\n",
              "      <th>rank</th>\n",
              "      <th>game-reserve</th>\n",
              "      <th>grade_price</th>\n",
              "    </tr>\n",
              "  </thead>\n",
              "  <tbody>\n",
              "    <tr>\n",
              "      <th>0</th>\n",
              "      <td>102806</td>\n",
              "      <td>N</td>\n",
              "      <td>수원 삼성블루윙즈</td>\n",
              "      <td>2022-02-19</td>\n",
              "      <td>16</td>\n",
              "      <td>1</td>\n",
              "      <td>World class석</td>\n",
              "      <td>K리그 축덕카드(신용)</td>\n",
              "      <td>2022-02-14</td>\n",
              "      <td>14.0</td>\n",
              "      <td>2</td>\n",
              "      <td>5</td>\n",
              "      <td>19000</td>\n",
              "    </tr>\n",
              "    <tr>\n",
              "      <th>1</th>\n",
              "      <td>138160</td>\n",
              "      <td>N</td>\n",
              "      <td>수원 삼성블루윙즈</td>\n",
              "      <td>2022-02-19</td>\n",
              "      <td>16</td>\n",
              "      <td>1</td>\n",
              "      <td>World class석</td>\n",
              "      <td>성인</td>\n",
              "      <td>2022-02-14</td>\n",
              "      <td>14.0</td>\n",
              "      <td>2</td>\n",
              "      <td>5</td>\n",
              "      <td>19000</td>\n",
              "    </tr>\n",
              "  </tbody>\n",
              "</table>\n",
              "</div>\n",
              "      <button class=\"colab-df-convert\" onclick=\"convertToInteractive('df-f9e4071b-cf86-4621-9b1b-17afb0aaa9a8')\"\n",
              "              title=\"Convert this dataframe to an interactive table.\"\n",
              "              style=\"display:none;\">\n",
              "        \n",
              "  <svg xmlns=\"http://www.w3.org/2000/svg\" height=\"24px\"viewBox=\"0 0 24 24\"\n",
              "       width=\"24px\">\n",
              "    <path d=\"M0 0h24v24H0V0z\" fill=\"none\"/>\n",
              "    <path d=\"M18.56 5.44l.94 2.06.94-2.06 2.06-.94-2.06-.94-.94-2.06-.94 2.06-2.06.94zm-11 1L8.5 8.5l.94-2.06 2.06-.94-2.06-.94L8.5 2.5l-.94 2.06-2.06.94zm10 10l.94 2.06.94-2.06 2.06-.94-2.06-.94-.94-2.06-.94 2.06-2.06.94z\"/><path d=\"M17.41 7.96l-1.37-1.37c-.4-.4-.92-.59-1.43-.59-.52 0-1.04.2-1.43.59L10.3 9.45l-7.72 7.72c-.78.78-.78 2.05 0 2.83L4 21.41c.39.39.9.59 1.41.59.51 0 1.02-.2 1.41-.59l7.78-7.78 2.81-2.81c.8-.78.8-2.07 0-2.86zM5.41 20L4 18.59l7.72-7.72 1.47 1.35L5.41 20z\"/>\n",
              "  </svg>\n",
              "      </button>\n",
              "      \n",
              "  <style>\n",
              "    .colab-df-container {\n",
              "      display:flex;\n",
              "      flex-wrap:wrap;\n",
              "      gap: 12px;\n",
              "    }\n",
              "\n",
              "    .colab-df-convert {\n",
              "      background-color: #E8F0FE;\n",
              "      border: none;\n",
              "      border-radius: 50%;\n",
              "      cursor: pointer;\n",
              "      display: none;\n",
              "      fill: #1967D2;\n",
              "      height: 32px;\n",
              "      padding: 0 0 0 0;\n",
              "      width: 32px;\n",
              "    }\n",
              "\n",
              "    .colab-df-convert:hover {\n",
              "      background-color: #E2EBFA;\n",
              "      box-shadow: 0px 1px 2px rgba(60, 64, 67, 0.3), 0px 1px 3px 1px rgba(60, 64, 67, 0.15);\n",
              "      fill: #174EA6;\n",
              "    }\n",
              "\n",
              "    [theme=dark] .colab-df-convert {\n",
              "      background-color: #3B4455;\n",
              "      fill: #D2E3FC;\n",
              "    }\n",
              "\n",
              "    [theme=dark] .colab-df-convert:hover {\n",
              "      background-color: #434B5C;\n",
              "      box-shadow: 0px 1px 3px 1px rgba(0, 0, 0, 0.15);\n",
              "      filter: drop-shadow(0px 1px 2px rgba(0, 0, 0, 0.3));\n",
              "      fill: #FFFFFF;\n",
              "    }\n",
              "  </style>\n",
              "\n",
              "      <script>\n",
              "        const buttonEl =\n",
              "          document.querySelector('#df-f9e4071b-cf86-4621-9b1b-17afb0aaa9a8 button.colab-df-convert');\n",
              "        buttonEl.style.display =\n",
              "          google.colab.kernel.accessAllowed ? 'block' : 'none';\n",
              "\n",
              "        async function convertToInteractive(key) {\n",
              "          const element = document.querySelector('#df-f9e4071b-cf86-4621-9b1b-17afb0aaa9a8');\n",
              "          const dataTable =\n",
              "            await google.colab.kernel.invokeFunction('convertToInteractive',\n",
              "                                                     [key], {});\n",
              "          if (!dataTable) return;\n",
              "\n",
              "          const docLinkHtml = 'Like what you see? Visit the ' +\n",
              "            '<a target=\"_blank\" href=https://colab.research.google.com/notebooks/data_table.ipynb>data table notebook</a>'\n",
              "            + ' to learn more about interactive tables.';\n",
              "          element.innerHTML = '';\n",
              "          dataTable['output_type'] = 'display_data';\n",
              "          await google.colab.output.renderOutput(dataTable, element);\n",
              "          const docLink = document.createElement('div');\n",
              "          docLink.innerHTML = docLinkHtml;\n",
              "          element.appendChild(docLink);\n",
              "        }\n",
              "      </script>\n",
              "    </div>\n",
              "  </div>\n",
              "  "
            ]
          },
          "metadata": {},
          "execution_count": 107
        }
      ]
    },
    {
      "cell_type": "code",
      "source": [
        "# 1인테이블석 하나로, 서비푸드 테이블석? -> 이것도 1인 테이블석"
      ],
      "metadata": {
        "id": "7y36rwgUi7pl"
      },
      "execution_count": null,
      "outputs": []
    },
    {
      "cell_type": "code",
      "source": [
        "df_clust = df_N[['membership_no', 'reserve_detail_no', 'reserve_date', 'grade_price']] # 방문횟수 필요"
      ],
      "metadata": {
        "id": "FyeZRIm46R25"
      },
      "execution_count": null,
      "outputs": []
    },
    {
      "cell_type": "code",
      "source": [
        "df_clust.head(2)"
      ],
      "metadata": {
        "colab": {
          "base_uri": "https://localhost:8080/",
          "height": 112
        },
        "id": "fQvh3ken8yXL",
        "outputId": "cd0dbae2-138b-4367-f243-8b3fdf4e38ec"
      },
      "execution_count": null,
      "outputs": [
        {
          "output_type": "execute_result",
          "data": {
            "text/plain": [
              "   membership_no  reserve_detail_no reserve_date  grade_price\n",
              "0         102806                  1   2022-02-14        19000\n",
              "1         138160                  1   2022-02-14        19000"
            ],
            "text/html": [
              "\n",
              "  <div id=\"df-bd77d222-0848-42db-9a63-ed736990869c\">\n",
              "    <div class=\"colab-df-container\">\n",
              "      <div>\n",
              "<style scoped>\n",
              "    .dataframe tbody tr th:only-of-type {\n",
              "        vertical-align: middle;\n",
              "    }\n",
              "\n",
              "    .dataframe tbody tr th {\n",
              "        vertical-align: top;\n",
              "    }\n",
              "\n",
              "    .dataframe thead th {\n",
              "        text-align: right;\n",
              "    }\n",
              "</style>\n",
              "<table border=\"1\" class=\"dataframe\">\n",
              "  <thead>\n",
              "    <tr style=\"text-align: right;\">\n",
              "      <th></th>\n",
              "      <th>membership_no</th>\n",
              "      <th>reserve_detail_no</th>\n",
              "      <th>reserve_date</th>\n",
              "      <th>grade_price</th>\n",
              "    </tr>\n",
              "  </thead>\n",
              "  <tbody>\n",
              "    <tr>\n",
              "      <th>0</th>\n",
              "      <td>102806</td>\n",
              "      <td>1</td>\n",
              "      <td>2022-02-14</td>\n",
              "      <td>19000</td>\n",
              "    </tr>\n",
              "    <tr>\n",
              "      <th>1</th>\n",
              "      <td>138160</td>\n",
              "      <td>1</td>\n",
              "      <td>2022-02-14</td>\n",
              "      <td>19000</td>\n",
              "    </tr>\n",
              "  </tbody>\n",
              "</table>\n",
              "</div>\n",
              "      <button class=\"colab-df-convert\" onclick=\"convertToInteractive('df-bd77d222-0848-42db-9a63-ed736990869c')\"\n",
              "              title=\"Convert this dataframe to an interactive table.\"\n",
              "              style=\"display:none;\">\n",
              "        \n",
              "  <svg xmlns=\"http://www.w3.org/2000/svg\" height=\"24px\"viewBox=\"0 0 24 24\"\n",
              "       width=\"24px\">\n",
              "    <path d=\"M0 0h24v24H0V0z\" fill=\"none\"/>\n",
              "    <path d=\"M18.56 5.44l.94 2.06.94-2.06 2.06-.94-2.06-.94-.94-2.06-.94 2.06-2.06.94zm-11 1L8.5 8.5l.94-2.06 2.06-.94-2.06-.94L8.5 2.5l-.94 2.06-2.06.94zm10 10l.94 2.06.94-2.06 2.06-.94-2.06-.94-.94-2.06-.94 2.06-2.06.94z\"/><path d=\"M17.41 7.96l-1.37-1.37c-.4-.4-.92-.59-1.43-.59-.52 0-1.04.2-1.43.59L10.3 9.45l-7.72 7.72c-.78.78-.78 2.05 0 2.83L4 21.41c.39.39.9.59 1.41.59.51 0 1.02-.2 1.41-.59l7.78-7.78 2.81-2.81c.8-.78.8-2.07 0-2.86zM5.41 20L4 18.59l7.72-7.72 1.47 1.35L5.41 20z\"/>\n",
              "  </svg>\n",
              "      </button>\n",
              "      \n",
              "  <style>\n",
              "    .colab-df-container {\n",
              "      display:flex;\n",
              "      flex-wrap:wrap;\n",
              "      gap: 12px;\n",
              "    }\n",
              "\n",
              "    .colab-df-convert {\n",
              "      background-color: #E8F0FE;\n",
              "      border: none;\n",
              "      border-radius: 50%;\n",
              "      cursor: pointer;\n",
              "      display: none;\n",
              "      fill: #1967D2;\n",
              "      height: 32px;\n",
              "      padding: 0 0 0 0;\n",
              "      width: 32px;\n",
              "    }\n",
              "\n",
              "    .colab-df-convert:hover {\n",
              "      background-color: #E2EBFA;\n",
              "      box-shadow: 0px 1px 2px rgba(60, 64, 67, 0.3), 0px 1px 3px 1px rgba(60, 64, 67, 0.15);\n",
              "      fill: #174EA6;\n",
              "    }\n",
              "\n",
              "    [theme=dark] .colab-df-convert {\n",
              "      background-color: #3B4455;\n",
              "      fill: #D2E3FC;\n",
              "    }\n",
              "\n",
              "    [theme=dark] .colab-df-convert:hover {\n",
              "      background-color: #434B5C;\n",
              "      box-shadow: 0px 1px 3px 1px rgba(0, 0, 0, 0.15);\n",
              "      filter: drop-shadow(0px 1px 2px rgba(0, 0, 0, 0.3));\n",
              "      fill: #FFFFFF;\n",
              "    }\n",
              "  </style>\n",
              "\n",
              "      <script>\n",
              "        const buttonEl =\n",
              "          document.querySelector('#df-bd77d222-0848-42db-9a63-ed736990869c button.colab-df-convert');\n",
              "        buttonEl.style.display =\n",
              "          google.colab.kernel.accessAllowed ? 'block' : 'none';\n",
              "\n",
              "        async function convertToInteractive(key) {\n",
              "          const element = document.querySelector('#df-bd77d222-0848-42db-9a63-ed736990869c');\n",
              "          const dataTable =\n",
              "            await google.colab.kernel.invokeFunction('convertToInteractive',\n",
              "                                                     [key], {});\n",
              "          if (!dataTable) return;\n",
              "\n",
              "          const docLinkHtml = 'Like what you see? Visit the ' +\n",
              "            '<a target=\"_blank\" href=https://colab.research.google.com/notebooks/data_table.ipynb>data table notebook</a>'\n",
              "            + ' to learn more about interactive tables.';\n",
              "          element.innerHTML = '';\n",
              "          dataTable['output_type'] = 'display_data';\n",
              "          await google.colab.output.renderOutput(dataTable, element);\n",
              "          const docLink = document.createElement('div');\n",
              "          docLink.innerHTML = docLinkHtml;\n",
              "          element.appendChild(docLink);\n",
              "        }\n",
              "      </script>\n",
              "    </div>\n",
              "  </div>\n",
              "  "
            ]
          },
          "metadata": {},
          "execution_count": 110
        }
      ]
    },
    {
      "cell_type": "code",
      "source": [
        "df_clust_cnt = df_clust.groupby(['membership_no', 'reserve_date'], as_index = False).count()\n",
        "df_clust_cnt['grade_price'] = df_clust['grade_price']"
      ],
      "metadata": {
        "id": "NZrQy_Gz9_0U"
      },
      "execution_count": null,
      "outputs": []
    },
    {
      "cell_type": "code",
      "source": [
        "df_clust_cnt['amount'] = df_clust_cnt['reserve_detail_no'] * df_clust_cnt['grade_price']\n",
        "df_clust_cnt"
      ],
      "metadata": {
        "colab": {
          "base_uri": "https://localhost:8080/",
          "height": 423
        },
        "id": "0uguRyptDlTe",
        "outputId": "8ebd0431-11ef-4e5c-edbe-1f70a471f6db"
      },
      "execution_count": null,
      "outputs": [
        {
          "output_type": "execute_result",
          "data": {
            "text/plain": [
              "       membership_no reserve_date  reserve_detail_no  grade_price  amount\n",
              "0                137   2022-05-28                  2        19000   38000\n",
              "1                153   2022-02-15                  1        19000   19000\n",
              "2                153   2022-02-23                  1        19000   19000\n",
              "3                153   2022-02-28                  1        19000   19000\n",
              "4                153   2022-03-08                  1        19000   19000\n",
              "...              ...          ...                ...          ...     ...\n",
              "20817         151972   2022-10-16                  4        18000   72000\n",
              "20818         151978   2022-10-16                  1        18000   18000\n",
              "20819         151980   2022-10-16                  1        12000   12000\n",
              "20820         151981   2022-10-16                  2        35000   70000\n",
              "20821         151984   2022-10-16                  1        35000   35000\n",
              "\n",
              "[20822 rows x 5 columns]"
            ],
            "text/html": [
              "\n",
              "  <div id=\"df-90d4bad0-f350-4476-ba91-5f53e549f6d2\">\n",
              "    <div class=\"colab-df-container\">\n",
              "      <div>\n",
              "<style scoped>\n",
              "    .dataframe tbody tr th:only-of-type {\n",
              "        vertical-align: middle;\n",
              "    }\n",
              "\n",
              "    .dataframe tbody tr th {\n",
              "        vertical-align: top;\n",
              "    }\n",
              "\n",
              "    .dataframe thead th {\n",
              "        text-align: right;\n",
              "    }\n",
              "</style>\n",
              "<table border=\"1\" class=\"dataframe\">\n",
              "  <thead>\n",
              "    <tr style=\"text-align: right;\">\n",
              "      <th></th>\n",
              "      <th>membership_no</th>\n",
              "      <th>reserve_date</th>\n",
              "      <th>reserve_detail_no</th>\n",
              "      <th>grade_price</th>\n",
              "      <th>amount</th>\n",
              "    </tr>\n",
              "  </thead>\n",
              "  <tbody>\n",
              "    <tr>\n",
              "      <th>0</th>\n",
              "      <td>137</td>\n",
              "      <td>2022-05-28</td>\n",
              "      <td>2</td>\n",
              "      <td>19000</td>\n",
              "      <td>38000</td>\n",
              "    </tr>\n",
              "    <tr>\n",
              "      <th>1</th>\n",
              "      <td>153</td>\n",
              "      <td>2022-02-15</td>\n",
              "      <td>1</td>\n",
              "      <td>19000</td>\n",
              "      <td>19000</td>\n",
              "    </tr>\n",
              "    <tr>\n",
              "      <th>2</th>\n",
              "      <td>153</td>\n",
              "      <td>2022-02-23</td>\n",
              "      <td>1</td>\n",
              "      <td>19000</td>\n",
              "      <td>19000</td>\n",
              "    </tr>\n",
              "    <tr>\n",
              "      <th>3</th>\n",
              "      <td>153</td>\n",
              "      <td>2022-02-28</td>\n",
              "      <td>1</td>\n",
              "      <td>19000</td>\n",
              "      <td>19000</td>\n",
              "    </tr>\n",
              "    <tr>\n",
              "      <th>4</th>\n",
              "      <td>153</td>\n",
              "      <td>2022-03-08</td>\n",
              "      <td>1</td>\n",
              "      <td>19000</td>\n",
              "      <td>19000</td>\n",
              "    </tr>\n",
              "    <tr>\n",
              "      <th>...</th>\n",
              "      <td>...</td>\n",
              "      <td>...</td>\n",
              "      <td>...</td>\n",
              "      <td>...</td>\n",
              "      <td>...</td>\n",
              "    </tr>\n",
              "    <tr>\n",
              "      <th>20817</th>\n",
              "      <td>151972</td>\n",
              "      <td>2022-10-16</td>\n",
              "      <td>4</td>\n",
              "      <td>18000</td>\n",
              "      <td>72000</td>\n",
              "    </tr>\n",
              "    <tr>\n",
              "      <th>20818</th>\n",
              "      <td>151978</td>\n",
              "      <td>2022-10-16</td>\n",
              "      <td>1</td>\n",
              "      <td>18000</td>\n",
              "      <td>18000</td>\n",
              "    </tr>\n",
              "    <tr>\n",
              "      <th>20819</th>\n",
              "      <td>151980</td>\n",
              "      <td>2022-10-16</td>\n",
              "      <td>1</td>\n",
              "      <td>12000</td>\n",
              "      <td>12000</td>\n",
              "    </tr>\n",
              "    <tr>\n",
              "      <th>20820</th>\n",
              "      <td>151981</td>\n",
              "      <td>2022-10-16</td>\n",
              "      <td>2</td>\n",
              "      <td>35000</td>\n",
              "      <td>70000</td>\n",
              "    </tr>\n",
              "    <tr>\n",
              "      <th>20821</th>\n",
              "      <td>151984</td>\n",
              "      <td>2022-10-16</td>\n",
              "      <td>1</td>\n",
              "      <td>35000</td>\n",
              "      <td>35000</td>\n",
              "    </tr>\n",
              "  </tbody>\n",
              "</table>\n",
              "<p>20822 rows × 5 columns</p>\n",
              "</div>\n",
              "      <button class=\"colab-df-convert\" onclick=\"convertToInteractive('df-90d4bad0-f350-4476-ba91-5f53e549f6d2')\"\n",
              "              title=\"Convert this dataframe to an interactive table.\"\n",
              "              style=\"display:none;\">\n",
              "        \n",
              "  <svg xmlns=\"http://www.w3.org/2000/svg\" height=\"24px\"viewBox=\"0 0 24 24\"\n",
              "       width=\"24px\">\n",
              "    <path d=\"M0 0h24v24H0V0z\" fill=\"none\"/>\n",
              "    <path d=\"M18.56 5.44l.94 2.06.94-2.06 2.06-.94-2.06-.94-.94-2.06-.94 2.06-2.06.94zm-11 1L8.5 8.5l.94-2.06 2.06-.94-2.06-.94L8.5 2.5l-.94 2.06-2.06.94zm10 10l.94 2.06.94-2.06 2.06-.94-2.06-.94-.94-2.06-.94 2.06-2.06.94z\"/><path d=\"M17.41 7.96l-1.37-1.37c-.4-.4-.92-.59-1.43-.59-.52 0-1.04.2-1.43.59L10.3 9.45l-7.72 7.72c-.78.78-.78 2.05 0 2.83L4 21.41c.39.39.9.59 1.41.59.51 0 1.02-.2 1.41-.59l7.78-7.78 2.81-2.81c.8-.78.8-2.07 0-2.86zM5.41 20L4 18.59l7.72-7.72 1.47 1.35L5.41 20z\"/>\n",
              "  </svg>\n",
              "      </button>\n",
              "      \n",
              "  <style>\n",
              "    .colab-df-container {\n",
              "      display:flex;\n",
              "      flex-wrap:wrap;\n",
              "      gap: 12px;\n",
              "    }\n",
              "\n",
              "    .colab-df-convert {\n",
              "      background-color: #E8F0FE;\n",
              "      border: none;\n",
              "      border-radius: 50%;\n",
              "      cursor: pointer;\n",
              "      display: none;\n",
              "      fill: #1967D2;\n",
              "      height: 32px;\n",
              "      padding: 0 0 0 0;\n",
              "      width: 32px;\n",
              "    }\n",
              "\n",
              "    .colab-df-convert:hover {\n",
              "      background-color: #E2EBFA;\n",
              "      box-shadow: 0px 1px 2px rgba(60, 64, 67, 0.3), 0px 1px 3px 1px rgba(60, 64, 67, 0.15);\n",
              "      fill: #174EA6;\n",
              "    }\n",
              "\n",
              "    [theme=dark] .colab-df-convert {\n",
              "      background-color: #3B4455;\n",
              "      fill: #D2E3FC;\n",
              "    }\n",
              "\n",
              "    [theme=dark] .colab-df-convert:hover {\n",
              "      background-color: #434B5C;\n",
              "      box-shadow: 0px 1px 3px 1px rgba(0, 0, 0, 0.15);\n",
              "      filter: drop-shadow(0px 1px 2px rgba(0, 0, 0, 0.3));\n",
              "      fill: #FFFFFF;\n",
              "    }\n",
              "  </style>\n",
              "\n",
              "      <script>\n",
              "        const buttonEl =\n",
              "          document.querySelector('#df-90d4bad0-f350-4476-ba91-5f53e549f6d2 button.colab-df-convert');\n",
              "        buttonEl.style.display =\n",
              "          google.colab.kernel.accessAllowed ? 'block' : 'none';\n",
              "\n",
              "        async function convertToInteractive(key) {\n",
              "          const element = document.querySelector('#df-90d4bad0-f350-4476-ba91-5f53e549f6d2');\n",
              "          const dataTable =\n",
              "            await google.colab.kernel.invokeFunction('convertToInteractive',\n",
              "                                                     [key], {});\n",
              "          if (!dataTable) return;\n",
              "\n",
              "          const docLinkHtml = 'Like what you see? Visit the ' +\n",
              "            '<a target=\"_blank\" href=https://colab.research.google.com/notebooks/data_table.ipynb>data table notebook</a>'\n",
              "            + ' to learn more about interactive tables.';\n",
              "          element.innerHTML = '';\n",
              "          dataTable['output_type'] = 'display_data';\n",
              "          await google.colab.output.renderOutput(dataTable, element);\n",
              "          const docLink = document.createElement('div');\n",
              "          docLink.innerHTML = docLinkHtml;\n",
              "          element.appendChild(docLink);\n",
              "        }\n",
              "      </script>\n",
              "    </div>\n",
              "  </div>\n",
              "  "
            ]
          },
          "metadata": {},
          "execution_count": 112
        }
      ]
    },
    {
      "cell_type": "code",
      "source": [
        "## 각 고객별 최근방문일을 알아보자.\n",
        "recency_df = df_clust_cnt.groupby('membership_no')['reserve_date'].max().reset_index()\n",
        "recency_df"
      ],
      "metadata": {
        "colab": {
          "base_uri": "https://localhost:8080/",
          "height": 423
        },
        "id": "sNsb4UuzGCuA",
        "outputId": "1e575b36-aaea-4228-c64e-962c3c031353"
      },
      "execution_count": null,
      "outputs": [
        {
          "output_type": "execute_result",
          "data": {
            "text/plain": [
              "      membership_no reserve_date\n",
              "0               137   2022-05-28\n",
              "1               153   2022-10-12\n",
              "2               180   2022-10-13\n",
              "3               208   2022-10-12\n",
              "4               291   2022-10-12\n",
              "...             ...          ...\n",
              "7422         151972   2022-10-16\n",
              "7423         151978   2022-10-16\n",
              "7424         151980   2022-10-16\n",
              "7425         151981   2022-10-16\n",
              "7426         151984   2022-10-16\n",
              "\n",
              "[7427 rows x 2 columns]"
            ],
            "text/html": [
              "\n",
              "  <div id=\"df-12e089f8-4379-4285-ae7b-5561b51a8c27\">\n",
              "    <div class=\"colab-df-container\">\n",
              "      <div>\n",
              "<style scoped>\n",
              "    .dataframe tbody tr th:only-of-type {\n",
              "        vertical-align: middle;\n",
              "    }\n",
              "\n",
              "    .dataframe tbody tr th {\n",
              "        vertical-align: top;\n",
              "    }\n",
              "\n",
              "    .dataframe thead th {\n",
              "        text-align: right;\n",
              "    }\n",
              "</style>\n",
              "<table border=\"1\" class=\"dataframe\">\n",
              "  <thead>\n",
              "    <tr style=\"text-align: right;\">\n",
              "      <th></th>\n",
              "      <th>membership_no</th>\n",
              "      <th>reserve_date</th>\n",
              "    </tr>\n",
              "  </thead>\n",
              "  <tbody>\n",
              "    <tr>\n",
              "      <th>0</th>\n",
              "      <td>137</td>\n",
              "      <td>2022-05-28</td>\n",
              "    </tr>\n",
              "    <tr>\n",
              "      <th>1</th>\n",
              "      <td>153</td>\n",
              "      <td>2022-10-12</td>\n",
              "    </tr>\n",
              "    <tr>\n",
              "      <th>2</th>\n",
              "      <td>180</td>\n",
              "      <td>2022-10-13</td>\n",
              "    </tr>\n",
              "    <tr>\n",
              "      <th>3</th>\n",
              "      <td>208</td>\n",
              "      <td>2022-10-12</td>\n",
              "    </tr>\n",
              "    <tr>\n",
              "      <th>4</th>\n",
              "      <td>291</td>\n",
              "      <td>2022-10-12</td>\n",
              "    </tr>\n",
              "    <tr>\n",
              "      <th>...</th>\n",
              "      <td>...</td>\n",
              "      <td>...</td>\n",
              "    </tr>\n",
              "    <tr>\n",
              "      <th>7422</th>\n",
              "      <td>151972</td>\n",
              "      <td>2022-10-16</td>\n",
              "    </tr>\n",
              "    <tr>\n",
              "      <th>7423</th>\n",
              "      <td>151978</td>\n",
              "      <td>2022-10-16</td>\n",
              "    </tr>\n",
              "    <tr>\n",
              "      <th>7424</th>\n",
              "      <td>151980</td>\n",
              "      <td>2022-10-16</td>\n",
              "    </tr>\n",
              "    <tr>\n",
              "      <th>7425</th>\n",
              "      <td>151981</td>\n",
              "      <td>2022-10-16</td>\n",
              "    </tr>\n",
              "    <tr>\n",
              "      <th>7426</th>\n",
              "      <td>151984</td>\n",
              "      <td>2022-10-16</td>\n",
              "    </tr>\n",
              "  </tbody>\n",
              "</table>\n",
              "<p>7427 rows × 2 columns</p>\n",
              "</div>\n",
              "      <button class=\"colab-df-convert\" onclick=\"convertToInteractive('df-12e089f8-4379-4285-ae7b-5561b51a8c27')\"\n",
              "              title=\"Convert this dataframe to an interactive table.\"\n",
              "              style=\"display:none;\">\n",
              "        \n",
              "  <svg xmlns=\"http://www.w3.org/2000/svg\" height=\"24px\"viewBox=\"0 0 24 24\"\n",
              "       width=\"24px\">\n",
              "    <path d=\"M0 0h24v24H0V0z\" fill=\"none\"/>\n",
              "    <path d=\"M18.56 5.44l.94 2.06.94-2.06 2.06-.94-2.06-.94-.94-2.06-.94 2.06-2.06.94zm-11 1L8.5 8.5l.94-2.06 2.06-.94-2.06-.94L8.5 2.5l-.94 2.06-2.06.94zm10 10l.94 2.06.94-2.06 2.06-.94-2.06-.94-.94-2.06-.94 2.06-2.06.94z\"/><path d=\"M17.41 7.96l-1.37-1.37c-.4-.4-.92-.59-1.43-.59-.52 0-1.04.2-1.43.59L10.3 9.45l-7.72 7.72c-.78.78-.78 2.05 0 2.83L4 21.41c.39.39.9.59 1.41.59.51 0 1.02-.2 1.41-.59l7.78-7.78 2.81-2.81c.8-.78.8-2.07 0-2.86zM5.41 20L4 18.59l7.72-7.72 1.47 1.35L5.41 20z\"/>\n",
              "  </svg>\n",
              "      </button>\n",
              "      \n",
              "  <style>\n",
              "    .colab-df-container {\n",
              "      display:flex;\n",
              "      flex-wrap:wrap;\n",
              "      gap: 12px;\n",
              "    }\n",
              "\n",
              "    .colab-df-convert {\n",
              "      background-color: #E8F0FE;\n",
              "      border: none;\n",
              "      border-radius: 50%;\n",
              "      cursor: pointer;\n",
              "      display: none;\n",
              "      fill: #1967D2;\n",
              "      height: 32px;\n",
              "      padding: 0 0 0 0;\n",
              "      width: 32px;\n",
              "    }\n",
              "\n",
              "    .colab-df-convert:hover {\n",
              "      background-color: #E2EBFA;\n",
              "      box-shadow: 0px 1px 2px rgba(60, 64, 67, 0.3), 0px 1px 3px 1px rgba(60, 64, 67, 0.15);\n",
              "      fill: #174EA6;\n",
              "    }\n",
              "\n",
              "    [theme=dark] .colab-df-convert {\n",
              "      background-color: #3B4455;\n",
              "      fill: #D2E3FC;\n",
              "    }\n",
              "\n",
              "    [theme=dark] .colab-df-convert:hover {\n",
              "      background-color: #434B5C;\n",
              "      box-shadow: 0px 1px 3px 1px rgba(0, 0, 0, 0.15);\n",
              "      filter: drop-shadow(0px 1px 2px rgba(0, 0, 0, 0.3));\n",
              "      fill: #FFFFFF;\n",
              "    }\n",
              "  </style>\n",
              "\n",
              "      <script>\n",
              "        const buttonEl =\n",
              "          document.querySelector('#df-12e089f8-4379-4285-ae7b-5561b51a8c27 button.colab-df-convert');\n",
              "        buttonEl.style.display =\n",
              "          google.colab.kernel.accessAllowed ? 'block' : 'none';\n",
              "\n",
              "        async function convertToInteractive(key) {\n",
              "          const element = document.querySelector('#df-12e089f8-4379-4285-ae7b-5561b51a8c27');\n",
              "          const dataTable =\n",
              "            await google.colab.kernel.invokeFunction('convertToInteractive',\n",
              "                                                     [key], {});\n",
              "          if (!dataTable) return;\n",
              "\n",
              "          const docLinkHtml = 'Like what you see? Visit the ' +\n",
              "            '<a target=\"_blank\" href=https://colab.research.google.com/notebooks/data_table.ipynb>data table notebook</a>'\n",
              "            + ' to learn more about interactive tables.';\n",
              "          element.innerHTML = '';\n",
              "          dataTable['output_type'] = 'display_data';\n",
              "          await google.colab.output.renderOutput(dataTable, element);\n",
              "          const docLink = document.createElement('div');\n",
              "          docLink.innerHTML = docLinkHtml;\n",
              "          element.appendChild(docLink);\n",
              "        }\n",
              "      </script>\n",
              "    </div>\n",
              "  </div>\n",
              "  "
            ]
          },
          "metadata": {},
          "execution_count": 113
        }
      ]
    },
    {
      "cell_type": "code",
      "source": [
        "## 각 고객별 방문횟수를 알아보자.\n",
        "frequency_df = df_clust_cnt.groupby('membership_no')['reserve_date'].count().reset_index()\n",
        "frequency_df"
      ],
      "metadata": {
        "colab": {
          "base_uri": "https://localhost:8080/",
          "height": 423
        },
        "id": "ZV2m4XZ4HFJ-",
        "outputId": "811903fc-ce56-4056-c322-d4618ee195ba"
      },
      "execution_count": null,
      "outputs": [
        {
          "output_type": "execute_result",
          "data": {
            "text/plain": [
              "      membership_no  reserve_date\n",
              "0               137             1\n",
              "1               153            11\n",
              "2               180             2\n",
              "3               208            22\n",
              "4               291            28\n",
              "...             ...           ...\n",
              "7422         151972             1\n",
              "7423         151978             1\n",
              "7424         151980             1\n",
              "7425         151981             1\n",
              "7426         151984             1\n",
              "\n",
              "[7427 rows x 2 columns]"
            ],
            "text/html": [
              "\n",
              "  <div id=\"df-d75412b0-ba36-490e-b288-92e29cc7e976\">\n",
              "    <div class=\"colab-df-container\">\n",
              "      <div>\n",
              "<style scoped>\n",
              "    .dataframe tbody tr th:only-of-type {\n",
              "        vertical-align: middle;\n",
              "    }\n",
              "\n",
              "    .dataframe tbody tr th {\n",
              "        vertical-align: top;\n",
              "    }\n",
              "\n",
              "    .dataframe thead th {\n",
              "        text-align: right;\n",
              "    }\n",
              "</style>\n",
              "<table border=\"1\" class=\"dataframe\">\n",
              "  <thead>\n",
              "    <tr style=\"text-align: right;\">\n",
              "      <th></th>\n",
              "      <th>membership_no</th>\n",
              "      <th>reserve_date</th>\n",
              "    </tr>\n",
              "  </thead>\n",
              "  <tbody>\n",
              "    <tr>\n",
              "      <th>0</th>\n",
              "      <td>137</td>\n",
              "      <td>1</td>\n",
              "    </tr>\n",
              "    <tr>\n",
              "      <th>1</th>\n",
              "      <td>153</td>\n",
              "      <td>11</td>\n",
              "    </tr>\n",
              "    <tr>\n",
              "      <th>2</th>\n",
              "      <td>180</td>\n",
              "      <td>2</td>\n",
              "    </tr>\n",
              "    <tr>\n",
              "      <th>3</th>\n",
              "      <td>208</td>\n",
              "      <td>22</td>\n",
              "    </tr>\n",
              "    <tr>\n",
              "      <th>4</th>\n",
              "      <td>291</td>\n",
              "      <td>28</td>\n",
              "    </tr>\n",
              "    <tr>\n",
              "      <th>...</th>\n",
              "      <td>...</td>\n",
              "      <td>...</td>\n",
              "    </tr>\n",
              "    <tr>\n",
              "      <th>7422</th>\n",
              "      <td>151972</td>\n",
              "      <td>1</td>\n",
              "    </tr>\n",
              "    <tr>\n",
              "      <th>7423</th>\n",
              "      <td>151978</td>\n",
              "      <td>1</td>\n",
              "    </tr>\n",
              "    <tr>\n",
              "      <th>7424</th>\n",
              "      <td>151980</td>\n",
              "      <td>1</td>\n",
              "    </tr>\n",
              "    <tr>\n",
              "      <th>7425</th>\n",
              "      <td>151981</td>\n",
              "      <td>1</td>\n",
              "    </tr>\n",
              "    <tr>\n",
              "      <th>7426</th>\n",
              "      <td>151984</td>\n",
              "      <td>1</td>\n",
              "    </tr>\n",
              "  </tbody>\n",
              "</table>\n",
              "<p>7427 rows × 2 columns</p>\n",
              "</div>\n",
              "      <button class=\"colab-df-convert\" onclick=\"convertToInteractive('df-d75412b0-ba36-490e-b288-92e29cc7e976')\"\n",
              "              title=\"Convert this dataframe to an interactive table.\"\n",
              "              style=\"display:none;\">\n",
              "        \n",
              "  <svg xmlns=\"http://www.w3.org/2000/svg\" height=\"24px\"viewBox=\"0 0 24 24\"\n",
              "       width=\"24px\">\n",
              "    <path d=\"M0 0h24v24H0V0z\" fill=\"none\"/>\n",
              "    <path d=\"M18.56 5.44l.94 2.06.94-2.06 2.06-.94-2.06-.94-.94-2.06-.94 2.06-2.06.94zm-11 1L8.5 8.5l.94-2.06 2.06-.94-2.06-.94L8.5 2.5l-.94 2.06-2.06.94zm10 10l.94 2.06.94-2.06 2.06-.94-2.06-.94-.94-2.06-.94 2.06-2.06.94z\"/><path d=\"M17.41 7.96l-1.37-1.37c-.4-.4-.92-.59-1.43-.59-.52 0-1.04.2-1.43.59L10.3 9.45l-7.72 7.72c-.78.78-.78 2.05 0 2.83L4 21.41c.39.39.9.59 1.41.59.51 0 1.02-.2 1.41-.59l7.78-7.78 2.81-2.81c.8-.78.8-2.07 0-2.86zM5.41 20L4 18.59l7.72-7.72 1.47 1.35L5.41 20z\"/>\n",
              "  </svg>\n",
              "      </button>\n",
              "      \n",
              "  <style>\n",
              "    .colab-df-container {\n",
              "      display:flex;\n",
              "      flex-wrap:wrap;\n",
              "      gap: 12px;\n",
              "    }\n",
              "\n",
              "    .colab-df-convert {\n",
              "      background-color: #E8F0FE;\n",
              "      border: none;\n",
              "      border-radius: 50%;\n",
              "      cursor: pointer;\n",
              "      display: none;\n",
              "      fill: #1967D2;\n",
              "      height: 32px;\n",
              "      padding: 0 0 0 0;\n",
              "      width: 32px;\n",
              "    }\n",
              "\n",
              "    .colab-df-convert:hover {\n",
              "      background-color: #E2EBFA;\n",
              "      box-shadow: 0px 1px 2px rgba(60, 64, 67, 0.3), 0px 1px 3px 1px rgba(60, 64, 67, 0.15);\n",
              "      fill: #174EA6;\n",
              "    }\n",
              "\n",
              "    [theme=dark] .colab-df-convert {\n",
              "      background-color: #3B4455;\n",
              "      fill: #D2E3FC;\n",
              "    }\n",
              "\n",
              "    [theme=dark] .colab-df-convert:hover {\n",
              "      background-color: #434B5C;\n",
              "      box-shadow: 0px 1px 3px 1px rgba(0, 0, 0, 0.15);\n",
              "      filter: drop-shadow(0px 1px 2px rgba(0, 0, 0, 0.3));\n",
              "      fill: #FFFFFF;\n",
              "    }\n",
              "  </style>\n",
              "\n",
              "      <script>\n",
              "        const buttonEl =\n",
              "          document.querySelector('#df-d75412b0-ba36-490e-b288-92e29cc7e976 button.colab-df-convert');\n",
              "        buttonEl.style.display =\n",
              "          google.colab.kernel.accessAllowed ? 'block' : 'none';\n",
              "\n",
              "        async function convertToInteractive(key) {\n",
              "          const element = document.querySelector('#df-d75412b0-ba36-490e-b288-92e29cc7e976');\n",
              "          const dataTable =\n",
              "            await google.colab.kernel.invokeFunction('convertToInteractive',\n",
              "                                                     [key], {});\n",
              "          if (!dataTable) return;\n",
              "\n",
              "          const docLinkHtml = 'Like what you see? Visit the ' +\n",
              "            '<a target=\"_blank\" href=https://colab.research.google.com/notebooks/data_table.ipynb>data table notebook</a>'\n",
              "            + ' to learn more about interactive tables.';\n",
              "          element.innerHTML = '';\n",
              "          dataTable['output_type'] = 'display_data';\n",
              "          await google.colab.output.renderOutput(dataTable, element);\n",
              "          const docLink = document.createElement('div');\n",
              "          docLink.innerHTML = docLinkHtml;\n",
              "          element.appendChild(docLink);\n",
              "        }\n",
              "      </script>\n",
              "    </div>\n",
              "  </div>\n",
              "  "
            ]
          },
          "metadata": {},
          "execution_count": 114
        }
      ]
    },
    {
      "cell_type": "code",
      "source": [
        "# 구매 총합\n",
        "amount_df = df_clust_cnt.groupby('membership_no')['amount'].sum().reset_index()\n",
        "amount_df"
      ],
      "metadata": {
        "colab": {
          "base_uri": "https://localhost:8080/",
          "height": 423
        },
        "id": "CGhR53AjH6u9",
        "outputId": "545cd678-8aa1-472d-8f14-d09ad796537f"
      },
      "execution_count": null,
      "outputs": [
        {
          "output_type": "execute_result",
          "data": {
            "text/plain": [
              "      membership_no  amount\n",
              "0               137   38000\n",
              "1               153  215000\n",
              "2               180   57000\n",
              "3               208  443000\n",
              "4               291  661000\n",
              "...             ...     ...\n",
              "7422         151972   72000\n",
              "7423         151978   18000\n",
              "7424         151980   12000\n",
              "7425         151981   70000\n",
              "7426         151984   35000\n",
              "\n",
              "[7427 rows x 2 columns]"
            ],
            "text/html": [
              "\n",
              "  <div id=\"df-ed211241-0944-4e88-9fd1-26b274d0640e\">\n",
              "    <div class=\"colab-df-container\">\n",
              "      <div>\n",
              "<style scoped>\n",
              "    .dataframe tbody tr th:only-of-type {\n",
              "        vertical-align: middle;\n",
              "    }\n",
              "\n",
              "    .dataframe tbody tr th {\n",
              "        vertical-align: top;\n",
              "    }\n",
              "\n",
              "    .dataframe thead th {\n",
              "        text-align: right;\n",
              "    }\n",
              "</style>\n",
              "<table border=\"1\" class=\"dataframe\">\n",
              "  <thead>\n",
              "    <tr style=\"text-align: right;\">\n",
              "      <th></th>\n",
              "      <th>membership_no</th>\n",
              "      <th>amount</th>\n",
              "    </tr>\n",
              "  </thead>\n",
              "  <tbody>\n",
              "    <tr>\n",
              "      <th>0</th>\n",
              "      <td>137</td>\n",
              "      <td>38000</td>\n",
              "    </tr>\n",
              "    <tr>\n",
              "      <th>1</th>\n",
              "      <td>153</td>\n",
              "      <td>215000</td>\n",
              "    </tr>\n",
              "    <tr>\n",
              "      <th>2</th>\n",
              "      <td>180</td>\n",
              "      <td>57000</td>\n",
              "    </tr>\n",
              "    <tr>\n",
              "      <th>3</th>\n",
              "      <td>208</td>\n",
              "      <td>443000</td>\n",
              "    </tr>\n",
              "    <tr>\n",
              "      <th>4</th>\n",
              "      <td>291</td>\n",
              "      <td>661000</td>\n",
              "    </tr>\n",
              "    <tr>\n",
              "      <th>...</th>\n",
              "      <td>...</td>\n",
              "      <td>...</td>\n",
              "    </tr>\n",
              "    <tr>\n",
              "      <th>7422</th>\n",
              "      <td>151972</td>\n",
              "      <td>72000</td>\n",
              "    </tr>\n",
              "    <tr>\n",
              "      <th>7423</th>\n",
              "      <td>151978</td>\n",
              "      <td>18000</td>\n",
              "    </tr>\n",
              "    <tr>\n",
              "      <th>7424</th>\n",
              "      <td>151980</td>\n",
              "      <td>12000</td>\n",
              "    </tr>\n",
              "    <tr>\n",
              "      <th>7425</th>\n",
              "      <td>151981</td>\n",
              "      <td>70000</td>\n",
              "    </tr>\n",
              "    <tr>\n",
              "      <th>7426</th>\n",
              "      <td>151984</td>\n",
              "      <td>35000</td>\n",
              "    </tr>\n",
              "  </tbody>\n",
              "</table>\n",
              "<p>7427 rows × 2 columns</p>\n",
              "</div>\n",
              "      <button class=\"colab-df-convert\" onclick=\"convertToInteractive('df-ed211241-0944-4e88-9fd1-26b274d0640e')\"\n",
              "              title=\"Convert this dataframe to an interactive table.\"\n",
              "              style=\"display:none;\">\n",
              "        \n",
              "  <svg xmlns=\"http://www.w3.org/2000/svg\" height=\"24px\"viewBox=\"0 0 24 24\"\n",
              "       width=\"24px\">\n",
              "    <path d=\"M0 0h24v24H0V0z\" fill=\"none\"/>\n",
              "    <path d=\"M18.56 5.44l.94 2.06.94-2.06 2.06-.94-2.06-.94-.94-2.06-.94 2.06-2.06.94zm-11 1L8.5 8.5l.94-2.06 2.06-.94-2.06-.94L8.5 2.5l-.94 2.06-2.06.94zm10 10l.94 2.06.94-2.06 2.06-.94-2.06-.94-.94-2.06-.94 2.06-2.06.94z\"/><path d=\"M17.41 7.96l-1.37-1.37c-.4-.4-.92-.59-1.43-.59-.52 0-1.04.2-1.43.59L10.3 9.45l-7.72 7.72c-.78.78-.78 2.05 0 2.83L4 21.41c.39.39.9.59 1.41.59.51 0 1.02-.2 1.41-.59l7.78-7.78 2.81-2.81c.8-.78.8-2.07 0-2.86zM5.41 20L4 18.59l7.72-7.72 1.47 1.35L5.41 20z\"/>\n",
              "  </svg>\n",
              "      </button>\n",
              "      \n",
              "  <style>\n",
              "    .colab-df-container {\n",
              "      display:flex;\n",
              "      flex-wrap:wrap;\n",
              "      gap: 12px;\n",
              "    }\n",
              "\n",
              "    .colab-df-convert {\n",
              "      background-color: #E8F0FE;\n",
              "      border: none;\n",
              "      border-radius: 50%;\n",
              "      cursor: pointer;\n",
              "      display: none;\n",
              "      fill: #1967D2;\n",
              "      height: 32px;\n",
              "      padding: 0 0 0 0;\n",
              "      width: 32px;\n",
              "    }\n",
              "\n",
              "    .colab-df-convert:hover {\n",
              "      background-color: #E2EBFA;\n",
              "      box-shadow: 0px 1px 2px rgba(60, 64, 67, 0.3), 0px 1px 3px 1px rgba(60, 64, 67, 0.15);\n",
              "      fill: #174EA6;\n",
              "    }\n",
              "\n",
              "    [theme=dark] .colab-df-convert {\n",
              "      background-color: #3B4455;\n",
              "      fill: #D2E3FC;\n",
              "    }\n",
              "\n",
              "    [theme=dark] .colab-df-convert:hover {\n",
              "      background-color: #434B5C;\n",
              "      box-shadow: 0px 1px 3px 1px rgba(0, 0, 0, 0.15);\n",
              "      filter: drop-shadow(0px 1px 2px rgba(0, 0, 0, 0.3));\n",
              "      fill: #FFFFFF;\n",
              "    }\n",
              "  </style>\n",
              "\n",
              "      <script>\n",
              "        const buttonEl =\n",
              "          document.querySelector('#df-ed211241-0944-4e88-9fd1-26b274d0640e button.colab-df-convert');\n",
              "        buttonEl.style.display =\n",
              "          google.colab.kernel.accessAllowed ? 'block' : 'none';\n",
              "\n",
              "        async function convertToInteractive(key) {\n",
              "          const element = document.querySelector('#df-ed211241-0944-4e88-9fd1-26b274d0640e');\n",
              "          const dataTable =\n",
              "            await google.colab.kernel.invokeFunction('convertToInteractive',\n",
              "                                                     [key], {});\n",
              "          if (!dataTable) return;\n",
              "\n",
              "          const docLinkHtml = 'Like what you see? Visit the ' +\n",
              "            '<a target=\"_blank\" href=https://colab.research.google.com/notebooks/data_table.ipynb>data table notebook</a>'\n",
              "            + ' to learn more about interactive tables.';\n",
              "          element.innerHTML = '';\n",
              "          dataTable['output_type'] = 'display_data';\n",
              "          await google.colab.output.renderOutput(dataTable, element);\n",
              "          const docLink = document.createElement('div');\n",
              "          docLink.innerHTML = docLinkHtml;\n",
              "          element.appendChild(docLink);\n",
              "        }\n",
              "      </script>\n",
              "    </div>\n",
              "  </div>\n",
              "  "
            ]
          },
          "metadata": {},
          "execution_count": 115
        }
      ]
    },
    {
      "cell_type": "code",
      "source": [
        "## 병합\n",
        "df_clust_merge = pd.merge(recency_df,frequency_df, on ='membership_no', how = 'left')\n",
        "df_clust_merge = pd.merge(df_clust_merge,amount_df, on ='membership_no', how = 'left')\n"
      ],
      "metadata": {
        "id": "6r4WjeNLIeeJ"
      },
      "execution_count": null,
      "outputs": []
    },
    {
      "cell_type": "code",
      "source": [
        "df_clust_merge.columns = ['membership_no', 'Recency', 'Frequency', 'Monetary']\n",
        "df_clust_merge "
      ],
      "metadata": {
        "colab": {
          "base_uri": "https://localhost:8080/",
          "height": 423
        },
        "id": "xwaHXMeqJHWn",
        "outputId": "8f6746a9-6d04-417f-908c-b9927ef02b0c"
      },
      "execution_count": null,
      "outputs": [
        {
          "output_type": "execute_result",
          "data": {
            "text/plain": [
              "      membership_no    Recency  Frequency  Monetary\n",
              "0               137 2022-05-28          1     38000\n",
              "1               153 2022-10-12         11    215000\n",
              "2               180 2022-10-13          2     57000\n",
              "3               208 2022-10-12         22    443000\n",
              "4               291 2022-10-12         28    661000\n",
              "...             ...        ...        ...       ...\n",
              "7422         151972 2022-10-16          1     72000\n",
              "7423         151978 2022-10-16          1     18000\n",
              "7424         151980 2022-10-16          1     12000\n",
              "7425         151981 2022-10-16          1     70000\n",
              "7426         151984 2022-10-16          1     35000\n",
              "\n",
              "[7427 rows x 4 columns]"
            ],
            "text/html": [
              "\n",
              "  <div id=\"df-34e6ce1d-212c-41af-9715-77f16e8b4a02\">\n",
              "    <div class=\"colab-df-container\">\n",
              "      <div>\n",
              "<style scoped>\n",
              "    .dataframe tbody tr th:only-of-type {\n",
              "        vertical-align: middle;\n",
              "    }\n",
              "\n",
              "    .dataframe tbody tr th {\n",
              "        vertical-align: top;\n",
              "    }\n",
              "\n",
              "    .dataframe thead th {\n",
              "        text-align: right;\n",
              "    }\n",
              "</style>\n",
              "<table border=\"1\" class=\"dataframe\">\n",
              "  <thead>\n",
              "    <tr style=\"text-align: right;\">\n",
              "      <th></th>\n",
              "      <th>membership_no</th>\n",
              "      <th>Recency</th>\n",
              "      <th>Frequency</th>\n",
              "      <th>Monetary</th>\n",
              "    </tr>\n",
              "  </thead>\n",
              "  <tbody>\n",
              "    <tr>\n",
              "      <th>0</th>\n",
              "      <td>137</td>\n",
              "      <td>2022-05-28</td>\n",
              "      <td>1</td>\n",
              "      <td>38000</td>\n",
              "    </tr>\n",
              "    <tr>\n",
              "      <th>1</th>\n",
              "      <td>153</td>\n",
              "      <td>2022-10-12</td>\n",
              "      <td>11</td>\n",
              "      <td>215000</td>\n",
              "    </tr>\n",
              "    <tr>\n",
              "      <th>2</th>\n",
              "      <td>180</td>\n",
              "      <td>2022-10-13</td>\n",
              "      <td>2</td>\n",
              "      <td>57000</td>\n",
              "    </tr>\n",
              "    <tr>\n",
              "      <th>3</th>\n",
              "      <td>208</td>\n",
              "      <td>2022-10-12</td>\n",
              "      <td>22</td>\n",
              "      <td>443000</td>\n",
              "    </tr>\n",
              "    <tr>\n",
              "      <th>4</th>\n",
              "      <td>291</td>\n",
              "      <td>2022-10-12</td>\n",
              "      <td>28</td>\n",
              "      <td>661000</td>\n",
              "    </tr>\n",
              "    <tr>\n",
              "      <th>...</th>\n",
              "      <td>...</td>\n",
              "      <td>...</td>\n",
              "      <td>...</td>\n",
              "      <td>...</td>\n",
              "    </tr>\n",
              "    <tr>\n",
              "      <th>7422</th>\n",
              "      <td>151972</td>\n",
              "      <td>2022-10-16</td>\n",
              "      <td>1</td>\n",
              "      <td>72000</td>\n",
              "    </tr>\n",
              "    <tr>\n",
              "      <th>7423</th>\n",
              "      <td>151978</td>\n",
              "      <td>2022-10-16</td>\n",
              "      <td>1</td>\n",
              "      <td>18000</td>\n",
              "    </tr>\n",
              "    <tr>\n",
              "      <th>7424</th>\n",
              "      <td>151980</td>\n",
              "      <td>2022-10-16</td>\n",
              "      <td>1</td>\n",
              "      <td>12000</td>\n",
              "    </tr>\n",
              "    <tr>\n",
              "      <th>7425</th>\n",
              "      <td>151981</td>\n",
              "      <td>2022-10-16</td>\n",
              "      <td>1</td>\n",
              "      <td>70000</td>\n",
              "    </tr>\n",
              "    <tr>\n",
              "      <th>7426</th>\n",
              "      <td>151984</td>\n",
              "      <td>2022-10-16</td>\n",
              "      <td>1</td>\n",
              "      <td>35000</td>\n",
              "    </tr>\n",
              "  </tbody>\n",
              "</table>\n",
              "<p>7427 rows × 4 columns</p>\n",
              "</div>\n",
              "      <button class=\"colab-df-convert\" onclick=\"convertToInteractive('df-34e6ce1d-212c-41af-9715-77f16e8b4a02')\"\n",
              "              title=\"Convert this dataframe to an interactive table.\"\n",
              "              style=\"display:none;\">\n",
              "        \n",
              "  <svg xmlns=\"http://www.w3.org/2000/svg\" height=\"24px\"viewBox=\"0 0 24 24\"\n",
              "       width=\"24px\">\n",
              "    <path d=\"M0 0h24v24H0V0z\" fill=\"none\"/>\n",
              "    <path d=\"M18.56 5.44l.94 2.06.94-2.06 2.06-.94-2.06-.94-.94-2.06-.94 2.06-2.06.94zm-11 1L8.5 8.5l.94-2.06 2.06-.94-2.06-.94L8.5 2.5l-.94 2.06-2.06.94zm10 10l.94 2.06.94-2.06 2.06-.94-2.06-.94-.94-2.06-.94 2.06-2.06.94z\"/><path d=\"M17.41 7.96l-1.37-1.37c-.4-.4-.92-.59-1.43-.59-.52 0-1.04.2-1.43.59L10.3 9.45l-7.72 7.72c-.78.78-.78 2.05 0 2.83L4 21.41c.39.39.9.59 1.41.59.51 0 1.02-.2 1.41-.59l7.78-7.78 2.81-2.81c.8-.78.8-2.07 0-2.86zM5.41 20L4 18.59l7.72-7.72 1.47 1.35L5.41 20z\"/>\n",
              "  </svg>\n",
              "      </button>\n",
              "      \n",
              "  <style>\n",
              "    .colab-df-container {\n",
              "      display:flex;\n",
              "      flex-wrap:wrap;\n",
              "      gap: 12px;\n",
              "    }\n",
              "\n",
              "    .colab-df-convert {\n",
              "      background-color: #E8F0FE;\n",
              "      border: none;\n",
              "      border-radius: 50%;\n",
              "      cursor: pointer;\n",
              "      display: none;\n",
              "      fill: #1967D2;\n",
              "      height: 32px;\n",
              "      padding: 0 0 0 0;\n",
              "      width: 32px;\n",
              "    }\n",
              "\n",
              "    .colab-df-convert:hover {\n",
              "      background-color: #E2EBFA;\n",
              "      box-shadow: 0px 1px 2px rgba(60, 64, 67, 0.3), 0px 1px 3px 1px rgba(60, 64, 67, 0.15);\n",
              "      fill: #174EA6;\n",
              "    }\n",
              "\n",
              "    [theme=dark] .colab-df-convert {\n",
              "      background-color: #3B4455;\n",
              "      fill: #D2E3FC;\n",
              "    }\n",
              "\n",
              "    [theme=dark] .colab-df-convert:hover {\n",
              "      background-color: #434B5C;\n",
              "      box-shadow: 0px 1px 3px 1px rgba(0, 0, 0, 0.15);\n",
              "      filter: drop-shadow(0px 1px 2px rgba(0, 0, 0, 0.3));\n",
              "      fill: #FFFFFF;\n",
              "    }\n",
              "  </style>\n",
              "\n",
              "      <script>\n",
              "        const buttonEl =\n",
              "          document.querySelector('#df-34e6ce1d-212c-41af-9715-77f16e8b4a02 button.colab-df-convert');\n",
              "        buttonEl.style.display =\n",
              "          google.colab.kernel.accessAllowed ? 'block' : 'none';\n",
              "\n",
              "        async function convertToInteractive(key) {\n",
              "          const element = document.querySelector('#df-34e6ce1d-212c-41af-9715-77f16e8b4a02');\n",
              "          const dataTable =\n",
              "            await google.colab.kernel.invokeFunction('convertToInteractive',\n",
              "                                                     [key], {});\n",
              "          if (!dataTable) return;\n",
              "\n",
              "          const docLinkHtml = 'Like what you see? Visit the ' +\n",
              "            '<a target=\"_blank\" href=https://colab.research.google.com/notebooks/data_table.ipynb>data table notebook</a>'\n",
              "            + ' to learn more about interactive tables.';\n",
              "          element.innerHTML = '';\n",
              "          dataTable['output_type'] = 'display_data';\n",
              "          await google.colab.output.renderOutput(dataTable, element);\n",
              "          const docLink = document.createElement('div');\n",
              "          docLink.innerHTML = docLinkHtml;\n",
              "          element.appendChild(docLink);\n",
              "        }\n",
              "      </script>\n",
              "    </div>\n",
              "  </div>\n",
              "  "
            ]
          },
          "metadata": {},
          "execution_count": 117
        }
      ]
    },
    {
      "cell_type": "code",
      "source": [
        "df_clust_merge.info()"
      ],
      "metadata": {
        "colab": {
          "base_uri": "https://localhost:8080/"
        },
        "id": "AEkoHTS1LSpK",
        "outputId": "011418a4-87e0-4ca4-b15f-c6d62b9905c2"
      },
      "execution_count": null,
      "outputs": [
        {
          "output_type": "stream",
          "name": "stdout",
          "text": [
            "<class 'pandas.core.frame.DataFrame'>\n",
            "Int64Index: 7427 entries, 0 to 7426\n",
            "Data columns (total 4 columns):\n",
            " #   Column         Non-Null Count  Dtype         \n",
            "---  ------         --------------  -----         \n",
            " 0   membership_no  7427 non-null   int64         \n",
            " 1   Recency        7427 non-null   datetime64[ns]\n",
            " 2   Frequency      7427 non-null   int64         \n",
            " 3   Monetary       7427 non-null   int64         \n",
            "dtypes: datetime64[ns](1), int64(3)\n",
            "memory usage: 290.1 KB\n"
          ]
        }
      ]
    },
    {
      "cell_type": "code",
      "source": [
        "current_day = pd.to_datetime('2022-01-01')\n",
        "# current_day.\n",
        "# df_clust_merge.columns\n",
        "time_diff = df_clust_merge['Recency']-current_day ## 최근방문일과 기준 날짜의 시간 차이\n",
        "\n",
        "time_in_seconds = [x for x in time_diff] ## 시간 차이를 초단위로 계산\n",
        "df_clust_merge['Recency'] = time_in_seconds ## 변환된 데이터를 다시 삽입한다.\n"
      ],
      "metadata": {
        "id": "OslOYigZK6da"
      },
      "execution_count": null,
      "outputs": []
    },
    {
      "cell_type": "code",
      "source": [
        "df_clust_merge"
      ],
      "metadata": {
        "colab": {
          "base_uri": "https://localhost:8080/",
          "height": 423
        },
        "id": "PEurltePVXTA",
        "outputId": "ffaf2545-7e87-47e4-8d8d-509ae3425eae"
      },
      "execution_count": null,
      "outputs": [
        {
          "output_type": "execute_result",
          "data": {
            "text/plain": [
              "      membership_no  Recency  Frequency  Monetary\n",
              "0               137 147 days          1     38000\n",
              "1               153 284 days         11    215000\n",
              "2               180 285 days          2     57000\n",
              "3               208 284 days         22    443000\n",
              "4               291 284 days         28    661000\n",
              "...             ...      ...        ...       ...\n",
              "7422         151972 288 days          1     72000\n",
              "7423         151978 288 days          1     18000\n",
              "7424         151980 288 days          1     12000\n",
              "7425         151981 288 days          1     70000\n",
              "7426         151984 288 days          1     35000\n",
              "\n",
              "[7427 rows x 4 columns]"
            ],
            "text/html": [
              "\n",
              "  <div id=\"df-d6ee5fcb-5603-4a24-b2bb-e44e38bd40af\">\n",
              "    <div class=\"colab-df-container\">\n",
              "      <div>\n",
              "<style scoped>\n",
              "    .dataframe tbody tr th:only-of-type {\n",
              "        vertical-align: middle;\n",
              "    }\n",
              "\n",
              "    .dataframe tbody tr th {\n",
              "        vertical-align: top;\n",
              "    }\n",
              "\n",
              "    .dataframe thead th {\n",
              "        text-align: right;\n",
              "    }\n",
              "</style>\n",
              "<table border=\"1\" class=\"dataframe\">\n",
              "  <thead>\n",
              "    <tr style=\"text-align: right;\">\n",
              "      <th></th>\n",
              "      <th>membership_no</th>\n",
              "      <th>Recency</th>\n",
              "      <th>Frequency</th>\n",
              "      <th>Monetary</th>\n",
              "    </tr>\n",
              "  </thead>\n",
              "  <tbody>\n",
              "    <tr>\n",
              "      <th>0</th>\n",
              "      <td>137</td>\n",
              "      <td>147 days</td>\n",
              "      <td>1</td>\n",
              "      <td>38000</td>\n",
              "    </tr>\n",
              "    <tr>\n",
              "      <th>1</th>\n",
              "      <td>153</td>\n",
              "      <td>284 days</td>\n",
              "      <td>11</td>\n",
              "      <td>215000</td>\n",
              "    </tr>\n",
              "    <tr>\n",
              "      <th>2</th>\n",
              "      <td>180</td>\n",
              "      <td>285 days</td>\n",
              "      <td>2</td>\n",
              "      <td>57000</td>\n",
              "    </tr>\n",
              "    <tr>\n",
              "      <th>3</th>\n",
              "      <td>208</td>\n",
              "      <td>284 days</td>\n",
              "      <td>22</td>\n",
              "      <td>443000</td>\n",
              "    </tr>\n",
              "    <tr>\n",
              "      <th>4</th>\n",
              "      <td>291</td>\n",
              "      <td>284 days</td>\n",
              "      <td>28</td>\n",
              "      <td>661000</td>\n",
              "    </tr>\n",
              "    <tr>\n",
              "      <th>...</th>\n",
              "      <td>...</td>\n",
              "      <td>...</td>\n",
              "      <td>...</td>\n",
              "      <td>...</td>\n",
              "    </tr>\n",
              "    <tr>\n",
              "      <th>7422</th>\n",
              "      <td>151972</td>\n",
              "      <td>288 days</td>\n",
              "      <td>1</td>\n",
              "      <td>72000</td>\n",
              "    </tr>\n",
              "    <tr>\n",
              "      <th>7423</th>\n",
              "      <td>151978</td>\n",
              "      <td>288 days</td>\n",
              "      <td>1</td>\n",
              "      <td>18000</td>\n",
              "    </tr>\n",
              "    <tr>\n",
              "      <th>7424</th>\n",
              "      <td>151980</td>\n",
              "      <td>288 days</td>\n",
              "      <td>1</td>\n",
              "      <td>12000</td>\n",
              "    </tr>\n",
              "    <tr>\n",
              "      <th>7425</th>\n",
              "      <td>151981</td>\n",
              "      <td>288 days</td>\n",
              "      <td>1</td>\n",
              "      <td>70000</td>\n",
              "    </tr>\n",
              "    <tr>\n",
              "      <th>7426</th>\n",
              "      <td>151984</td>\n",
              "      <td>288 days</td>\n",
              "      <td>1</td>\n",
              "      <td>35000</td>\n",
              "    </tr>\n",
              "  </tbody>\n",
              "</table>\n",
              "<p>7427 rows × 4 columns</p>\n",
              "</div>\n",
              "      <button class=\"colab-df-convert\" onclick=\"convertToInteractive('df-d6ee5fcb-5603-4a24-b2bb-e44e38bd40af')\"\n",
              "              title=\"Convert this dataframe to an interactive table.\"\n",
              "              style=\"display:none;\">\n",
              "        \n",
              "  <svg xmlns=\"http://www.w3.org/2000/svg\" height=\"24px\"viewBox=\"0 0 24 24\"\n",
              "       width=\"24px\">\n",
              "    <path d=\"M0 0h24v24H0V0z\" fill=\"none\"/>\n",
              "    <path d=\"M18.56 5.44l.94 2.06.94-2.06 2.06-.94-2.06-.94-.94-2.06-.94 2.06-2.06.94zm-11 1L8.5 8.5l.94-2.06 2.06-.94-2.06-.94L8.5 2.5l-.94 2.06-2.06.94zm10 10l.94 2.06.94-2.06 2.06-.94-2.06-.94-.94-2.06-.94 2.06-2.06.94z\"/><path d=\"M17.41 7.96l-1.37-1.37c-.4-.4-.92-.59-1.43-.59-.52 0-1.04.2-1.43.59L10.3 9.45l-7.72 7.72c-.78.78-.78 2.05 0 2.83L4 21.41c.39.39.9.59 1.41.59.51 0 1.02-.2 1.41-.59l7.78-7.78 2.81-2.81c.8-.78.8-2.07 0-2.86zM5.41 20L4 18.59l7.72-7.72 1.47 1.35L5.41 20z\"/>\n",
              "  </svg>\n",
              "      </button>\n",
              "      \n",
              "  <style>\n",
              "    .colab-df-container {\n",
              "      display:flex;\n",
              "      flex-wrap:wrap;\n",
              "      gap: 12px;\n",
              "    }\n",
              "\n",
              "    .colab-df-convert {\n",
              "      background-color: #E8F0FE;\n",
              "      border: none;\n",
              "      border-radius: 50%;\n",
              "      cursor: pointer;\n",
              "      display: none;\n",
              "      fill: #1967D2;\n",
              "      height: 32px;\n",
              "      padding: 0 0 0 0;\n",
              "      width: 32px;\n",
              "    }\n",
              "\n",
              "    .colab-df-convert:hover {\n",
              "      background-color: #E2EBFA;\n",
              "      box-shadow: 0px 1px 2px rgba(60, 64, 67, 0.3), 0px 1px 3px 1px rgba(60, 64, 67, 0.15);\n",
              "      fill: #174EA6;\n",
              "    }\n",
              "\n",
              "    [theme=dark] .colab-df-convert {\n",
              "      background-color: #3B4455;\n",
              "      fill: #D2E3FC;\n",
              "    }\n",
              "\n",
              "    [theme=dark] .colab-df-convert:hover {\n",
              "      background-color: #434B5C;\n",
              "      box-shadow: 0px 1px 3px 1px rgba(0, 0, 0, 0.15);\n",
              "      filter: drop-shadow(0px 1px 2px rgba(0, 0, 0, 0.3));\n",
              "      fill: #FFFFFF;\n",
              "    }\n",
              "  </style>\n",
              "\n",
              "      <script>\n",
              "        const buttonEl =\n",
              "          document.querySelector('#df-d6ee5fcb-5603-4a24-b2bb-e44e38bd40af button.colab-df-convert');\n",
              "        buttonEl.style.display =\n",
              "          google.colab.kernel.accessAllowed ? 'block' : 'none';\n",
              "\n",
              "        async function convertToInteractive(key) {\n",
              "          const element = document.querySelector('#df-d6ee5fcb-5603-4a24-b2bb-e44e38bd40af');\n",
              "          const dataTable =\n",
              "            await google.colab.kernel.invokeFunction('convertToInteractive',\n",
              "                                                     [key], {});\n",
              "          if (!dataTable) return;\n",
              "\n",
              "          const docLinkHtml = 'Like what you see? Visit the ' +\n",
              "            '<a target=\"_blank\" href=https://colab.research.google.com/notebooks/data_table.ipynb>data table notebook</a>'\n",
              "            + ' to learn more about interactive tables.';\n",
              "          element.innerHTML = '';\n",
              "          dataTable['output_type'] = 'display_data';\n",
              "          await google.colab.output.renderOutput(dataTable, element);\n",
              "          const docLink = document.createElement('div');\n",
              "          docLink.innerHTML = docLinkHtml;\n",
              "          element.appendChild(docLink);\n",
              "        }\n",
              "      </script>\n",
              "    </div>\n",
              "  </div>\n",
              "  "
            ]
          },
          "metadata": {},
          "execution_count": 120
        }
      ]
    },
    {
      "cell_type": "code",
      "source": [
        "def get_score(level, data):\n",
        "    '''\n",
        "    Description :\n",
        "    level안에 있는 원소를 기준으로\n",
        "    1 ~ len(level)+ 1 까지 점수를 부여하는 함수\n",
        "    \n",
        "    Parameters :\n",
        "    level = 튜플 또는 리스트 타입의 숫자형 데이터이며 반드시 오름차순으로 정렬되어 있어야함.\n",
        "    예 - [1,2,3,4,5] O, [5,4,3,2,1] X, [1,3,2,10,4] X \n",
        "    data = 점수를 부여할 데이터. 순회가능한(iterable) 데이터 형식\n",
        "    return :\n",
        "    점수를 담고 있는 리스트 반환\n",
        "    '''\n",
        "    score = [] \n",
        "    for j in range(len(data)): \n",
        "        for i in range(len(level)): \n",
        "            if data[j] <= level[i]: \n",
        "                score.append(i+1) \n",
        "                break \n",
        "            elif data[j] > max(level): \n",
        "                score.append(len(level)+1) \n",
        "                break \n",
        "            else: \n",
        "                continue \n",
        "    return score\n",
        "    \n",
        "def get_rfm_grade(df, num_class, rfm_tick_point, rfm_col_map, suffix=None):\n",
        "    \n",
        "    ##### 필요모듈 체크\n",
        "    import pandas as pd\n",
        "    import numpy as np\n",
        "    from sklearn import preprocessing\n",
        "    \n",
        "    ##### 파라미터 체크\n",
        "    if not isinstance(df, pd.DataFrame): ## 데이터는 pd.DataFrame이어야 함.\n",
        "        print('데이터는 pandas.DataFrame 객체여야 합니다.')\n",
        "        return\n",
        "    \n",
        "    if isinstance(rfm_tick_point, dict) == False or isinstance(rfm_col_map, dict) == False: ## rfm_tick_point와 rfm_col_map은 모두 딕셔너리\n",
        "        print(f'rfm_tick_point와 rfm_col_map은 모두 딕셔너리여야합니다.')\n",
        "        return\n",
        "    \n",
        "    if len(rfm_col_map) != 3: ## rfm_col_map에는 반드시 3개의 키를 가져아함.\n",
        "        print(f'rfm_col_map인자는 반드시 3개의 키를 가져야합니다. \\n현재 rfm_col_map에는 {len(rfm_col_map)}개의 키가 있습니다.')\n",
        "        return\n",
        "    \n",
        "    if len(rfm_tick_point) != 3: ## rfm_tick_point에는 반드시 3개의 키를 가져아함.\n",
        "        print(f'rfm_tick_point인자는 반드시 3개의 키를 가져야합니다. \\n현재 rfm_col_map에는 {len(rfm_col_map)}개의 키가 있습니다.')\n",
        "        return\n",
        "    \n",
        "    if set(rfm_tick_point.keys()) != set(rfm_col_map.keys()): ## rfm_tick_point와 rfm_col_map은 같은 키를 가져야함.\n",
        "        print(f'rfm_tick_point와 rfm_col_map은 같은 키를 가져야 합니다.')\n",
        "        return\n",
        "    \n",
        "    if not set(rfm_col_map.values()).issubset(set(df.columns)):\n",
        "        not_in_df = set(rfm_col_map.values())-set(df.columns)\n",
        "        print(f'{not_in_df}이 데이터 칼럼에 있어야 합니다.')\n",
        "        return\n",
        "    \n",
        "    for k, v in rfm_tick_point.items():\n",
        "        if isinstance(v, str):\n",
        "            if not v in ['quantile','min_max']:\n",
        "                print(f'{k}의 값은 \"quantile\" 또는 \"min_max\"중에 하나여야 합니다.')\n",
        "                return\n",
        "        elif isinstance(v,list) or isinstance(v,tuple):\n",
        "            if len(v) != num_class-1:\n",
        "                print(f'{k}에 대응하는 리스트(튜플)의 원소는 {num_class-1}개여야 합니다.')\n",
        "                return\n",
        "    \n",
        "    if suffix:\n",
        "        if not isinstance(suffix, str):\n",
        "            print('suffix인자는 문자열이어야합니다.')\n",
        "            return\n",
        "        \n",
        "    ##### 최근방문일/방문횟수/구매금액 점수 부여\n",
        "    for k, v in rfm_tick_point.items():\n",
        "        if isinstance(v,str):\n",
        "            if v == 'quantile':\n",
        "                ## 데이터 변환\n",
        "                scale = preprocessing.StandardScaler() ## 데이터의 범위 조작하기 쉽게 해주는 클래스 \n",
        "                temp_data = np.array(df[rfm_col_map[k]]) ## 데이터를 Numpy 배열로 변환\n",
        "                temp_data = temp_data.reshape((-1,1)) ## scale을 적용하기위해 1차원 배열을 2차원으로 변환\n",
        "                temp_data = scale.fit_transform(temp_data) ## 데이터를 평균은 0, 표준편차는 1을 갖도록 변환 \n",
        "                temp_data = temp_data.squeeze() ## 데이터를 다시 1차원으로 변환\n",
        " \n",
        "                ## 분위수 벡터\n",
        "                quantiles_level = np.linspace(0,1,num_class+1)[1:-1] ## 분위수를 구할 기준값을 지정 0과 1은 제외\n",
        "                quantiles = [] ## 분위수를 담을 리스트\n",
        "                for ql in quantiles_level:\n",
        "                    quantiles.append(np.quantile(temp_data,ql)) ## 분위수를 계산하고 리스트에 삽입\n",
        "            else: ## min_max인 경우\n",
        "                ## 데이터 변환\n",
        "                temp_data = np.array(df[rfm_col_map[k]])\n",
        " \n",
        "                ## 등분점 계산\n",
        "                quantiles = np.linspace(np.min(temp_data),np.max(temp_data),num_class+1)[1:-1] ## 최소값과 최대값을 점수 개수만큼 등간격으로 분할하는 점\n",
        "        else: ## 직접 구분값을 넣어주는 경우\n",
        "            temp_data = np.array(df[rfm_col_map[k]])\n",
        "            quantiles = v ## 직접 구분값을 넣어줌\n",
        "        score = get_score(quantiles, temp_data) ## 구분값을 기준으로 점수를 부여하고 리스트로 저장한다.\n",
        "        new_col_name = rfm_col_map[k]+'_'+k ## 점수값을 담는 변수의 이름\n",
        "        if suffix:\n",
        "            new_col_name = rfm_col_map[k]+'_'+suffix\n",
        "        df[new_col_name] = score ## 기존데이터 옆에 점수 데이터를 추가한다.\n",
        "    return df"
      ],
      "metadata": {
        "id": "K3rN70GcYfR7"
      },
      "execution_count": null,
      "outputs": []
    },
    {
      "cell_type": "code",
      "source": [
        "rfm_tick_point={'R':'quantile','F':'quantile','M':'quantile'}\n",
        "rfm_col_map={'R':'Recency','F':'Frequency','M':'Monetary'}\n",
        "result = get_rfm_grade(df=df_clust_merge, num_class=5, rfm_tick_point=rfm_tick_point, rfm_col_map=rfm_col_map)\n",
        "result.to_csv('result.csv',index=False)"
      ],
      "metadata": {
        "id": "nqh9_oFfaKHC"
      },
      "execution_count": null,
      "outputs": []
    },
    {
      "cell_type": "code",
      "source": [
        "result2 = result[['membership_no','Recency_R','Frequency_F','Monetary_M']]"
      ],
      "metadata": {
        "id": "48hpzjTcbqSm"
      },
      "execution_count": null,
      "outputs": []
    },
    {
      "cell_type": "code",
      "source": [
        "sns.countplot(x=\"Recency_R\", data=result2)\n",
        "plt.show()"
      ],
      "metadata": {
        "colab": {
          "base_uri": "https://localhost:8080/",
          "height": 280
        },
        "id": "h4nTqScMbTo8",
        "outputId": "9dd52591-8fc5-4dcd-94e0-d994106d9ab8"
      },
      "execution_count": null,
      "outputs": [
        {
          "output_type": "display_data",
          "data": {
            "text/plain": [
              "<Figure size 432x288 with 1 Axes>"
            ],
            "image/png": "[encoded data removed]"
          },
          "metadata": {
            "needs_background": "light"
          }
        }
      ]
    },
    {
      "cell_type": "code",
      "source": [
        "sns.countplot(x=\"Frequency_F\", data=result2)\n",
        "plt.show()"
      ],
      "metadata": {
        "colab": {
          "base_uri": "https://localhost:8080/",
          "height": 280
        },
        "id": "5NcMKrHihXV1",
        "outputId": "be80c6c7-d6e3-4696-bc87-da73d4a4ee3a"
      },
      "execution_count": null,
      "outputs": [
        {
          "output_type": "display_data",
          "data": {
            "text/plain": [
              "<Figure size 432x288 with 1 Axes>"
            ],
            "image/png": "[encoded data removed]"
          },
          "metadata": {
            "needs_background": "light"
          }
        }
      ]
    },
    {
      "cell_type": "code",
      "source": [
        "sns.countplot(x=\"Monetary_M\", data=result2)\n",
        "plt.show()"
      ],
      "metadata": {
        "colab": {
          "base_uri": "https://localhost:8080/",
          "height": 282
        },
        "id": "S9u5xcG_hZpb",
        "outputId": "e69999c4-2cee-4ee7-8c09-2c98bcbb8d5d"
      },
      "execution_count": null,
      "outputs": [
        {
          "output_type": "display_data",
          "data": {
            "text/plain": [
              "<Figure size 432x288 with 1 Axes>"
            ],
            "image/png": "[encoded data removed]"
          },
          "metadata": {
            "needs_background": "light"
          }
        }
      ]
    },
    {
      "cell_type": "code",
      "source": [
        "df_N.nunique()"
      ],
      "metadata": {
        "colab": {
          "base_uri": "https://localhost:8080/"
        },
        "id": "5UhAfUDv0p63",
        "outputId": "b70688f3-283d-4f3a-b357-1c7b389d4a1e"
      },
      "execution_count": null,
      "outputs": [
        {
          "output_type": "execute_result",
          "data": {
            "text/plain": [
              "membership_no                7427\n",
              "cancel_yn                       1\n",
              "Opp                            11\n",
              "game_date                      19\n",
              "game_time                       4\n",
              "reserve_detail_no              10\n",
              "product_grade_name             20\n",
              "product_denomination_name      32\n",
              "reserve_date                  116\n",
              "reserve_hour                   24\n",
              "rank                            4\n",
              "game-reserve                    9\n",
              "grade_price                     9\n",
              "dtype: int64"
            ]
          },
          "metadata": {},
          "execution_count": 127
        }
      ]
    },
    {
      "cell_type": "code",
      "source": [
        "result2.describe()"
      ],
      "metadata": {
        "colab": {
          "base_uri": "https://localhost:8080/",
          "height": 300
        },
        "id": "6XlLTaQlrYc1",
        "outputId": "1a5c0538-acc2-4639-f2ad-a9ef75a9076a"
      },
      "execution_count": null,
      "outputs": [
        {
          "output_type": "execute_result",
          "data": {
            "text/plain": [
              "       membership_no    Recency_R  Frequency_F   Monetary_M\n",
              "count    7427.000000  7427.000000  7427.000000  7427.000000\n",
              "mean   134908.826444     2.960011     2.315201     2.913828\n",
              "std     21358.751306     1.398468     1.586330     1.474208\n",
              "min       137.000000     1.000000     1.000000     1.000000\n",
              "25%    125997.000000     2.000000     1.000000     1.000000\n",
              "50%    143545.000000     3.000000     1.000000     3.000000\n",
              "75%    148347.000000     4.000000     4.000000     4.000000\n",
              "max    151984.000000     5.000000     5.000000     5.000000"
            ],
            "text/html": [
              "\n",
              "  <div id=\"df-15238f99-d880-4ea8-bb9e-3d81dbe24f31\">\n",
              "    <div class=\"colab-df-container\">\n",
              "      <div>\n",
              "<style scoped>\n",
              "    .dataframe tbody tr th:only-of-type {\n",
              "        vertical-align: middle;\n",
              "    }\n",
              "\n",
              "    .dataframe tbody tr th {\n",
              "        vertical-align: top;\n",
              "    }\n",
              "\n",
              "    .dataframe thead th {\n",
              "        text-align: right;\n",
              "    }\n",
              "</style>\n",
              "<table border=\"1\" class=\"dataframe\">\n",
              "  <thead>\n",
              "    <tr style=\"text-align: right;\">\n",
              "      <th></th>\n",
              "      <th>membership_no</th>\n",
              "      <th>Recency_R</th>\n",
              "      <th>Frequency_F</th>\n",
              "      <th>Monetary_M</th>\n",
              "    </tr>\n",
              "  </thead>\n",
              "  <tbody>\n",
              "    <tr>\n",
              "      <th>count</th>\n",
              "      <td>7427.000000</td>\n",
              "      <td>7427.000000</td>\n",
              "      <td>7427.000000</td>\n",
              "      <td>7427.000000</td>\n",
              "    </tr>\n",
              "    <tr>\n",
              "      <th>mean</th>\n",
              "      <td>134908.826444</td>\n",
              "      <td>2.960011</td>\n",
              "      <td>2.315201</td>\n",
              "      <td>2.913828</td>\n",
              "    </tr>\n",
              "    <tr>\n",
              "      <th>std</th>\n",
              "      <td>21358.751306</td>\n",
              "      <td>1.398468</td>\n",
              "      <td>1.586330</td>\n",
              "      <td>1.474208</td>\n",
              "    </tr>\n",
              "    <tr>\n",
              "      <th>min</th>\n",
              "      <td>137.000000</td>\n",
              "      <td>1.000000</td>\n",
              "      <td>1.000000</td>\n",
              "      <td>1.000000</td>\n",
              "    </tr>\n",
              "    <tr>\n",
              "      <th>25%</th>\n",
              "      <td>125997.000000</td>\n",
              "      <td>2.000000</td>\n",
              "      <td>1.000000</td>\n",
              "      <td>1.000000</td>\n",
              "    </tr>\n",
              "    <tr>\n",
              "      <th>50%</th>\n",
              "      <td>143545.000000</td>\n",
              "      <td>3.000000</td>\n",
              "      <td>1.000000</td>\n",
              "      <td>3.000000</td>\n",
              "    </tr>\n",
              "    <tr>\n",
              "      <th>75%</th>\n",
              "      <td>148347.000000</td>\n",
              "      <td>4.000000</td>\n",
              "      <td>4.000000</td>\n",
              "      <td>4.000000</td>\n",
              "    </tr>\n",
              "    <tr>\n",
              "      <th>max</th>\n",
              "      <td>151984.000000</td>\n",
              "      <td>5.000000</td>\n",
              "      <td>5.000000</td>\n",
              "      <td>5.000000</td>\n",
              "    </tr>\n",
              "  </tbody>\n",
              "</table>\n",
              "</div>\n",
              "      <button class=\"colab-df-convert\" onclick=\"convertToInteractive('df-15238f99-d880-4ea8-bb9e-3d81dbe24f31')\"\n",
              "              title=\"Convert this dataframe to an interactive table.\"\n",
              "              style=\"display:none;\">\n",
              "        \n",
              "  <svg xmlns=\"http://www.w3.org/2000/svg\" height=\"24px\"viewBox=\"0 0 24 24\"\n",
              "       width=\"24px\">\n",
              "    <path d=\"M0 0h24v24H0V0z\" fill=\"none\"/>\n",
              "    <path d=\"M18.56 5.44l.94 2.06.94-2.06 2.06-.94-2.06-.94-.94-2.06-.94 2.06-2.06.94zm-11 1L8.5 8.5l.94-2.06 2.06-.94-2.06-.94L8.5 2.5l-.94 2.06-2.06.94zm10 10l.94 2.06.94-2.06 2.06-.94-2.06-.94-.94-2.06-.94 2.06-2.06.94z\"/><path d=\"M17.41 7.96l-1.37-1.37c-.4-.4-.92-.59-1.43-.59-.52 0-1.04.2-1.43.59L10.3 9.45l-7.72 7.72c-.78.78-.78 2.05 0 2.83L4 21.41c.39.39.9.59 1.41.59.51 0 1.02-.2 1.41-.59l7.78-7.78 2.81-2.81c.8-.78.8-2.07 0-2.86zM5.41 20L4 18.59l7.72-7.72 1.47 1.35L5.41 20z\"/>\n",
              "  </svg>\n",
              "      </button>\n",
              "      \n",
              "  <style>\n",
              "    .colab-df-container {\n",
              "      display:flex;\n",
              "      flex-wrap:wrap;\n",
              "      gap: 12px;\n",
              "    }\n",
              "\n",
              "    .colab-df-convert {\n",
              "      background-color: #E8F0FE;\n",
              "      border: none;\n",
              "      border-radius: 50%;\n",
              "      cursor: pointer;\n",
              "      display: none;\n",
              "      fill: #1967D2;\n",
              "      height: 32px;\n",
              "      padding: 0 0 0 0;\n",
              "      width: 32px;\n",
              "    }\n",
              "\n",
              "    .colab-df-convert:hover {\n",
              "      background-color: #E2EBFA;\n",
              "      box-shadow: 0px 1px 2px rgba(60, 64, 67, 0.3), 0px 1px 3px 1px rgba(60, 64, 67, 0.15);\n",
              "      fill: #174EA6;\n",
              "    }\n",
              "\n",
              "    [theme=dark] .colab-df-convert {\n",
              "      background-color: #3B4455;\n",
              "      fill: #D2E3FC;\n",
              "    }\n",
              "\n",
              "    [theme=dark] .colab-df-convert:hover {\n",
              "      background-color: #434B5C;\n",
              "      box-shadow: 0px 1px 3px 1px rgba(0, 0, 0, 0.15);\n",
              "      filter: drop-shadow(0px 1px 2px rgba(0, 0, 0, 0.3));\n",
              "      fill: #FFFFFF;\n",
              "    }\n",
              "  </style>\n",
              "\n",
              "      <script>\n",
              "        const buttonEl =\n",
              "          document.querySelector('#df-15238f99-d880-4ea8-bb9e-3d81dbe24f31 button.colab-df-convert');\n",
              "        buttonEl.style.display =\n",
              "          google.colab.kernel.accessAllowed ? 'block' : 'none';\n",
              "\n",
              "        async function convertToInteractive(key) {\n",
              "          const element = document.querySelector('#df-15238f99-d880-4ea8-bb9e-3d81dbe24f31');\n",
              "          const dataTable =\n",
              "            await google.colab.kernel.invokeFunction('convertToInteractive',\n",
              "                                                     [key], {});\n",
              "          if (!dataTable) return;\n",
              "\n",
              "          const docLinkHtml = 'Like what you see? Visit the ' +\n",
              "            '<a target=\"_blank\" href=https://colab.research.google.com/notebooks/data_table.ipynb>data table notebook</a>'\n",
              "            + ' to learn more about interactive tables.';\n",
              "          element.innerHTML = '';\n",
              "          dataTable['output_type'] = 'display_data';\n",
              "          await google.colab.output.renderOutput(dataTable, element);\n",
              "          const docLink = document.createElement('div');\n",
              "          docLink.innerHTML = docLinkHtml;\n",
              "          element.appendChild(docLink);\n",
              "        }\n",
              "      </script>\n",
              "    </div>\n",
              "  </div>\n",
              "  "
            ]
          },
          "metadata": {},
          "execution_count": 128
        }
      ]
    },
    {
      "cell_type": "code",
      "source": [
        "def get_score2(level, data, reverse = False):\n",
        "    '''\n",
        "    Description :\n",
        "    level안에 있는 원소를 기준으로\n",
        "    1 ~ len(level)+ 1 까지 점수를 부여하는 함수\n",
        "    \n",
        "    Parameters :\n",
        "    level = 튜플 또는 리스트 타입의 숫자형 데이터이며 반드시 오름차순으로 정렬되어 있어야함.\n",
        "    예 - [1,2,3,4,5] O, [5,4,3,2,1] X, [1,3,2,10,4] X \n",
        "    data = 점수를 부여할 데이터. 순회가능한(iterable) 데이터 형식\n",
        "    reverse = 점수가 높을 때 그에 해당하는 값을 낮게 설정하고 싶을 때 True\n",
        "    return :\n",
        "    점수를 담고 있는 리스트 반환\n",
        "    '''\n",
        "    score = [] \n",
        "    for j in range(len(data)): \n",
        "        for i in range(len(level)): \n",
        "            if data[j] <= level[i]: \n",
        "                score.append(i+1) \n",
        "                break \n",
        "            elif data[j] > max(level): \n",
        "                score.append(len(level)+1) \n",
        "                break \n",
        "            else: \n",
        "                continue\n",
        "    if reverse:\n",
        "        return [len(level)+2-x for x in score]\n",
        "    else:\n",
        "        return score \n",
        " \n",
        "grid_number = 50 ## 눈금 개수, 너무 크게 잡으면 메모리 문제가 발생할 수 있음.\n",
        "weights = []\n",
        "for j in range(grid_number+1):\n",
        "  \n",
        "  weights += [(i/grid_number,j/grid_number,(grid_number-i-j)/grid_number)\n",
        "                  for i in range(grid_number+1-j)]\n",
        "num_class = 5 ## 클래스 개수\n",
        "class_level = np.linspace(1,5,num_class+1)[1:-1] ## 클래스를 나누는 지점을 정한다.\n",
        "total_amount_of_sales = result['Monetary'].sum() ## 구매금액 총합 = 총 매출"
      ],
      "metadata": {
        "id": "E_oPIRR25rwH"
      },
      "execution_count": null,
      "outputs": []
    },
    {
      "cell_type": "code",
      "source": [
        "max_std = 0 ## 표준편차 초기값\n",
        "for w in tqdm(weights,position=0,desc = '[Finding Optimal weights]'):\n",
        "    ## 주어진 가중치에 따른 고객별 점수 계산\n",
        "    score = w[0]*result['Recency_R'] + \\\n",
        "    w[1]*result['Frequency_F'] + \\\n",
        "    w[2]*result['Monetary_M'] \n",
        "\n",
        "    result['Class'] = get_score2(class_level,score,True) ## 점수를 이용하여 고객별 등급 부여\n",
        "\n",
        "    ## 등급별로 구매금액을 집계한다.\n",
        "    grouped_result = result.groupby('Class')['Monetary'].sum().reset_index()\n",
        "        \n",
        "    ## 클래스별 구매금액을 총구매금액으로 나누어 클래스별 매출 기여도 계산\n",
        "    grouped_result['Monetary'] = grouped_result['Monetary'].map(lambda x : x/total_amount_of_sales)\n",
        "    std_sales = grouped_result['Monetary'].std() ## 매출 기여도의 표준편차 계산\n",
        "    if max_std <= std_sales:\n",
        "      max_std = std_sales ## 표준편차 최대값 업데이트\n",
        "      optimal_weights = w  ## 가중치 업데이트"
      ],
      "metadata": {
        "colab": {
          "base_uri": "https://localhost:8080/"
        },
        "id": "FL9pQtjJ9VGF",
        "outputId": "3ba4c5fd-4bc3-42d9-8b83-ea8a16420ead"
      },
      "execution_count": null,
      "outputs": [
        {
          "output_type": "stream",
          "name": "stderr",
          "text": [
            "[Finding Optimal weights]: 100%|██████████| 1326/1326 [01:54<00:00, 11.55it/s]\n"
          ]
        }
      ]
    },
    {
      "cell_type": "code",
      "source": [
        "score = optimal_weights[0]*result['Recency_R'] + \\\n",
        "        optimal_weights[1]*result['Frequency_F'] + \\\n",
        "        optimal_weights[2]*result['Monetary_M'] ## 고객별 점수 계산\n",
        " \n",
        "result['Class'] = get_score2(class_level,score,True) ## 고객별 등급 부여\n"
      ],
      "metadata": {
        "id": "uACcMiwx-DLq"
      },
      "execution_count": null,
      "outputs": []
    },
    {
      "cell_type": "code",
      "source": [
        "result"
      ],
      "metadata": {
        "colab": {
          "base_uri": "https://localhost:8080/",
          "height": 423
        },
        "id": "47vV-SQp_VD2",
        "outputId": "80d42296-81c0-4a04-f784-26f18d3e0b4e"
      },
      "execution_count": null,
      "outputs": [
        {
          "output_type": "execute_result",
          "data": {
            "text/plain": [
              "      membership_no  Recency  Frequency  Monetary  Recency_R  Frequency_F  \\\n",
              "0               137 147 days          1     38000          2            1   \n",
              "1               153 284 days         11    215000          4            5   \n",
              "2               180 285 days          2     57000          5            3   \n",
              "3               208 284 days         22    443000          4            5   \n",
              "4               291 284 days         28    661000          4            5   \n",
              "...             ...      ...        ...       ...        ...          ...   \n",
              "7422         151972 288 days          1     72000          5            1   \n",
              "7423         151978 288 days          1     18000          5            1   \n",
              "7424         151980 288 days          1     12000          5            1   \n",
              "7425         151981 288 days          1     70000          5            1   \n",
              "7426         151984 288 days          1     35000          5            1   \n",
              "\n",
              "      Monetary_M  Class  \n",
              "0              2      4  \n",
              "1              5      1  \n",
              "2              3      2  \n",
              "3              5      1  \n",
              "4              5      1  \n",
              "...          ...    ...  \n",
              "7422           3      2  \n",
              "7423           1      4  \n",
              "7424           1      4  \n",
              "7425           3      2  \n",
              "7426           2      3  \n",
              "\n",
              "[7427 rows x 8 columns]"
            ],
            "text/html": [
              "\n",
              "  <div id=\"df-c2da3b0b-6e07-48bc-9b6e-3c9cef16beba\">\n",
              "    <div class=\"colab-df-container\">\n",
              "      <div>\n",
              "<style scoped>\n",
              "    .dataframe tbody tr th:only-of-type {\n",
              "        vertical-align: middle;\n",
              "    }\n",
              "\n",
              "    .dataframe tbody tr th {\n",
              "        vertical-align: top;\n",
              "    }\n",
              "\n",
              "    .dataframe thead th {\n",
              "        text-align: right;\n",
              "    }\n",
              "</style>\n",
              "<table border=\"1\" class=\"dataframe\">\n",
              "  <thead>\n",
              "    <tr style=\"text-align: right;\">\n",
              "      <th></th>\n",
              "      <th>membership_no</th>\n",
              "      <th>Recency</th>\n",
              "      <th>Frequency</th>\n",
              "      <th>Monetary</th>\n",
              "      <th>Recency_R</th>\n",
              "      <th>Frequency_F</th>\n",
              "      <th>Monetary_M</th>\n",
              "      <th>Class</th>\n",
              "    </tr>\n",
              "  </thead>\n",
              "  <tbody>\n",
              "    <tr>\n",
              "      <th>0</th>\n",
              "      <td>137</td>\n",
              "      <td>147 days</td>\n",
              "      <td>1</td>\n",
              "      <td>38000</td>\n",
              "      <td>2</td>\n",
              "      <td>1</td>\n",
              "      <td>2</td>\n",
              "      <td>4</td>\n",
              "    </tr>\n",
              "    <tr>\n",
              "      <th>1</th>\n",
              "      <td>153</td>\n",
              "      <td>284 days</td>\n",
              "      <td>11</td>\n",
              "      <td>215000</td>\n",
              "      <td>4</td>\n",
              "      <td>5</td>\n",
              "      <td>5</td>\n",
              "      <td>1</td>\n",
              "    </tr>\n",
              "    <tr>\n",
              "      <th>2</th>\n",
              "      <td>180</td>\n",
              "      <td>285 days</td>\n",
              "      <td>2</td>\n",
              "      <td>57000</td>\n",
              "      <td>5</td>\n",
              "      <td>3</td>\n",
              "      <td>3</td>\n",
              "      <td>2</td>\n",
              "    </tr>\n",
              "    <tr>\n",
              "      <th>3</th>\n",
              "      <td>208</td>\n",
              "      <td>284 days</td>\n",
              "      <td>22</td>\n",
              "      <td>443000</td>\n",
              "      <td>4</td>\n",
              "      <td>5</td>\n",
              "      <td>5</td>\n",
              "      <td>1</td>\n",
              "    </tr>\n",
              "    <tr>\n",
              "      <th>4</th>\n",
              "      <td>291</td>\n",
              "      <td>284 days</td>\n",
              "      <td>28</td>\n",
              "      <td>661000</td>\n",
              "      <td>4</td>\n",
              "      <td>5</td>\n",
              "      <td>5</td>\n",
              "      <td>1</td>\n",
              "    </tr>\n",
              "    <tr>\n",
              "      <th>...</th>\n",
              "      <td>...</td>\n",
              "      <td>...</td>\n",
              "      <td>...</td>\n",
              "      <td>...</td>\n",
              "      <td>...</td>\n",
              "      <td>...</td>\n",
              "      <td>...</td>\n",
              "      <td>...</td>\n",
              "    </tr>\n",
              "    <tr>\n",
              "      <th>7422</th>\n",
              "      <td>151972</td>\n",
              "      <td>288 days</td>\n",
              "      <td>1</td>\n",
              "      <td>72000</td>\n",
              "      <td>5</td>\n",
              "      <td>1</td>\n",
              "      <td>3</td>\n",
              "      <td>2</td>\n",
              "    </tr>\n",
              "    <tr>\n",
              "      <th>7423</th>\n",
              "      <td>151978</td>\n",
              "      <td>288 days</td>\n",
              "      <td>1</td>\n",
              "      <td>18000</td>\n",
              "      <td>5</td>\n",
              "      <td>1</td>\n",
              "      <td>1</td>\n",
              "      <td>4</td>\n",
              "    </tr>\n",
              "    <tr>\n",
              "      <th>7424</th>\n",
              "      <td>151980</td>\n",
              "      <td>288 days</td>\n",
              "      <td>1</td>\n",
              "      <td>12000</td>\n",
              "      <td>5</td>\n",
              "      <td>1</td>\n",
              "      <td>1</td>\n",
              "      <td>4</td>\n",
              "    </tr>\n",
              "    <tr>\n",
              "      <th>7425</th>\n",
              "      <td>151981</td>\n",
              "      <td>288 days</td>\n",
              "      <td>1</td>\n",
              "      <td>70000</td>\n",
              "      <td>5</td>\n",
              "      <td>1</td>\n",
              "      <td>3</td>\n",
              "      <td>2</td>\n",
              "    </tr>\n",
              "    <tr>\n",
              "      <th>7426</th>\n",
              "      <td>151984</td>\n",
              "      <td>288 days</td>\n",
              "      <td>1</td>\n",
              "      <td>35000</td>\n",
              "      <td>5</td>\n",
              "      <td>1</td>\n",
              "      <td>2</td>\n",
              "      <td>3</td>\n",
              "    </tr>\n",
              "  </tbody>\n",
              "</table>\n",
              "<p>7427 rows × 8 columns</p>\n",
              "</div>\n",
              "      <button class=\"colab-df-convert\" onclick=\"convertToInteractive('df-c2da3b0b-6e07-48bc-9b6e-3c9cef16beba')\"\n",
              "              title=\"Convert this dataframe to an interactive table.\"\n",
              "              style=\"display:none;\">\n",
              "        \n",
              "  <svg xmlns=\"http://www.w3.org/2000/svg\" height=\"24px\"viewBox=\"0 0 24 24\"\n",
              "       width=\"24px\">\n",
              "    <path d=\"M0 0h24v24H0V0z\" fill=\"none\"/>\n",
              "    <path d=\"M18.56 5.44l.94 2.06.94-2.06 2.06-.94-2.06-.94-.94-2.06-.94 2.06-2.06.94zm-11 1L8.5 8.5l.94-2.06 2.06-.94-2.06-.94L8.5 2.5l-.94 2.06-2.06.94zm10 10l.94 2.06.94-2.06 2.06-.94-2.06-.94-.94-2.06-.94 2.06-2.06.94z\"/><path d=\"M17.41 7.96l-1.37-1.37c-.4-.4-.92-.59-1.43-.59-.52 0-1.04.2-1.43.59L10.3 9.45l-7.72 7.72c-.78.78-.78 2.05 0 2.83L4 21.41c.39.39.9.59 1.41.59.51 0 1.02-.2 1.41-.59l7.78-7.78 2.81-2.81c.8-.78.8-2.07 0-2.86zM5.41 20L4 18.59l7.72-7.72 1.47 1.35L5.41 20z\"/>\n",
              "  </svg>\n",
              "      </button>\n",
              "      \n",
              "  <style>\n",
              "    .colab-df-container {\n",
              "      display:flex;\n",
              "      flex-wrap:wrap;\n",
              "      gap: 12px;\n",
              "    }\n",
              "\n",
              "    .colab-df-convert {\n",
              "      background-color: #E8F0FE;\n",
              "      border: none;\n",
              "      border-radius: 50%;\n",
              "      cursor: pointer;\n",
              "      display: none;\n",
              "      fill: #1967D2;\n",
              "      height: 32px;\n",
              "      padding: 0 0 0 0;\n",
              "      width: 32px;\n",
              "    }\n",
              "\n",
              "    .colab-df-convert:hover {\n",
              "      background-color: #E2EBFA;\n",
              "      box-shadow: 0px 1px 2px rgba(60, 64, 67, 0.3), 0px 1px 3px 1px rgba(60, 64, 67, 0.15);\n",
              "      fill: #174EA6;\n",
              "    }\n",
              "\n",
              "    [theme=dark] .colab-df-convert {\n",
              "      background-color: #3B4455;\n",
              "      fill: #D2E3FC;\n",
              "    }\n",
              "\n",
              "    [theme=dark] .colab-df-convert:hover {\n",
              "      background-color: #434B5C;\n",
              "      box-shadow: 0px 1px 3px 1px rgba(0, 0, 0, 0.15);\n",
              "      filter: drop-shadow(0px 1px 2px rgba(0, 0, 0, 0.3));\n",
              "      fill: #FFFFFF;\n",
              "    }\n",
              "  </style>\n",
              "\n",
              "      <script>\n",
              "        const buttonEl =\n",
              "          document.querySelector('#df-c2da3b0b-6e07-48bc-9b6e-3c9cef16beba button.colab-df-convert');\n",
              "        buttonEl.style.display =\n",
              "          google.colab.kernel.accessAllowed ? 'block' : 'none';\n",
              "\n",
              "        async function convertToInteractive(key) {\n",
              "          const element = document.querySelector('#df-c2da3b0b-6e07-48bc-9b6e-3c9cef16beba');\n",
              "          const dataTable =\n",
              "            await google.colab.kernel.invokeFunction('convertToInteractive',\n",
              "                                                     [key], {});\n",
              "          if (!dataTable) return;\n",
              "\n",
              "          const docLinkHtml = 'Like what you see? Visit the ' +\n",
              "            '<a target=\"_blank\" href=https://colab.research.google.com/notebooks/data_table.ipynb>data table notebook</a>'\n",
              "            + ' to learn more about interactive tables.';\n",
              "          element.innerHTML = '';\n",
              "          dataTable['output_type'] = 'display_data';\n",
              "          await google.colab.output.renderOutput(dataTable, element);\n",
              "          const docLink = document.createElement('div');\n",
              "          docLink.innerHTML = docLinkHtml;\n",
              "          element.appendChild(docLink);\n",
              "        }\n",
              "      </script>\n",
              "    </div>\n",
              "  </div>\n",
              "  "
            ]
          },
          "metadata": {},
          "execution_count": 132
        }
      ]
    },
    {
      "cell_type": "code",
      "source": [
        "## 클래스별 고객 수 계산\n",
        "temp_rfm_score1 = result.groupby('Class')['membership_no'].count().reset_index().rename(columns={'membership_no':'Count'})\n",
        " \n",
        "## 클래스별 구매금액(매출)계산\n",
        "temp_rfm_score2 = result.groupby('Class')['Monetary'].sum().reset_index()\n",
        " \n",
        "## 클래스별 매출 기여도 계산\n",
        "temp_rfm_score2['Monetary'] = temp_rfm_score2['Monetary'].map(lambda x : x/total_amount_of_sales)\n",
        " \n",
        "## 데이터 결합\n",
        "result_df = pd.merge(temp_rfm_score1,temp_rfm_score2,how='left',on=('Class'))"
      ],
      "metadata": {
        "id": "F6UEUlcX-O5i"
      },
      "execution_count": null,
      "outputs": []
    },
    {
      "cell_type": "code",
      "source": [
        "result_df"
      ],
      "metadata": {
        "colab": {
          "base_uri": "https://localhost:8080/",
          "height": 206
        },
        "id": "L-zRHulb_j3N",
        "outputId": "41bb2416-dd7e-4c79-b512-910033d05391"
      },
      "execution_count": null,
      "outputs": [
        {
          "output_type": "execute_result",
          "data": {
            "text/plain": [
              "   Class  Count  Monetary\n",
              "0      1   1744  0.633239\n",
              "1      2   1144  0.142324\n",
              "2      3   1249  0.097010\n",
              "3      4   1156  0.060994\n",
              "4      5   2134  0.066433"
            ],
            "text/html": [
              "\n",
              "  <div id=\"df-c8b22ea4-0a7f-4b9c-afa2-5649d4a9c852\">\n",
              "    <div class=\"colab-df-container\">\n",
              "      <div>\n",
              "<style scoped>\n",
              "    .dataframe tbody tr th:only-of-type {\n",
              "        vertical-align: middle;\n",
              "    }\n",
              "\n",
              "    .dataframe tbody tr th {\n",
              "        vertical-align: top;\n",
              "    }\n",
              "\n",
              "    .dataframe thead th {\n",
              "        text-align: right;\n",
              "    }\n",
              "</style>\n",
              "<table border=\"1\" class=\"dataframe\">\n",
              "  <thead>\n",
              "    <tr style=\"text-align: right;\">\n",
              "      <th></th>\n",
              "      <th>Class</th>\n",
              "      <th>Count</th>\n",
              "      <th>Monetary</th>\n",
              "    </tr>\n",
              "  </thead>\n",
              "  <tbody>\n",
              "    <tr>\n",
              "      <th>0</th>\n",
              "      <td>1</td>\n",
              "      <td>1744</td>\n",
              "      <td>0.633239</td>\n",
              "    </tr>\n",
              "    <tr>\n",
              "      <th>1</th>\n",
              "      <td>2</td>\n",
              "      <td>1144</td>\n",
              "      <td>0.142324</td>\n",
              "    </tr>\n",
              "    <tr>\n",
              "      <th>2</th>\n",
              "      <td>3</td>\n",
              "      <td>1249</td>\n",
              "      <td>0.097010</td>\n",
              "    </tr>\n",
              "    <tr>\n",
              "      <th>3</th>\n",
              "      <td>4</td>\n",
              "      <td>1156</td>\n",
              "      <td>0.060994</td>\n",
              "    </tr>\n",
              "    <tr>\n",
              "      <th>4</th>\n",
              "      <td>5</td>\n",
              "      <td>2134</td>\n",
              "      <td>0.066433</td>\n",
              "    </tr>\n",
              "  </tbody>\n",
              "</table>\n",
              "</div>\n",
              "      <button class=\"colab-df-convert\" onclick=\"convertToInteractive('df-c8b22ea4-0a7f-4b9c-afa2-5649d4a9c852')\"\n",
              "              title=\"Convert this dataframe to an interactive table.\"\n",
              "              style=\"display:none;\">\n",
              "        \n",
              "  <svg xmlns=\"http://www.w3.org/2000/svg\" height=\"24px\"viewBox=\"0 0 24 24\"\n",
              "       width=\"24px\">\n",
              "    <path d=\"M0 0h24v24H0V0z\" fill=\"none\"/>\n",
              "    <path d=\"M18.56 5.44l.94 2.06.94-2.06 2.06-.94-2.06-.94-.94-2.06-.94 2.06-2.06.94zm-11 1L8.5 8.5l.94-2.06 2.06-.94-2.06-.94L8.5 2.5l-.94 2.06-2.06.94zm10 10l.94 2.06.94-2.06 2.06-.94-2.06-.94-.94-2.06-.94 2.06-2.06.94z\"/><path d=\"M17.41 7.96l-1.37-1.37c-.4-.4-.92-.59-1.43-.59-.52 0-1.04.2-1.43.59L10.3 9.45l-7.72 7.72c-.78.78-.78 2.05 0 2.83L4 21.41c.39.39.9.59 1.41.59.51 0 1.02-.2 1.41-.59l7.78-7.78 2.81-2.81c.8-.78.8-2.07 0-2.86zM5.41 20L4 18.59l7.72-7.72 1.47 1.35L5.41 20z\"/>\n",
              "  </svg>\n",
              "      </button>\n",
              "      \n",
              "  <style>\n",
              "    .colab-df-container {\n",
              "      display:flex;\n",
              "      flex-wrap:wrap;\n",
              "      gap: 12px;\n",
              "    }\n",
              "\n",
              "    .colab-df-convert {\n",
              "      background-color: #E8F0FE;\n",
              "      border: none;\n",
              "      border-radius: 50%;\n",
              "      cursor: pointer;\n",
              "      display: none;\n",
              "      fill: #1967D2;\n",
              "      height: 32px;\n",
              "      padding: 0 0 0 0;\n",
              "      width: 32px;\n",
              "    }\n",
              "\n",
              "    .colab-df-convert:hover {\n",
              "      background-color: #E2EBFA;\n",
              "      box-shadow: 0px 1px 2px rgba(60, 64, 67, 0.3), 0px 1px 3px 1px rgba(60, 64, 67, 0.15);\n",
              "      fill: #174EA6;\n",
              "    }\n",
              "\n",
              "    [theme=dark] .colab-df-convert {\n",
              "      background-color: #3B4455;\n",
              "      fill: #D2E3FC;\n",
              "    }\n",
              "\n",
              "    [theme=dark] .colab-df-convert:hover {\n",
              "      background-color: #434B5C;\n",
              "      box-shadow: 0px 1px 3px 1px rgba(0, 0, 0, 0.15);\n",
              "      filter: drop-shadow(0px 1px 2px rgba(0, 0, 0, 0.3));\n",
              "      fill: #FFFFFF;\n",
              "    }\n",
              "  </style>\n",
              "\n",
              "      <script>\n",
              "        const buttonEl =\n",
              "          document.querySelector('#df-c8b22ea4-0a7f-4b9c-afa2-5649d4a9c852 button.colab-df-convert');\n",
              "        buttonEl.style.display =\n",
              "          google.colab.kernel.accessAllowed ? 'block' : 'none';\n",
              "\n",
              "        async function convertToInteractive(key) {\n",
              "          const element = document.querySelector('#df-c8b22ea4-0a7f-4b9c-afa2-5649d4a9c852');\n",
              "          const dataTable =\n",
              "            await google.colab.kernel.invokeFunction('convertToInteractive',\n",
              "                                                     [key], {});\n",
              "          if (!dataTable) return;\n",
              "\n",
              "          const docLinkHtml = 'Like what you see? Visit the ' +\n",
              "            '<a target=\"_blank\" href=https://colab.research.google.com/notebooks/data_table.ipynb>data table notebook</a>'\n",
              "            + ' to learn more about interactive tables.';\n",
              "          element.innerHTML = '';\n",
              "          dataTable['output_type'] = 'display_data';\n",
              "          await google.colab.output.renderOutput(dataTable, element);\n",
              "          const docLink = document.createElement('div');\n",
              "          docLink.innerHTML = docLinkHtml;\n",
              "          element.appendChild(docLink);\n",
              "        }\n",
              "      </script>\n",
              "    </div>\n",
              "  </div>\n",
              "  "
            ]
          },
          "metadata": {},
          "execution_count": 134
        }
      ]
    },
    {
      "cell_type": "code",
      "source": [
        "result"
      ],
      "metadata": {
        "id": "u91C1AZzKwtW",
        "outputId": "942903e5-f065-4880-e8d8-e34fc7882359",
        "colab": {
          "base_uri": "https://localhost:8080/",
          "height": 423
        }
      },
      "execution_count": null,
      "outputs": [
        {
          "output_type": "execute_result",
          "data": {
            "text/plain": [
              "      membership_no  Recency  Frequency  Monetary  Recency_R  Frequency_F  \\\n",
              "0               137 147 days          1     38000          2            1   \n",
              "1               153 284 days         11    215000          4            5   \n",
              "2               180 285 days          2     57000          5            3   \n",
              "3               208 284 days         22    443000          4            5   \n",
              "4               291 284 days         28    661000          4            5   \n",
              "...             ...      ...        ...       ...        ...          ...   \n",
              "7422         151972 288 days          1     72000          5            1   \n",
              "7423         151978 288 days          1     18000          5            1   \n",
              "7424         151980 288 days          1     12000          5            1   \n",
              "7425         151981 288 days          1     70000          5            1   \n",
              "7426         151984 288 days          1     35000          5            1   \n",
              "\n",
              "      Monetary_M  Class  \n",
              "0              2      4  \n",
              "1              5      1  \n",
              "2              3      2  \n",
              "3              5      1  \n",
              "4              5      1  \n",
              "...          ...    ...  \n",
              "7422           3      2  \n",
              "7423           1      4  \n",
              "7424           1      4  \n",
              "7425           3      2  \n",
              "7426           2      3  \n",
              "\n",
              "[7427 rows x 8 columns]"
            ],
            "text/html": [
              "\n",
              "  <div id=\"df-8056688b-a0e4-4e69-8df1-d17ed16485e4\">\n",
              "    <div class=\"colab-df-container\">\n",
              "      <div>\n",
              "<style scoped>\n",
              "    .dataframe tbody tr th:only-of-type {\n",
              "        vertical-align: middle;\n",
              "    }\n",
              "\n",
              "    .dataframe tbody tr th {\n",
              "        vertical-align: top;\n",
              "    }\n",
              "\n",
              "    .dataframe thead th {\n",
              "        text-align: right;\n",
              "    }\n",
              "</style>\n",
              "<table border=\"1\" class=\"dataframe\">\n",
              "  <thead>\n",
              "    <tr style=\"text-align: right;\">\n",
              "      <th></th>\n",
              "      <th>membership_no</th>\n",
              "      <th>Recency</th>\n",
              "      <th>Frequency</th>\n",
              "      <th>Monetary</th>\n",
              "      <th>Recency_R</th>\n",
              "      <th>Frequency_F</th>\n",
              "      <th>Monetary_M</th>\n",
              "      <th>Class</th>\n",
              "    </tr>\n",
              "  </thead>\n",
              "  <tbody>\n",
              "    <tr>\n",
              "      <th>0</th>\n",
              "      <td>137</td>\n",
              "      <td>147 days</td>\n",
              "      <td>1</td>\n",
              "      <td>38000</td>\n",
              "      <td>2</td>\n",
              "      <td>1</td>\n",
              "      <td>2</td>\n",
              "      <td>4</td>\n",
              "    </tr>\n",
              "    <tr>\n",
              "      <th>1</th>\n",
              "      <td>153</td>\n",
              "      <td>284 days</td>\n",
              "      <td>11</td>\n",
              "      <td>215000</td>\n",
              "      <td>4</td>\n",
              "      <td>5</td>\n",
              "      <td>5</td>\n",
              "      <td>1</td>\n",
              "    </tr>\n",
              "    <tr>\n",
              "      <th>2</th>\n",
              "      <td>180</td>\n",
              "      <td>285 days</td>\n",
              "      <td>2</td>\n",
              "      <td>57000</td>\n",
              "      <td>5</td>\n",
              "      <td>3</td>\n",
              "      <td>3</td>\n",
              "      <td>2</td>\n",
              "    </tr>\n",
              "    <tr>\n",
              "      <th>3</th>\n",
              "      <td>208</td>\n",
              "      <td>284 days</td>\n",
              "      <td>22</td>\n",
              "      <td>443000</td>\n",
              "      <td>4</td>\n",
              "      <td>5</td>\n",
              "      <td>5</td>\n",
              "      <td>1</td>\n",
              "    </tr>\n",
              "    <tr>\n",
              "      <th>4</th>\n",
              "      <td>291</td>\n",
              "      <td>284 days</td>\n",
              "      <td>28</td>\n",
              "      <td>661000</td>\n",
              "      <td>4</td>\n",
              "      <td>5</td>\n",
              "      <td>5</td>\n",
              "      <td>1</td>\n",
              "    </tr>\n",
              "    <tr>\n",
              "      <th>...</th>\n",
              "      <td>...</td>\n",
              "      <td>...</td>\n",
              "      <td>...</td>\n",
              "      <td>...</td>\n",
              "      <td>...</td>\n",
              "      <td>...</td>\n",
              "      <td>...</td>\n",
              "      <td>...</td>\n",
              "    </tr>\n",
              "    <tr>\n",
              "      <th>7422</th>\n",
              "      <td>151972</td>\n",
              "      <td>288 days</td>\n",
              "      <td>1</td>\n",
              "      <td>72000</td>\n",
              "      <td>5</td>\n",
              "      <td>1</td>\n",
              "      <td>3</td>\n",
              "      <td>2</td>\n",
              "    </tr>\n",
              "    <tr>\n",
              "      <th>7423</th>\n",
              "      <td>151978</td>\n",
              "      <td>288 days</td>\n",
              "      <td>1</td>\n",
              "      <td>18000</td>\n",
              "      <td>5</td>\n",
              "      <td>1</td>\n",
              "      <td>1</td>\n",
              "      <td>4</td>\n",
              "    </tr>\n",
              "    <tr>\n",
              "      <th>7424</th>\n",
              "      <td>151980</td>\n",
              "      <td>288 days</td>\n",
              "      <td>1</td>\n",
              "      <td>12000</td>\n",
              "      <td>5</td>\n",
              "      <td>1</td>\n",
              "      <td>1</td>\n",
              "      <td>4</td>\n",
              "    </tr>\n",
              "    <tr>\n",
              "      <th>7425</th>\n",
              "      <td>151981</td>\n",
              "      <td>288 days</td>\n",
              "      <td>1</td>\n",
              "      <td>70000</td>\n",
              "      <td>5</td>\n",
              "      <td>1</td>\n",
              "      <td>3</td>\n",
              "      <td>2</td>\n",
              "    </tr>\n",
              "    <tr>\n",
              "      <th>7426</th>\n",
              "      <td>151984</td>\n",
              "      <td>288 days</td>\n",
              "      <td>1</td>\n",
              "      <td>35000</td>\n",
              "      <td>5</td>\n",
              "      <td>1</td>\n",
              "      <td>2</td>\n",
              "      <td>3</td>\n",
              "    </tr>\n",
              "  </tbody>\n",
              "</table>\n",
              "<p>7427 rows × 8 columns</p>\n",
              "</div>\n",
              "      <button class=\"colab-df-convert\" onclick=\"convertToInteractive('df-8056688b-a0e4-4e69-8df1-d17ed16485e4')\"\n",
              "              title=\"Convert this dataframe to an interactive table.\"\n",
              "              style=\"display:none;\">\n",
              "        \n",
              "  <svg xmlns=\"http://www.w3.org/2000/svg\" height=\"24px\"viewBox=\"0 0 24 24\"\n",
              "       width=\"24px\">\n",
              "    <path d=\"M0 0h24v24H0V0z\" fill=\"none\"/>\n",
              "    <path d=\"M18.56 5.44l.94 2.06.94-2.06 2.06-.94-2.06-.94-.94-2.06-.94 2.06-2.06.94zm-11 1L8.5 8.5l.94-2.06 2.06-.94-2.06-.94L8.5 2.5l-.94 2.06-2.06.94zm10 10l.94 2.06.94-2.06 2.06-.94-2.06-.94-.94-2.06-.94 2.06-2.06.94z\"/><path d=\"M17.41 7.96l-1.37-1.37c-.4-.4-.92-.59-1.43-.59-.52 0-1.04.2-1.43.59L10.3 9.45l-7.72 7.72c-.78.78-.78 2.05 0 2.83L4 21.41c.39.39.9.59 1.41.59.51 0 1.02-.2 1.41-.59l7.78-7.78 2.81-2.81c.8-.78.8-2.07 0-2.86zM5.41 20L4 18.59l7.72-7.72 1.47 1.35L5.41 20z\"/>\n",
              "  </svg>\n",
              "      </button>\n",
              "      \n",
              "  <style>\n",
              "    .colab-df-container {\n",
              "      display:flex;\n",
              "      flex-wrap:wrap;\n",
              "      gap: 12px;\n",
              "    }\n",
              "\n",
              "    .colab-df-convert {\n",
              "      background-color: #E8F0FE;\n",
              "      border: none;\n",
              "      border-radius: 50%;\n",
              "      cursor: pointer;\n",
              "      display: none;\n",
              "      fill: #1967D2;\n",
              "      height: 32px;\n",
              "      padding: 0 0 0 0;\n",
              "      width: 32px;\n",
              "    }\n",
              "\n",
              "    .colab-df-convert:hover {\n",
              "      background-color: #E2EBFA;\n",
              "      box-shadow: 0px 1px 2px rgba(60, 64, 67, 0.3), 0px 1px 3px 1px rgba(60, 64, 67, 0.15);\n",
              "      fill: #174EA6;\n",
              "    }\n",
              "\n",
              "    [theme=dark] .colab-df-convert {\n",
              "      background-color: #3B4455;\n",
              "      fill: #D2E3FC;\n",
              "    }\n",
              "\n",
              "    [theme=dark] .colab-df-convert:hover {\n",
              "      background-color: #434B5C;\n",
              "      box-shadow: 0px 1px 3px 1px rgba(0, 0, 0, 0.15);\n",
              "      filter: drop-shadow(0px 1px 2px rgba(0, 0, 0, 0.3));\n",
              "      fill: #FFFFFF;\n",
              "    }\n",
              "  </style>\n",
              "\n",
              "      <script>\n",
              "        const buttonEl =\n",
              "          document.querySelector('#df-8056688b-a0e4-4e69-8df1-d17ed16485e4 button.colab-df-convert');\n",
              "        buttonEl.style.display =\n",
              "          google.colab.kernel.accessAllowed ? 'block' : 'none';\n",
              "\n",
              "        async function convertToInteractive(key) {\n",
              "          const element = document.querySelector('#df-8056688b-a0e4-4e69-8df1-d17ed16485e4');\n",
              "          const dataTable =\n",
              "            await google.colab.kernel.invokeFunction('convertToInteractive',\n",
              "                                                     [key], {});\n",
              "          if (!dataTable) return;\n",
              "\n",
              "          const docLinkHtml = 'Like what you see? Visit the ' +\n",
              "            '<a target=\"_blank\" href=https://colab.research.google.com/notebooks/data_table.ipynb>data table notebook</a>'\n",
              "            + ' to learn more about interactive tables.';\n",
              "          element.innerHTML = '';\n",
              "          dataTable['output_type'] = 'display_data';\n",
              "          await google.colab.output.renderOutput(dataTable, element);\n",
              "          const docLink = document.createElement('div');\n",
              "          docLink.innerHTML = docLinkHtml;\n",
              "          element.appendChild(docLink);\n",
              "        }\n",
              "      </script>\n",
              "    </div>\n",
              "  </div>\n",
              "  "
            ]
          },
          "metadata": {},
          "execution_count": 135
        }
      ]
    },
    {
      "cell_type": "markdown",
      "source": [
        "## Tableau용 데이터"
      ],
      "metadata": {
        "id": "edkcydnnSKGp"
      }
    },
    {
      "cell_type": "code",
      "source": [
        "df_Tab_YN.head(2)"
      ],
      "metadata": {
        "id": "JSlHZOdoYjf3",
        "colab": {
          "base_uri": "https://localhost:8080/",
          "height": 225
        },
        "outputId": "4273e28b-f4da-482f-e580-45706b318100"
      },
      "execution_count": null,
      "outputs": [
        {
          "output_type": "execute_result",
          "data": {
            "text/plain": [
              "   membership_no        Opp product_grade_name  reserve_detail_no Sale  \\\n",
              "0            291  수원 삼성블루윙즈       1인 테이블석(SG2)                  1    Y   \n",
              "1            291  김천상무프로축구단                 S석                  1    Y   \n",
              "\n",
              "   MB_AGE           job favorite_idx cancel_yn yoil game_type_name  audience  \\\n",
              "0    1992  회사원(사무직/연구직)          김보섭         Y    토          스플릿일반      5382   \n",
              "1    1992  회사원(사무직/연구직)          김보섭         N    일          스플릿일반      2607   \n",
              "\n",
              "  weather  rank  \n",
              "0    snow     2  \n",
              "1    rain     3  "
            ],
            "text/html": [
              "\n",
              "  <div id=\"df-e7dd52cb-2e8a-411c-9871-8b384b6291fc\">\n",
              "    <div class=\"colab-df-container\">\n",
              "      <div>\n",
              "<style scoped>\n",
              "    .dataframe tbody tr th:only-of-type {\n",
              "        vertical-align: middle;\n",
              "    }\n",
              "\n",
              "    .dataframe tbody tr th {\n",
              "        vertical-align: top;\n",
              "    }\n",
              "\n",
              "    .dataframe thead th {\n",
              "        text-align: right;\n",
              "    }\n",
              "</style>\n",
              "<table border=\"1\" class=\"dataframe\">\n",
              "  <thead>\n",
              "    <tr style=\"text-align: right;\">\n",
              "      <th></th>\n",
              "      <th>membership_no</th>\n",
              "      <th>Opp</th>\n",
              "      <th>product_grade_name</th>\n",
              "      <th>reserve_detail_no</th>\n",
              "      <th>Sale</th>\n",
              "      <th>MB_AGE</th>\n",
              "      <th>job</th>\n",
              "      <th>favorite_idx</th>\n",
              "      <th>cancel_yn</th>\n",
              "      <th>yoil</th>\n",
              "      <th>game_type_name</th>\n",
              "      <th>audience</th>\n",
              "      <th>weather</th>\n",
              "      <th>rank</th>\n",
              "    </tr>\n",
              "  </thead>\n",
              "  <tbody>\n",
              "    <tr>\n",
              "      <th>0</th>\n",
              "      <td>291</td>\n",
              "      <td>수원 삼성블루윙즈</td>\n",
              "      <td>1인 테이블석(SG2)</td>\n",
              "      <td>1</td>\n",
              "      <td>Y</td>\n",
              "      <td>1992</td>\n",
              "      <td>회사원(사무직/연구직)</td>\n",
              "      <td>김보섭</td>\n",
              "      <td>Y</td>\n",
              "      <td>토</td>\n",
              "      <td>스플릿일반</td>\n",
              "      <td>5382</td>\n",
              "      <td>snow</td>\n",
              "      <td>2</td>\n",
              "    </tr>\n",
              "    <tr>\n",
              "      <th>1</th>\n",
              "      <td>291</td>\n",
              "      <td>김천상무프로축구단</td>\n",
              "      <td>S석</td>\n",
              "      <td>1</td>\n",
              "      <td>Y</td>\n",
              "      <td>1992</td>\n",
              "      <td>회사원(사무직/연구직)</td>\n",
              "      <td>김보섭</td>\n",
              "      <td>N</td>\n",
              "      <td>일</td>\n",
              "      <td>스플릿일반</td>\n",
              "      <td>2607</td>\n",
              "      <td>rain</td>\n",
              "      <td>3</td>\n",
              "    </tr>\n",
              "  </tbody>\n",
              "</table>\n",
              "</div>\n",
              "      <button class=\"colab-df-convert\" onclick=\"convertToInteractive('df-e7dd52cb-2e8a-411c-9871-8b384b6291fc')\"\n",
              "              title=\"Convert this dataframe to an interactive table.\"\n",
              "              style=\"display:none;\">\n",
              "        \n",
              "  <svg xmlns=\"http://www.w3.org/2000/svg\" height=\"24px\"viewBox=\"0 0 24 24\"\n",
              "       width=\"24px\">\n",
              "    <path d=\"M0 0h24v24H0V0z\" fill=\"none\"/>\n",
              "    <path d=\"M18.56 5.44l.94 2.06.94-2.06 2.06-.94-2.06-.94-.94-2.06-.94 2.06-2.06.94zm-11 1L8.5 8.5l.94-2.06 2.06-.94-2.06-.94L8.5 2.5l-.94 2.06-2.06.94zm10 10l.94 2.06.94-2.06 2.06-.94-2.06-.94-.94-2.06-.94 2.06-2.06.94z\"/><path d=\"M17.41 7.96l-1.37-1.37c-.4-.4-.92-.59-1.43-.59-.52 0-1.04.2-1.43.59L10.3 9.45l-7.72 7.72c-.78.78-.78 2.05 0 2.83L4 21.41c.39.39.9.59 1.41.59.51 0 1.02-.2 1.41-.59l7.78-7.78 2.81-2.81c.8-.78.8-2.07 0-2.86zM5.41 20L4 18.59l7.72-7.72 1.47 1.35L5.41 20z\"/>\n",
              "  </svg>\n",
              "      </button>\n",
              "      \n",
              "  <style>\n",
              "    .colab-df-container {\n",
              "      display:flex;\n",
              "      flex-wrap:wrap;\n",
              "      gap: 12px;\n",
              "    }\n",
              "\n",
              "    .colab-df-convert {\n",
              "      background-color: #E8F0FE;\n",
              "      border: none;\n",
              "      border-radius: 50%;\n",
              "      cursor: pointer;\n",
              "      display: none;\n",
              "      fill: #1967D2;\n",
              "      height: 32px;\n",
              "      padding: 0 0 0 0;\n",
              "      width: 32px;\n",
              "    }\n",
              "\n",
              "    .colab-df-convert:hover {\n",
              "      background-color: #E2EBFA;\n",
              "      box-shadow: 0px 1px 2px rgba(60, 64, 67, 0.3), 0px 1px 3px 1px rgba(60, 64, 67, 0.15);\n",
              "      fill: #174EA6;\n",
              "    }\n",
              "\n",
              "    [theme=dark] .colab-df-convert {\n",
              "      background-color: #3B4455;\n",
              "      fill: #D2E3FC;\n",
              "    }\n",
              "\n",
              "    [theme=dark] .colab-df-convert:hover {\n",
              "      background-color: #434B5C;\n",
              "      box-shadow: 0px 1px 3px 1px rgba(0, 0, 0, 0.15);\n",
              "      filter: drop-shadow(0px 1px 2px rgba(0, 0, 0, 0.3));\n",
              "      fill: #FFFFFF;\n",
              "    }\n",
              "  </style>\n",
              "\n",
              "      <script>\n",
              "        const buttonEl =\n",
              "          document.querySelector('#df-e7dd52cb-2e8a-411c-9871-8b384b6291fc button.colab-df-convert');\n",
              "        buttonEl.style.display =\n",
              "          google.colab.kernel.accessAllowed ? 'block' : 'none';\n",
              "\n",
              "        async function convertToInteractive(key) {\n",
              "          const element = document.querySelector('#df-e7dd52cb-2e8a-411c-9871-8b384b6291fc');\n",
              "          const dataTable =\n",
              "            await google.colab.kernel.invokeFunction('convertToInteractive',\n",
              "                                                     [key], {});\n",
              "          if (!dataTable) return;\n",
              "\n",
              "          const docLinkHtml = 'Like what you see? Visit the ' +\n",
              "            '<a target=\"_blank\" href=https://colab.research.google.com/notebooks/data_table.ipynb>data table notebook</a>'\n",
              "            + ' to learn more about interactive tables.';\n",
              "          element.innerHTML = '';\n",
              "          dataTable['output_type'] = 'display_data';\n",
              "          await google.colab.output.renderOutput(dataTable, element);\n",
              "          const docLink = document.createElement('div');\n",
              "          docLink.innerHTML = docLinkHtml;\n",
              "          element.appendChild(docLink);\n",
              "        }\n",
              "      </script>\n",
              "    </div>\n",
              "  </div>\n",
              "  "
            ]
          },
          "metadata": {},
          "execution_count": 136
        }
      ]
    },
    {
      "cell_type": "code",
      "source": [
        "df_Tab_Y.head(2)"
      ],
      "metadata": {
        "id": "8vrMuYqTYpWl",
        "colab": {
          "base_uri": "https://localhost:8080/",
          "height": 190
        },
        "outputId": "d23c52ea-e5e4-4390-a933-661f3da77fbb"
      },
      "execution_count": null,
      "outputs": [
        {
          "output_type": "execute_result",
          "data": {
            "text/plain": [
              "   membership_no cancel_yn        Opp   game_date game_time  \\\n",
              "0            291         Y  수원 삼성블루윙즈  2022-02-19  16:30:00   \n",
              "1           1073         Y  수원 삼성블루윙즈  2022-02-19  16:30:00   \n",
              "\n",
              "   reserve_detail_no product_grade_name product_denomination_name cancel_date  \\\n",
              "0                  1       1인 테이블석(SG2)          5천원 멤버십 할인권 (일반)  2022-02-15   \n",
              "1                  1              With석                        성인  2022-02-14   \n",
              "\n",
              "   cancel_hour  rank  \n",
              "0          0.0     2  \n",
              "1         19.0     2  "
            ],
            "text/html": [
              "\n",
              "  <div id=\"df-90a581dd-d6af-4262-9e38-76829a83c81a\">\n",
              "    <div class=\"colab-df-container\">\n",
              "      <div>\n",
              "<style scoped>\n",
              "    .dataframe tbody tr th:only-of-type {\n",
              "        vertical-align: middle;\n",
              "    }\n",
              "\n",
              "    .dataframe tbody tr th {\n",
              "        vertical-align: top;\n",
              "    }\n",
              "\n",
              "    .dataframe thead th {\n",
              "        text-align: right;\n",
              "    }\n",
              "</style>\n",
              "<table border=\"1\" class=\"dataframe\">\n",
              "  <thead>\n",
              "    <tr style=\"text-align: right;\">\n",
              "      <th></th>\n",
              "      <th>membership_no</th>\n",
              "      <th>cancel_yn</th>\n",
              "      <th>Opp</th>\n",
              "      <th>game_date</th>\n",
              "      <th>game_time</th>\n",
              "      <th>reserve_detail_no</th>\n",
              "      <th>product_grade_name</th>\n",
              "      <th>product_denomination_name</th>\n",
              "      <th>cancel_date</th>\n",
              "      <th>cancel_hour</th>\n",
              "      <th>rank</th>\n",
              "    </tr>\n",
              "  </thead>\n",
              "  <tbody>\n",
              "    <tr>\n",
              "      <th>0</th>\n",
              "      <td>291</td>\n",
              "      <td>Y</td>\n",
              "      <td>수원 삼성블루윙즈</td>\n",
              "      <td>2022-02-19</td>\n",
              "      <td>16:30:00</td>\n",
              "      <td>1</td>\n",
              "      <td>1인 테이블석(SG2)</td>\n",
              "      <td>5천원 멤버십 할인권 (일반)</td>\n",
              "      <td>2022-02-15</td>\n",
              "      <td>0.0</td>\n",
              "      <td>2</td>\n",
              "    </tr>\n",
              "    <tr>\n",
              "      <th>1</th>\n",
              "      <td>1073</td>\n",
              "      <td>Y</td>\n",
              "      <td>수원 삼성블루윙즈</td>\n",
              "      <td>2022-02-19</td>\n",
              "      <td>16:30:00</td>\n",
              "      <td>1</td>\n",
              "      <td>With석</td>\n",
              "      <td>성인</td>\n",
              "      <td>2022-02-14</td>\n",
              "      <td>19.0</td>\n",
              "      <td>2</td>\n",
              "    </tr>\n",
              "  </tbody>\n",
              "</table>\n",
              "</div>\n",
              "      <button class=\"colab-df-convert\" onclick=\"convertToInteractive('df-90a581dd-d6af-4262-9e38-76829a83c81a')\"\n",
              "              title=\"Convert this dataframe to an interactive table.\"\n",
              "              style=\"display:none;\">\n",
              "        \n",
              "  <svg xmlns=\"http://www.w3.org/2000/svg\" height=\"24px\"viewBox=\"0 0 24 24\"\n",
              "       width=\"24px\">\n",
              "    <path d=\"M0 0h24v24H0V0z\" fill=\"none\"/>\n",
              "    <path d=\"M18.56 5.44l.94 2.06.94-2.06 2.06-.94-2.06-.94-.94-2.06-.94 2.06-2.06.94zm-11 1L8.5 8.5l.94-2.06 2.06-.94-2.06-.94L8.5 2.5l-.94 2.06-2.06.94zm10 10l.94 2.06.94-2.06 2.06-.94-2.06-.94-.94-2.06-.94 2.06-2.06.94z\"/><path d=\"M17.41 7.96l-1.37-1.37c-.4-.4-.92-.59-1.43-.59-.52 0-1.04.2-1.43.59L10.3 9.45l-7.72 7.72c-.78.78-.78 2.05 0 2.83L4 21.41c.39.39.9.59 1.41.59.51 0 1.02-.2 1.41-.59l7.78-7.78 2.81-2.81c.8-.78.8-2.07 0-2.86zM5.41 20L4 18.59l7.72-7.72 1.47 1.35L5.41 20z\"/>\n",
              "  </svg>\n",
              "      </button>\n",
              "      \n",
              "  <style>\n",
              "    .colab-df-container {\n",
              "      display:flex;\n",
              "      flex-wrap:wrap;\n",
              "      gap: 12px;\n",
              "    }\n",
              "\n",
              "    .colab-df-convert {\n",
              "      background-color: #E8F0FE;\n",
              "      border: none;\n",
              "      border-radius: 50%;\n",
              "      cursor: pointer;\n",
              "      display: none;\n",
              "      fill: #1967D2;\n",
              "      height: 32px;\n",
              "      padding: 0 0 0 0;\n",
              "      width: 32px;\n",
              "    }\n",
              "\n",
              "    .colab-df-convert:hover {\n",
              "      background-color: #E2EBFA;\n",
              "      box-shadow: 0px 1px 2px rgba(60, 64, 67, 0.3), 0px 1px 3px 1px rgba(60, 64, 67, 0.15);\n",
              "      fill: #174EA6;\n",
              "    }\n",
              "\n",
              "    [theme=dark] .colab-df-convert {\n",
              "      background-color: #3B4455;\n",
              "      fill: #D2E3FC;\n",
              "    }\n",
              "\n",
              "    [theme=dark] .colab-df-convert:hover {\n",
              "      background-color: #434B5C;\n",
              "      box-shadow: 0px 1px 3px 1px rgba(0, 0, 0, 0.15);\n",
              "      filter: drop-shadow(0px 1px 2px rgba(0, 0, 0, 0.3));\n",
              "      fill: #FFFFFF;\n",
              "    }\n",
              "  </style>\n",
              "\n",
              "      <script>\n",
              "        const buttonEl =\n",
              "          document.querySelector('#df-90a581dd-d6af-4262-9e38-76829a83c81a button.colab-df-convert');\n",
              "        buttonEl.style.display =\n",
              "          google.colab.kernel.accessAllowed ? 'block' : 'none';\n",
              "\n",
              "        async function convertToInteractive(key) {\n",
              "          const element = document.querySelector('#df-90a581dd-d6af-4262-9e38-76829a83c81a');\n",
              "          const dataTable =\n",
              "            await google.colab.kernel.invokeFunction('convertToInteractive',\n",
              "                                                     [key], {});\n",
              "          if (!dataTable) return;\n",
              "\n",
              "          const docLinkHtml = 'Like what you see? Visit the ' +\n",
              "            '<a target=\"_blank\" href=https://colab.research.google.com/notebooks/data_table.ipynb>data table notebook</a>'\n",
              "            + ' to learn more about interactive tables.';\n",
              "          element.innerHTML = '';\n",
              "          dataTable['output_type'] = 'display_data';\n",
              "          await google.colab.output.renderOutput(dataTable, element);\n",
              "          const docLink = document.createElement('div');\n",
              "          docLink.innerHTML = docLinkHtml;\n",
              "          element.appendChild(docLink);\n",
              "        }\n",
              "      </script>\n",
              "    </div>\n",
              "  </div>\n",
              "  "
            ]
          },
          "metadata": {},
          "execution_count": 137
        }
      ]
    },
    {
      "cell_type": "code",
      "source": [
        "df_Tab_Y['game_date'] = pd.to_datetime(df_Tab_Y['game_date'])\n",
        "df_Tab_Y['cancel_date'] = pd.to_datetime(df_Tab_Y['cancel_date'])\n",
        "df_Tab_Y['game_time'] = pd.to_datetime(df_Tab_Y['game_time'])\n",
        "df_Tab_Y['game-cancel']=df_Tab_Y['game_date'] - df_Tab_Y['cancel_date']\n",
        "df_Tab_Y['game-cancel'] = df_Tab_Y['game-cancel'].dt.days\n",
        "df_Tab_Y['game_time'] = df_Tab_Y['game_time'].dt.hour"
      ],
      "metadata": {
        "id": "qYJ3ZB9Fc8Mh"
      },
      "execution_count": null,
      "outputs": []
    },
    {
      "cell_type": "code",
      "source": [
        "df_Tab_N"
      ],
      "metadata": {
        "id": "Y_J073UYYsvn",
        "colab": {
          "base_uri": "https://localhost:8080/",
          "height": 1000
        },
        "outputId": "4b6aee08-eeb6-4c40-dcbd-9cbf7712b8f1"
      },
      "execution_count": null,
      "outputs": [
        {
          "output_type": "execute_result",
          "data": {
            "text/plain": [
              "       membership_no cancel_yn        Opp  game_date  game_time  \\\n",
              "819           102806         N  수원 삼성블루윙즈 2022-02-19         16   \n",
              "820           138160         N  수원 삼성블루윙즈 2022-02-19         16   \n",
              "821           138160         N  수원 삼성블루윙즈 2022-02-19         16   \n",
              "822           138160         N  수원 삼성블루윙즈 2022-02-19         16   \n",
              "823           104910         N  수원 삼성블루윙즈 2022-02-19         16   \n",
              "...              ...       ...        ...        ...        ...   \n",
              "53204         139589         N    포항 스틸러스 2022-10-16         19   \n",
              "53205         139589         N    포항 스틸러스 2022-10-16         19   \n",
              "53206         151984         N    포항 스틸러스 2022-10-16         19   \n",
              "53207         118329         N    포항 스틸러스 2022-10-16         19   \n",
              "53208         118329         N    포항 스틸러스 2022-10-16         19   \n",
              "\n",
              "       reserve_detail_no product_grade_name product_denomination_name  \\\n",
              "819                    1       World class석              K리그 축덕카드(신용)   \n",
              "820                    1       World class석                        성인   \n",
              "821                    2       World class석                        성인   \n",
              "822                    3       World class석                        성인   \n",
              "823                    1       World class석                   ㅅㅇ전 게임권   \n",
              "...                  ...                ...                       ...   \n",
              "53204                  2          Exciting석                        성인   \n",
              "53205                  3          Exciting석                   청소년/어린이   \n",
              "53206                  1                원정석                        성인   \n",
              "53207                  1                 S석                        성인   \n",
              "53208                  2                 S석                        성인   \n",
              "\n",
              "      reserve_date  reserve_hour  rank  game-reserve  \n",
              "819     2022-02-14          14.0     2             5  \n",
              "820     2022-02-14          14.0     2             5  \n",
              "821     2022-02-14          14.0     2             5  \n",
              "822     2022-02-14          14.0     2             5  \n",
              "823     2022-02-14          14.0     2             5  \n",
              "...            ...           ...   ...           ...  \n",
              "53204   2022-10-16          19.0     4             0  \n",
              "53205   2022-10-16          19.0     4             0  \n",
              "53206   2022-10-16          19.0     4             0  \n",
              "53207   2022-10-16          19.0     4             0  \n",
              "53208   2022-10-16          19.0     4             0  \n",
              "\n",
              "[47886 rows x 12 columns]"
            ],
            "text/html": [
              "\n",
              "  <div id=\"df-302d0af3-c71e-4ac0-a693-178f4a030a93\">\n",
              "    <div class=\"colab-df-container\">\n",
              "      <div>\n",
              "<style scoped>\n",
              "    .dataframe tbody tr th:only-of-type {\n",
              "        vertical-align: middle;\n",
              "    }\n",
              "\n",
              "    .dataframe tbody tr th {\n",
              "        vertical-align: top;\n",
              "    }\n",
              "\n",
              "    .dataframe thead th {\n",
              "        text-align: right;\n",
              "    }\n",
              "</style>\n",
              "<table border=\"1\" class=\"dataframe\">\n",
              "  <thead>\n",
              "    <tr style=\"text-align: right;\">\n",
              "      <th></th>\n",
              "      <th>membership_no</th>\n",
              "      <th>cancel_yn</th>\n",
              "      <th>Opp</th>\n",
              "      <th>game_date</th>\n",
              "      <th>game_time</th>\n",
              "      <th>reserve_detail_no</th>\n",
              "      <th>product_grade_name</th>\n",
              "      <th>product_denomination_name</th>\n",
              "      <th>reserve_date</th>\n",
              "      <th>reserve_hour</th>\n",
              "      <th>rank</th>\n",
              "      <th>game-reserve</th>\n",
              "    </tr>\n",
              "  </thead>\n",
              "  <tbody>\n",
              "    <tr>\n",
              "      <th>819</th>\n",
              "      <td>102806</td>\n",
              "      <td>N</td>\n",
              "      <td>수원 삼성블루윙즈</td>\n",
              "      <td>2022-02-19</td>\n",
              "      <td>16</td>\n",
              "      <td>1</td>\n",
              "      <td>World class석</td>\n",
              "      <td>K리그 축덕카드(신용)</td>\n",
              "      <td>2022-02-14</td>\n",
              "      <td>14.0</td>\n",
              "      <td>2</td>\n",
              "      <td>5</td>\n",
              "    </tr>\n",
              "    <tr>\n",
              "      <th>820</th>\n",
              "      <td>138160</td>\n",
              "      <td>N</td>\n",
              "      <td>수원 삼성블루윙즈</td>\n",
              "      <td>2022-02-19</td>\n",
              "      <td>16</td>\n",
              "      <td>1</td>\n",
              "      <td>World class석</td>\n",
              "      <td>성인</td>\n",
              "      <td>2022-02-14</td>\n",
              "      <td>14.0</td>\n",
              "      <td>2</td>\n",
              "      <td>5</td>\n",
              "    </tr>\n",
              "    <tr>\n",
              "      <th>821</th>\n",
              "      <td>138160</td>\n",
              "      <td>N</td>\n",
              "      <td>수원 삼성블루윙즈</td>\n",
              "      <td>2022-02-19</td>\n",
              "      <td>16</td>\n",
              "      <td>2</td>\n",
              "      <td>World class석</td>\n",
              "      <td>성인</td>\n",
              "      <td>2022-02-14</td>\n",
              "      <td>14.0</td>\n",
              "      <td>2</td>\n",
              "      <td>5</td>\n",
              "    </tr>\n",
              "    <tr>\n",
              "      <th>822</th>\n",
              "      <td>138160</td>\n",
              "      <td>N</td>\n",
              "      <td>수원 삼성블루윙즈</td>\n",
              "      <td>2022-02-19</td>\n",
              "      <td>16</td>\n",
              "      <td>3</td>\n",
              "      <td>World class석</td>\n",
              "      <td>성인</td>\n",
              "      <td>2022-02-14</td>\n",
              "      <td>14.0</td>\n",
              "      <td>2</td>\n",
              "      <td>5</td>\n",
              "    </tr>\n",
              "    <tr>\n",
              "      <th>823</th>\n",
              "      <td>104910</td>\n",
              "      <td>N</td>\n",
              "      <td>수원 삼성블루윙즈</td>\n",
              "      <td>2022-02-19</td>\n",
              "      <td>16</td>\n",
              "      <td>1</td>\n",
              "      <td>World class석</td>\n",
              "      <td>ㅅㅇ전 게임권</td>\n",
              "      <td>2022-02-14</td>\n",
              "      <td>14.0</td>\n",
              "      <td>2</td>\n",
              "      <td>5</td>\n",
              "    </tr>\n",
              "    <tr>\n",
              "      <th>...</th>\n",
              "      <td>...</td>\n",
              "      <td>...</td>\n",
              "      <td>...</td>\n",
              "      <td>...</td>\n",
              "      <td>...</td>\n",
              "      <td>...</td>\n",
              "      <td>...</td>\n",
              "      <td>...</td>\n",
              "      <td>...</td>\n",
              "      <td>...</td>\n",
              "      <td>...</td>\n",
              "      <td>...</td>\n",
              "    </tr>\n",
              "    <tr>\n",
              "      <th>53204</th>\n",
              "      <td>139589</td>\n",
              "      <td>N</td>\n",
              "      <td>포항 스틸러스</td>\n",
              "      <td>2022-10-16</td>\n",
              "      <td>19</td>\n",
              "      <td>2</td>\n",
              "      <td>Exciting석</td>\n",
              "      <td>성인</td>\n",
              "      <td>2022-10-16</td>\n",
              "      <td>19.0</td>\n",
              "      <td>4</td>\n",
              "      <td>0</td>\n",
              "    </tr>\n",
              "    <tr>\n",
              "      <th>53205</th>\n",
              "      <td>139589</td>\n",
              "      <td>N</td>\n",
              "      <td>포항 스틸러스</td>\n",
              "      <td>2022-10-16</td>\n",
              "      <td>19</td>\n",
              "      <td>3</td>\n",
              "      <td>Exciting석</td>\n",
              "      <td>청소년/어린이</td>\n",
              "      <td>2022-10-16</td>\n",
              "      <td>19.0</td>\n",
              "      <td>4</td>\n",
              "      <td>0</td>\n",
              "    </tr>\n",
              "    <tr>\n",
              "      <th>53206</th>\n",
              "      <td>151984</td>\n",
              "      <td>N</td>\n",
              "      <td>포항 스틸러스</td>\n",
              "      <td>2022-10-16</td>\n",
              "      <td>19</td>\n",
              "      <td>1</td>\n",
              "      <td>원정석</td>\n",
              "      <td>성인</td>\n",
              "      <td>2022-10-16</td>\n",
              "      <td>19.0</td>\n",
              "      <td>4</td>\n",
              "      <td>0</td>\n",
              "    </tr>\n",
              "    <tr>\n",
              "      <th>53207</th>\n",
              "      <td>118329</td>\n",
              "      <td>N</td>\n",
              "      <td>포항 스틸러스</td>\n",
              "      <td>2022-10-16</td>\n",
              "      <td>19</td>\n",
              "      <td>1</td>\n",
              "      <td>S석</td>\n",
              "      <td>성인</td>\n",
              "      <td>2022-10-16</td>\n",
              "      <td>19.0</td>\n",
              "      <td>4</td>\n",
              "      <td>0</td>\n",
              "    </tr>\n",
              "    <tr>\n",
              "      <th>53208</th>\n",
              "      <td>118329</td>\n",
              "      <td>N</td>\n",
              "      <td>포항 스틸러스</td>\n",
              "      <td>2022-10-16</td>\n",
              "      <td>19</td>\n",
              "      <td>2</td>\n",
              "      <td>S석</td>\n",
              "      <td>성인</td>\n",
              "      <td>2022-10-16</td>\n",
              "      <td>19.0</td>\n",
              "      <td>4</td>\n",
              "      <td>0</td>\n",
              "    </tr>\n",
              "  </tbody>\n",
              "</table>\n",
              "<p>47886 rows × 12 columns</p>\n",
              "</div>\n",
              "      <button class=\"colab-df-convert\" onclick=\"convertToInteractive('df-302d0af3-c71e-4ac0-a693-178f4a030a93')\"\n",
              "              title=\"Convert this dataframe to an interactive table.\"\n",
              "              style=\"display:none;\">\n",
              "        \n",
              "  <svg xmlns=\"http://www.w3.org/2000/svg\" height=\"24px\"viewBox=\"0 0 24 24\"\n",
              "       width=\"24px\">\n",
              "    <path d=\"M0 0h24v24H0V0z\" fill=\"none\"/>\n",
              "    <path d=\"M18.56 5.44l.94 2.06.94-2.06 2.06-.94-2.06-.94-.94-2.06-.94 2.06-2.06.94zm-11 1L8.5 8.5l.94-2.06 2.06-.94-2.06-.94L8.5 2.5l-.94 2.06-2.06.94zm10 10l.94 2.06.94-2.06 2.06-.94-2.06-.94-.94-2.06-.94 2.06-2.06.94z\"/><path d=\"M17.41 7.96l-1.37-1.37c-.4-.4-.92-.59-1.43-.59-.52 0-1.04.2-1.43.59L10.3 9.45l-7.72 7.72c-.78.78-.78 2.05 0 2.83L4 21.41c.39.39.9.59 1.41.59.51 0 1.02-.2 1.41-.59l7.78-7.78 2.81-2.81c.8-.78.8-2.07 0-2.86zM5.41 20L4 18.59l7.72-7.72 1.47 1.35L5.41 20z\"/>\n",
              "  </svg>\n",
              "      </button>\n",
              "      \n",
              "  <style>\n",
              "    .colab-df-container {\n",
              "      display:flex;\n",
              "      flex-wrap:wrap;\n",
              "      gap: 12px;\n",
              "    }\n",
              "\n",
              "    .colab-df-convert {\n",
              "      background-color: #E8F0FE;\n",
              "      border: none;\n",
              "      border-radius: 50%;\n",
              "      cursor: pointer;\n",
              "      display: none;\n",
              "      fill: #1967D2;\n",
              "      height: 32px;\n",
              "      padding: 0 0 0 0;\n",
              "      width: 32px;\n",
              "    }\n",
              "\n",
              "    .colab-df-convert:hover {\n",
              "      background-color: #E2EBFA;\n",
              "      box-shadow: 0px 1px 2px rgba(60, 64, 67, 0.3), 0px 1px 3px 1px rgba(60, 64, 67, 0.15);\n",
              "      fill: #174EA6;\n",
              "    }\n",
              "\n",
              "    [theme=dark] .colab-df-convert {\n",
              "      background-color: #3B4455;\n",
              "      fill: #D2E3FC;\n",
              "    }\n",
              "\n",
              "    [theme=dark] .colab-df-convert:hover {\n",
              "      background-color: #434B5C;\n",
              "      box-shadow: 0px 1px 3px 1px rgba(0, 0, 0, 0.15);\n",
              "      filter: drop-shadow(0px 1px 2px rgba(0, 0, 0, 0.3));\n",
              "      fill: #FFFFFF;\n",
              "    }\n",
              "  </style>\n",
              "\n",
              "      <script>\n",
              "        const buttonEl =\n",
              "          document.querySelector('#df-302d0af3-c71e-4ac0-a693-178f4a030a93 button.colab-df-convert');\n",
              "        buttonEl.style.display =\n",
              "          google.colab.kernel.accessAllowed ? 'block' : 'none';\n",
              "\n",
              "        async function convertToInteractive(key) {\n",
              "          const element = document.querySelector('#df-302d0af3-c71e-4ac0-a693-178f4a030a93');\n",
              "          const dataTable =\n",
              "            await google.colab.kernel.invokeFunction('convertToInteractive',\n",
              "                                                     [key], {});\n",
              "          if (!dataTable) return;\n",
              "\n",
              "          const docLinkHtml = 'Like what you see? Visit the ' +\n",
              "            '<a target=\"_blank\" href=https://colab.research.google.com/notebooks/data_table.ipynb>data table notebook</a>'\n",
              "            + ' to learn more about interactive tables.';\n",
              "          element.innerHTML = '';\n",
              "          dataTable['output_type'] = 'display_data';\n",
              "          await google.colab.output.renderOutput(dataTable, element);\n",
              "          const docLink = document.createElement('div');\n",
              "          docLink.innerHTML = docLinkHtml;\n",
              "          element.appendChild(docLink);\n",
              "        }\n",
              "      </script>\n",
              "    </div>\n",
              "  </div>\n",
              "  "
            ]
          },
          "metadata": {},
          "execution_count": 139
        }
      ]
    },
    {
      "cell_type": "code",
      "source": [
        "df_Tab_YN.to_csv(\"df_Tab_YN.csv\", index = False)\n",
        "df_Tab_Y.to_csv(\"df_Tab_Y.csv\", index = False)\n",
        "df_Tab_N.to_csv(\"df_Tab_N.csv\", index = False)"
      ],
      "metadata": {
        "id": "tTRoYmJBeiV2"
      },
      "execution_count": null,
      "outputs": []
    },
    {
      "cell_type": "code",
      "source": [
        "df_Tab_N['game-reserve'].unique()"
      ],
      "metadata": {
        "id": "wFgtFiSo7PON",
        "colab": {
          "base_uri": "https://localhost:8080/"
        },
        "outputId": "df074844-3365-4664-965d-18da50e0e511"
      },
      "execution_count": null,
      "outputs": [
        {
          "output_type": "execute_result",
          "data": {
            "text/plain": [
              "array([5, 4, 3, 2, 1, 0, 7, 6, 8])"
            ]
          },
          "metadata": {},
          "execution_count": 141
        }
      ]
    },
    {
      "cell_type": "code",
      "source": [
        "df_member[df_member['MB_IDX'] == 151918]"
      ],
      "metadata": {
        "id": "lIOIpmezb5ce",
        "colab": {
          "base_uri": "https://localhost:8080/",
          "height": 80
        },
        "outputId": "d6fe6157-a179-446b-b7bd-187bf3c1c6ff"
      },
      "execution_count": null,
      "outputs": [
        {
          "output_type": "execute_result",
          "data": {
            "text/plain": [
              "       MB_IDX  MB_AGE  zipcode           job favorite_idx\n",
              "15801  151918    1989  16433.0  회사원(사무직/연구직)          김보섭"
            ],
            "text/html": [
              "\n",
              "  <div id=\"df-3f30e4a3-faac-4f61-9370-9ee83a773e75\">\n",
              "    <div class=\"colab-df-container\">\n",
              "      <div>\n",
              "<style scoped>\n",
              "    .dataframe tbody tr th:only-of-type {\n",
              "        vertical-align: middle;\n",
              "    }\n",
              "\n",
              "    .dataframe tbody tr th {\n",
              "        vertical-align: top;\n",
              "    }\n",
              "\n",
              "    .dataframe thead th {\n",
              "        text-align: right;\n",
              "    }\n",
              "</style>\n",
              "<table border=\"1\" class=\"dataframe\">\n",
              "  <thead>\n",
              "    <tr style=\"text-align: right;\">\n",
              "      <th></th>\n",
              "      <th>MB_IDX</th>\n",
              "      <th>MB_AGE</th>\n",
              "      <th>zipcode</th>\n",
              "      <th>job</th>\n",
              "      <th>favorite_idx</th>\n",
              "    </tr>\n",
              "  </thead>\n",
              "  <tbody>\n",
              "    <tr>\n",
              "      <th>15801</th>\n",
              "      <td>151918</td>\n",
              "      <td>1989</td>\n",
              "      <td>16433.0</td>\n",
              "      <td>회사원(사무직/연구직)</td>\n",
              "      <td>김보섭</td>\n",
              "    </tr>\n",
              "  </tbody>\n",
              "</table>\n",
              "</div>\n",
              "      <button class=\"colab-df-convert\" onclick=\"convertToInteractive('df-3f30e4a3-faac-4f61-9370-9ee83a773e75')\"\n",
              "              title=\"Convert this dataframe to an interactive table.\"\n",
              "              style=\"display:none;\">\n",
              "        \n",
              "  <svg xmlns=\"http://www.w3.org/2000/svg\" height=\"24px\"viewBox=\"0 0 24 24\"\n",
              "       width=\"24px\">\n",
              "    <path d=\"M0 0h24v24H0V0z\" fill=\"none\"/>\n",
              "    <path d=\"M18.56 5.44l.94 2.06.94-2.06 2.06-.94-2.06-.94-.94-2.06-.94 2.06-2.06.94zm-11 1L8.5 8.5l.94-2.06 2.06-.94-2.06-.94L8.5 2.5l-.94 2.06-2.06.94zm10 10l.94 2.06.94-2.06 2.06-.94-2.06-.94-.94-2.06-.94 2.06-2.06.94z\"/><path d=\"M17.41 7.96l-1.37-1.37c-.4-.4-.92-.59-1.43-.59-.52 0-1.04.2-1.43.59L10.3 9.45l-7.72 7.72c-.78.78-.78 2.05 0 2.83L4 21.41c.39.39.9.59 1.41.59.51 0 1.02-.2 1.41-.59l7.78-7.78 2.81-2.81c.8-.78.8-2.07 0-2.86zM5.41 20L4 18.59l7.72-7.72 1.47 1.35L5.41 20z\"/>\n",
              "  </svg>\n",
              "      </button>\n",
              "      \n",
              "  <style>\n",
              "    .colab-df-container {\n",
              "      display:flex;\n",
              "      flex-wrap:wrap;\n",
              "      gap: 12px;\n",
              "    }\n",
              "\n",
              "    .colab-df-convert {\n",
              "      background-color: #E8F0FE;\n",
              "      border: none;\n",
              "      border-radius: 50%;\n",
              "      cursor: pointer;\n",
              "      display: none;\n",
              "      fill: #1967D2;\n",
              "      height: 32px;\n",
              "      padding: 0 0 0 0;\n",
              "      width: 32px;\n",
              "    }\n",
              "\n",
              "    .colab-df-convert:hover {\n",
              "      background-color: #E2EBFA;\n",
              "      box-shadow: 0px 1px 2px rgba(60, 64, 67, 0.3), 0px 1px 3px 1px rgba(60, 64, 67, 0.15);\n",
              "      fill: #174EA6;\n",
              "    }\n",
              "\n",
              "    [theme=dark] .colab-df-convert {\n",
              "      background-color: #3B4455;\n",
              "      fill: #D2E3FC;\n",
              "    }\n",
              "\n",
              "    [theme=dark] .colab-df-convert:hover {\n",
              "      background-color: #434B5C;\n",
              "      box-shadow: 0px 1px 3px 1px rgba(0, 0, 0, 0.15);\n",
              "      filter: drop-shadow(0px 1px 2px rgba(0, 0, 0, 0.3));\n",
              "      fill: #FFFFFF;\n",
              "    }\n",
              "  </style>\n",
              "\n",
              "      <script>\n",
              "        const buttonEl =\n",
              "          document.querySelector('#df-3f30e4a3-faac-4f61-9370-9ee83a773e75 button.colab-df-convert');\n",
              "        buttonEl.style.display =\n",
              "          google.colab.kernel.accessAllowed ? 'block' : 'none';\n",
              "\n",
              "        async function convertToInteractive(key) {\n",
              "          const element = document.querySelector('#df-3f30e4a3-faac-4f61-9370-9ee83a773e75');\n",
              "          const dataTable =\n",
              "            await google.colab.kernel.invokeFunction('convertToInteractive',\n",
              "                                                     [key], {});\n",
              "          if (!dataTable) return;\n",
              "\n",
              "          const docLinkHtml = 'Like what you see? Visit the ' +\n",
              "            '<a target=\"_blank\" href=https://colab.research.google.com/notebooks/data_table.ipynb>data table notebook</a>'\n",
              "            + ' to learn more about interactive tables.';\n",
              "          element.innerHTML = '';\n",
              "          dataTable['output_type'] = 'display_data';\n",
              "          await google.colab.output.renderOutput(dataTable, element);\n",
              "          const docLink = document.createElement('div');\n",
              "          docLink.innerHTML = docLinkHtml;\n",
              "          element.appendChild(docLink);\n",
              "        }\n",
              "      </script>\n",
              "    </div>\n",
              "  </div>\n",
              "  "
            ]
          },
          "metadata": {},
          "execution_count": 142
        }
      ]
    },
    {
      "cell_type": "code",
      "source": [
        "df_member.info()"
      ],
      "metadata": {
        "id": "LtQuPvfAuJeW",
        "colab": {
          "base_uri": "https://localhost:8080/"
        },
        "outputId": "c17def73-290e-4c02-ff24-b0b2c1699e71"
      },
      "execution_count": null,
      "outputs": [
        {
          "output_type": "stream",
          "name": "stdout",
          "text": [
            "<class 'pandas.core.frame.DataFrame'>\n",
            "RangeIndex: 15878 entries, 0 to 15877\n",
            "Data columns (total 5 columns):\n",
            " #   Column        Non-Null Count  Dtype  \n",
            "---  ------        --------------  -----  \n",
            " 0   MB_IDX        15878 non-null  int64  \n",
            " 1   MB_AGE        15878 non-null  int64  \n",
            " 2   zipcode       15646 non-null  float64\n",
            " 3   job           13249 non-null  object \n",
            " 4   favorite_idx  15878 non-null  object \n",
            "dtypes: float64(1), int64(2), object(2)\n",
            "memory usage: 620.4+ KB\n"
          ]
        }
      ]
    },
    {
      "cell_type": "markdown",
      "source": [
        "## 설문\n"
      ],
      "metadata": {
        "id": "UimaXLBVaYnm"
      }
    },
    {
      "cell_type": "code",
      "source": [
        "print(df_sv_comp.shape)\n",
        "df_sv_comp.head(2)\n"
      ],
      "metadata": {
        "colab": {
          "base_uri": "https://localhost:8080/",
          "height": 130
        },
        "id": "f0XEMI7qaaJp",
        "outputId": "13fdfc7f-dcdc-4ac5-9c32-b5c86c4f0303"
      },
      "execution_count": null,
      "outputs": [
        {
          "output_type": "stream",
          "name": "stdout",
          "text": [
            "(5802, 10)\n"
          ]
        },
        {
          "output_type": "execute_result",
          "data": {
            "text/plain": [
              "   idx  survey_idx state          start_date            end_date  MB_IDX  \\\n",
              "0   41          24     C 2020-09-03 17:28:21 2020-09-03 17:33:34    1353   \n",
              "1   46          24     C 2020-09-03 17:26:03 2020-09-03 17:29:55  102758   \n",
              "\n",
              "   MB_AGE  zipcode           job favorite_idx  \n",
              "0    1996  22230.0  대학생(대학원생 포함)          송시우  \n",
              "1    1988  21340.0  회사원(사무직/연구직)          김도혁  "
            ],
            "text/html": [
              "\n",
              "  <div id=\"df-b7f65c8c-bf54-4b56-94ff-9b390aaa89c0\">\n",
              "    <div class=\"colab-df-container\">\n",
              "      <div>\n",
              "<style scoped>\n",
              "    .dataframe tbody tr th:only-of-type {\n",
              "        vertical-align: middle;\n",
              "    }\n",
              "\n",
              "    .dataframe tbody tr th {\n",
              "        vertical-align: top;\n",
              "    }\n",
              "\n",
              "    .dataframe thead th {\n",
              "        text-align: right;\n",
              "    }\n",
              "</style>\n",
              "<table border=\"1\" class=\"dataframe\">\n",
              "  <thead>\n",
              "    <tr style=\"text-align: right;\">\n",
              "      <th></th>\n",
              "      <th>idx</th>\n",
              "      <th>survey_idx</th>\n",
              "      <th>state</th>\n",
              "      <th>start_date</th>\n",
              "      <th>end_date</th>\n",
              "      <th>MB_IDX</th>\n",
              "      <th>MB_AGE</th>\n",
              "      <th>zipcode</th>\n",
              "      <th>job</th>\n",
              "      <th>favorite_idx</th>\n",
              "    </tr>\n",
              "  </thead>\n",
              "  <tbody>\n",
              "    <tr>\n",
              "      <th>0</th>\n",
              "      <td>41</td>\n",
              "      <td>24</td>\n",
              "      <td>C</td>\n",
              "      <td>2020-09-03 17:28:21</td>\n",
              "      <td>2020-09-03 17:33:34</td>\n",
              "      <td>1353</td>\n",
              "      <td>1996</td>\n",
              "      <td>22230.0</td>\n",
              "      <td>대학생(대학원생 포함)</td>\n",
              "      <td>송시우</td>\n",
              "    </tr>\n",
              "    <tr>\n",
              "      <th>1</th>\n",
              "      <td>46</td>\n",
              "      <td>24</td>\n",
              "      <td>C</td>\n",
              "      <td>2020-09-03 17:26:03</td>\n",
              "      <td>2020-09-03 17:29:55</td>\n",
              "      <td>102758</td>\n",
              "      <td>1988</td>\n",
              "      <td>21340.0</td>\n",
              "      <td>회사원(사무직/연구직)</td>\n",
              "      <td>김도혁</td>\n",
              "    </tr>\n",
              "  </tbody>\n",
              "</table>\n",
              "</div>\n",
              "      <button class=\"colab-df-convert\" onclick=\"convertToInteractive('df-b7f65c8c-bf54-4b56-94ff-9b390aaa89c0')\"\n",
              "              title=\"Convert this dataframe to an interactive table.\"\n",
              "              style=\"display:none;\">\n",
              "        \n",
              "  <svg xmlns=\"http://www.w3.org/2000/svg\" height=\"24px\"viewBox=\"0 0 24 24\"\n",
              "       width=\"24px\">\n",
              "    <path d=\"M0 0h24v24H0V0z\" fill=\"none\"/>\n",
              "    <path d=\"M18.56 5.44l.94 2.06.94-2.06 2.06-.94-2.06-.94-.94-2.06-.94 2.06-2.06.94zm-11 1L8.5 8.5l.94-2.06 2.06-.94-2.06-.94L8.5 2.5l-.94 2.06-2.06.94zm10 10l.94 2.06.94-2.06 2.06-.94-2.06-.94-.94-2.06-.94 2.06-2.06.94z\"/><path d=\"M17.41 7.96l-1.37-1.37c-.4-.4-.92-.59-1.43-.59-.52 0-1.04.2-1.43.59L10.3 9.45l-7.72 7.72c-.78.78-.78 2.05 0 2.83L4 21.41c.39.39.9.59 1.41.59.51 0 1.02-.2 1.41-.59l7.78-7.78 2.81-2.81c.8-.78.8-2.07 0-2.86zM5.41 20L4 18.59l7.72-7.72 1.47 1.35L5.41 20z\"/>\n",
              "  </svg>\n",
              "      </button>\n",
              "      \n",
              "  <style>\n",
              "    .colab-df-container {\n",
              "      display:flex;\n",
              "      flex-wrap:wrap;\n",
              "      gap: 12px;\n",
              "    }\n",
              "\n",
              "    .colab-df-convert {\n",
              "      background-color: #E8F0FE;\n",
              "      border: none;\n",
              "      border-radius: 50%;\n",
              "      cursor: pointer;\n",
              "      display: none;\n",
              "      fill: #1967D2;\n",
              "      height: 32px;\n",
              "      padding: 0 0 0 0;\n",
              "      width: 32px;\n",
              "    }\n",
              "\n",
              "    .colab-df-convert:hover {\n",
              "      background-color: #E2EBFA;\n",
              "      box-shadow: 0px 1px 2px rgba(60, 64, 67, 0.3), 0px 1px 3px 1px rgba(60, 64, 67, 0.15);\n",
              "      fill: #174EA6;\n",
              "    }\n",
              "\n",
              "    [theme=dark] .colab-df-convert {\n",
              "      background-color: #3B4455;\n",
              "      fill: #D2E3FC;\n",
              "    }\n",
              "\n",
              "    [theme=dark] .colab-df-convert:hover {\n",
              "      background-color: #434B5C;\n",
              "      box-shadow: 0px 1px 3px 1px rgba(0, 0, 0, 0.15);\n",
              "      filter: drop-shadow(0px 1px 2px rgba(0, 0, 0, 0.3));\n",
              "      fill: #FFFFFF;\n",
              "    }\n",
              "  </style>\n",
              "\n",
              "      <script>\n",
              "        const buttonEl =\n",
              "          document.querySelector('#df-b7f65c8c-bf54-4b56-94ff-9b390aaa89c0 button.colab-df-convert');\n",
              "        buttonEl.style.display =\n",
              "          google.colab.kernel.accessAllowed ? 'block' : 'none';\n",
              "\n",
              "        async function convertToInteractive(key) {\n",
              "          const element = document.querySelector('#df-b7f65c8c-bf54-4b56-94ff-9b390aaa89c0');\n",
              "          const dataTable =\n",
              "            await google.colab.kernel.invokeFunction('convertToInteractive',\n",
              "                                                     [key], {});\n",
              "          if (!dataTable) return;\n",
              "\n",
              "          const docLinkHtml = 'Like what you see? Visit the ' +\n",
              "            '<a target=\"_blank\" href=https://colab.research.google.com/notebooks/data_table.ipynb>data table notebook</a>'\n",
              "            + ' to learn more about interactive tables.';\n",
              "          element.innerHTML = '';\n",
              "          dataTable['output_type'] = 'display_data';\n",
              "          await google.colab.output.renderOutput(dataTable, element);\n",
              "          const docLink = document.createElement('div');\n",
              "          docLink.innerHTML = docLinkHtml;\n",
              "          element.appendChild(docLink);\n",
              "        }\n",
              "      </script>\n",
              "    </div>\n",
              "  </div>\n",
              "  "
            ]
          },
          "metadata": {},
          "execution_count": 144
        }
      ]
    },
    {
      "cell_type": "code",
      "source": [
        "print(df_sv_item.shape)\n",
        "df_sv_item.info()"
      ],
      "metadata": {
        "colab": {
          "base_uri": "https://localhost:8080/"
        },
        "id": "BAVE0PamayZt",
        "outputId": "56243c30-bf0a-42f5-a840-5c823bced6d5"
      },
      "execution_count": null,
      "outputs": [
        {
          "output_type": "stream",
          "name": "stdout",
          "text": [
            "(1330, 8)\n",
            "<class 'pandas.core.frame.DataFrame'>\n",
            "RangeIndex: 1330 entries, 0 to 1329\n",
            "Data columns (total 8 columns):\n",
            " #   Column       Non-Null Count  Dtype  \n",
            "---  ------       --------------  -----  \n",
            " 0   idx          1330 non-null   int64  \n",
            " 1   survey_idx   1330 non-null   int64  \n",
            " 2   order_seq    1330 non-null   int64  \n",
            " 3   subject      1330 non-null   object \n",
            " 4   item_type    1330 non-null   object \n",
            " 5   item_text    1054 non-null   object \n",
            " 6   item_number  1317 non-null   float64\n",
            " 7   required_yn  1163 non-null   object \n",
            "dtypes: float64(1), int64(3), object(4)\n",
            "memory usage: 83.2+ KB\n"
          ]
        }
      ]
    },
    {
      "cell_type": "code",
      "source": [
        "print(df_sv_main.shape)\n",
        "df_sv_main.head(2)"
      ],
      "metadata": {
        "colab": {
          "base_uri": "https://localhost:8080/",
          "height": 130
        },
        "id": "FUhKf9jza3Yo",
        "outputId": "3a05636c-4aa4-4c81-8eb3-27f9e3e11e33"
      },
      "execution_count": null,
      "outputs": [
        {
          "output_type": "stream",
          "name": "stdout",
          "text": [
            "(88, 3)\n"
          ]
        },
        {
          "output_type": "execute_result",
          "data": {
            "text/plain": [
              "   idx           subject                                        description\n",
              "0   24  2021 시즌권 구성 설문조사  인천유나이티드를 응원해 주시기 위해 시즌권을 구매해주신 팬 여러분께 과거 판매된 시...\n",
              "1   25  3/6 대구전 설문조사 테스트  인천유나이티드 홈경기를 찾아주셔서 감사합니다. 저희 구단은 팬 여러분의 소중한 의견..."
            ],
            "text/html": [
              "\n",
              "  <div id=\"df-c7a62b15-aa89-4a0d-9a3d-5a12710e45bb\">\n",
              "    <div class=\"colab-df-container\">\n",
              "      <div>\n",
              "<style scoped>\n",
              "    .dataframe tbody tr th:only-of-type {\n",
              "        vertical-align: middle;\n",
              "    }\n",
              "\n",
              "    .dataframe tbody tr th {\n",
              "        vertical-align: top;\n",
              "    }\n",
              "\n",
              "    .dataframe thead th {\n",
              "        text-align: right;\n",
              "    }\n",
              "</style>\n",
              "<table border=\"1\" class=\"dataframe\">\n",
              "  <thead>\n",
              "    <tr style=\"text-align: right;\">\n",
              "      <th></th>\n",
              "      <th>idx</th>\n",
              "      <th>subject</th>\n",
              "      <th>description</th>\n",
              "    </tr>\n",
              "  </thead>\n",
              "  <tbody>\n",
              "    <tr>\n",
              "      <th>0</th>\n",
              "      <td>24</td>\n",
              "      <td>2021 시즌권 구성 설문조사</td>\n",
              "      <td>인천유나이티드를 응원해 주시기 위해 시즌권을 구매해주신 팬 여러분께 과거 판매된 시...</td>\n",
              "    </tr>\n",
              "    <tr>\n",
              "      <th>1</th>\n",
              "      <td>25</td>\n",
              "      <td>3/6 대구전 설문조사 테스트</td>\n",
              "      <td>인천유나이티드 홈경기를 찾아주셔서 감사합니다. 저희 구단은 팬 여러분의 소중한 의견...</td>\n",
              "    </tr>\n",
              "  </tbody>\n",
              "</table>\n",
              "</div>\n",
              "      <button class=\"colab-df-convert\" onclick=\"convertToInteractive('df-c7a62b15-aa89-4a0d-9a3d-5a12710e45bb')\"\n",
              "              title=\"Convert this dataframe to an interactive table.\"\n",
              "              style=\"display:none;\">\n",
              "        \n",
              "  <svg xmlns=\"http://www.w3.org/2000/svg\" height=\"24px\"viewBox=\"0 0 24 24\"\n",
              "       width=\"24px\">\n",
              "    <path d=\"M0 0h24v24H0V0z\" fill=\"none\"/>\n",
              "    <path d=\"M18.56 5.44l.94 2.06.94-2.06 2.06-.94-2.06-.94-.94-2.06-.94 2.06-2.06.94zm-11 1L8.5 8.5l.94-2.06 2.06-.94-2.06-.94L8.5 2.5l-.94 2.06-2.06.94zm10 10l.94 2.06.94-2.06 2.06-.94-2.06-.94-.94-2.06-.94 2.06-2.06.94z\"/><path d=\"M17.41 7.96l-1.37-1.37c-.4-.4-.92-.59-1.43-.59-.52 0-1.04.2-1.43.59L10.3 9.45l-7.72 7.72c-.78.78-.78 2.05 0 2.83L4 21.41c.39.39.9.59 1.41.59.51 0 1.02-.2 1.41-.59l7.78-7.78 2.81-2.81c.8-.78.8-2.07 0-2.86zM5.41 20L4 18.59l7.72-7.72 1.47 1.35L5.41 20z\"/>\n",
              "  </svg>\n",
              "      </button>\n",
              "      \n",
              "  <style>\n",
              "    .colab-df-container {\n",
              "      display:flex;\n",
              "      flex-wrap:wrap;\n",
              "      gap: 12px;\n",
              "    }\n",
              "\n",
              "    .colab-df-convert {\n",
              "      background-color: #E8F0FE;\n",
              "      border: none;\n",
              "      border-radius: 50%;\n",
              "      cursor: pointer;\n",
              "      display: none;\n",
              "      fill: #1967D2;\n",
              "      height: 32px;\n",
              "      padding: 0 0 0 0;\n",
              "      width: 32px;\n",
              "    }\n",
              "\n",
              "    .colab-df-convert:hover {\n",
              "      background-color: #E2EBFA;\n",
              "      box-shadow: 0px 1px 2px rgba(60, 64, 67, 0.3), 0px 1px 3px 1px rgba(60, 64, 67, 0.15);\n",
              "      fill: #174EA6;\n",
              "    }\n",
              "\n",
              "    [theme=dark] .colab-df-convert {\n",
              "      background-color: #3B4455;\n",
              "      fill: #D2E3FC;\n",
              "    }\n",
              "\n",
              "    [theme=dark] .colab-df-convert:hover {\n",
              "      background-color: #434B5C;\n",
              "      box-shadow: 0px 1px 3px 1px rgba(0, 0, 0, 0.15);\n",
              "      filter: drop-shadow(0px 1px 2px rgba(0, 0, 0, 0.3));\n",
              "      fill: #FFFFFF;\n",
              "    }\n",
              "  </style>\n",
              "\n",
              "      <script>\n",
              "        const buttonEl =\n",
              "          document.querySelector('#df-c7a62b15-aa89-4a0d-9a3d-5a12710e45bb button.colab-df-convert');\n",
              "        buttonEl.style.display =\n",
              "          google.colab.kernel.accessAllowed ? 'block' : 'none';\n",
              "\n",
              "        async function convertToInteractive(key) {\n",
              "          const element = document.querySelector('#df-c7a62b15-aa89-4a0d-9a3d-5a12710e45bb');\n",
              "          const dataTable =\n",
              "            await google.colab.kernel.invokeFunction('convertToInteractive',\n",
              "                                                     [key], {});\n",
              "          if (!dataTable) return;\n",
              "\n",
              "          const docLinkHtml = 'Like what you see? Visit the ' +\n",
              "            '<a target=\"_blank\" href=https://colab.research.google.com/notebooks/data_table.ipynb>data table notebook</a>'\n",
              "            + ' to learn more about interactive tables.';\n",
              "          element.innerHTML = '';\n",
              "          dataTable['output_type'] = 'display_data';\n",
              "          await google.colab.output.renderOutput(dataTable, element);\n",
              "          const docLink = document.createElement('div');\n",
              "          docLink.innerHTML = docLinkHtml;\n",
              "          element.appendChild(docLink);\n",
              "        }\n",
              "      </script>\n",
              "    </div>\n",
              "  </div>\n",
              "  "
            ]
          },
          "metadata": {},
          "execution_count": 146
        }
      ]
    },
    {
      "cell_type": "code",
      "source": [
        "print(df_sv_result.shape)\n",
        "df_sv_result.info()"
      ],
      "metadata": {
        "colab": {
          "base_uri": "https://localhost:8080/"
        },
        "id": "MLmfiJcdaqlB",
        "outputId": "04a7c398-80cb-456a-9314-653b2ff00f74"
      },
      "execution_count": null,
      "outputs": [
        {
          "output_type": "stream",
          "name": "stdout",
          "text": [
            "(94524, 5)\n",
            "<class 'pandas.core.frame.DataFrame'>\n",
            "RangeIndex: 94524 entries, 0 to 94523\n",
            "Data columns (total 5 columns):\n",
            " #   Column             Non-Null Count  Dtype \n",
            "---  ------             --------------  ----- \n",
            " 0   idx                94524 non-null  int64 \n",
            " 1   survey_target_idx  94524 non-null  int64 \n",
            " 2   survey_item_idx    94524 non-null  int64 \n",
            " 3   answer_index       94524 non-null  int64 \n",
            " 4   answer_content     94510 non-null  object\n",
            "dtypes: int64(4), object(1)\n",
            "memory usage: 3.6+ MB\n"
          ]
        }
      ]
    },
    {
      "cell_type": "code",
      "source": [
        "survey_df = pd.merge(df_sv_result, df_sv_item, left_on = 'survey_item_idx', right_on = 'idx', how = 'left')"
      ],
      "metadata": {
        "id": "ICU0WNHqcdhY"
      },
      "execution_count": null,
      "outputs": []
    },
    {
      "cell_type": "code",
      "source": [
        "df_sv_item"
      ],
      "metadata": {
        "colab": {
          "base_uri": "https://localhost:8080/",
          "height": 606
        },
        "id": "bnvPNAdoyLsU",
        "outputId": "56fa5288-2bf2-46b5-d7d3-7cd0d8aba99f"
      },
      "execution_count": null,
      "outputs": [
        {
          "output_type": "execute_result",
          "data": {
            "text/plain": [
              "       idx  survey_idx  order_seq  \\\n",
              "0      115          24          1   \n",
              "1      116          24          2   \n",
              "2      117          24          3   \n",
              "3      118          24          4   \n",
              "4      119          24          5   \n",
              "...    ...         ...        ...   \n",
              "1325  1634         136         12   \n",
              "1326  1635         136         14   \n",
              "1327  1636         136         15   \n",
              "1328  1637         136         16   \n",
              "1329  1639         136         13   \n",
              "\n",
              "                                                subject item_type  \\\n",
              "0                                             시즌권 구매 시기         C   \n",
              "1                                           시즌권 구매 총 매수         T   \n",
              "2                시즌권 구매시 가장 중요한 점은?(가격, 기념품, 혜택, 충성심 등)         T   \n",
              "3            시즌권 구매시 가장 고려하지 않는 점은?(가격, 기념품, 혜택, 충성심 등)         T   \n",
              "4                                      2020 시즌권 가격의 적정성         M   \n",
              "...                                                 ...       ...   \n",
              "1325            오늘 경기장 방문 후 친구나 동료에게 추천할 의향이 얼마나 있으신가요?         M   \n",
              "1326                 인천축구전용경기장을 재방문하신다면 언제 다시 방문하시겠습니까?         M   \n",
              "1327  팬 여러분들이 더욱 편하게 즐기고 가실 수 있도록 저희가 어떤 점을 개선해 나아가면...         T   \n",
              "1328           마지막으로 인천유나이티드에 바라는 점이나 하고 싶은 이야기가 있으신가요?         T   \n",
              "1329                                     연령대가 어떻게 되시나요?         M   \n",
              "\n",
              "                                              item_text  item_number  \\\n",
              "0              2015년 #2016년 #2017년 #2018년 #2019년 #2020년          0.0   \n",
              "1                                                   NaN         10.0   \n",
              "2                                                   NaN        100.0   \n",
              "3                                                   NaN        100.0   \n",
              "4                                매우좋음 #좋음 #보통 #나쁨 #매우나쁨          0.0   \n",
              "...                                                 ...          ...   \n",
              "1325  10점(매우추천) #9점 #8점 #7점 #6점 #5점 #4점 #3점 #2점 #1점 ...          0.0   \n",
              "1326                  다음 경기 #다음 달 #특별한 이벤트가 있을 때 #계획 없음          0.0   \n",
              "1327                                                NaN        300.0   \n",
              "1328                                                NaN        300.0   \n",
              "1329               10대 #20대 #30대 #40대 #50대 #60대 #70대 이상          NaN   \n",
              "\n",
              "     required_yn  \n",
              "0              Y  \n",
              "1            NaN  \n",
              "2              Y  \n",
              "3              Y  \n",
              "4              Y  \n",
              "...          ...  \n",
              "1325           Y  \n",
              "1326           Y  \n",
              "1327         NaN  \n",
              "1328         NaN  \n",
              "1329           Y  \n",
              "\n",
              "[1330 rows x 8 columns]"
            ],
            "text/html": [
              "\n",
              "  <div id=\"df-7a7de84d-784c-481a-8e51-2441ba75aa24\">\n",
              "    <div class=\"colab-df-container\">\n",
              "      <div>\n",
              "<style scoped>\n",
              "    .dataframe tbody tr th:only-of-type {\n",
              "        vertical-align: middle;\n",
              "    }\n",
              "\n",
              "    .dataframe tbody tr th {\n",
              "        vertical-align: top;\n",
              "    }\n",
              "\n",
              "    .dataframe thead th {\n",
              "        text-align: right;\n",
              "    }\n",
              "</style>\n",
              "<table border=\"1\" class=\"dataframe\">\n",
              "  <thead>\n",
              "    <tr style=\"text-align: right;\">\n",
              "      <th></th>\n",
              "      <th>idx</th>\n",
              "      <th>survey_idx</th>\n",
              "      <th>order_seq</th>\n",
              "      <th>subject</th>\n",
              "      <th>item_type</th>\n",
              "      <th>item_text</th>\n",
              "      <th>item_number</th>\n",
              "      <th>required_yn</th>\n",
              "    </tr>\n",
              "  </thead>\n",
              "  <tbody>\n",
              "    <tr>\n",
              "      <th>0</th>\n",
              "      <td>115</td>\n",
              "      <td>24</td>\n",
              "      <td>1</td>\n",
              "      <td>시즌권 구매 시기</td>\n",
              "      <td>C</td>\n",
              "      <td>2015년 #2016년 #2017년 #2018년 #2019년 #2020년</td>\n",
              "      <td>0.0</td>\n",
              "      <td>Y</td>\n",
              "    </tr>\n",
              "    <tr>\n",
              "      <th>1</th>\n",
              "      <td>116</td>\n",
              "      <td>24</td>\n",
              "      <td>2</td>\n",
              "      <td>시즌권 구매 총 매수</td>\n",
              "      <td>T</td>\n",
              "      <td>NaN</td>\n",
              "      <td>10.0</td>\n",
              "      <td>NaN</td>\n",
              "    </tr>\n",
              "    <tr>\n",
              "      <th>2</th>\n",
              "      <td>117</td>\n",
              "      <td>24</td>\n",
              "      <td>3</td>\n",
              "      <td>시즌권 구매시 가장 중요한 점은?(가격, 기념품, 혜택, 충성심 등)</td>\n",
              "      <td>T</td>\n",
              "      <td>NaN</td>\n",
              "      <td>100.0</td>\n",
              "      <td>Y</td>\n",
              "    </tr>\n",
              "    <tr>\n",
              "      <th>3</th>\n",
              "      <td>118</td>\n",
              "      <td>24</td>\n",
              "      <td>4</td>\n",
              "      <td>시즌권 구매시 가장 고려하지 않는 점은?(가격, 기념품, 혜택, 충성심 등)</td>\n",
              "      <td>T</td>\n",
              "      <td>NaN</td>\n",
              "      <td>100.0</td>\n",
              "      <td>Y</td>\n",
              "    </tr>\n",
              "    <tr>\n",
              "      <th>4</th>\n",
              "      <td>119</td>\n",
              "      <td>24</td>\n",
              "      <td>5</td>\n",
              "      <td>2020 시즌권 가격의 적정성</td>\n",
              "      <td>M</td>\n",
              "      <td>매우좋음 #좋음 #보통 #나쁨 #매우나쁨</td>\n",
              "      <td>0.0</td>\n",
              "      <td>Y</td>\n",
              "    </tr>\n",
              "    <tr>\n",
              "      <th>...</th>\n",
              "      <td>...</td>\n",
              "      <td>...</td>\n",
              "      <td>...</td>\n",
              "      <td>...</td>\n",
              "      <td>...</td>\n",
              "      <td>...</td>\n",
              "      <td>...</td>\n",
              "      <td>...</td>\n",
              "    </tr>\n",
              "    <tr>\n",
              "      <th>1325</th>\n",
              "      <td>1634</td>\n",
              "      <td>136</td>\n",
              "      <td>12</td>\n",
              "      <td>오늘 경기장 방문 후 친구나 동료에게 추천할 의향이 얼마나 있으신가요?</td>\n",
              "      <td>M</td>\n",
              "      <td>10점(매우추천) #9점 #8점 #7점 #6점 #5점 #4점 #3점 #2점 #1점 ...</td>\n",
              "      <td>0.0</td>\n",
              "      <td>Y</td>\n",
              "    </tr>\n",
              "    <tr>\n",
              "      <th>1326</th>\n",
              "      <td>1635</td>\n",
              "      <td>136</td>\n",
              "      <td>14</td>\n",
              "      <td>인천축구전용경기장을 재방문하신다면 언제 다시 방문하시겠습니까?</td>\n",
              "      <td>M</td>\n",
              "      <td>다음 경기 #다음 달 #특별한 이벤트가 있을 때 #계획 없음</td>\n",
              "      <td>0.0</td>\n",
              "      <td>Y</td>\n",
              "    </tr>\n",
              "    <tr>\n",
              "      <th>1327</th>\n",
              "      <td>1636</td>\n",
              "      <td>136</td>\n",
              "      <td>15</td>\n",
              "      <td>팬 여러분들이 더욱 편하게 즐기고 가실 수 있도록 저희가 어떤 점을 개선해 나아가면...</td>\n",
              "      <td>T</td>\n",
              "      <td>NaN</td>\n",
              "      <td>300.0</td>\n",
              "      <td>NaN</td>\n",
              "    </tr>\n",
              "    <tr>\n",
              "      <th>1328</th>\n",
              "      <td>1637</td>\n",
              "      <td>136</td>\n",
              "      <td>16</td>\n",
              "      <td>마지막으로 인천유나이티드에 바라는 점이나 하고 싶은 이야기가 있으신가요?</td>\n",
              "      <td>T</td>\n",
              "      <td>NaN</td>\n",
              "      <td>300.0</td>\n",
              "      <td>NaN</td>\n",
              "    </tr>\n",
              "    <tr>\n",
              "      <th>1329</th>\n",
              "      <td>1639</td>\n",
              "      <td>136</td>\n",
              "      <td>13</td>\n",
              "      <td>연령대가 어떻게 되시나요?</td>\n",
              "      <td>M</td>\n",
              "      <td>10대 #20대 #30대 #40대 #50대 #60대 #70대 이상</td>\n",
              "      <td>NaN</td>\n",
              "      <td>Y</td>\n",
              "    </tr>\n",
              "  </tbody>\n",
              "</table>\n",
              "<p>1330 rows × 8 columns</p>\n",
              "</div>\n",
              "      <button class=\"colab-df-convert\" onclick=\"convertToInteractive('df-7a7de84d-784c-481a-8e51-2441ba75aa24')\"\n",
              "              title=\"Convert this dataframe to an interactive table.\"\n",
              "              style=\"display:none;\">\n",
              "        \n",
              "  <svg xmlns=\"http://www.w3.org/2000/svg\" height=\"24px\"viewBox=\"0 0 24 24\"\n",
              "       width=\"24px\">\n",
              "    <path d=\"M0 0h24v24H0V0z\" fill=\"none\"/>\n",
              "    <path d=\"M18.56 5.44l.94 2.06.94-2.06 2.06-.94-2.06-.94-.94-2.06-.94 2.06-2.06.94zm-11 1L8.5 8.5l.94-2.06 2.06-.94-2.06-.94L8.5 2.5l-.94 2.06-2.06.94zm10 10l.94 2.06.94-2.06 2.06-.94-2.06-.94-.94-2.06-.94 2.06-2.06.94z\"/><path d=\"M17.41 7.96l-1.37-1.37c-.4-.4-.92-.59-1.43-.59-.52 0-1.04.2-1.43.59L10.3 9.45l-7.72 7.72c-.78.78-.78 2.05 0 2.83L4 21.41c.39.39.9.59 1.41.59.51 0 1.02-.2 1.41-.59l7.78-7.78 2.81-2.81c.8-.78.8-2.07 0-2.86zM5.41 20L4 18.59l7.72-7.72 1.47 1.35L5.41 20z\"/>\n",
              "  </svg>\n",
              "      </button>\n",
              "      \n",
              "  <style>\n",
              "    .colab-df-container {\n",
              "      display:flex;\n",
              "      flex-wrap:wrap;\n",
              "      gap: 12px;\n",
              "    }\n",
              "\n",
              "    .colab-df-convert {\n",
              "      background-color: #E8F0FE;\n",
              "      border: none;\n",
              "      border-radius: 50%;\n",
              "      cursor: pointer;\n",
              "      display: none;\n",
              "      fill: #1967D2;\n",
              "      height: 32px;\n",
              "      padding: 0 0 0 0;\n",
              "      width: 32px;\n",
              "    }\n",
              "\n",
              "    .colab-df-convert:hover {\n",
              "      background-color: #E2EBFA;\n",
              "      box-shadow: 0px 1px 2px rgba(60, 64, 67, 0.3), 0px 1px 3px 1px rgba(60, 64, 67, 0.15);\n",
              "      fill: #174EA6;\n",
              "    }\n",
              "\n",
              "    [theme=dark] .colab-df-convert {\n",
              "      background-color: #3B4455;\n",
              "      fill: #D2E3FC;\n",
              "    }\n",
              "\n",
              "    [theme=dark] .colab-df-convert:hover {\n",
              "      background-color: #434B5C;\n",
              "      box-shadow: 0px 1px 3px 1px rgba(0, 0, 0, 0.15);\n",
              "      filter: drop-shadow(0px 1px 2px rgba(0, 0, 0, 0.3));\n",
              "      fill: #FFFFFF;\n",
              "    }\n",
              "  </style>\n",
              "\n",
              "      <script>\n",
              "        const buttonEl =\n",
              "          document.querySelector('#df-7a7de84d-784c-481a-8e51-2441ba75aa24 button.colab-df-convert');\n",
              "        buttonEl.style.display =\n",
              "          google.colab.kernel.accessAllowed ? 'block' : 'none';\n",
              "\n",
              "        async function convertToInteractive(key) {\n",
              "          const element = document.querySelector('#df-7a7de84d-784c-481a-8e51-2441ba75aa24');\n",
              "          const dataTable =\n",
              "            await google.colab.kernel.invokeFunction('convertToInteractive',\n",
              "                                                     [key], {});\n",
              "          if (!dataTable) return;\n",
              "\n",
              "          const docLinkHtml = 'Like what you see? Visit the ' +\n",
              "            '<a target=\"_blank\" href=https://colab.research.google.com/notebooks/data_table.ipynb>data table notebook</a>'\n",
              "            + ' to learn more about interactive tables.';\n",
              "          element.innerHTML = '';\n",
              "          dataTable['output_type'] = 'display_data';\n",
              "          await google.colab.output.renderOutput(dataTable, element);\n",
              "          const docLink = document.createElement('div');\n",
              "          docLink.innerHTML = docLinkHtml;\n",
              "          element.appendChild(docLink);\n",
              "        }\n",
              "      </script>\n",
              "    </div>\n",
              "  </div>\n",
              "  "
            ]
          },
          "metadata": {},
          "execution_count": 149
        }
      ]
    },
    {
      "cell_type": "code",
      "source": [
        "survey_df.info()"
      ],
      "metadata": {
        "colab": {
          "base_uri": "https://localhost:8080/"
        },
        "id": "DJw9YLU2h_l5",
        "outputId": "71c69a8e-27aa-47ec-ef3a-aeb4b4c0d857"
      },
      "execution_count": null,
      "outputs": [
        {
          "output_type": "stream",
          "name": "stdout",
          "text": [
            "<class 'pandas.core.frame.DataFrame'>\n",
            "Int64Index: 94524 entries, 0 to 94523\n",
            "Data columns (total 13 columns):\n",
            " #   Column             Non-Null Count  Dtype  \n",
            "---  ------             --------------  -----  \n",
            " 0   idx_x              94524 non-null  int64  \n",
            " 1   survey_target_idx  94524 non-null  int64  \n",
            " 2   survey_item_idx    94524 non-null  int64  \n",
            " 3   answer_index       94524 non-null  int64  \n",
            " 4   answer_content     94510 non-null  object \n",
            " 5   idx_y              94524 non-null  int64  \n",
            " 6   survey_idx         94524 non-null  int64  \n",
            " 7   order_seq          94524 non-null  int64  \n",
            " 8   subject            94524 non-null  object \n",
            " 9   item_type          94524 non-null  object \n",
            " 10  item_text          81169 non-null  object \n",
            " 11  item_number        93864 non-null  float64\n",
            " 12  required_yn        87079 non-null  object \n",
            "dtypes: float64(1), int64(7), object(5)\n",
            "memory usage: 10.1+ MB\n"
          ]
        }
      ]
    },
    {
      "cell_type": "code",
      "source": [
        "survey_df = survey_df[['survey_item_idx', 'survey_target_idx', 'answer_index' , 'answer_content', 'survey_idx', 'order_seq', 'subject', 'item_type', 'item_text', 'item_number', 'required_yn']]"
      ],
      "metadata": {
        "id": "fI7Gj6Qfq6sG"
      },
      "execution_count": null,
      "outputs": []
    },
    {
      "cell_type": "code",
      "source": [
        "survey_df['survey_item_idx']>70"
      ],
      "metadata": {
        "colab": {
          "base_uri": "https://localhost:8080/"
        },
        "id": "ab8LEnfKrqvW",
        "outputId": "f04ef3cc-ab03-4c07-892f-0b10de665f72"
      },
      "execution_count": null,
      "outputs": [
        {
          "output_type": "execute_result",
          "data": {
            "text/plain": [
              "0        True\n",
              "1        True\n",
              "2        True\n",
              "3        True\n",
              "4        True\n",
              "         ... \n",
              "94519    True\n",
              "94520    True\n",
              "94521    True\n",
              "94522    True\n",
              "94523    True\n",
              "Name: survey_item_idx, Length: 94524, dtype: bool"
            ]
          },
          "metadata": {},
          "execution_count": 152
        }
      ]
    },
    {
      "cell_type": "code",
      "source": [
        "sv_ind = survey_df['survey_item_idx'].value_counts() > np.mean(survey_df['survey_item_idx'].value_counts())\n",
        "sv_ind = sv_ind[sv_ind==True].index"
      ],
      "metadata": {
        "id": "EghZGdvlitO5"
      },
      "execution_count": null,
      "outputs": []
    },
    {
      "cell_type": "code",
      "source": [
        "sv_ind[:10]"
      ],
      "metadata": {
        "colab": {
          "base_uri": "https://localhost:8080/"
        },
        "id": "wjcNuXfUxlNn",
        "outputId": "f45ee030-805b-4c30-ebd1-c1a0463dd145"
      },
      "execution_count": null,
      "outputs": [
        {
          "output_type": "execute_result",
          "data": {
            "text/plain": [
              "Int64Index([115, 159, 538, 637, 149, 622, 1530, 126, 131, 128], dtype='int64')"
            ]
          },
          "metadata": {},
          "execution_count": 154
        }
      ]
    },
    {
      "cell_type": "code",
      "source": [
        "np.mean(survey_df['survey_item_idx'].value_counts())"
      ],
      "metadata": {
        "colab": {
          "base_uri": "https://localhost:8080/"
        },
        "id": "48N2SQulq0pL",
        "outputId": "f78e0fde-f256-47f2-8b05-d31e6679eec7"
      },
      "execution_count": null,
      "outputs": [
        {
          "output_type": "execute_result",
          "data": {
            "text/plain": [
              "71.55488266464799"
            ]
          },
          "metadata": {},
          "execution_count": 155
        }
      ]
    },
    {
      "cell_type": "code",
      "source": [
        "survey_df[survey_df['survey_item_idx'] == 622].answer_content.value_counts()[:5]"
      ],
      "metadata": {
        "colab": {
          "base_uri": "https://localhost:8080/"
        },
        "id": "lhj2R4iNvZZp",
        "outputId": "2a054371-2a25-42c7-9b8b-c57fe0034ec8"
      },
      "execution_count": null,
      "outputs": [
        {
          "output_type": "execute_result",
          "data": {
            "text/plain": [
              "구단 SNS(페이스북, 인스타그램 등)     128\n",
              "구단 문자메시지                   74\n",
              "인터넷 포털                     62\n",
              "구단 홈페이지                    61\n",
              "현수막 광고                     24\n",
              "Name: answer_content, dtype: int64"
            ]
          },
          "metadata": {},
          "execution_count": 156
        }
      ]
    },
    {
      "cell_type": "code",
      "source": [],
      "metadata": {
        "id": "C3g7iS7L0a6p"
      },
      "execution_count": null,
      "outputs": []
    },
    {
      "cell_type": "code",
      "source": [
        "\n",
        "survey_df['survey_item_idx'].value_counts()"
      ],
      "metadata": {
        "colab": {
          "base_uri": "https://localhost:8080/"
        },
        "id": "Q9hbinMd1Gtn",
        "outputId": "1d088d58-9fd5-4f05-e878-3f39bee34140"
      },
      "execution_count": null,
      "outputs": [
        {
          "output_type": "execute_result",
          "data": {
            "text/plain": [
              "115     903\n",
              "159     561\n",
              "538     484\n",
              "637     399\n",
              "149     394\n",
              "       ... \n",
              "1190      1\n",
              "1191      1\n",
              "1194      1\n",
              "1147      1\n",
              "1168      1\n",
              "Name: survey_item_idx, Length: 1321, dtype: int64"
            ]
          },
          "metadata": {},
          "execution_count": 157
        }
      ]
    },
    {
      "cell_type": "code",
      "source": [
        "survey_df = survey_df[survey_df['survey_item_idx'].isin(sv_ind[:10])] # 설문 상위 10개\n",
        "survey_df.to_csv(\"survey_df.csv\", index = False)"
      ],
      "metadata": {
        "id": "gIapfuQjs1de"
      },
      "execution_count": null,
      "outputs": []
    },
    {
      "cell_type": "markdown",
      "source": [
        "### 추가 해야할일? (사용X)\n",
        "\n",
        "동반인원 ( 표 한번에 구매하는 최대 수 ) 체크\n",
        "\n",
        "팀순위 피쳐에 추가"
      ],
      "metadata": {
        "id": "mLAiD-yzwewf"
      }
    },
    {
      "cell_type": "code",
      "source": [
        "# df_j"
      ],
      "metadata": {
        "id": "ntCxvHLR7tEB"
      },
      "execution_count": null,
      "outputs": []
    },
    {
      "cell_type": "code",
      "source": [
        "# df_jo =  df_N.groupby(['membership_no', 'reserve_date'], as_index = False).count()\n",
        "df_jo = df_j.groupby(['membership_no', 'Opp'], as_index = False)['reserve_detail_no'].count()"
      ],
      "metadata": {
        "id": "qVdPUYXtxika"
      },
      "execution_count": null,
      "outputs": []
    },
    {
      "cell_type": "code",
      "source": [
        "df_jo = pd.merge(df_j, df_jo, on = ['membership_no', 'Opp', 'reserve_detail_no'])"
      ],
      "metadata": {
        "id": "EyMPzOR1CGfy"
      },
      "execution_count": null,
      "outputs": []
    },
    {
      "cell_type": "code",
      "source": [
        "df_jo.info()"
      ],
      "metadata": {
        "colab": {
          "base_uri": "https://localhost:8080/"
        },
        "id": "OvZ4VGRS8802",
        "outputId": "9a27eedc-1461-4373-d843-f2467038b5a2"
      },
      "execution_count": null,
      "outputs": [
        {
          "output_type": "stream",
          "name": "stdout",
          "text": [
            "<class 'pandas.core.frame.DataFrame'>\n",
            "Int64Index: 12741 entries, 0 to 12740\n",
            "Data columns (total 14 columns):\n",
            " #   Column              Non-Null Count  Dtype \n",
            "---  ------              --------------  ----- \n",
            " 0   membership_no       12741 non-null  int64 \n",
            " 1   Opp                 12741 non-null  object\n",
            " 2   product_grade_name  12741 non-null  object\n",
            " 3   reserve_detail_no   12741 non-null  int64 \n",
            " 4   Sale                12741 non-null  object\n",
            " 5   MB_AGE              12741 non-null  int64 \n",
            " 6   job                 11180 non-null  object\n",
            " 7   favorite_idx        12741 non-null  object\n",
            " 8   cancel_yn           12741 non-null  object\n",
            " 9   yoil                12741 non-null  object\n",
            " 10  game_type_name      12741 non-null  object\n",
            " 11  audience            12741 non-null  int64 \n",
            " 12  weather             12741 non-null  object\n",
            " 13  rank                12741 non-null  int64 \n",
            "dtypes: int64(5), object(9)\n",
            "memory usage: 1.5+ MB\n"
          ]
        }
      ]
    },
    {
      "cell_type": "code",
      "source": [],
      "metadata": {
        "id": "KQty3AkHOoDg"
      },
      "execution_count": null,
      "outputs": []
    },
    {
      "cell_type": "code",
      "source": [
        "df_jo.head(2)"
      ],
      "metadata": {
        "colab": {
          "base_uri": "https://localhost:8080/",
          "height": 225
        },
        "id": "K5yyHNFfPYlQ",
        "outputId": "286eb76d-42f5-49e1-9bd9-04584ddd2f89"
      },
      "execution_count": null,
      "outputs": [
        {
          "output_type": "execute_result",
          "data": {
            "text/plain": [
              "   membership_no        Opp product_grade_name  reserve_detail_no Sale  \\\n",
              "0            291  수원 삼성블루윙즈       1인 테이블석(SG2)                  1    Y   \n",
              "1            291  김천상무프로축구단                 S석                  1    Y   \n",
              "\n",
              "   MB_AGE           job favorite_idx cancel_yn yoil game_type_name  audience  \\\n",
              "0    1992  회사원(사무직/연구직)          김보섭         Y    토          스플릿일반      5382   \n",
              "1    1992  회사원(사무직/연구직)          김보섭         N    일          스플릿일반      2607   \n",
              "\n",
              "  weather  rank  \n",
              "0    snow     2  \n",
              "1    rain     3  "
            ],
            "text/html": [
              "\n",
              "  <div id=\"df-1b9be40d-4113-40c8-90c0-a9c573606804\">\n",
              "    <div class=\"colab-df-container\">\n",
              "      <div>\n",
              "<style scoped>\n",
              "    .dataframe tbody tr th:only-of-type {\n",
              "        vertical-align: middle;\n",
              "    }\n",
              "\n",
              "    .dataframe tbody tr th {\n",
              "        vertical-align: top;\n",
              "    }\n",
              "\n",
              "    .dataframe thead th {\n",
              "        text-align: right;\n",
              "    }\n",
              "</style>\n",
              "<table border=\"1\" class=\"dataframe\">\n",
              "  <thead>\n",
              "    <tr style=\"text-align: right;\">\n",
              "      <th></th>\n",
              "      <th>membership_no</th>\n",
              "      <th>Opp</th>\n",
              "      <th>product_grade_name</th>\n",
              "      <th>reserve_detail_no</th>\n",
              "      <th>Sale</th>\n",
              "      <th>MB_AGE</th>\n",
              "      <th>job</th>\n",
              "      <th>favorite_idx</th>\n",
              "      <th>cancel_yn</th>\n",
              "      <th>yoil</th>\n",
              "      <th>game_type_name</th>\n",
              "      <th>audience</th>\n",
              "      <th>weather</th>\n",
              "      <th>rank</th>\n",
              "    </tr>\n",
              "  </thead>\n",
              "  <tbody>\n",
              "    <tr>\n",
              "      <th>0</th>\n",
              "      <td>291</td>\n",
              "      <td>수원 삼성블루윙즈</td>\n",
              "      <td>1인 테이블석(SG2)</td>\n",
              "      <td>1</td>\n",
              "      <td>Y</td>\n",
              "      <td>1992</td>\n",
              "      <td>회사원(사무직/연구직)</td>\n",
              "      <td>김보섭</td>\n",
              "      <td>Y</td>\n",
              "      <td>토</td>\n",
              "      <td>스플릿일반</td>\n",
              "      <td>5382</td>\n",
              "      <td>snow</td>\n",
              "      <td>2</td>\n",
              "    </tr>\n",
              "    <tr>\n",
              "      <th>1</th>\n",
              "      <td>291</td>\n",
              "      <td>김천상무프로축구단</td>\n",
              "      <td>S석</td>\n",
              "      <td>1</td>\n",
              "      <td>Y</td>\n",
              "      <td>1992</td>\n",
              "      <td>회사원(사무직/연구직)</td>\n",
              "      <td>김보섭</td>\n",
              "      <td>N</td>\n",
              "      <td>일</td>\n",
              "      <td>스플릿일반</td>\n",
              "      <td>2607</td>\n",
              "      <td>rain</td>\n",
              "      <td>3</td>\n",
              "    </tr>\n",
              "  </tbody>\n",
              "</table>\n",
              "</div>\n",
              "      <button class=\"colab-df-convert\" onclick=\"convertToInteractive('df-1b9be40d-4113-40c8-90c0-a9c573606804')\"\n",
              "              title=\"Convert this dataframe to an interactive table.\"\n",
              "              style=\"display:none;\">\n",
              "        \n",
              "  <svg xmlns=\"http://www.w3.org/2000/svg\" height=\"24px\"viewBox=\"0 0 24 24\"\n",
              "       width=\"24px\">\n",
              "    <path d=\"M0 0h24v24H0V0z\" fill=\"none\"/>\n",
              "    <path d=\"M18.56 5.44l.94 2.06.94-2.06 2.06-.94-2.06-.94-.94-2.06-.94 2.06-2.06.94zm-11 1L8.5 8.5l.94-2.06 2.06-.94-2.06-.94L8.5 2.5l-.94 2.06-2.06.94zm10 10l.94 2.06.94-2.06 2.06-.94-2.06-.94-.94-2.06-.94 2.06-2.06.94z\"/><path d=\"M17.41 7.96l-1.37-1.37c-.4-.4-.92-.59-1.43-.59-.52 0-1.04.2-1.43.59L10.3 9.45l-7.72 7.72c-.78.78-.78 2.05 0 2.83L4 21.41c.39.39.9.59 1.41.59.51 0 1.02-.2 1.41-.59l7.78-7.78 2.81-2.81c.8-.78.8-2.07 0-2.86zM5.41 20L4 18.59l7.72-7.72 1.47 1.35L5.41 20z\"/>\n",
              "  </svg>\n",
              "      </button>\n",
              "      \n",
              "  <style>\n",
              "    .colab-df-container {\n",
              "      display:flex;\n",
              "      flex-wrap:wrap;\n",
              "      gap: 12px;\n",
              "    }\n",
              "\n",
              "    .colab-df-convert {\n",
              "      background-color: #E8F0FE;\n",
              "      border: none;\n",
              "      border-radius: 50%;\n",
              "      cursor: pointer;\n",
              "      display: none;\n",
              "      fill: #1967D2;\n",
              "      height: 32px;\n",
              "      padding: 0 0 0 0;\n",
              "      width: 32px;\n",
              "    }\n",
              "\n",
              "    .colab-df-convert:hover {\n",
              "      background-color: #E2EBFA;\n",
              "      box-shadow: 0px 1px 2px rgba(60, 64, 67, 0.3), 0px 1px 3px 1px rgba(60, 64, 67, 0.15);\n",
              "      fill: #174EA6;\n",
              "    }\n",
              "\n",
              "    [theme=dark] .colab-df-convert {\n",
              "      background-color: #3B4455;\n",
              "      fill: #D2E3FC;\n",
              "    }\n",
              "\n",
              "    [theme=dark] .colab-df-convert:hover {\n",
              "      background-color: #434B5C;\n",
              "      box-shadow: 0px 1px 3px 1px rgba(0, 0, 0, 0.15);\n",
              "      filter: drop-shadow(0px 1px 2px rgba(0, 0, 0, 0.3));\n",
              "      fill: #FFFFFF;\n",
              "    }\n",
              "  </style>\n",
              "\n",
              "      <script>\n",
              "        const buttonEl =\n",
              "          document.querySelector('#df-1b9be40d-4113-40c8-90c0-a9c573606804 button.colab-df-convert');\n",
              "        buttonEl.style.display =\n",
              "          google.colab.kernel.accessAllowed ? 'block' : 'none';\n",
              "\n",
              "        async function convertToInteractive(key) {\n",
              "          const element = document.querySelector('#df-1b9be40d-4113-40c8-90c0-a9c573606804');\n",
              "          const dataTable =\n",
              "            await google.colab.kernel.invokeFunction('convertToInteractive',\n",
              "                                                     [key], {});\n",
              "          if (!dataTable) return;\n",
              "\n",
              "          const docLinkHtml = 'Like what you see? Visit the ' +\n",
              "            '<a target=\"_blank\" href=https://colab.research.google.com/notebooks/data_table.ipynb>data table notebook</a>'\n",
              "            + ' to learn more about interactive tables.';\n",
              "          element.innerHTML = '';\n",
              "          dataTable['output_type'] = 'display_data';\n",
              "          await google.colab.output.renderOutput(dataTable, element);\n",
              "          const docLink = document.createElement('div');\n",
              "          docLink.innerHTML = docLinkHtml;\n",
              "          element.appendChild(docLink);\n",
              "        }\n",
              "      </script>\n",
              "    </div>\n",
              "  </div>\n",
              "  "
            ]
          },
          "metadata": {},
          "execution_count": 163
        }
      ]
    },
    {
      "cell_type": "code",
      "source": [
        "merge = result[['membership_no','Class']]\n",
        "df_jo = pd.merge(df_jo,merge,on = 'membership_no', how = 'left')"
      ],
      "metadata": {
        "id": "v_xplr8cQMw8"
      },
      "execution_count": null,
      "outputs": []
    },
    {
      "cell_type": "code",
      "source": [
        "df_jo.head(2)"
      ],
      "metadata": {
        "colab": {
          "base_uri": "https://localhost:8080/",
          "height": 294
        },
        "id": "hiCLpDEKQuee",
        "outputId": "888fc93e-bdaf-41a0-9ec8-2fa1ef6f4537"
      },
      "execution_count": null,
      "outputs": [
        {
          "output_type": "execute_result",
          "data": {
            "text/plain": [
              "   membership_no        Opp product_grade_name  reserve_detail_no Sale  \\\n",
              "0            291  수원 삼성블루윙즈       1인 테이블석(SG2)                  1    Y   \n",
              "1            291  김천상무프로축구단                 S석                  1    Y   \n",
              "\n",
              "   MB_AGE           job favorite_idx cancel_yn yoil game_type_name  audience  \\\n",
              "0    1992  회사원(사무직/연구직)          김보섭         Y    토          스플릿일반      5382   \n",
              "1    1992  회사원(사무직/연구직)          김보섭         N    일          스플릿일반      2607   \n",
              "\n",
              "  weather  rank  Class  \n",
              "0    snow     2    1.0  \n",
              "1    rain     3    1.0  "
            ],
            "text/html": [
              "\n",
              "  <div id=\"df-96bbddd2-da3c-41c7-b150-23182d89b5fa\">\n",
              "    <div class=\"colab-df-container\">\n",
              "      <div>\n",
              "<style scoped>\n",
              "    .dataframe tbody tr th:only-of-type {\n",
              "        vertical-align: middle;\n",
              "    }\n",
              "\n",
              "    .dataframe tbody tr th {\n",
              "        vertical-align: top;\n",
              "    }\n",
              "\n",
              "    .dataframe thead th {\n",
              "        text-align: right;\n",
              "    }\n",
              "</style>\n",
              "<table border=\"1\" class=\"dataframe\">\n",
              "  <thead>\n",
              "    <tr style=\"text-align: right;\">\n",
              "      <th></th>\n",
              "      <th>membership_no</th>\n",
              "      <th>Opp</th>\n",
              "      <th>product_grade_name</th>\n",
              "      <th>reserve_detail_no</th>\n",
              "      <th>Sale</th>\n",
              "      <th>MB_AGE</th>\n",
              "      <th>job</th>\n",
              "      <th>favorite_idx</th>\n",
              "      <th>cancel_yn</th>\n",
              "      <th>yoil</th>\n",
              "      <th>game_type_name</th>\n",
              "      <th>audience</th>\n",
              "      <th>weather</th>\n",
              "      <th>rank</th>\n",
              "      <th>Class</th>\n",
              "    </tr>\n",
              "  </thead>\n",
              "  <tbody>\n",
              "    <tr>\n",
              "      <th>0</th>\n",
              "      <td>291</td>\n",
              "      <td>수원 삼성블루윙즈</td>\n",
              "      <td>1인 테이블석(SG2)</td>\n",
              "      <td>1</td>\n",
              "      <td>Y</td>\n",
              "      <td>1992</td>\n",
              "      <td>회사원(사무직/연구직)</td>\n",
              "      <td>김보섭</td>\n",
              "      <td>Y</td>\n",
              "      <td>토</td>\n",
              "      <td>스플릿일반</td>\n",
              "      <td>5382</td>\n",
              "      <td>snow</td>\n",
              "      <td>2</td>\n",
              "      <td>1.0</td>\n",
              "    </tr>\n",
              "    <tr>\n",
              "      <th>1</th>\n",
              "      <td>291</td>\n",
              "      <td>김천상무프로축구단</td>\n",
              "      <td>S석</td>\n",
              "      <td>1</td>\n",
              "      <td>Y</td>\n",
              "      <td>1992</td>\n",
              "      <td>회사원(사무직/연구직)</td>\n",
              "      <td>김보섭</td>\n",
              "      <td>N</td>\n",
              "      <td>일</td>\n",
              "      <td>스플릿일반</td>\n",
              "      <td>2607</td>\n",
              "      <td>rain</td>\n",
              "      <td>3</td>\n",
              "      <td>1.0</td>\n",
              "    </tr>\n",
              "  </tbody>\n",
              "</table>\n",
              "</div>\n",
              "      <button class=\"colab-df-convert\" onclick=\"convertToInteractive('df-96bbddd2-da3c-41c7-b150-23182d89b5fa')\"\n",
              "              title=\"Convert this dataframe to an interactive table.\"\n",
              "              style=\"display:none;\">\n",
              "        \n",
              "  <svg xmlns=\"http://www.w3.org/2000/svg\" height=\"24px\"viewBox=\"0 0 24 24\"\n",
              "       width=\"24px\">\n",
              "    <path d=\"M0 0h24v24H0V0z\" fill=\"none\"/>\n",
              "    <path d=\"M18.56 5.44l.94 2.06.94-2.06 2.06-.94-2.06-.94-.94-2.06-.94 2.06-2.06.94zm-11 1L8.5 8.5l.94-2.06 2.06-.94-2.06-.94L8.5 2.5l-.94 2.06-2.06.94zm10 10l.94 2.06.94-2.06 2.06-.94-2.06-.94-.94-2.06-.94 2.06-2.06.94z\"/><path d=\"M17.41 7.96l-1.37-1.37c-.4-.4-.92-.59-1.43-.59-.52 0-1.04.2-1.43.59L10.3 9.45l-7.72 7.72c-.78.78-.78 2.05 0 2.83L4 21.41c.39.39.9.59 1.41.59.51 0 1.02-.2 1.41-.59l7.78-7.78 2.81-2.81c.8-.78.8-2.07 0-2.86zM5.41 20L4 18.59l7.72-7.72 1.47 1.35L5.41 20z\"/>\n",
              "  </svg>\n",
              "      </button>\n",
              "      \n",
              "  <style>\n",
              "    .colab-df-container {\n",
              "      display:flex;\n",
              "      flex-wrap:wrap;\n",
              "      gap: 12px;\n",
              "    }\n",
              "\n",
              "    .colab-df-convert {\n",
              "      background-color: #E8F0FE;\n",
              "      border: none;\n",
              "      border-radius: 50%;\n",
              "      cursor: pointer;\n",
              "      display: none;\n",
              "      fill: #1967D2;\n",
              "      height: 32px;\n",
              "      padding: 0 0 0 0;\n",
              "      width: 32px;\n",
              "    }\n",
              "\n",
              "    .colab-df-convert:hover {\n",
              "      background-color: #E2EBFA;\n",
              "      box-shadow: 0px 1px 2px rgba(60, 64, 67, 0.3), 0px 1px 3px 1px rgba(60, 64, 67, 0.15);\n",
              "      fill: #174EA6;\n",
              "    }\n",
              "\n",
              "    [theme=dark] .colab-df-convert {\n",
              "      background-color: #3B4455;\n",
              "      fill: #D2E3FC;\n",
              "    }\n",
              "\n",
              "    [theme=dark] .colab-df-convert:hover {\n",
              "      background-color: #434B5C;\n",
              "      box-shadow: 0px 1px 3px 1px rgba(0, 0, 0, 0.15);\n",
              "      filter: drop-shadow(0px 1px 2px rgba(0, 0, 0, 0.3));\n",
              "      fill: #FFFFFF;\n",
              "    }\n",
              "  </style>\n",
              "\n",
              "      <script>\n",
              "        const buttonEl =\n",
              "          document.querySelector('#df-96bbddd2-da3c-41c7-b150-23182d89b5fa button.colab-df-convert');\n",
              "        buttonEl.style.display =\n",
              "          google.colab.kernel.accessAllowed ? 'block' : 'none';\n",
              "\n",
              "        async function convertToInteractive(key) {\n",
              "          const element = document.querySelector('#df-96bbddd2-da3c-41c7-b150-23182d89b5fa');\n",
              "          const dataTable =\n",
              "            await google.colab.kernel.invokeFunction('convertToInteractive',\n",
              "                                                     [key], {});\n",
              "          if (!dataTable) return;\n",
              "\n",
              "          const docLinkHtml = 'Like what you see? Visit the ' +\n",
              "            '<a target=\"_blank\" href=https://colab.research.google.com/notebooks/data_table.ipynb>data table notebook</a>'\n",
              "            + ' to learn more about interactive tables.';\n",
              "          element.innerHTML = '';\n",
              "          dataTable['output_type'] = 'display_data';\n",
              "          await google.colab.output.renderOutput(dataTable, element);\n",
              "          const docLink = document.createElement('div');\n",
              "          docLink.innerHTML = docLinkHtml;\n",
              "          element.appendChild(docLink);\n",
              "        }\n",
              "      </script>\n",
              "    </div>\n",
              "  </div>\n",
              "  "
            ]
          },
          "metadata": {},
          "execution_count": 165
        }
      ]
    },
    {
      "cell_type": "code",
      "source": [
        "df_jo.to_csv(\"df_jo.csv\", index = False)"
      ],
      "metadata": {
        "id": "5vqHtePYSMmp"
      },
      "execution_count": null,
      "outputs": []
    },
    {
      "cell_type": "markdown",
      "source": [
        "클래스별 차별 프로ㅓ모션? 몇명 같이 예약하는지, 직업에 따라 나뉘는지?  상위클래스만 집중? 아니면 하위 클래스를? 중간은 버려야하나"
      ],
      "metadata": {
        "id": "NijU8MgwRVLI"
      }
    },
    {
      "cell_type": "code",
      "source": [
        "df_jo[df_jo['Class']==1].reserve_detail_no.value_counts()"
      ],
      "metadata": {
        "colab": {
          "base_uri": "https://localhost:8080/"
        },
        "id": "b-_h9nP-UON_",
        "outputId": "6ab7091d-f35e-4c27-cf46-f8caaebab8c4"
      },
      "execution_count": null,
      "outputs": [
        {
          "output_type": "execute_result",
          "data": {
            "text/plain": [
              "2     2336\n",
              "1     1352\n",
              "3      864\n",
              "4      590\n",
              "5      126\n",
              "6       67\n",
              "10      41\n",
              "8       22\n",
              "7       20\n",
              "9        6\n",
              "Name: reserve_detail_no, dtype: int64"
            ]
          },
          "metadata": {},
          "execution_count": 167
        }
      ]
    },
    {
      "cell_type": "code",
      "source": [
        "df_jo.groupby('membership_no')['Class'].count()"
      ],
      "metadata": {
        "colab": {
          "base_uri": "https://localhost:8080/"
        },
        "id": "m_BE1XjXeUTV",
        "outputId": "a89eba98-8c71-4e92-f346-d293a8cb5358"
      },
      "execution_count": null,
      "outputs": [
        {
          "output_type": "execute_result",
          "data": {
            "text/plain": [
              "membership_no\n",
              "153       5\n",
              "180       2\n",
              "208       4\n",
              "291       2\n",
              "410       3\n",
              "         ..\n",
              "151972    1\n",
              "151978    1\n",
              "151980    1\n",
              "151981    1\n",
              "151984    1\n",
              "Name: Class, Length: 7012, dtype: int64"
            ]
          },
          "metadata": {},
          "execution_count": 168
        }
      ]
    },
    {
      "cell_type": "code",
      "source": [
        "df_drop = df_jo[['membership_no', 'MB_AGE', 'favorite_idx', 'job','Class']]\n",
        "df_drop"
      ],
      "metadata": {
        "colab": {
          "base_uri": "https://localhost:8080/",
          "height": 423
        },
        "id": "TmppTkCotYEM",
        "outputId": "9190793a-28a4-4fc7-863d-0c3fa695ee9c"
      },
      "execution_count": null,
      "outputs": [
        {
          "output_type": "execute_result",
          "data": {
            "text/plain": [
              "       membership_no  MB_AGE favorite_idx             job  Class\n",
              "0                291    1992          김보섭    회사원(사무직/연구직)    1.0\n",
              "1                291    1992          김보섭    회사원(사무직/연구직)    1.0\n",
              "2               1073    1985         아길라르  회사원(제조/건설/기술직)    1.0\n",
              "3               1073    1985         아길라르  회사원(제조/건설/기술직)    1.0\n",
              "4               1073    1985         아길라르  회사원(제조/건설/기술직)    1.0\n",
              "...              ...     ...          ...             ...    ...\n",
              "12736         151981    2000        에르난데스    대학생(대학원생 포함)    2.0\n",
              "12737         135999    1977          이태희    회사원(사무직/연구직)    2.0\n",
              "12738         118359    1989         아길라르             NaN    4.0\n",
              "12739         151980    1999          김동민    대학생(대학원생 포함)    4.0\n",
              "12740         151984    1985         델브리지    회사원(사무직/연구직)    3.0\n",
              "\n",
              "[12741 rows x 5 columns]"
            ],
            "text/html": [
              "\n",
              "  <div id=\"df-44ef477a-eab5-4bfb-9ef4-c07d25285b98\">\n",
              "    <div class=\"colab-df-container\">\n",
              "      <div>\n",
              "<style scoped>\n",
              "    .dataframe tbody tr th:only-of-type {\n",
              "        vertical-align: middle;\n",
              "    }\n",
              "\n",
              "    .dataframe tbody tr th {\n",
              "        vertical-align: top;\n",
              "    }\n",
              "\n",
              "    .dataframe thead th {\n",
              "        text-align: right;\n",
              "    }\n",
              "</style>\n",
              "<table border=\"1\" class=\"dataframe\">\n",
              "  <thead>\n",
              "    <tr style=\"text-align: right;\">\n",
              "      <th></th>\n",
              "      <th>membership_no</th>\n",
              "      <th>MB_AGE</th>\n",
              "      <th>favorite_idx</th>\n",
              "      <th>job</th>\n",
              "      <th>Class</th>\n",
              "    </tr>\n",
              "  </thead>\n",
              "  <tbody>\n",
              "    <tr>\n",
              "      <th>0</th>\n",
              "      <td>291</td>\n",
              "      <td>1992</td>\n",
              "      <td>김보섭</td>\n",
              "      <td>회사원(사무직/연구직)</td>\n",
              "      <td>1.0</td>\n",
              "    </tr>\n",
              "    <tr>\n",
              "      <th>1</th>\n",
              "      <td>291</td>\n",
              "      <td>1992</td>\n",
              "      <td>김보섭</td>\n",
              "      <td>회사원(사무직/연구직)</td>\n",
              "      <td>1.0</td>\n",
              "    </tr>\n",
              "    <tr>\n",
              "      <th>2</th>\n",
              "      <td>1073</td>\n",
              "      <td>1985</td>\n",
              "      <td>아길라르</td>\n",
              "      <td>회사원(제조/건설/기술직)</td>\n",
              "      <td>1.0</td>\n",
              "    </tr>\n",
              "    <tr>\n",
              "      <th>3</th>\n",
              "      <td>1073</td>\n",
              "      <td>1985</td>\n",
              "      <td>아길라르</td>\n",
              "      <td>회사원(제조/건설/기술직)</td>\n",
              "      <td>1.0</td>\n",
              "    </tr>\n",
              "    <tr>\n",
              "      <th>4</th>\n",
              "      <td>1073</td>\n",
              "      <td>1985</td>\n",
              "      <td>아길라르</td>\n",
              "      <td>회사원(제조/건설/기술직)</td>\n",
              "      <td>1.0</td>\n",
              "    </tr>\n",
              "    <tr>\n",
              "      <th>...</th>\n",
              "      <td>...</td>\n",
              "      <td>...</td>\n",
              "      <td>...</td>\n",
              "      <td>...</td>\n",
              "      <td>...</td>\n",
              "    </tr>\n",
              "    <tr>\n",
              "      <th>12736</th>\n",
              "      <td>151981</td>\n",
              "      <td>2000</td>\n",
              "      <td>에르난데스</td>\n",
              "      <td>대학생(대학원생 포함)</td>\n",
              "      <td>2.0</td>\n",
              "    </tr>\n",
              "    <tr>\n",
              "      <th>12737</th>\n",
              "      <td>135999</td>\n",
              "      <td>1977</td>\n",
              "      <td>이태희</td>\n",
              "      <td>회사원(사무직/연구직)</td>\n",
              "      <td>2.0</td>\n",
              "    </tr>\n",
              "    <tr>\n",
              "      <th>12738</th>\n",
              "      <td>118359</td>\n",
              "      <td>1989</td>\n",
              "      <td>아길라르</td>\n",
              "      <td>NaN</td>\n",
              "      <td>4.0</td>\n",
              "    </tr>\n",
              "    <tr>\n",
              "      <th>12739</th>\n",
              "      <td>151980</td>\n",
              "      <td>1999</td>\n",
              "      <td>김동민</td>\n",
              "      <td>대학생(대학원생 포함)</td>\n",
              "      <td>4.0</td>\n",
              "    </tr>\n",
              "    <tr>\n",
              "      <th>12740</th>\n",
              "      <td>151984</td>\n",
              "      <td>1985</td>\n",
              "      <td>델브리지</td>\n",
              "      <td>회사원(사무직/연구직)</td>\n",
              "      <td>3.0</td>\n",
              "    </tr>\n",
              "  </tbody>\n",
              "</table>\n",
              "<p>12741 rows × 5 columns</p>\n",
              "</div>\n",
              "      <button class=\"colab-df-convert\" onclick=\"convertToInteractive('df-44ef477a-eab5-4bfb-9ef4-c07d25285b98')\"\n",
              "              title=\"Convert this dataframe to an interactive table.\"\n",
              "              style=\"display:none;\">\n",
              "        \n",
              "  <svg xmlns=\"http://www.w3.org/2000/svg\" height=\"24px\"viewBox=\"0 0 24 24\"\n",
              "       width=\"24px\">\n",
              "    <path d=\"M0 0h24v24H0V0z\" fill=\"none\"/>\n",
              "    <path d=\"M18.56 5.44l.94 2.06.94-2.06 2.06-.94-2.06-.94-.94-2.06-.94 2.06-2.06.94zm-11 1L8.5 8.5l.94-2.06 2.06-.94-2.06-.94L8.5 2.5l-.94 2.06-2.06.94zm10 10l.94 2.06.94-2.06 2.06-.94-2.06-.94-.94-2.06-.94 2.06-2.06.94z\"/><path d=\"M17.41 7.96l-1.37-1.37c-.4-.4-.92-.59-1.43-.59-.52 0-1.04.2-1.43.59L10.3 9.45l-7.72 7.72c-.78.78-.78 2.05 0 2.83L4 21.41c.39.39.9.59 1.41.59.51 0 1.02-.2 1.41-.59l7.78-7.78 2.81-2.81c.8-.78.8-2.07 0-2.86zM5.41 20L4 18.59l7.72-7.72 1.47 1.35L5.41 20z\"/>\n",
              "  </svg>\n",
              "      </button>\n",
              "      \n",
              "  <style>\n",
              "    .colab-df-container {\n",
              "      display:flex;\n",
              "      flex-wrap:wrap;\n",
              "      gap: 12px;\n",
              "    }\n",
              "\n",
              "    .colab-df-convert {\n",
              "      background-color: #E8F0FE;\n",
              "      border: none;\n",
              "      border-radius: 50%;\n",
              "      cursor: pointer;\n",
              "      display: none;\n",
              "      fill: #1967D2;\n",
              "      height: 32px;\n",
              "      padding: 0 0 0 0;\n",
              "      width: 32px;\n",
              "    }\n",
              "\n",
              "    .colab-df-convert:hover {\n",
              "      background-color: #E2EBFA;\n",
              "      box-shadow: 0px 1px 2px rgba(60, 64, 67, 0.3), 0px 1px 3px 1px rgba(60, 64, 67, 0.15);\n",
              "      fill: #174EA6;\n",
              "    }\n",
              "\n",
              "    [theme=dark] .colab-df-convert {\n",
              "      background-color: #3B4455;\n",
              "      fill: #D2E3FC;\n",
              "    }\n",
              "\n",
              "    [theme=dark] .colab-df-convert:hover {\n",
              "      background-color: #434B5C;\n",
              "      box-shadow: 0px 1px 3px 1px rgba(0, 0, 0, 0.15);\n",
              "      filter: drop-shadow(0px 1px 2px rgba(0, 0, 0, 0.3));\n",
              "      fill: #FFFFFF;\n",
              "    }\n",
              "  </style>\n",
              "\n",
              "      <script>\n",
              "        const buttonEl =\n",
              "          document.querySelector('#df-44ef477a-eab5-4bfb-9ef4-c07d25285b98 button.colab-df-convert');\n",
              "        buttonEl.style.display =\n",
              "          google.colab.kernel.accessAllowed ? 'block' : 'none';\n",
              "\n",
              "        async function convertToInteractive(key) {\n",
              "          const element = document.querySelector('#df-44ef477a-eab5-4bfb-9ef4-c07d25285b98');\n",
              "          const dataTable =\n",
              "            await google.colab.kernel.invokeFunction('convertToInteractive',\n",
              "                                                     [key], {});\n",
              "          if (!dataTable) return;\n",
              "\n",
              "          const docLinkHtml = 'Like what you see? Visit the ' +\n",
              "            '<a target=\"_blank\" href=https://colab.research.google.com/notebooks/data_table.ipynb>data table notebook</a>'\n",
              "            + ' to learn more about interactive tables.';\n",
              "          element.innerHTML = '';\n",
              "          dataTable['output_type'] = 'display_data';\n",
              "          await google.colab.output.renderOutput(dataTable, element);\n",
              "          const docLink = document.createElement('div');\n",
              "          docLink.innerHTML = docLinkHtml;\n",
              "          element.appendChild(docLink);\n",
              "        }\n",
              "      </script>\n",
              "    </div>\n",
              "  </div>\n",
              "  "
            ]
          },
          "metadata": {},
          "execution_count": 169
        }
      ]
    },
    {
      "cell_type": "code",
      "source": [
        "df_drop = df_drop.drop_duplicates() # 중복치 빼고 순수 회원 정보"
      ],
      "metadata": {
        "id": "xVfuQP1JwBw3"
      },
      "execution_count": null,
      "outputs": []
    },
    {
      "cell_type": "code",
      "source": [
        "df_drop[df_drop.Class == 1].job.value_counts() # 등급별로 직업 분포에 차이도 나지 않음"
      ],
      "metadata": {
        "colab": {
          "base_uri": "https://localhost:8080/"
        },
        "id": "7PWF1bw9whbO",
        "outputId": "b3ad4bbf-3f22-4f5b-fa4a-68144932a033"
      },
      "execution_count": null,
      "outputs": [
        {
          "output_type": "execute_result",
          "data": {
            "text/plain": [
              "회사원(사무직/연구직)           474\n",
              "회사원(제조/건설/기술직)         170\n",
              "학생(초/중/고)              153\n",
              "대학생(대학원생 포함)           120\n",
              "자영업자                   105\n",
              "전업주부                    76\n",
              "기타                      64\n",
              "교사                      54\n",
              "서비스업 종사자                53\n",
              "프리랜서                    52\n",
              "무직                      42\n",
              "공무원                     39\n",
              "보건 및 의료종사자              38\n",
              "금융 및 보험업 종사자            21\n",
              "예술 및 디자인 종사자            11\n",
              "군인(소방/경찰/교정직 포함)        11\n",
              "방송 및 언론 종사자              8\n",
              "법률 종사자                   5\n",
              "농업 종사자(축산/수산/임업 포함)      3\n",
              "Name: job, dtype: int64"
            ]
          },
          "metadata": {},
          "execution_count": 171
        }
      ]
    },
    {
      "cell_type": "code",
      "source": [
        "df_drop[df_drop.MB_AGE == 1973].job.value_counts()"
      ],
      "metadata": {
        "id": "EiCrFqXTo1p9",
        "colab": {
          "base_uri": "https://localhost:8080/"
        },
        "outputId": "8ab9a1cb-21b0-407d-d50a-8e77595ccd22"
      },
      "execution_count": null,
      "outputs": [
        {
          "output_type": "execute_result",
          "data": {
            "text/plain": [
              "회사원(사무직/연구직)      27\n",
              "회사원(제조/건설/기술직)    11\n",
              "프리랜서               7\n",
              "기타                 5\n",
              "자영업자               5\n",
              "전업주부               4\n",
              "서비스업 종사자           3\n",
              "학생(초/중/고)          3\n",
              "공무원                3\n",
              "교사                 2\n",
              "법률 종사자             1\n",
              "보건 및 의료종사자         1\n",
              "Name: job, dtype: int64"
            ]
          },
          "metadata": {},
          "execution_count": 172
        }
      ]
    },
    {
      "cell_type": "markdown",
      "source": [
        "구단별 차이? - 라이벌팀과의 경기는뭐가 다를까\n"
      ],
      "metadata": {
        "id": "hZZlBO71wlVm"
      }
    },
    {
      "cell_type": "code",
      "source": [
        "df_jo.info()"
      ],
      "metadata": {
        "colab": {
          "base_uri": "https://localhost:8080/"
        },
        "id": "IX2UORp7wsIt",
        "outputId": "fb706166-59c2-4f40-b323-5f5220032a88"
      },
      "execution_count": null,
      "outputs": [
        {
          "output_type": "stream",
          "name": "stdout",
          "text": [
            "<class 'pandas.core.frame.DataFrame'>\n",
            "Int64Index: 12741 entries, 0 to 12740\n",
            "Data columns (total 15 columns):\n",
            " #   Column              Non-Null Count  Dtype  \n",
            "---  ------              --------------  -----  \n",
            " 0   membership_no       12741 non-null  int64  \n",
            " 1   Opp                 12741 non-null  object \n",
            " 2   product_grade_name  12741 non-null  object \n",
            " 3   reserve_detail_no   12741 non-null  int64  \n",
            " 4   Sale                12741 non-null  object \n",
            " 5   MB_AGE              12741 non-null  int64  \n",
            " 6   job                 11180 non-null  object \n",
            " 7   favorite_idx        12741 non-null  object \n",
            " 8   cancel_yn           12741 non-null  object \n",
            " 9   yoil                12741 non-null  object \n",
            " 10  game_type_name      12741 non-null  object \n",
            " 11  audience            12741 non-null  int64  \n",
            " 12  weather             12741 non-null  object \n",
            " 13  rank                12741 non-null  int64  \n",
            " 14  Class               12498 non-null  float64\n",
            "dtypes: float64(1), int64(5), object(9)\n",
            "memory usage: 1.6+ MB\n"
          ]
        }
      ]
    },
    {
      "cell_type": "code",
      "source": [
        "df_jo"
      ],
      "metadata": {
        "colab": {
          "base_uri": "https://localhost:8080/",
          "height": 1000
        },
        "id": "Nhej5fjT09j3",
        "outputId": "4fc9d185-81a2-48ad-b62d-bbd1f34a41ac"
      },
      "execution_count": null,
      "outputs": [
        {
          "output_type": "execute_result",
          "data": {
            "text/plain": [
              "       membership_no        Opp product_grade_name  reserve_detail_no Sale  \\\n",
              "0                291  수원 삼성블루윙즈       1인 테이블석(SG2)                  1    Y   \n",
              "1                291  김천상무프로축구단                 S석                  1    Y   \n",
              "2               1073  김천상무프로축구단       World class석                  1    Y   \n",
              "3               1073       대구FC       World class석                  1    Y   \n",
              "4               1073       성남FC       World class석                  1    N   \n",
              "...              ...        ...                ...                ...  ...   \n",
              "12736         151981    포항 스틸러스          Exciting석                  2    N   \n",
              "12737         135999    포항 스틸러스                 S석                  2    N   \n",
              "12738         118359    포항 스틸러스            Expert석                  2    Y   \n",
              "12739         151980    포항 스틸러스            Expert석                  1    N   \n",
              "12740         151984    포항 스틸러스                원정석                  1    N   \n",
              "\n",
              "       MB_AGE             job favorite_idx cancel_yn yoil game_type_name  \\\n",
              "0        1992    회사원(사무직/연구직)          김보섭         Y    토          스플릿일반   \n",
              "1        1992    회사원(사무직/연구직)          김보섭         N    일          스플릿일반   \n",
              "2        1985  회사원(제조/건설/기술직)         아길라르         N    일          스플릿일반   \n",
              "3        1985  회사원(제조/건설/기술직)         아길라르         N    화          스플릿일반   \n",
              "4        1985  회사원(제조/건설/기술직)         아길라르         N    일          스플릿일반   \n",
              "...       ...             ...          ...       ...  ...            ...   \n",
              "12736    2000    대학생(대학원생 포함)        에르난데스         N    일           파이널A   \n",
              "12737    1977    회사원(사무직/연구직)          이태희         N    일           파이널A   \n",
              "12738    1989             NaN         아길라르         N    일           파이널A   \n",
              "12739    1999    대학생(대학원생 포함)          김동민         N    일           파이널A   \n",
              "12740    1985    회사원(사무직/연구직)         델브리지         N    일           파이널A   \n",
              "\n",
              "       audience weather  rank  Class  \n",
              "0          5382    snow     2    1.0  \n",
              "1          2607    rain     3    1.0  \n",
              "2          2607    rain     3    1.0  \n",
              "3          2754     fog     3    1.0  \n",
              "4          6119     fog     4    1.0  \n",
              "...         ...     ...   ...    ...  \n",
              "12736      7592     fog     4    2.0  \n",
              "12737      7592     fog     4    2.0  \n",
              "12738      7592     fog     4    4.0  \n",
              "12739      7592     fog     4    4.0  \n",
              "12740      7592     fog     4    3.0  \n",
              "\n",
              "[12741 rows x 15 columns]"
            ],
            "text/html": [
              "\n",
              "  <div id=\"df-ee7df81d-21b0-472c-87e9-da9d1b40b100\">\n",
              "    <div class=\"colab-df-container\">\n",
              "      <div>\n",
              "<style scoped>\n",
              "    .dataframe tbody tr th:only-of-type {\n",
              "        vertical-align: middle;\n",
              "    }\n",
              "\n",
              "    .dataframe tbody tr th {\n",
              "        vertical-align: top;\n",
              "    }\n",
              "\n",
              "    .dataframe thead th {\n",
              "        text-align: right;\n",
              "    }\n",
              "</style>\n",
              "<table border=\"1\" class=\"dataframe\">\n",
              "  <thead>\n",
              "    <tr style=\"text-align: right;\">\n",
              "      <th></th>\n",
              "      <th>membership_no</th>\n",
              "      <th>Opp</th>\n",
              "      <th>product_grade_name</th>\n",
              "      <th>reserve_detail_no</th>\n",
              "      <th>Sale</th>\n",
              "      <th>MB_AGE</th>\n",
              "      <th>job</th>\n",
              "      <th>favorite_idx</th>\n",
              "      <th>cancel_yn</th>\n",
              "      <th>yoil</th>\n",
              "      <th>game_type_name</th>\n",
              "      <th>audience</th>\n",
              "      <th>weather</th>\n",
              "      <th>rank</th>\n",
              "      <th>Class</th>\n",
              "    </tr>\n",
              "  </thead>\n",
              "  <tbody>\n",
              "    <tr>\n",
              "      <th>0</th>\n",
              "      <td>291</td>\n",
              "      <td>수원 삼성블루윙즈</td>\n",
              "      <td>1인 테이블석(SG2)</td>\n",
              "      <td>1</td>\n",
              "      <td>Y</td>\n",
              "      <td>1992</td>\n",
              "      <td>회사원(사무직/연구직)</td>\n",
              "      <td>김보섭</td>\n",
              "      <td>Y</td>\n",
              "      <td>토</td>\n",
              "      <td>스플릿일반</td>\n",
              "      <td>5382</td>\n",
              "      <td>snow</td>\n",
              "      <td>2</td>\n",
              "      <td>1.0</td>\n",
              "    </tr>\n",
              "    <tr>\n",
              "      <th>1</th>\n",
              "      <td>291</td>\n",
              "      <td>김천상무프로축구단</td>\n",
              "      <td>S석</td>\n",
              "      <td>1</td>\n",
              "      <td>Y</td>\n",
              "      <td>1992</td>\n",
              "      <td>회사원(사무직/연구직)</td>\n",
              "      <td>김보섭</td>\n",
              "      <td>N</td>\n",
              "      <td>일</td>\n",
              "      <td>스플릿일반</td>\n",
              "      <td>2607</td>\n",
              "      <td>rain</td>\n",
              "      <td>3</td>\n",
              "      <td>1.0</td>\n",
              "    </tr>\n",
              "    <tr>\n",
              "      <th>2</th>\n",
              "      <td>1073</td>\n",
              "      <td>김천상무프로축구단</td>\n",
              "      <td>World class석</td>\n",
              "      <td>1</td>\n",
              "      <td>Y</td>\n",
              "      <td>1985</td>\n",
              "      <td>회사원(제조/건설/기술직)</td>\n",
              "      <td>아길라르</td>\n",
              "      <td>N</td>\n",
              "      <td>일</td>\n",
              "      <td>스플릿일반</td>\n",
              "      <td>2607</td>\n",
              "      <td>rain</td>\n",
              "      <td>3</td>\n",
              "      <td>1.0</td>\n",
              "    </tr>\n",
              "    <tr>\n",
              "      <th>3</th>\n",
              "      <td>1073</td>\n",
              "      <td>대구FC</td>\n",
              "      <td>World class석</td>\n",
              "      <td>1</td>\n",
              "      <td>Y</td>\n",
              "      <td>1985</td>\n",
              "      <td>회사원(제조/건설/기술직)</td>\n",
              "      <td>아길라르</td>\n",
              "      <td>N</td>\n",
              "      <td>화</td>\n",
              "      <td>스플릿일반</td>\n",
              "      <td>2754</td>\n",
              "      <td>fog</td>\n",
              "      <td>3</td>\n",
              "      <td>1.0</td>\n",
              "    </tr>\n",
              "    <tr>\n",
              "      <th>4</th>\n",
              "      <td>1073</td>\n",
              "      <td>성남FC</td>\n",
              "      <td>World class석</td>\n",
              "      <td>1</td>\n",
              "      <td>N</td>\n",
              "      <td>1985</td>\n",
              "      <td>회사원(제조/건설/기술직)</td>\n",
              "      <td>아길라르</td>\n",
              "      <td>N</td>\n",
              "      <td>일</td>\n",
              "      <td>스플릿일반</td>\n",
              "      <td>6119</td>\n",
              "      <td>fog</td>\n",
              "      <td>4</td>\n",
              "      <td>1.0</td>\n",
              "    </tr>\n",
              "    <tr>\n",
              "      <th>...</th>\n",
              "      <td>...</td>\n",
              "      <td>...</td>\n",
              "      <td>...</td>\n",
              "      <td>...</td>\n",
              "      <td>...</td>\n",
              "      <td>...</td>\n",
              "      <td>...</td>\n",
              "      <td>...</td>\n",
              "      <td>...</td>\n",
              "      <td>...</td>\n",
              "      <td>...</td>\n",
              "      <td>...</td>\n",
              "      <td>...</td>\n",
              "      <td>...</td>\n",
              "      <td>...</td>\n",
              "    </tr>\n",
              "    <tr>\n",
              "      <th>12736</th>\n",
              "      <td>151981</td>\n",
              "      <td>포항 스틸러스</td>\n",
              "      <td>Exciting석</td>\n",
              "      <td>2</td>\n",
              "      <td>N</td>\n",
              "      <td>2000</td>\n",
              "      <td>대학생(대학원생 포함)</td>\n",
              "      <td>에르난데스</td>\n",
              "      <td>N</td>\n",
              "      <td>일</td>\n",
              "      <td>파이널A</td>\n",
              "      <td>7592</td>\n",
              "      <td>fog</td>\n",
              "      <td>4</td>\n",
              "      <td>2.0</td>\n",
              "    </tr>\n",
              "    <tr>\n",
              "      <th>12737</th>\n",
              "      <td>135999</td>\n",
              "      <td>포항 스틸러스</td>\n",
              "      <td>S석</td>\n",
              "      <td>2</td>\n",
              "      <td>N</td>\n",
              "      <td>1977</td>\n",
              "      <td>회사원(사무직/연구직)</td>\n",
              "      <td>이태희</td>\n",
              "      <td>N</td>\n",
              "      <td>일</td>\n",
              "      <td>파이널A</td>\n",
              "      <td>7592</td>\n",
              "      <td>fog</td>\n",
              "      <td>4</td>\n",
              "      <td>2.0</td>\n",
              "    </tr>\n",
              "    <tr>\n",
              "      <th>12738</th>\n",
              "      <td>118359</td>\n",
              "      <td>포항 스틸러스</td>\n",
              "      <td>Expert석</td>\n",
              "      <td>2</td>\n",
              "      <td>Y</td>\n",
              "      <td>1989</td>\n",
              "      <td>NaN</td>\n",
              "      <td>아길라르</td>\n",
              "      <td>N</td>\n",
              "      <td>일</td>\n",
              "      <td>파이널A</td>\n",
              "      <td>7592</td>\n",
              "      <td>fog</td>\n",
              "      <td>4</td>\n",
              "      <td>4.0</td>\n",
              "    </tr>\n",
              "    <tr>\n",
              "      <th>12739</th>\n",
              "      <td>151980</td>\n",
              "      <td>포항 스틸러스</td>\n",
              "      <td>Expert석</td>\n",
              "      <td>1</td>\n",
              "      <td>N</td>\n",
              "      <td>1999</td>\n",
              "      <td>대학생(대학원생 포함)</td>\n",
              "      <td>김동민</td>\n",
              "      <td>N</td>\n",
              "      <td>일</td>\n",
              "      <td>파이널A</td>\n",
              "      <td>7592</td>\n",
              "      <td>fog</td>\n",
              "      <td>4</td>\n",
              "      <td>4.0</td>\n",
              "    </tr>\n",
              "    <tr>\n",
              "      <th>12740</th>\n",
              "      <td>151984</td>\n",
              "      <td>포항 스틸러스</td>\n",
              "      <td>원정석</td>\n",
              "      <td>1</td>\n",
              "      <td>N</td>\n",
              "      <td>1985</td>\n",
              "      <td>회사원(사무직/연구직)</td>\n",
              "      <td>델브리지</td>\n",
              "      <td>N</td>\n",
              "      <td>일</td>\n",
              "      <td>파이널A</td>\n",
              "      <td>7592</td>\n",
              "      <td>fog</td>\n",
              "      <td>4</td>\n",
              "      <td>3.0</td>\n",
              "    </tr>\n",
              "  </tbody>\n",
              "</table>\n",
              "<p>12741 rows × 15 columns</p>\n",
              "</div>\n",
              "      <button class=\"colab-df-convert\" onclick=\"convertToInteractive('df-ee7df81d-21b0-472c-87e9-da9d1b40b100')\"\n",
              "              title=\"Convert this dataframe to an interactive table.\"\n",
              "              style=\"display:none;\">\n",
              "        \n",
              "  <svg xmlns=\"http://www.w3.org/2000/svg\" height=\"24px\"viewBox=\"0 0 24 24\"\n",
              "       width=\"24px\">\n",
              "    <path d=\"M0 0h24v24H0V0z\" fill=\"none\"/>\n",
              "    <path d=\"M18.56 5.44l.94 2.06.94-2.06 2.06-.94-2.06-.94-.94-2.06-.94 2.06-2.06.94zm-11 1L8.5 8.5l.94-2.06 2.06-.94-2.06-.94L8.5 2.5l-.94 2.06-2.06.94zm10 10l.94 2.06.94-2.06 2.06-.94-2.06-.94-.94-2.06-.94 2.06-2.06.94z\"/><path d=\"M17.41 7.96l-1.37-1.37c-.4-.4-.92-.59-1.43-.59-.52 0-1.04.2-1.43.59L10.3 9.45l-7.72 7.72c-.78.78-.78 2.05 0 2.83L4 21.41c.39.39.9.59 1.41.59.51 0 1.02-.2 1.41-.59l7.78-7.78 2.81-2.81c.8-.78.8-2.07 0-2.86zM5.41 20L4 18.59l7.72-7.72 1.47 1.35L5.41 20z\"/>\n",
              "  </svg>\n",
              "      </button>\n",
              "      \n",
              "  <style>\n",
              "    .colab-df-container {\n",
              "      display:flex;\n",
              "      flex-wrap:wrap;\n",
              "      gap: 12px;\n",
              "    }\n",
              "\n",
              "    .colab-df-convert {\n",
              "      background-color: #E8F0FE;\n",
              "      border: none;\n",
              "      border-radius: 50%;\n",
              "      cursor: pointer;\n",
              "      display: none;\n",
              "      fill: #1967D2;\n",
              "      height: 32px;\n",
              "      padding: 0 0 0 0;\n",
              "      width: 32px;\n",
              "    }\n",
              "\n",
              "    .colab-df-convert:hover {\n",
              "      background-color: #E2EBFA;\n",
              "      box-shadow: 0px 1px 2px rgba(60, 64, 67, 0.3), 0px 1px 3px 1px rgba(60, 64, 67, 0.15);\n",
              "      fill: #174EA6;\n",
              "    }\n",
              "\n",
              "    [theme=dark] .colab-df-convert {\n",
              "      background-color: #3B4455;\n",
              "      fill: #D2E3FC;\n",
              "    }\n",
              "\n",
              "    [theme=dark] .colab-df-convert:hover {\n",
              "      background-color: #434B5C;\n",
              "      box-shadow: 0px 1px 3px 1px rgba(0, 0, 0, 0.15);\n",
              "      filter: drop-shadow(0px 1px 2px rgba(0, 0, 0, 0.3));\n",
              "      fill: #FFFFFF;\n",
              "    }\n",
              "  </style>\n",
              "\n",
              "      <script>\n",
              "        const buttonEl =\n",
              "          document.querySelector('#df-ee7df81d-21b0-472c-87e9-da9d1b40b100 button.colab-df-convert');\n",
              "        buttonEl.style.display =\n",
              "          google.colab.kernel.accessAllowed ? 'block' : 'none';\n",
              "\n",
              "        async function convertToInteractive(key) {\n",
              "          const element = document.querySelector('#df-ee7df81d-21b0-472c-87e9-da9d1b40b100');\n",
              "          const dataTable =\n",
              "            await google.colab.kernel.invokeFunction('convertToInteractive',\n",
              "                                                     [key], {});\n",
              "          if (!dataTable) return;\n",
              "\n",
              "          const docLinkHtml = 'Like what you see? Visit the ' +\n",
              "            '<a target=\"_blank\" href=https://colab.research.google.com/notebooks/data_table.ipynb>data table notebook</a>'\n",
              "            + ' to learn more about interactive tables.';\n",
              "          element.innerHTML = '';\n",
              "          dataTable['output_type'] = 'display_data';\n",
              "          await google.colab.output.renderOutput(dataTable, element);\n",
              "          const docLink = document.createElement('div');\n",
              "          docLink.innerHTML = docLinkHtml;\n",
              "          element.appendChild(docLink);\n",
              "        }\n",
              "      </script>\n",
              "    </div>\n",
              "  </div>\n",
              "  "
            ]
          },
          "metadata": {},
          "execution_count": 174
        }
      ]
    }
  ],
  "metadata": {
    "kernelspec": {
      "display_name": "Python 3",
      "language": "python",
      "name": "python3"
    },
    "language_info": {
      "codemirror_mode": {
        "name": "ipython",
        "version": 3
      },
      "file_extension": ".py",
      "mimetype": "text/x-python",
      "name": "python",
      "nbconvert_exporter": "python",
      "pygments_lexer": "ipython3",
      "version": "3.10.2 (tags/v3.10.2:a58ebcc, Jan 17 2022, 14:12:15) [MSC v.1929 64 bit (AMD64)]"
    },
    "orig_nbformat": 4,
    "vscode": {
      "interpreter": {
        "hash": "47e86d731e077963188d400b641a1f5cee6401b89b8a1175acb1a082248e2517"
      }
    },
    "colab": {
      "provenance": [],
      "toc_visible": true
    }
  },
  "nbformat": 4,
  "nbformat_minor": 0
}